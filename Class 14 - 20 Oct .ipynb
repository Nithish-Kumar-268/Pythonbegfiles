{
  "nbformat": 4,
  "nbformat_minor": 0,
  "metadata": {
    "colab": {
      "provenance": [],
      "authorship_tag": "ABX9TyPuCVZgoR3BlwvHmhXK/EcC",
      "include_colab_link": true
    },
    "kernelspec": {
      "name": "python3",
      "display_name": "Python 3"
    },
    "language_info": {
      "name": "python"
    }
  },
  "cells": [
    {
      "cell_type": "markdown",
      "metadata": {
        "id": "view-in-github",
        "colab_type": "text"
      },
      "source": [
        "<a href=\"https://colab.research.google.com/gist/singhsidhukuldeep/f5e3db87f2b3571c614ac9606412dcf8/beginner-list-2d-20-october-2023.ipynb\" target=\"_parent\"><img src=\"https://colab.research.google.com/assets/colab-badge.svg\" alt=\"Open In Colab\"/></a>"
      ]
    },
    {
      "cell_type": "markdown",
      "source": [
        "<center>\n",
        "\n",
        "# Beginner : List: 2D - 20 October 2023\n",
        "\n",
        "<img src=\"https://hackernoon.com/hn-images/1*nPHAOq1pIhC-8VVXJq2Pdw.jpeg\" width=\"35%\">"
      ],
      "metadata": {
        "id": "f0YaTyp5bB73"
      }
    },
    {
      "cell_type": "code",
      "execution_count": 1,
      "metadata": {
        "id": "fHK21Nvga74C"
      },
      "outputs": [],
      "source": [
        "# recap\n",
        "## primitive DS\n",
        "### str, int, float, bool, None"
      ]
    },
    {
      "cell_type": "code",
      "source": [
        "# non-primitive DS\n",
        "## list\n",
        "### []\n",
        "### is mutable/editable\n",
        "### Can hold duplicates\n",
        "### maintains order\n",
        "### can hold absolutely any data type, even another list"
      ],
      "metadata": {
        "id": "0zuGXeCtu2dW"
      },
      "execution_count": null,
      "outputs": []
    },
    {
      "cell_type": "markdown",
      "source": [
        "## Question 1\n",
        "\n",
        "Rotate a list by 1 element.\n",
        "\n",
        "```[1, 2, 3, 4, 5]``` -> last element is removed and added to the start.\n",
        "\n",
        "```[5, 1, 2, 3, 4]```"
      ],
      "metadata": {
        "id": "K0x0ExWjvXhP"
      }
    },
    {
      "cell_type": "code",
      "source": [
        "a = [1, 2, 3, 4, 5]\n",
        "\n",
        "# using slicing\n",
        "print(\"last part\", a[0:-1])\n",
        "print(\"first part\", a[-1:])\n",
        "print(a[-1:]+a[0:-1])"
      ],
      "metadata": {
        "colab": {
          "base_uri": "https://localhost:8080/"
        },
        "id": "4Pz8EkCxvX-g",
        "outputId": "b6cd32ef-afe1-4143-a934-332b9979437a"
      },
      "execution_count": 4,
      "outputs": [
        {
          "output_type": "stream",
          "name": "stdout",
          "text": [
            "last part [1, 2, 3, 4]\n",
            "first part [5]\n",
            "[5, 1, 2, 3, 4]\n"
          ]
        }
      ]
    },
    {
      "cell_type": "code",
      "source": [
        "a = [1, 2, 3, 4, 5]\n",
        "\n",
        "# using pop\n",
        "last_ele = a.pop(-1)\n",
        "print(\"last ele\", last_ele)\n",
        "a.insert(0, last_ele)\n",
        "print(a)"
      ],
      "metadata": {
        "colab": {
          "base_uri": "https://localhost:8080/"
        },
        "id": "G99MxJArxMDM",
        "outputId": "010eea55-0f27-4413-b131-5d119787a8a2"
      },
      "execution_count": 6,
      "outputs": [
        {
          "output_type": "stream",
          "name": "stdout",
          "text": [
            "last ele 5\n",
            "[5, 1, 2, 3, 4]\n"
          ]
        }
      ]
    },
    {
      "cell_type": "markdown",
      "source": [
        "## **Question-2**\n",
        "Write a program to reverse a list.\n",
        "\n",
        "`[1, 2, 3, 4, 5]` > `[5, 4, 3, 2, 1]`"
      ],
      "metadata": {
        "id": "tRiTsAelxfPk"
      }
    },
    {
      "cell_type": "code",
      "source": [
        "a = [1, 2, 3, 4, 5]\n",
        "print(a)\n",
        "# using slicing\n",
        "print(a[::-1])\n",
        "print(a)"
      ],
      "metadata": {
        "colab": {
          "base_uri": "https://localhost:8080/"
        },
        "id": "LvLY6r8xxVxd",
        "outputId": "e838ca82-1e8a-4b61-acf0-ba49236c93fe"
      },
      "execution_count": 8,
      "outputs": [
        {
          "output_type": "stream",
          "name": "stdout",
          "text": [
            "[1, 2, 3, 4, 5]\n",
            "[5, 4, 3, 2, 1]\n",
            "[1, 2, 3, 4, 5]\n"
          ]
        }
      ]
    },
    {
      "cell_type": "code",
      "source": [
        "a = [1, 2, 3, 4, 5]\n",
        "print(a)\n",
        "a.reverse() # this will reverse the original list\n",
        "print(a)"
      ],
      "metadata": {
        "colab": {
          "base_uri": "https://localhost:8080/"
        },
        "id": "HT43Q1RTyOy2",
        "outputId": "55b6435e-ceb6-42e6-9a00-34ec9a51c6a5"
      },
      "execution_count": 9,
      "outputs": [
        {
          "output_type": "stream",
          "name": "stdout",
          "text": [
            "[1, 2, 3, 4, 5]\n",
            "[5, 4, 3, 2, 1]\n"
          ]
        }
      ]
    },
    {
      "cell_type": "code",
      "source": [
        "a = [1, 2, 3, 4, 5]\n",
        "print(a)\n",
        "# using reversed\n",
        "print(list(reversed(a)))\n",
        "print(a)"
      ],
      "metadata": {
        "colab": {
          "base_uri": "https://localhost:8080/"
        },
        "id": "4PZRH2NhyR4z",
        "outputId": "491d1c5b-3b31-49f8-fbc6-05add8850589"
      },
      "execution_count": 11,
      "outputs": [
        {
          "output_type": "stream",
          "name": "stdout",
          "text": [
            "[1, 2, 3, 4, 5]\n",
            "[5, 4, 3, 2, 1]\n",
            "[1, 2, 3, 4, 5]\n"
          ]
        }
      ]
    },
    {
      "cell_type": "code",
      "source": [
        "# sort\n",
        "a = [1, -10, 2, 3, -100, 4, 5]\n",
        "print(a)\n",
        "a.sort() # this will sort the original list\n",
        "print(a)"
      ],
      "metadata": {
        "colab": {
          "base_uri": "https://localhost:8080/"
        },
        "id": "LOaYJj4bykMj",
        "outputId": "b0718cd2-80c4-4c91-e936-32bfd54d502d"
      },
      "execution_count": 12,
      "outputs": [
        {
          "output_type": "stream",
          "name": "stdout",
          "text": [
            "[1, -10, 2, 3, -100, 4, 5]\n",
            "[-100, -10, 1, 2, 3, 4, 5]\n"
          ]
        }
      ]
    },
    {
      "cell_type": "code",
      "source": [
        "# sorted\n",
        "a = [1, -10, 2, 3, -100, 4, 5]\n",
        "print(a)\n",
        "# using sorted\n",
        "print(list(sorted(a)))\n",
        "print(a)"
      ],
      "metadata": {
        "colab": {
          "base_uri": "https://localhost:8080/"
        },
        "id": "B6Tjq7oPyrtK",
        "outputId": "ab6a46a7-7c94-41f1-c8f3-d415596f1d12"
      },
      "execution_count": 14,
      "outputs": [
        {
          "output_type": "stream",
          "name": "stdout",
          "text": [
            "[1, -10, 2, 3, -100, 4, 5]\n",
            "[-100, -10, 1, 2, 3, 4, 5]\n",
            "[1, -10, 2, 3, -100, 4, 5]\n"
          ]
        }
      ]
    },
    {
      "cell_type": "code",
      "source": [
        "coins = [1,5,2,3,5,4,5,6,7,5]\n",
        "print(coins)\n",
        "# index >> index of the first occurence\n",
        "print(coins.index(5))\n",
        "# count >>count the number of occurences\n",
        "print(coins.count(5))"
      ],
      "metadata": {
        "colab": {
          "base_uri": "https://localhost:8080/"
        },
        "id": "knC4JN2uzFlx",
        "outputId": "69fcecce-93a3-4fd3-a711-5ad86920118c"
      },
      "execution_count": 16,
      "outputs": [
        {
          "output_type": "stream",
          "name": "stdout",
          "text": [
            "[1, 5, 2, 3, 5, 4, 5, 6, 7, 5]\n",
            "1\n",
            "4\n"
          ]
        }
      ]
    },
    {
      "cell_type": "code",
      "source": [
        "# 2d lists"
      ],
      "metadata": {
        "id": "tXknbGSSzY5i"
      },
      "execution_count": 17,
      "outputs": []
    },
    {
      "cell_type": "code",
      "source": [
        "player = ['Ronaldo', 38, 185.5, True, None]\n",
        "print(player)\n",
        "\n",
        "print(\"# the of elements in my list: \", len(player))\n",
        "\n",
        "print(\"Iterating\")\n",
        "for p in player:\n",
        "    print(p)"
      ],
      "metadata": {
        "colab": {
          "base_uri": "https://localhost:8080/"
        },
        "id": "2w68L7_C0PRg",
        "outputId": "b757f5a8-aa10-4121-afe3-7e1193624f1f"
      },
      "execution_count": 22,
      "outputs": [
        {
          "output_type": "stream",
          "name": "stdout",
          "text": [
            "['Ronaldo', 38, 185.5, True, None]\n",
            "# the of elements in my list:  5\n",
            "Iterating\n",
            "Ronaldo\n",
            "38\n",
            "185.5\n",
            "True\n",
            "None\n"
          ]
        }
      ]
    },
    {
      "cell_type": "code",
      "source": [
        "grocceryList = [3, 'tables', 3, 'chairs', 1.5, 'apples', ['Ronaldo', 38, 185.5, True, None]]\n",
        "print(grocceryList)\n",
        "\n",
        "print(\"# the of elements in my list: \", len(grocceryList))\n",
        "\n",
        "print(\"Iterating\")\n",
        "for g in grocceryList:\n",
        "    print(g)"
      ],
      "metadata": {
        "colab": {
          "base_uri": "https://localhost:8080/"
        },
        "id": "B4LOSF6s1ZBS",
        "outputId": "9e30e872-2417-430a-8fb2-2c51bb02f9a7"
      },
      "execution_count": 25,
      "outputs": [
        {
          "output_type": "stream",
          "name": "stdout",
          "text": [
            "[3, 'tables', 3, 'chairs', 1.5, 'apples', ['Ronaldo', 38, 185.5, True, None]]\n",
            "# the of elements in my list:  7\n",
            "Iterating\n",
            "3\n",
            "tables\n",
            "3\n",
            "chairs\n",
            "1.5\n",
            "apples\n",
            "['Ronaldo', 38, 185.5, True, None]\n"
          ]
        }
      ]
    },
    {
      "cell_type": "code",
      "source": [
        "matrix = [\n",
        "    [1,2,3],\n",
        "    [4,5,6],\n",
        "    [7,8,9]\n",
        "    ]\n",
        "print(matrix)\n",
        "print(\"# of rows: \", len(matrix))\n",
        "print(\"# of cols: \", len(matrix[0]))"
      ],
      "metadata": {
        "colab": {
          "base_uri": "https://localhost:8080/"
        },
        "id": "aAjwQ2wx3Dm6",
        "outputId": "b257dab9-6f59-4d84-e986-ef97c6257a46"
      },
      "execution_count": 28,
      "outputs": [
        {
          "output_type": "stream",
          "name": "stdout",
          "text": [
            "[[1, 2, 3], [4, 5, 6], [7, 8, 9]]\n",
            "# of rows:  3\n",
            "# of cols:  3\n"
          ]
        }
      ]
    },
    {
      "cell_type": "code",
      "source": [
        "matrix = [\n",
        "    [1,2,3],\n",
        "    [4,5,6]\n",
        "    ]\n",
        "print(matrix)\n",
        "print(\"# of rows: \", len(matrix))\n",
        "print(\"# of cols: \", len(matrix[0]))"
      ],
      "metadata": {
        "colab": {
          "base_uri": "https://localhost:8080/"
        },
        "id": "QG9wP08H3OMW",
        "outputId": "1cda98d2-bac1-4f52-a284-0875814e7d22"
      },
      "execution_count": 29,
      "outputs": [
        {
          "output_type": "stream",
          "name": "stdout",
          "text": [
            "[[1, 2, 3], [4, 5, 6]]\n",
            "# of rows:  2\n",
            "# of cols:  3\n"
          ]
        }
      ]
    },
    {
      "cell_type": "code",
      "source": [
        "player = ['Ronaldo', 38, 185.5, True, None]\n",
        "print(player)\n",
        "print(player[1])# 38\n",
        "print(player[-4])# 38"
      ],
      "metadata": {
        "colab": {
          "base_uri": "https://localhost:8080/"
        },
        "id": "mYEakZeg3rd2",
        "outputId": "ce07f8dd-a4df-4f84-80cd-44d3accce050"
      },
      "execution_count": 30,
      "outputs": [
        {
          "output_type": "stream",
          "name": "stdout",
          "text": [
            "['Ronaldo', 38, 185.5, True, None]\n",
            "38\n",
            "38\n"
          ]
        }
      ]
    },
    {
      "cell_type": "code",
      "source": [
        "grocceryList = [3, 'tables', 3, 'chairs', 1.5, 'apples', ['Ronaldo', 38, 185.5, True, None]]\n",
        "print(grocceryList)\n",
        "\n",
        "# chairs\n",
        "print(grocceryList[3], type(grocceryList[3]))\n",
        "\n",
        "# player\n",
        "print(grocceryList[6], type(grocceryList[6]))\n",
        "print(grocceryList[6][1])# 38\n",
        "print(grocceryList[6][-4])# 38"
      ],
      "metadata": {
        "colab": {
          "base_uri": "https://localhost:8080/"
        },
        "id": "bENplKb-4Wow",
        "outputId": "e7e5472e-211b-4bf3-cd84-0d3404b475ae"
      },
      "execution_count": 36,
      "outputs": [
        {
          "output_type": "stream",
          "name": "stdout",
          "text": [
            "[3, 'tables', 3, 'chairs', 1.5, 'apples', ['Ronaldo', 38, 185.5, True, None]]\n",
            "chairs <class 'str'>\n",
            "['Ronaldo', 38, 185.5, True, None] <class 'list'>\n",
            "38\n",
            "38\n"
          ]
        }
      ]
    },
    {
      "cell_type": "code",
      "source": [
        "grocceryList = [3, 'tables', 3, 'chairs', 1.5, 'apples', ['Ronaldo', 38, 185.5, True, None]]\n",
        "print(grocceryList)\n",
        "\n",
        "grocceryList[4] = 2\n",
        "print(grocceryList)"
      ],
      "metadata": {
        "colab": {
          "base_uri": "https://localhost:8080/"
        },
        "id": "m7CnECqL4gtd",
        "outputId": "249cec4f-7a28-4639-e847-6b9964c83dce"
      },
      "execution_count": 38,
      "outputs": [
        {
          "output_type": "stream",
          "name": "stdout",
          "text": [
            "[3, 'tables', 3, 'chairs', 1.5, 'apples', ['Ronaldo', 38, 185.5, True, None]]\n",
            "[3, 'tables', 3, 'chairs', 2, 'apples', ['Ronaldo', 38, 185.5, True, None]]\n"
          ]
        }
      ]
    },
    {
      "cell_type": "code",
      "source": [
        "grocceryList = [3, 'tables', 3, 'chairs', 1.5, 'apples', ['Ronaldo', 38, 185.5, True, None]]\n",
        "print(grocceryList)\n",
        "\n",
        "grocceryList[6][4] = 2026\n",
        "print(grocceryList)"
      ],
      "metadata": {
        "colab": {
          "base_uri": "https://localhost:8080/"
        },
        "id": "Zl-6m94o5XS-",
        "outputId": "897a55eb-2557-459f-a114-9a31ca9c1f37"
      },
      "execution_count": 39,
      "outputs": [
        {
          "output_type": "stream",
          "name": "stdout",
          "text": [
            "[3, 'tables', 3, 'chairs', 1.5, 'apples', ['Ronaldo', 38, 185.5, True, None]]\n",
            "[3, 'tables', 3, 'chairs', 1.5, 'apples', ['Ronaldo', 38, 185.5, True, 2026]]\n"
          ]
        }
      ]
    },
    {
      "cell_type": "code",
      "source": [
        "my_list = [1,2,3,[4,5,[\"hello\",[True, \"Find ME!!\"]],6]]\n",
        "print(my_list[3][2][1][1])"
      ],
      "metadata": {
        "colab": {
          "base_uri": "https://localhost:8080/"
        },
        "id": "mRCCt0Ck5tm9",
        "outputId": "cd0e2906-1191-4d6f-9958-220bcd8a795f"
      },
      "execution_count": 44,
      "outputs": [
        {
          "output_type": "stream",
          "name": "stdout",
          "text": [
            "Find ME!!\n"
          ]
        }
      ]
    },
    {
      "cell_type": "code",
      "source": [
        "# What is the length of the list a?\n",
        "\n",
        "a = [1, 2, 3, [4, 5], [6, 7, 8], 9, 0]\n",
        "print(len(a))"
      ],
      "metadata": {
        "colab": {
          "base_uri": "https://localhost:8080/"
        },
        "id": "V6A1jW3j60BL",
        "outputId": "89e48cf5-f09b-4631-b77a-4f8804a4e4b0"
      },
      "execution_count": 45,
      "outputs": [
        {
          "output_type": "stream",
          "name": "stdout",
          "text": [
            "7\n"
          ]
        }
      ]
    },
    {
      "cell_type": "code",
      "source": [
        "a = [1, 2, 3, [[4], [5]], [[6, [7]], 8], 9, 0]\n",
        "print(len(a))"
      ],
      "metadata": {
        "colab": {
          "base_uri": "https://localhost:8080/"
        },
        "id": "1v7LNBVC7RfC",
        "outputId": "6d4c4d6b-abb8-4cc3-a5fd-a42b2b0bc2cd"
      },
      "execution_count": 46,
      "outputs": [
        {
          "output_type": "stream",
          "name": "stdout",
          "text": [
            "7\n"
          ]
        }
      ]
    },
    {
      "cell_type": "code",
      "source": [
        "matrix = [\n",
        "    [1,2,3],\n",
        "    [4,5,6]\n",
        "    ]\n",
        "print(matrix)\n",
        "print(matrix[1][1])#5>>[rowIndex][colIndex]\n",
        "print(matrix[0][2])#3>>[rowIndex][colIndex]"
      ],
      "metadata": {
        "colab": {
          "base_uri": "https://localhost:8080/"
        },
        "id": "ygUR-hyM7bZo",
        "outputId": "797bd7f7-a1bd-4c1f-f7a2-e54c51f98a1b"
      },
      "execution_count": 49,
      "outputs": [
        {
          "output_type": "stream",
          "name": "stdout",
          "text": [
            "[[1, 2, 3], [4, 5, 6]]\n",
            "5\n",
            "3\n"
          ]
        }
      ]
    },
    {
      "cell_type": "code",
      "source": [
        "matrix = [\n",
        "    [1,2,3],\n",
        "    [4,5,6]\n",
        "    ]\n",
        "print(matrix.index(3))"
      ],
      "metadata": {
        "colab": {
          "base_uri": "https://localhost:8080/",
          "height": 211
        },
        "id": "Ar-DW7RW7pkX",
        "outputId": "4f0e5cd9-8e1d-4f1f-a2e9-138304f88e76"
      },
      "execution_count": 50,
      "outputs": [
        {
          "output_type": "error",
          "ename": "ValueError",
          "evalue": "ignored",
          "traceback": [
            "\u001b[0;31m---------------------------------------------------------------------------\u001b[0m",
            "\u001b[0;31mValueError\u001b[0m                                Traceback (most recent call last)",
            "\u001b[0;32m<ipython-input-50-23f0400fe6d1>\u001b[0m in \u001b[0;36m<cell line: 5>\u001b[0;34m()\u001b[0m\n\u001b[1;32m      3\u001b[0m     \u001b[0;34m[\u001b[0m\u001b[0;36m4\u001b[0m\u001b[0;34m,\u001b[0m\u001b[0;36m5\u001b[0m\u001b[0;34m,\u001b[0m\u001b[0;36m6\u001b[0m\u001b[0;34m]\u001b[0m\u001b[0;34m\u001b[0m\u001b[0;34m\u001b[0m\u001b[0m\n\u001b[1;32m      4\u001b[0m     ]\n\u001b[0;32m----> 5\u001b[0;31m \u001b[0mprint\u001b[0m\u001b[0;34m(\u001b[0m\u001b[0mmatrix\u001b[0m\u001b[0;34m.\u001b[0m\u001b[0mindex\u001b[0m\u001b[0;34m(\u001b[0m\u001b[0;36m3\u001b[0m\u001b[0;34m)\u001b[0m\u001b[0;34m)\u001b[0m\u001b[0;34m\u001b[0m\u001b[0;34m\u001b[0m\u001b[0m\n\u001b[0m",
            "\u001b[0;31mValueError\u001b[0m: 3 is not in list"
          ]
        }
      ]
    },
    {
      "cell_type": "code",
      "source": [
        "# iterate"
      ],
      "metadata": {
        "id": "DgxijcNa-ssn"
      },
      "execution_count": null,
      "outputs": []
    },
    {
      "cell_type": "code",
      "source": [
        "matrix = [\n",
        "    [1,2,3],\n",
        "    [4,5,6],\n",
        "    [7,8,9],\n",
        "    [0,10,11]\n",
        "    ]\n",
        "print(matrix)\n",
        "print(\"# of rows: \", len(matrix))\n",
        "print(\"# of cols: \", len(matrix[0]))\n",
        "\n",
        "# iterating by value\n",
        "\n",
        "for row in matrix:\n",
        "    # print(row)\n",
        "    for ele in row:\n",
        "        print(ele, end=\" \")\n",
        "    print()"
      ],
      "metadata": {
        "colab": {
          "base_uri": "https://localhost:8080/"
        },
        "id": "Ula87vw7-JGs",
        "outputId": "8c244e9b-9f8f-4f48-b905-851f1c3a6b78"
      },
      "execution_count": 55,
      "outputs": [
        {
          "output_type": "stream",
          "name": "stdout",
          "text": [
            "[[1, 2, 3], [4, 5, 6], [7, 8, 9], [0, 10, 11]]\n",
            "# of rows:  4\n",
            "# of cols:  3\n",
            "1 2 3 \n",
            "4 5 6 \n",
            "7 8 9 \n",
            "0 10 11 \n"
          ]
        }
      ]
    },
    {
      "cell_type": "code",
      "source": [
        "matrix = [\n",
        "    [1,2,3],\n",
        "    [4,5,6],\n",
        "    [7,8,9],\n",
        "    [0,10,11]\n",
        "    ]\n",
        "print(matrix)\n",
        "print(\"# of rows: \", len(matrix))\n",
        "print(\"# of cols: \", len(matrix[0]))\n",
        "\n",
        "# iterating by index\n",
        "for rowIndex in range(len(matrix)):\n",
        "    for colIndex in range(len(matrix[0])):\n",
        "        print(matrix[rowIndex][colIndex], end=\" \")\n",
        "    print()"
      ],
      "metadata": {
        "colab": {
          "base_uri": "https://localhost:8080/"
        },
        "id": "8g6rh0_w-i5q",
        "outputId": "6ee60b4e-5606-469c-b809-ce26ac09e583"
      },
      "execution_count": 56,
      "outputs": [
        {
          "output_type": "stream",
          "name": "stdout",
          "text": [
            "[[1, 2, 3], [4, 5, 6], [7, 8, 9], [0, 10, 11]]\n",
            "# of rows:  4\n",
            "# of cols:  3\n",
            "1 2 3 \n",
            "4 5 6 \n",
            "7 8 9 \n",
            "0 10 11 \n"
          ]
        }
      ]
    },
    {
      "cell_type": "code",
      "source": [
        "matrix = [\n",
        "    [1,2,3],\n",
        "    [4,5,6],\n",
        "    [7,8,9, -7,-8,-9],\n",
        "    [0,10,11]\n",
        "    ]\n",
        "print(matrix)\n",
        "print(\"# of rows: \", len(matrix))\n",
        "print(\"# of cols: \", len(matrix[0]))\n",
        "\n",
        "# iterating by value\n",
        "\n",
        "for row in matrix:\n",
        "    # print(row)\n",
        "    for ele in row:\n",
        "        print(ele, end=\" \")\n",
        "    print()"
      ],
      "metadata": {
        "colab": {
          "base_uri": "https://localhost:8080/"
        },
        "id": "A-1Ayu_b_bI-",
        "outputId": "5b1287ca-e717-4aaf-c715-50188363951e"
      },
      "execution_count": 57,
      "outputs": [
        {
          "output_type": "stream",
          "name": "stdout",
          "text": [
            "[[1, 2, 3], [4, 5, 6], [7, 8, 9, -7, -8, -9], [0, 10, 11]]\n",
            "# of rows:  4\n",
            "# of cols:  3\n",
            "1 2 3 \n",
            "4 5 6 \n",
            "7 8 9 -7 -8 -9 \n",
            "0 10 11 \n"
          ]
        }
      ]
    },
    {
      "cell_type": "code",
      "source": [
        "matrix = [\n",
        "    [1,2,3],\n",
        "    [4,5,6],\n",
        "    [7,8,9],\n",
        "    [0,10,11]\n",
        "    ]\n",
        "print(matrix)\n",
        "print(\"# of rows: \", len(matrix))\n",
        "print(\"# of cols: \", len(matrix[0]))\n",
        "\n",
        "# iterating by index\n",
        "# find\n",
        "find_element =7\n",
        "for rowIndex in range(len(matrix)):\n",
        "    for colIndex in range(len(matrix[0])):\n",
        "        if matrix[rowIndex][colIndex]==find_element:\n",
        "            print(rowIndex, colIndex)"
      ],
      "metadata": {
        "colab": {
          "base_uri": "https://localhost:8080/"
        },
        "id": "uBiyB_Vu_qtg",
        "outputId": "f6639801-70ba-4e2e-d42d-d353aab084aa"
      },
      "execution_count": 59,
      "outputs": [
        {
          "output_type": "stream",
          "name": "stdout",
          "text": [
            "[[1, 2, 3], [4, 5, 6], [7, 8, 9], [0, 10, 11]]\n",
            "# of rows:  4\n",
            "# of cols:  3\n",
            "2 0\n"
          ]
        }
      ]
    },
    {
      "cell_type": "code",
      "source": [
        "matrix = [\n",
        "    [1,2,3],\n",
        "    [4,5,6],\n",
        "    [7,8,9],\n",
        "    [0,10,11]\n",
        "    ]\n",
        "print(matrix)\n",
        "\n",
        "# find the max value\n",
        "max_value = matrix[0][0]\n",
        "for row in matrix:\n",
        "    for ele in row:\n",
        "        if ele>max_value:\n",
        "            max_value = ele\n",
        "print('max_value:', max_value)"
      ],
      "metadata": {
        "colab": {
          "base_uri": "https://localhost:8080/"
        },
        "id": "K18drO46_6MP",
        "outputId": "b20b438e-c09c-4ba8-9cee-ad5f47798c73"
      },
      "execution_count": 60,
      "outputs": [
        {
          "output_type": "stream",
          "name": "stdout",
          "text": [
            "[[1, 2, 3], [4, 5, 6], [7, 8, 9], [0, 10, 11]]\n",
            "max_value: 11\n"
          ]
        }
      ]
    },
    {
      "cell_type": "code",
      "source": [
        "matrix = [\n",
        "    [1, 2, 3],\n",
        "    [4, 5, 6],\n",
        "    [7, 8, 9],\n",
        "    [0,10,11]\n",
        "     ]\n",
        "\n",
        "# what is the sum of all the elements?\n",
        "total = 0\n",
        "for row in matrix:\n",
        "    for ele in row:\n",
        "        total+=ele\n",
        "print(\"sum of all the elements is:\", total)"
      ],
      "metadata": {
        "colab": {
          "base_uri": "https://localhost:8080/"
        },
        "id": "_TGdp53UAZ9B",
        "outputId": "6b57c218-2224-47a2-f595-fc5ec52e3b93"
      },
      "execution_count": 63,
      "outputs": [
        {
          "output_type": "stream",
          "name": "stdout",
          "text": [
            "sum of all the elements is: 66\n"
          ]
        }
      ]
    },
    {
      "cell_type": "code",
      "source": [
        "matrix = [\n",
        "    [1, 2, 3],\n",
        "    [4, 5, 6],\n",
        "    [7, 8, 9],\n",
        "    [0,10,11]\n",
        "     ]\n",
        "\n",
        "# what is the sum of all the elements row -wise?\n",
        "#  >> [6,15,24,21]\n",
        "\n",
        "ans = []\n",
        "\n",
        "for row in matrix:\n",
        "    curr_sum = 0\n",
        "    for ele in row:\n",
        "        curr_sum+=ele\n",
        "    ans.append(curr_sum)\n",
        "ans"
      ],
      "metadata": {
        "colab": {
          "base_uri": "https://localhost:8080/"
        },
        "id": "Dtg5zOiGB4vf",
        "outputId": "842c647b-b261-42fb-cda7-d672adb6294c"
      },
      "execution_count": 66,
      "outputs": [
        {
          "output_type": "execute_result",
          "data": {
            "text/plain": [
              "[6, 15, 24, 21]"
            ]
          },
          "metadata": {},
          "execution_count": 66
        }
      ]
    },
    {
      "cell_type": "code",
      "source": [
        "matrix = [\n",
        "    [1, 2, 3],\n",
        "    [4, 5, 6],\n",
        "    [7, 8, 9],\n",
        "    [0,10,11]\n",
        "     ]\n",
        "\n",
        "# what is the sum of all the elements col -wise?\n",
        "#  >> [12,25,29]\n",
        "\n",
        "nRows = len(matrix)\n",
        "nCols = len(matrix[0])\n",
        "\n",
        "ans = []\n",
        "for colIndex in range(nCols):\n",
        "    ans.append(0)\n",
        "\n",
        "print(\"Starting ans:\", ans)\n",
        "\n",
        "for rowIndex in range(nRows):\n",
        "    for colIndex in range(nCols):\n",
        "        ans[colIndex]+=matrix[rowIndex][colIndex]\n",
        "\n",
        "print(\"ans:\", ans)"
      ],
      "metadata": {
        "colab": {
          "base_uri": "https://localhost:8080/"
        },
        "id": "DsOZc5LhD1nl",
        "outputId": "69f21420-74af-4bce-bcf0-64e0da92d39c"
      },
      "execution_count": 4,
      "outputs": [
        {
          "output_type": "stream",
          "name": "stdout",
          "text": [
            "Starting ans: [0, 0, 0]\n",
            "ans: [12, 25, 29]\n"
          ]
        }
      ]
    },
    {
      "cell_type": "code",
      "source": [
        "matrix = [\n",
        "    [1, 2, 3],\n",
        "    [4, 5, 6],\n",
        "    [7, 8, 9]\n",
        "     ]\n",
        "\n",
        "# what is the sum of the diaginal>> 1+5+9 = 15\n",
        "\n",
        "total = 0\n",
        "nRows = len(matrix)\n",
        "for i in range(nRows):\n",
        "    print(matrix[i][i])\n",
        "    total+=matrix[i][i]\n",
        "print(\"sum of the diaginal:\", total)"
      ],
      "metadata": {
        "colab": {
          "base_uri": "https://localhost:8080/"
        },
        "id": "mjfXUlFYE1v1",
        "outputId": "c528af49-b23a-41e1-8412-143eb0a246f1"
      },
      "execution_count": 7,
      "outputs": [
        {
          "output_type": "stream",
          "name": "stdout",
          "text": [
            "1\n",
            "5\n",
            "9\n",
            "sum of the diaginal: 15\n"
          ]
        }
      ]
    },
    {
      "cell_type": "code",
      "source": [
        "matrix = [\n",
        "    [1, 2, 3],\n",
        "    [4, 5, 6],\n",
        "    [7, 8, 9],\n",
        "    [0,10,11]\n",
        "     ]\n",
        "# what is the sum of the diaginal>> 1+5+9 = 15\n",
        "\n",
        "total = 0\n",
        "nRows = len(matrix)\n",
        "nCols = len(matrix[0])\n",
        "for i in range(min(nRows, nCols)):\n",
        "    print(matrix[i][i])\n",
        "    total+=matrix[i][i]\n",
        "print(\"sum of the diaginal:\", total)"
      ],
      "metadata": {
        "colab": {
          "base_uri": "https://localhost:8080/"
        },
        "id": "ZWa0T8LQHsi6",
        "outputId": "53090498-1d0b-493d-e561-bcb69ce8f5e3"
      },
      "execution_count": 8,
      "outputs": [
        {
          "output_type": "stream",
          "name": "stdout",
          "text": [
            "1\n",
            "5\n",
            "9\n",
            "sum of the diaginal: 15\n"
          ]
        }
      ]
    },
    {
      "cell_type": "code",
      "source": [
        "matrix = [\n",
        "    [1, 2, 3],\n",
        "    [4, 5, 6],\n",
        "     ]\n",
        "# what is the sum of the diaginal>> 1+5 = 6\n",
        "\n",
        "total = 0\n",
        "nRows = len(matrix)\n",
        "nCols = len(matrix[0])\n",
        "for i in range(min(nRows, nCols)):\n",
        "    print(matrix[i][i])\n",
        "    total+=matrix[i][i]\n",
        "print(\"sum of the diaginal:\", total)"
      ],
      "metadata": {
        "colab": {
          "base_uri": "https://localhost:8080/"
        },
        "id": "HKYKSMqhIBOC",
        "outputId": "018a5b6a-6aeb-44e1-bd95-78d0b5c366d6"
      },
      "execution_count": 9,
      "outputs": [
        {
          "output_type": "stream",
          "name": "stdout",
          "text": [
            "1\n",
            "5\n",
            "sum of the diaginal: 6\n"
          ]
        }
      ]
    },
    {
      "cell_type": "code",
      "source": [],
      "metadata": {
        "id": "9wJWGAGRIF0j"
      },
      "execution_count": null,
      "outputs": []
    }
  ]
}