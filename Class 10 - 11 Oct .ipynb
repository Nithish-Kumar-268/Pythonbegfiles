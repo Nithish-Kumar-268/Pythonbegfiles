{
  "nbformat": 4,
  "nbformat_minor": 0,
  "metadata": {
    "colab": {
      "provenance": [],
      "authorship_tag": "ABX9TyNuXIYYUy05Tml4VkXIIHg0",
      "include_colab_link": true
    },
    "kernelspec": {
      "name": "python3",
      "display_name": "Python 3"
    },
    "language_info": {
      "name": "python"
    }
  },
  "cells": [
    {
      "cell_type": "markdown",
      "metadata": {
        "id": "view-in-github",
        "colab_type": "text"
      },
      "source": [
        "<a href=\"https://colab.research.google.com/gist/singhsidhukuldeep/b1e599a6ba0a30307efd7d59a896c6d0/beginner-functions-1-11-oct-2023.ipynb\" target=\"_parent\"><img src=\"https://colab.research.google.com/assets/colab-badge.svg\" alt=\"Open In Colab\"/></a>"
      ]
    },
    {
      "cell_type": "markdown",
      "source": [
        "<center>\n",
        "\n",
        "![d385ad6c129f74f7da9dcc2d2f283005_w200.gif](data:image/gif;base64,R0lGODlhyACCAPf+AP/DK/zDM//HMf/EMvnEN//GNP/INv/MNvLEO/vJO//JOP/KOf/JO//LOv/MOv/NPP/OPf/PPv/QP6/Hbr/IZanHd7jNc7bReMHHX8vGXdzHUNjHVNzTXufHSPrMRv/QQP/SQf/SQv/TQv/TQ//UQ//URP/URf/VRf/WRf/WRv/XRv/WR//XR/TWTv/QS//XSP/RTf/YSP/YSf/ZSf/ZSv/aS//bTP/cTf/dTv/eTv/eT//PVevRUO/cVuTVWeLbX//RV/HYVP/VXf/gUf/hUv/hU//iVP/kVv/mWP/pW8nVb9rcaN7facjdc//afMzic8zmePnrYjFplzZplTZrmDZsmjZtmzZunDZvnjdvnydzpid1qS5zrCJ5ri16qzdwoDdxojdyojdyozdzpTd0pjhyojd0qDd1qTd2qjN1rDd3rDJ5qzN6rTd4rTd4rjl6ryx2sTJ4sjR4sTd5sDd6sDR5sjd6sjd7szB+sDJ5tDd8tDh8tTd/uTh+uCyFti6GuyuKvTCBtTOAtTCEujCHv0yIunvJnljLumrLrHDJpXrNom/Vr3rRp2HUu3LdtRuMwxeRxxaVzBudziCIwCyNxCaUyiKb0RSj1hui1hGm2RCn2xqm2xSo3CCg1xWs4Qqx5gy57BC05wq98WOWwT7Mzy3L3DTL1j7T1RjM7R7Q7AbD9w7M9QbH+API+wbM+gLJ/ADM/wHM/wXN/wnN+QjN/w3O/hPM8RDP/hTP/hfQ/hnQ/h3R/iLN5i7S4iHR/STS/SnS/S3T/TDT/DLU/DbU/D3V+znV/DzV/ErMxknSzEDP0UHW+0TW+0nX+k3X+lLY+VDY+lXY+VnZ+V3Z+GTa92ja92zb9mHa+HDb9nPc9nbc9nnc9X7d9JnJhojHkYjQm5rWkbTag7XkhqHjlovipP/ehoqy06bF3oPd9Ive85Hf8pXf8pnf8Zvf8LvS5abh76vh7rHh7bXi7bri7KHg8P/12sTX6MTj6szj6dXk6P/77//89vn7/fv9/v///wAAACH5BAQKAAAAIf8LTkVUU0NBUEUyLjADAQAAACH/C1hNUCBEYXRhWE1Q/z94cGFja2V0IGJlZ2luPSLvu78iIGlkPSJXNU0wTXBDZWhpSHpyZVN6TlRjemtjOWQiPz4gPHg6eG1wbXRhIHhtbG5zOng9ImFkb2JlOm5zOm1ldGEvIiB4OnhtcHRrPSJBZG9iZSBYTVAgQ29yZSA1LjMtYzAxMSA2Ni4xNDU2NjEsIDIwMTIvMDIvMDYtMTQ6NTY6MjcgICAgICAgICI+PHJkZjpSREYgeG1sbnM6cmRmPSJodHRwOi8vd3d3Lncub3JnLzE5OTkvMDIvMjItcmRmLXN5bnRheC1ucyMiPiA8cmRmOkRlc2NyaXB0aW9uIHJmOmFib3V0PSIiIP94bWxuczp4bXA9Imh0dHA6Ly9ucy5hZG9iZS5jb20veGFwLzEuMC8iIHhtbG5zOnhtcE1NPSJodHRwOi8vbnMuYWRvYmUuY29tL3hhcC8xLjAvbW0vIiB4bW5zOnN0UmVmPSJodHRwOi8vbnMuYWRvYmUuY29tL3hhcC8xLjAvc1R5cGUvUmVzb3VyY2VSZWYjIiB4bXA6Q3JlYXRvclRvb2w9IkFkb2JlIFBob3Rvc2hvcCBDUzYgKE1hY2ludG9zaCkiIG1wTU06SW5zdGFuY2VJRD0ieG1wLmlpZDpFNUEzQjRBQzQ5NTYxMUUzODc0NUE3NjdBMTQ5M0FFOCL/IHhtcE1NOkRvY3VtZW50SUQ9InhtcC5kaWQ6RTVBM0I0QUQ0OTU2MTFFMzg3NDVBNzY3QTE0OTNBRTgiPiB4bXBNTTpEZXJpdmVkRnJvbSBzdFJlZjppbnN0YW5jZUlEPSJ4bXAuaWlkOkU1QTNCNEFBNDk1NjExRTM3NDVBNzY3QTE0OTNBRTgiIHN0UmVmOmRvY3VtZW50SUQ9InhtcC5kaWQ6RTVBM0I0QUI0OTU2MUUzODc0NUE3NjdBMTQ5M0FFOCIvPiA8L3JkZjpEZXNjcmlwdGlvbj4gPC9yZGY6UkQ+IDwveDp4bXBtZXRhPiA8P3hwYWNrZXQgZW5k/z0iciI/PgH//v38+/r5+Pf29fTz8vHw7+7t7Ovq6ejn5uXk4+Lh4N/e3dva2djX1tXU09LR0M/OzczLysnIx8bFxMPCwcC/vr28u7q5uLe2tbSzsrGwr66trKuqqainpqWko6KhoJ+enZybmpmYl5aVlJOSkZCPjo2Mi4qJiIeGhYSDgoGAf359fHt6eXh3dnV0c3JxcG9ubWxramloZ2ZlZGNiYWBfXl1cW1pZWFdWVVRTUlFQT05NTEtKSUhHRkVEQ0JBQD8+PTw7Ojk4NzY1NDMyMTAvLi0sKyopKCcmJSQjIiEgHx4dHBsaGRgXFhUUExIREA8ODQwLCgkIBwcGBQQDAgEAACwAAAAAyACCAAAI/gBhCRxIsKDBgwgTKlzIsKHDhxAjSpxIsaLFixgzatzIsaPHjyBDihxJsqTJkyhTqlzJsqXLlzBjypxJs6bNmzhz6tzJs6fPn0CDCh1KtKjRo0iTKl3KtKnTp1CjSp1KtarVq1izat3KtavXr2DDih1LtqzZs2jTql3Ltq3bt3Djyp17sZWoUJssVaJEidCfP4AoVaqEyZMoukBFWaLEh8+ePXr03JnspnJlNG7Q+NmEeKesTo0F8bEDeTLlO5bRqFZtxg+ozjhBN4ZD2/ScO3PmXL6MxkxvM2xew6YpqrGdO+bOmcNN2XLm1b57lxkTqNXwmZsazznHz58/d3Hc/jTHDH0MmTHTwZThdF2mJT55CnX37m8Ul9TPfZsxMwb9GDBgANJeTJXwcUch/dBX332ZPfcbGeedB2AWeFg3oEuVTJaHO/Th80Zqqo3xoIQAgkHhhS9lyNw59pxTSBoNrhaieSWamAUYXliI4koq5qYFF0CSxxp//Y0hRok3ZpFFjjuypGJzIPb2W3812pjFFUw2qRIlUEYZXZH/TajklVjqqOVJd4Wi5ppsqmlJkTWOecUVVmR5Zkit5AmLng15AkaYYpJpRZ0CzWLooXdiFMpifQ1CyCCQQorHIHgEYmmlgVTqhRhHlogFFlbQOegWsJzCxKlLMLFEE4zYkqhE/qAw1scddtRqq3MOogEhGWBw2qmSnw46KBVWkJqMEUMMoUMOy97wgzKvPuTJaMeZViuuuYpIhq9IZhFsFsNaQYWxyTKbww3o3hBEKdEyFEofe9hhIHO3unGGvawVue2RnJr4KahUgCsuFVrAkky5OZxbww0vrKBEuwq1Qshj8dqGWmX3nqHGGWeISGW33mIhqrBUUDFFwckkfO65DDdcAzIQI+QJxaRRpluD9nLMMRpg9qokGCLPaUUWJZc8xckGJ4xuDS+8wPQKK1wQ80GUUFwxtmjozLEZZZBoor9z0lm00UejzHINaDfdsAktoDI1QaoIEu+tFzuoNRlcxwms/tCDEk320V3A0gjaN6C9QsMrmCCCCDC/LVAo8c79YZSr7cqtlUGHW/TRnEMCCzg2oM3C6CyggIIIin/juECbkHbt5A76Zt62+4Ictt9/c06FKK78EPoLLKwwuginL27B6rBUUitqFwupH38QcjsmmWIPbDLnR0cCyyJo1zA61CssvrgEHMyyOiXLOycjz0RyK8b0fA+b+9GPwMJLD96DvwIKio8PgQe8WN0gxIMf1qRhP1T6TxbeJ6eRmex6RyuZFjRhvyXUYAUXTJz4/AeBB5hidYHAFXTYBycAweERl8iEJjLBwha6kIUpFE4yfpC/4JnghiKQAAQgoMMHPKBx/m/TA+X0wzMjccoLmZjIKpIRju7pb4MQEEEHffiAQ4BwNzICU78AYZ1ekEMcUAijGJ9AxjI24YxLwB8LDAe+DX5AilN8wAKAOLU/vGF9RSxh/VxBjigk4Y9ICOQRBoksI+hgWSwrXAbB1z8RfGCHkJTjAkhxPjWooXK6+hiOVCELcfwRkEgYJCGRdchDLo2NUGukIx+5Q0kuIAHscpwltsazTP5HgUkkxyeTEMhQEjJZQzDX2WqoQRO88ZGshMACFLDMDqxidZzY2IxoFCYuwCIVfgSlL49gBGSVa2mFa1rwUik+CLBSjnJUgAIMQAHkgWJIJewVFgTkiE8Kkpvd/vTmIRXmRKjxr5Ef6KEPF/AAdRrAAIZAXivwgMBbekoM2hsHKEWZTx0oS2Wh8944Tbe4N8Jxistc5kEL8EHkVaJnABIDFlSqPXH0kqLd3OcwRTfODTqylQ84wDLVuc4CZAB5j4sn0P7V0iNss5vJKmW6aDo6Vd4UpwVVZwEUUIACIAKoAvHDdL7wBcxdoaW+zCcp96lIVIavkRKQABWjytOqFqADrsIqKMbwBbo28KuwEAdMk4rIHHQPcRoUX1rVulaeCoCqVb0qVgWSCTBwVUlDo1NR86msZp1yjeA7Xf/MCVXDurWqFVgsQULhB8gKywqeE4dYK5suRY5zf8XL/iEcc+pDnkq1AAjwhmgNAopLSOK3v/1EXmNaypk6jBHIRa4iGKGI5jrXuYaIrnQPEcDdOiQc+mTWUg0HDuuaJBxJPdsLWrY/H1zgvOe1gHrXq95uuMK7FgGvTAnXNH/GNq2QVOYCFmCADpgPvhQJh9JOmb/EBTaHhD0AM/e7AA38F8ASEXDCuldgxaE1rQeQgBBcIID9KsDBEJ6IgDPKNMThsJw7PIAQ6uEPfZSjAAcFcYgjEg4bZLS++2tkFHHKYvoAYQAFkPGMHwK6fu5vg/jdoQJgsA8FOQEAAdjAkCPSiNC91gT31SEkFfCAHntnBwAYQDemDJFVcODKqFsc/g8F6kMBrLjF5QjzAEpKZocoowXjBGgkc7rTAiwACB4AQAEGkNA6Q0QZHDjxB5LZQQbz1wAFkDMCEmFoidjiGzzoaH4J6uGDQroABKhALCstEVQgwgI8iCSDPY1bDBhi1KSuiC1IgYhuVIACGMDABLqRCGS4LdbA5oksaEHsWhj7FshONrKNXYthy0IWwUbIsGtxC1zoYhe/+AUwghGMYXh7GMQINzG+PQxhAAMYv/DFLnCBi1sQO9bTtra2u02MYixjGc1oxjP2HY1oSMPf/Y4GNKDhjHwvoxjFIIYwhJFuXeCiFrSYMi1qce1tD8MYy2CGM54RjWlcgxrVsIY1/rRBcm1so+TZyIbIqUGNa/wbGs1gxjGOMQx0r7sWZtotLW6hi3nXW+P+ZvnIt8ENdKQjHepYxzrawXSlr0MdR0cHN05ujWpMQxowZ0bCg/GLm0Nb5/IGxjDsre9pUGPo3Di6OtrxjnfAIx7yiMc85iGPuMPjHfRoB9Slrg1sVMPlMF8GzdGtC3eLVha1wIW2L47vZ0jj7CY3+tLp8fZ53OMe+MiH5vOBj3vMPR5413s6po6NlmO9GVvv+sP3hFXE91zsGNf344cu+XZQXu7zwEfmN995uoM+71Cfushd/gzUE4PrN9c5z3/R7dg7nuXZILrk10EPt8cD7nW3+++f0Z4Ovqsc8M1YhjFq7gtdNNu6iFf8ucfODNlLQ+QmL7rRke50pasD6t1HB9WtcY1pCDz843duu3AL5wdf6bcL6/dzzeAM/mZ2IWcN2JByKKdyImcNLXd10VBwgnd8hIdsOQdgE7d859Z8CIdvCzhwA7dv+zZwBWdwxTB+wWBzhVeApDZtiXdt2jaC3zZu5AYM5oZuXedwxkYLXxdtB/FsxcZsSqiE71aERviEUBiFUjiFVFiFVniFWJiFWriFXNiFXviFYBiGYjiGZFiGZniGRBEQACH5BAQKAAAAIf8LWE1QIERhdGFYTVD/P3hwYWNrZXQgYmVnaW49Iu+7vyIgaWQ9Ilc1TTBNcENlaGlIenJlU3pOVGN6a2M5ZCI/PiA8eDp4bXBtdGEgeG1sbnM6eD0iYWRvYmU6bnM6bWV0YS8iIHg6eG1wdGs9IkFkb2JlIFhNUCBDb3JlIDUuMy1jMDExIDY2LjE0NTY2MSwgMjAxMi8wMi8wNi0xNDo1NjoyNyAgICAgICAgIj48cmRmOlJERiB4bWxuczpyZGY9Imh0dHA6Ly93d3cudy5vcmcvMTk5OS8wMi8yMi1yZGYtc3ludGF4LW5zIyI+IDxyZGY6RGVzY3JpcHRpb24gcmY6YWJvdXQ9IiIg/3htbG5zOnhtcD0iaHR0cDovL25zLmFkb2JlLmNvbS94YXAvMS4wLyIgeG1sbnM6eG1wTU09Imh0dHA6Ly9ucy5hZG9iZS5jb20veGFwLzEuMC9tbS8iIHhtbnM6c3RSZWY9Imh0dHA6Ly9ucy5hZG9iZS5jb20veGFwLzEuMC9zVHlwZS9SZXNvdXJjZVJlZiMiIHhtcDpDcmVhdG9yVG9vbD0iQWRvYmUgUGhvdG9zaG9wIENTNiAoTWFjaW50b3NoKSIgbXBNTTpJbnN0YW5jZUlEPSJ4bXAuaWlkOkU1QTNCNEFDNDk1NjExRTM4NzQ1QTc2N0ExNDkzQUU4Iv8geG1wTU06RG9jdW1lbnRJRD0ieG1wLmRpZDpFNUEzQjRBRDQ5NTYxMUUzODc0NUE3NjdBMTQ5M0FFOCI+IHhtcE1NOkRlcml2ZWRGcm9tIHN0UmVmOmluc3RhbmNlSUQ9InhtcC5paWQ6RTVBM0I0QUE0OTU2MTFFMzc0NUE3NjdBMTQ5M0FFOCIgc3RSZWY6ZG9jdW1lbnRJRD0ieG1wLmRpZDpFNUEzQjRBQjQ5NTYxRTM4NzQ1QTc2N0ExNDkzQUU4Ii8+IDwvcmRmOkRlc2NyaXB0aW9uPiA8L3JkZjpSRD4gPC94OnhtcG1ldGE+IDw/eHBhY2tldCBlbmT/PSJyIj8+Af/+/fz7+vn49/b19PPy8fDv7u3s6+rp6Ofm5eTj4uHg397d29rZ2NfW1dTT0tHQz87NzMvKycjHxsXEw8LBwL++vby7urm4t7a1tLOysbCvrq2sq6qpqKempaSjoqGgn56dnJuamZiXlpWUk5KRkI+OjYyLiomIh4aFhIOCgYB/fn18e3p5eHd2dXRzcnFwb25tbGtqaWhnZmVkY2JhYF9eXVxbWllYV1ZVVFNSUVBPTk1MS0pJSEdGRURDQkFAPz49PDs6OTg3NjU0MzIxMC8uLSwrKikoJyYlJCMiISAfHh0cGxoZGBcWFRQTEhEQDw4NDAsKCQgHBwYFBAMCAQAALAAAAADIAIIAAAj+AGEJHEiwoMGDCBMqXMiwocOHECNKnEixosWLGDNq3Mixo8ePIEOKHEmypMmTKFOqXMmypcuXMGPKnEmzps2bOHPq3Mmzp8+fQIMKHUq0qNGjSJMqXcq0qdOnUKNKnUq1qtWrWLNq3cq1q9evYMOKHUu2rNmzaNOqXcu2rdu3TV+JCrXJUiVKlAj9+QOIUqVKmDyJgktUVCdKfPYovsPYzR03ctxIRiPZz6ZWrwj77MSnj2fFexg3juyGMprTZsz4AaWZJ2fPcGKLnj3Z9Gk0ZMiwYd0ap6jOe/SYO2cudGPJk0vjTp2bTKBWvW9u8hznXD9//tyRRk7ZDGozzcn+hAHDKXN0mpb65CnEDzv2UVwel5acuj4Y8ePBADpfs1KfO+y55w98yM1XH3hkgBFGgmDgYR5/MVUSXB7uuIfPG7Z9x1xuCoIBRhYOQiiThKKdY885haQx320bisegh1h48aCILlUiWhpacKHjimjU11wY+WUhZIwz0siSjbQVyCIZZigIpIJYDGmFjEa+RMlj8inHYo/hAQlklFhYkQWVVbY0VyhopqkmmpZw6KGHQ15xxZRFlinSK3jmCUuRmfUpkCcvfihkFljMSScssySqqJ0chWJJXoREOsikkwYySCCYBoKHpnjgscaCcH4ophWkWrEFLKcwoeoSTCzRBCP+tjBqESiU9KGYHnvMoesc8tnmHW4/BiloqaWemowRQyQ7xA3M/qCMrBN5YuuteojmWHKo9YigeE6GgcW3o5Y6hbHKLsvsDTUEUUqd0CYUyrSK8Xpcbd3Zh5+H3n4bJbFU9KsFLMkkey6zNRSsRLsOtUIIaHrMket29B7Y3JtYhDFkmKRSYUW/U/ybTA43gIxuwSq88AIyCDPkCWiM5TpHgVpqi2CHH3orJLEbT0HFFB0DLDLBBb+gggoXsJuyQK9QEhxtWfq64ZswWpwFqYZurDHPPSdzbsEx1DC0Cia0gMrRCKnCx2xYKrnkxFDbjLPGHGPdBSyNjEyyyV+HgDL+2QaFgjbMp7nhXYv3hQouzlZMkTjWU0ACCzg2BC002CaQEEII3/Bt0CaNzXubtkyyDWecVS/OOM9SiOLKD5HXMDnllodggeYFISmHrmq8EXOL+IVRhqBTE6v48KdH8soiBXsN9tAmXB5CBBzMYjTCV96hxstvqKHG2oX3DjziO5uO9SOw8NLDC65/3bzzH0TgAS+0DzTIHLoj98YZ+PuYoJdS3wz+6VLYgiZewYsluG5yJqic8yLAwAeYIn4CCQT9uHMGNeRvW06CwyMukQlNdDATIAyhCDnIm2T8IGjqc54EGBiBBjxgb/ELBHdKg78aQg0MXtDERFaRjHBIbnL+sQuBBJ73gCI+4BAQhIUesIUGG+LvTZNgxSt6QQ5xQOGKWHyCFrfYhC4uoQcjK5nQmhc7CawwAkY8AAxp94fd2RBq5HMFOaKQhDoi4Y5GyGO5zGW3A36NBOs7oxEf0IAGkCKJlIgZGc4wsQR5gRWuEEcd7XhHJBjBksgS2NYklzcVCrKQhUxAKZJoiWyFLjegCsMAyTHJJFTyCLDUoyaHkDyvjVEFzhOiIB9wgAYoQAEdWMX02sWJtS3oSWDgwitSQUdKIiGWslwWLWspNCAGcYVGLOQvDUCBPUEQFKjpEjIB8QpHTPKOsDxCHjN5g2TVMn2UW58QWUhIUCrAAAf+MEQSYdEKPJzyPkAqg5CMN446phOameTjO5mXQE+isZ6+PIABJvrAfVaiSR5i0MUiAQtxvBKamtykH4eWSzM+FKLbNMAAMrDPPYVCdB8Cw7c46tFngrRcNQAaPHEpTzNms5ATDeoBEDHMlL3CDzf80LeuQFObqjOh0hyZyRCIS4eiUZv3DKoAOhCrlr4CFC8iHVM7ms51hpSaCOzpLusZ1IkOQACIaClBOAGkQVHNCjR9akLbmdNaqq+quoyABH7aVpUOoAJyLUgo/GDXUjlOHGaNqk5LxlBPDraI9pyoRAeAAG8k9iCguIQkRjvaT3QUqgNL3guUwIjWtlYRjFD+hGxnawjZGuK2uD0EL4r6WYKEY6/mUq0KwPGg4iKkTrztrUDCoazUHlBoPriAdKVrgepat7rdcIVyL8LcqKI1hZc740MLeYAOzGK7FgkHwfpI1RCsT7BoPEAvFXAABWjgvOidyCu6K1XlkVSe8zxABITgggFs8775pYh6gYa3oQXxeQw8gBDq4Q99lGMAEkVwgiXiw+/isowsbEAEKOweIAzAABreMETAwTXKUk6FLIzAAWCwDwE5AQAD2ICKJdII4b44vOIFJYmxswMcd2PHEVkFB3Z6TXqCcgATrnA5cByAiiL5IcpoQd6a/NMGHMDAQPAAjgegzytHRBkcaOj+5WIMUaBOdMwISISZJfIKW3yDByQgAZtB2QChnpgAFVhXcudsEFQgwgI8aCAhe+lllSIAA4YYJaExYgtSIKIbFaAABjAwgW4kAhmoGPSkGcKnUXfEFah2BS1qcYtWu9rVtYg1LVJt6lrjRLu2xoiqWZ0LXezCF78ARjCCIYxiC4MYyEa2sYMBDGD8whe70EWraUGLUe8aF7rwhbCPfYxlMKMZzYDGM6JBbmlEw9zkfsYzoAHuZRTjGMQYRjCerQtc1KLaO6bFLXztC2IboxjhJvc0rkGNalgDG9jQhsK3oXBtZCMb1qhGNahxDXOz293GEAYwoH2LWuB6u/rONjD+jm2MgEvjGgbPxja4gY50pEMd61gHO9rRjpivQx0uRwc3tgHxakxDGs9oBjOKQQxm76LjslAuLbDdb2EAvBnPGLg1VM4Nl6+jHe94BzziIQ95zGMeXY8HPN5Bj5qnQ+cOr0bFg76MjG+83viWqyxqIfJh/Bvq0ii4NrbR8qvTY+vzuMc98JGPwucDH/f4ejzI3g6ccyPta2/GMooOjF3Y+7Nzr/sxAP6MvE+d7+nwO+DngQ/CGx7xYF982R3Pc7UDvRnwNvrlP7v0bAdjGN3Ge8Gp3nd20EPr8eB61+Uh9rGv/uyPzwbFpXFxt0e7Fknv7dxxoW1g3B3v05A471u7/nKbx1wdOD87OnieDbVPIxoXP4bGK58L6Od3+r8eOTGKsQyon3vgEj+4NRru8IdHXO3X8HPrJnnH4Ha+IG2zhmSrxnTN5m/0B27hBg3RoG4USIHsJnnLcAzqx2zQlgtIZ2qysGq30Gu7sAsNOGzGRgzCMAzyNmzNtnHR5oH3Fn25ZhCyEIKrFms6uIOyVm00WINAGIRCOIREWIRGeIRImIRKuIRM2IRO+IRQGIVSOIVUWIVWeIVYqBIBAQAh+QQECgAAACH/C1hNUCBEYXRhWE1Q/z94cGFja2V0IGJlZ2luPSLvu78iIGlkPSJXNU0wTXBDZWhpSHpyZVN6TlRjemtjOWQiPz4gPHg6eG1wbXRhIHhtbG5zOng9ImFkb2JlOm5zOm1ldGEvIiB4OnhtcHRrPSJBZG9iZSBYTVAgQ29yZSA1LjMtYzAxMSA2Ni4xNDU2NjEsIDIwMTIvMDIvMDYtMTQ6NTY6MjcgICAgICAgICI+PHJkZjpSREYgeG1sbnM6cmRmPSJodHRwOi8vd3d3Lncub3JnLzE5OTkvMDIvMjItcmRmLXN5bnRheC1ucyMiPiA8cmRmOkRlc2NyaXB0aW9uIHJmOmFib3V0PSIiIP94bWxuczp4bXA9Imh0dHA6Ly9ucy5hZG9iZS5jb20veGFwLzEuMC8iIHhtbG5zOnhtcE1NPSJodHRwOi8vbnMuYWRvYmUuY29tL3hhcC8xLjAvbW0vIiB4bW5zOnN0UmVmPSJodHRwOi8vbnMuYWRvYmUuY29tL3hhcC8xLjAvc1R5cGUvUmVzb3VyY2VSZWYjIiB4bXA6Q3JlYXRvclRvb2w9IkFkb2JlIFBob3Rvc2hvcCBDUzYgKE1hY2ludG9zaCkiIG1wTU06SW5zdGFuY2VJRD0ieG1wLmlpZDpFNUEzQjRBQzQ5NTYxMUUzODc0NUE3NjdBMTQ5M0FFOCL/IHhtcE1NOkRvY3VtZW50SUQ9InhtcC5kaWQ6RTVBM0I0QUQ0OTU2MTFFMzg3NDVBNzY3QTE0OTNBRTgiPiB4bXBNTTpEZXJpdmVkRnJvbSBzdFJlZjppbnN0YW5jZUlEPSJ4bXAuaWlkOkU1QTNCNEFBNDk1NjExRTM3NDVBNzY3QTE0OTNBRTgiIHN0UmVmOmRvY3VtZW50SUQ9InhtcC5kaWQ6RTVBM0I0QUI0OTU2MUUzODc0NUE3NjdBMTQ5M0FFOCIvPiA8L3JkZjpEZXNjcmlwdGlvbj4gPC9yZGY6UkQ+IDwveDp4bXBtZXRhPiA8P3hwYWNrZXQgZW5k/z0iciI/PgH//v38+/r5+Pf29fTz8vHw7+7t7Ovq6ejn5uXk4+Lh4N/e3dva2djX1tXU09LR0M/OzczLysnIx8bFxMPCwcC/vr28u7q5uLe2tbSzsrGwr66trKuqqainpqWko6KhoJ+enZybmpmYl5aVlJOSkZCPjo2Mi4qJiIeGhYSDgoGAf359fHt6eXh3dnV0c3JxcG9ubWxramloZ2ZlZGNiYWBfXl1cW1pZWFdWVVRTUlFQT05NTEtKSUhHRkVEQ0JBQD8+PTw7Ojk4NzY1NDMyMTAvLi0sKyopKCcmJSQjIiEgHx4dHBsaGRgXFhUUExIREA8ODQwLCgkIBwcGBQQDAgEAACwAAAAAyACCAAAI/gBhCRxIsKDBgwgTKlzIsKHDhxAjSpxIsaLFixgzatzIsaPHjyBDihxJsqTJkyhTqlzJsqXLlzBjypxJs6bNmzhz6tzJs6fPn0CDCh1KtKjRo0iTKl3KtKnTp1CjSp1KtarVq1izat3KtavXr2DDih1LtqzZs2jTqg35am3UV6JCbbJUiRIlQn/+AKJUqRImT6LcIhXViZKgPnv23NFjp7GdN3PatFGjBo2fTa0ED+3UpzPiPXru3HHsRjJlNKhR+wGlGaglPnz0wJkt2rEdN24oUx6jhveYMWxYt+Ypik8fPXrMnTPHmDRu3bvVmPk9JlDm4To3CeIj51w/f/7c/slpjDu37jFm0lMfE4YTdp2W+uQpxA88+FFcykM3I306e/ZhAPJeTpUgVsh39uH3nG7pqfdbGGOAkQUebQ1oU4F75OGOffi8sZ90/VEXBhgkTlihhTRVsscbedhxjj3nFJIGdP35B2CJEnrxyokoxqRiHm/YoQUXRDJY43ojlphFFjr2mOJot92mhnmUNWhGGFcmCcYXWGBhRZNOykTJaOUt2F9/WIYx4ohZcGnFlzyG6VJcodRp5511WiKimlmAEQYWS8Ip50qttLLjjg55ouaifWZxxZtvNjnLpJQO+pEsoVhyFyGDcDpIXoMEEmogpOJRKh5rqOnnko4+CukW/rCcwsSsSzCxRBOM2GKpRqAYlphoegT5mIen1ZieGGKoKqGjrUJqBazJGEHEtDhUi8MPpMS5a0SefKZYbeRBh5oZaDSIbLJJLnnFus5OAS211dogrw1BlLItRaF4GxppUhZL7rHnortsq65aQQUVWsCSDBHWzjuvEvdK1Aohie1hmxt20Nhfuf59McYXIH/BqrMGT2HFFAkng4MOONjQsg0qqPDCC8hEDJEnFdvRHGk08nfsx7+F/MUVWZBMhclToKxwww6/EPMF2tqMECWgIUeelFRaiWzHQntJ8slJJ50y0zPHrIIJLaAiNUOqxGZbY1NmXaMYZogBdMheulo0/tJhT9EFLI04HEPZKpAwwgg1r61QKMjtnDGVVZJL97keg9xllyTzHTYksIAz78wzm2CC4SN8o7hCm7xtJn/oAVw3sl1/LUXfYUshiis/wGyD0zGLfvgIFpyeUCU7m7mbuQBjUYblXjt7MNh9RwLLIvOaTYIKv0sgAQezCH8QJeTp1xuI5p4bhhhYcNn8mwcfTPsUj8DCSw82DN479tlH4AEv3hs0SJQL8k1vbMQeP4UhC10qmvOO1jcpbEETr+DFEnbHO/yNQHsfiEAEGmCKqJ1OEGX6kIMWFQY4POISmdBEJlbIwhauEIXCSUbuCGeC3x1OAhpsQAQS17+BgBBy/uSzEYS8kAkPKmQVyQgHBZ0muhoeToMadIAOD9FDgvyQQazzz6ImwQpY9IIc4oCCGMf4hDKasQloXAL95EW4s90QihFwwAYbwMMq/qFK43IQgMIwCVi4ghxRSIIgkUDIIxhyWkTQAcscJi+Z9S57F4wiA6TYAFJUcSCUqExlGiQi9niBFa0QhyAHiQRDHlJaiVSkw2TGO98dLoNQbIAsG5AAe10SFpZIDScfFKEwZAIW5BhlEghZykMiUpEtexkFzZY/OFLSAA3owCpuCQtObFI6dnsQibjwilQEkpTFPAIqGbbIz9EQkrGkZAMMcAAKUBMWoNCa3Tz2sS8A4hWO/hhlIQ1ZhH72M16rLJsJ3HhBWOZQlgcwgEINgahLtiIQx6pb0EImvXGQ0pRFOEI/h8C06vXOiU+EojrXqVADmOKdsKgEwOYZsixITxzENKVGi8BRa93gc2YDaUg3qM6SKjQDKIVFKAIWBqEd8KUxnSlNbXqDm75gdx9tZixl6VMBGAARQYWFH8yHNy8hFaMbrSkOblCDGoCOd+gUqSwZ4FMDDKADugoqKGCXvstZwaWwEIdMh7DUat1grGU9qw1HAMcGjLSkAzCAABBhxB5yYnnqe9SjXmpKvoq1qWWNgf1ilj8cxnGOJPXpACqQVYKEwg9dYtebOKfXsF62rDXQ/uwjbVjYWYp2AAjwRmkNAopLSOK3v/1EXo1gBEUaF7BlXYESGMFc5iqCEYqIrnSla4jqWvcQ/NutQ8KBSuPaoAZkrcEKVgAOg8TpvNqdSDiMq8rvxjYGKiiBDy5AX/pa4L74vW83XJFei3DXu7t7L3zji045xnGWHehefymyXh0wUrbxLUFaG3CAAyDUABpQ8IIlsl6APlW2JQjx76B4gAgIwQUCIGmGN6xeZYKOs/H9wE4PIIR6+EMf5bAqhjXMYoe8QonmZOaIDdoAG9sHCIldcY8h4rlGCnnEcDwADPZhH384AQAD2MCSIxI4mAmUtiJlgCyNDJ4dYLkbW4bI/io4ALOoPtGgcxRAjW9cDiwH4KRp9rEyWgBfV47AoHK0rUKB4AEsD8AQeY6IMjhAugsS9qBU9amhEZCIREvEFt/gwU4hTWGFHkAAAyBABWxpaYmgAhEW4AFPZ8nWkiIAA4YoRWNL3RBbkAIR3agABTCAgQl0IxHIUJtAZk3rhRC72BaRhbJpwWxc4OIWt8BFLZxdi2rXgtmyQLa2t81tlGa72wNRNrRxoYtd+OIXwAhGMIbBbnYT493tFkYwgAGMX/hiF7lwNrNpLQta3CIXuvBFuodBjGMsgxnNaAY0oBGNhksjGg9v+MKdkfBlFOMYxJC3vXUhbVpsmRa1KPcv/tZNjIM7g+HTmEY1rGENbGRDGzDfxjZgno1ssNwa17jGw6HRDGZcXBj13oW0r5NefwccGAQvBjOcAXFqrFwb2+AGOtKRDnWsYx3taAc7rr4OdVAdHdzYBjasUY1pSIPnPidGMH6B71oUndy+WLfSmxGNaVDDGtmIOtXV0Y53vAMe8ZBHPOYxD3kIHh7voMfW0wF2bYxd5zxfhjGA7guOezyrsgi5wAm+DLpL4+5QnzrW6QH4edzjHvjIh+rzgY97ED4eiWeH18NuDWpAvhnLyDjbpV3azB+d4AiHxufxvg3Rt4P0g58HPlK/+tYXHvaKn/02WH57jK+97bulBS5y7xH3Ycxd+NdgedSNT4+/xyPwhj884unRdcZzw/E4PzvuJw+Mytfi272vBfdHTozvS2MaLAd1Ujd1Vcd1V6cOXsd46DBzY0cN0xANkXcMwxAM9yZt+KddmZcLu4Buw2AMc8d0/+d0K4d3Lwdzjjd2LGd7ZvcMFGdxxDAM9cdx9/dx07Z/SNeBxXBwCXdyDNeDz/AME5dwzJB2E1h/+IYLtHCBiSZu+ldu55Zu6iYM7TaF6kZv9rYLHNdxSghuywZy1vaFX4htWwhuZFiGZniGaJiGariGbNiGbviGcBiHcjiHdFiHdniHeJiHeriHbxgQACH5BAQKAAAAIf8LWE1QIERhdGFYTVD/P3hwYWNrZXQgYmVnaW49Iu+7vyIgaWQ9Ilc1TTBNcENlaGlIenJlU3pOVGN6a2M5ZCI/PiA8eDp4bXBtdGEgeG1sbnM6eD0iYWRvYmU6bnM6bWV0YS8iIHg6eG1wdGs9IkFkb2JlIFhNUCBDb3JlIDUuMy1jMDExIDY2LjE0NTY2MSwgMjAxMi8wMi8wNi0xNDo1NjoyNyAgICAgICAgIj48cmRmOlJERiB4bWxuczpyZGY9Imh0dHA6Ly93d3cudy5vcmcvMTk5OS8wMi8yMi1yZGYtc3ludGF4LW5zIyI+IDxyZGY6RGVzY3JpcHRpb24gcmY6YWJvdXQ9IiIg/3htbG5zOnhtcD0iaHR0cDovL25zLmFkb2JlLmNvbS94YXAvMS4wLyIgeG1sbnM6eG1wTU09Imh0dHA6Ly9ucy5hZG9iZS5jb20veGFwLzEuMC9tbS8iIHhtbnM6c3RSZWY9Imh0dHA6Ly9ucy5hZG9iZS5jb20veGFwLzEuMC9zVHlwZS9SZXNvdXJjZVJlZiMiIHhtcDpDcmVhdG9yVG9vbD0iQWRvYmUgUGhvdG9zaG9wIENTNiAoTWFjaW50b3NoKSIgbXBNTTpJbnN0YW5jZUlEPSJ4bXAuaWlkOkU1QTNCNEFDNDk1NjExRTM4NzQ1QTc2N0ExNDkzQUU4Iv8geG1wTU06RG9jdW1lbnRJRD0ieG1wLmRpZDpFNUEzQjRBRDQ5NTYxMUUzODc0NUE3NjdBMTQ5M0FFOCI+IHhtcE1NOkRlcml2ZWRGcm9tIHN0UmVmOmluc3RhbmNlSUQ9InhtcC5paWQ6RTVBM0I0QUE0OTU2MTFFMzc0NUE3NjdBMTQ5M0FFOCIgc3RSZWY6ZG9jdW1lbnRJRD0ieG1wLmRpZDpFNUEzQjRBQjQ5NTYxRTM4NzQ1QTc2N0ExNDkzQUU4Ii8+IDwvcmRmOkRlc2NyaXB0aW9uPiA8L3JkZjpSRD4gPC94OnhtcG1ldGE+IDw/eHBhY2tldCBlbmT/PSJyIj8+Af/+/fz7+vn49/b19PPy8fDv7u3s6+rp6Ofm5eTj4uHg397d29rZ2NfW1dTT0tHQz87NzMvKycjHxsXEw8LBwL++vby7urm4t7a1tLOysbCvrq2sq6qpqKempaSjoqGgn56dnJuamZiXlpWUk5KRkI+OjYyLiomIh4aFhIOCgYB/fn18e3p5eHd2dXRzcnFwb25tbGtqaWhnZmVkY2JhYF9eXVxbWllYV1ZVVFNSUVBPTk1MS0pJSEdGRURDQkFAPz49PDs6OTg3NjU0MzIxMC8uLSwrKikoJyYlJCMiISAfHh0cGxoZGBcWFRQTEhEQDw4NDAsKCQgHBwYFBAMCAQAALAAAAADIAIIAAAj+AGEJHEiwoMGDCBMqXMhQYKyHECNKnEixokWIDTNq3Mixo8ePHy+KHEnyIciTKFOqXLmwpMuXGFnKnEmzpkGYOEna3MmzZ8ecQC36HEq0qMOgSCMaXcp0ZtKnsZpKnRoSKlKqWLO2tBpUq9evR7nmBEsWq1igZdM2PTtWrVuibHG+ndszLky6eGvafZm3L8u9Lv0K1ktxI9/BiFdWNBw4seOTizUefkyZY+SMkytrZni5YebNoA925tw4tOmCo7eWPM16YGqFn1uzViq5tOzWtDHbvn3apOXdvEM/FBVqk6VKlCgR+vMHEKVKlTB5EgUrdvDKsUR1otSnz57vd8L+33FDp415Neb/bHq1+nroTt27f99DR/x4823UmNFvxowfUDq5t1kngnQHx4H02eeGG+ep4WB/ZoyxBoAiCaiZKPHtYc455uwRxxzjLeiGgw+S0R8ZY4wRSCsVWmhWUpt0F8c5/fjjjzty0EGHHCKi4SMa/aGRYopfcNKii1M9ZUkfeRTCj402jsIFHT3+COGQX4zxBSBHIrlWUpX0QUchNUIppRpu/GhlhENq+QUe7AnlpVRPVfJdHu5Aic8bDi7ooxlAsulmlm/G+dqcQ9VJXx50nGPPOYWgmaaabJKRpZtZfOFFl4gWpSh9cmjBxahq/ikokV+kmgUWXrAoZ6f+RtWpI33l5YfmmkKimuoXq1bhhaGFwRprUpSAWqutfwKZoqVaYvoFFqwCO5GwwyJFXCjYZqsttpakKIYYX4iBRRa9YuGrq76RNi21kMHUyruvxLvuRJ58K4aWWIixKrRV+PrQLAAHrJpE7LZLUiiWKEfJIIQM4rDDgQwSyMSB4FExHnisgeWz/Pbb7xaxnMLEyEswsUQTjNiC0KEFezYSKNzNVx+IcrwhYn/89TfkvbtyzK+5VYCcjBFDFI3D0Tj8oIxowbb8k0ieeAeefXPM4aeVge4M7q7QWgG0x0IbfbQNONRQQxClhPWq04xZFIrUU49XtZ+TAqrzGPaGm+r+zx5XQQUVWsSSzBA4EH602TW8oITaLLOd0EWqFPudjvW5YTXda7L5bc8+m2vu338HPrjhNthgNguoIxOg47VV5Ml89H1X9eVo1J21t5vv7bUVHoM+xRSij1262S+gzsIFq7PuckWS06ojj5gni6Wlz4qLxRXX9/7371MIjQPZpbNQg/EhtIDKSMq3PpEq3tGxRx20ijgpkMoOaaml0F5/Rd++c98FLI2oQenCZzzUhUB1nErf4yoSiqnt6FilOtWgUiWuK+xvf37bHvemAAlYgMN0NiggCVgQghJ+A30KVNdENpGj8OQIP23IHJY2xi8Lam+Dv5OCKFzxgxCOz3j+JCBBCUNgARSmEDYVsRMdZsegB7UBQqci1N70xz8NbjASsFjE6YBIwiFGgAOzSOARUcM8Oexhbgx6Ys6iqKVM5c+CGMwgDqfwCFjwogc/LOAQQ/CBCHiAF2Ico2sqMgg+9eiJ+7kbqtrYsa+Bjgrco4IUtqAJOy5hfHkMQRBL2McINMAUgRRkdQqjhxClaUSIVCSh4PCIS3BCE5nIBCdiSctauhIUAknGD/KIOiGWUAISiEAEHBABBK5NlA0JRINIBEUy2EsMXtBEbhiyimSEwwbFI58vQwBMYRLTAYeICTJPIojyMBOKuBPDJFgRi16QQxxQiKc8n0DPejbhnkv+6AE2sVnALnIzmMP0ZAOMOU6U/OEN5oGioOzFJVeQIwpJiCgSJooEIyBhCEQz3Pe+h80XZNOfEgiBMIfpgAaYlBTiLKhHKAGhVLbpW15gpzgiKlGKDqGiGdUB0spGPOOVYJvdFKZJTZqAUqRUpRyxhBlSuVB8SZMcNE0CRS2aUaORDnEeJd8eAUrMoRqgA6tAKko4ocYT7SxVXIhFKiBa06kaoapIQxwvS+DPCAB0qA1wgAEMQAGxogQUECKDYPHWrC9MIhaOoKlb35rRwvEUcQUswR5HOky8NmCvhvDrSV6BB505U1dfiEQsxtFWqsI1rpA1IF29ONKSenWvAzD+hWZPUolcfYF6uxIDFsVB0Yri1KrCI94PSyjZX7bWpAa4bAH2moHZniQUl9ISbqG1W6n69q3ABZ/psqrVErZWoCZdrgEGMABEOPckfgDtvqqw24vi9LQcTdxH/WlcbyL3snstwAA6oLLzfgQUqWrjerHQXtMWjXTDS5xWixtUkg5VvAXQr3n9CxJOcI1vohUHVQ+MNPBtEYi+DGpXX2uACA+gAhRGSSj8IK4qfA0SsRAHRuE7QF6ClJv2JXGJC4AAb6RYJaC4hCSGPORPxPjAGv0eVpXAiCY3WRGMUISUpzxlQ1j5yofgxY9t8pBwXJTD8f0hOKJSmy3TpCLhEFv+mAvogwu42c0WiLOcLXCBbrjiImZGCZrVbLrUlrCuEvgmcgvQgTAeM8+/mUg4CufhD48Q0IE+wAHwqgFDNw7RA4vIouP7gjyOcIghDaYBQiAEFwwguQWoNJ4x7RE0j4142RQigwF6ACHUwx/6KMepDaDqQ7N6eRK5Zp+5+2nWBvTWUALCAATQ60v/mmkTAUdqyTdroRoABvuAkj+cAIACbCCUz14ZRQKo4O7+05skRbaNdgCAAXQD3OHOyCo40M/JUtYB+B6ArXFdjnYHQLbx5okyWjC+TXq3tfjO63gbAAQPtHsAmQ14T5RB7z2KNMeuze/DEZAIiQ/FFt/gQX3+hYrXvZZ4AASoQNo8ThRUIMICPAioaxsAYQRgwBArZ/lSbEEKRHSjAhTAAAYm0I1EIAMVOk/SUZM+FVk4nRa0qEUtbkH1qlNd6rWAuiyYDpemkXFdXHeK1wni7LA/DexfJ5jZZXKosq+91UtnXNzfnpJpkn3sdF+ILKJ+C1zoYhe++AUwhBGMYRheGMRIPDEMPwzCAwMYvvDFLnKBi1tAPe8K2Xst/O4LYBSeGMVgBjOa0QxomD4a0ZBG6lEfDdM7g/TMKMYxiEH4X0geF1nH/ECi/vdfFN4YoncGNKIxjWtQoxrWwEY2lr+N5mdjG8u3hjWqQY1rqB4azYj9MYL+AYxf7AL3W387LW6hi84jPvTOSD01qGGN53MDHelIhzrYsQ522H8d+FdH/NHBDehPfxqql33FQAzB4H3gZ3a0wHm/N3rPMA3s93zwlw7r0A7v8A7wEA/yIA/zMA8ZGA/w8A70QH/pwH/ZgA3VYH3YxwzGIAyQpwuWx3WyUAvlBwzDAHzN8AzS8IDbAH8TSA8XOA/3cA/4kA9EmA/4cA8bGA8gyA76138miILZR3sGWAuwEH4sx3udV4MMmIPtt4MS2A4+GA8biA9DWIRHyIFKGIJNuA1PKA3QoIIEOIVhN37lt4A3mIPVgA3b8H4SyA70YIHxgIEZKA8e+IH00A7k+ocO6JAN0weFKsiCvqALtWCFTBeDuRB4wQB6WzgNyOd+ihh/6oB/oqgO+jeC6AB92GAN1DAN0fB6sTcMBfh9k0h3lrgLgjcMmlh6qVd81YB82KB80Ld8JSh91HcN0zANpieAtNeCtzCLugcLfFd+gicMNRh6o9cMwjd8p/cMz+B6sBd7xgCLkDd5zUiJz0gQmtd3fxd4nhcMwkCNjHd4wcB93Sd5ulB5WWeO59gQTxd1WPeP/6h1+riPBFmQBnmQCJmQCrmQDNmQDvmQEBmREjmRFFmRFnmRGJmRGrmRHNmRSBUQACH5BAQKAAAAIf8LWE1QIERhdGFYTVD/P3hwYWNrZXQgYmVnaW49Iu+7vyIgaWQ9Ilc1TTBNcENlaGlIenJlU3pOVGN6a2M5ZCI/PiA8eDp4bXBtdGEgeG1sbnM6eD0iYWRvYmU6bnM6bWV0YS8iIHg6eG1wdGs9IkFkb2JlIFhNUCBDb3JlIDUuMy1jMDExIDY2LjE0NTY2MSwgMjAxMi8wMi8wNi0xNDo1NjoyNyAgICAgICAgIj48cmRmOlJERiB4bWxuczpyZGY9Imh0dHA6Ly93d3cudy5vcmcvMTk5OS8wMi8yMi1yZGYtc3ludGF4LW5zIyI+IDxyZGY6RGVzY3JpcHRpb24gcmY6YWJvdXQ9IiIg/3htbG5zOnhtcD0iaHR0cDovL25zLmFkb2JlLmNvbS94YXAvMS4wLyIgeG1sbnM6eG1wTU09Imh0dHA6Ly9ucy5hZG9iZS5jb20veGFwLzEuMC9tbS8iIHhtbnM6c3RSZWY9Imh0dHA6Ly9ucy5hZG9iZS5jb20veGFwLzEuMC9zVHlwZS9SZXNvdXJjZVJlZiMiIHhtcDpDcmVhdG9yVG9vbD0iQWRvYmUgUGhvdG9zaG9wIENTNiAoTWFjaW50b3NoKSIgbXBNTTpJbnN0YW5jZUlEPSJ4bXAuaWlkOkU1QTNCNEFDNDk1NjExRTM4NzQ1QTc2N0ExNDkzQUU4Iv8geG1wTU06RG9jdW1lbnRJRD0ieG1wLmRpZDpFNUEzQjRBRDQ5NTYxMUUzODc0NUE3NjdBMTQ5M0FFOCI+IHhtcE1NOkRlcml2ZWRGcm9tIHN0UmVmOmluc3RhbmNlSUQ9InhtcC5paWQ6RTVBM0I0QUE0OTU2MTFFMzc0NUE3NjdBMTQ5M0FFOCIgc3RSZWY6ZG9jdW1lbnRJRD0ieG1wLmRpZDpFNUEzQjRBQjQ5NTYxRTM4NzQ1QTc2N0ExNDkzQUU4Ii8+IDwvcmRmOkRlc2NyaXB0aW9uPiA8L3JkZjpSRD4gPC94OnhtcG1ldGE+IDw/eHBhY2tldCBlbmT/PSJyIj8+Af/+/fz7+vn49/b19PPy8fDv7u3s6+rp6Ofm5eTj4uHg397d29rZ2NfW1dTT0tHQz87NzMvKycjHxsXEw8LBwL++vby7urm4t7a1tLOysbCvrq2sq6qpqKempaSjoqGgn56dnJuamZiXlpWUk5KRkI+OjYyLiomIh4aFhIOCgYB/fn18e3p5eHd2dXRzcnFwb25tbGtqaWhnZmVkY2JhYF9eXVxbWllYV1ZVVFNSUVBPTk1MS0pJSEdGRURDQkFAPz49PDs6OTg3NjU0MzIxMC8uLSwrKikoJyYlJCMiISAfHh0cGxoZGBcWFRQTEhEQDw4NDAsKCQgHBwYFBAMCAQAALAAAAADIAIIAAAj+AGEJHEiwoMGDCBMqXMiwocOHECNKnEixosWLGDNq3Mixo8ePIEOKHEmypMmTKFOqXMmypcuXMGPKnEmzps2bOHPq3Mmzp8+fQIMKHUq0qNGjSJMqXcq0qdOnUKNKnUq1qtWrWLNq3cq1q9evYMOKHUu2rNmzaNOqDflqbdRXokJtslSJEiVCf/4AolSpEiZPotwiFdWJkqA+e/bc0WOnsZ03c9q0UaMGjZ9NrQQP7dSnM+I9eu7ccexGMmU0qFH7AaUZqCU+fPTAmS3asR03bihTHqOG95gxbFi35imKTx89esydM8eYNG7du9WY+T0mUObhOjcJ4iPnXD9//tz+yWmMO7fuMWbSUx8ThhN2nZb65CnEDzz4UVzKQzcjfTp79mEA8l5OlSBWyHf24fecbump91sYY4CRBR5tDWhTgXvk4Y59+Lyxn3T9URcGGCROWKGFNFWyxxt52HGOPecUkgZ0/fkHYIkSevHKiSjGpGIeb9ihBRdEMljjeiOWmEUWOvaY4mi33aaGeZQ1aEYYVyYJxhdYYGFFk07KRMlo5S3YX39YhjHiiFlwacWXPIbpUlyh1GnnnXVaIqKaWYARBhZLwinnSq20suOODnmi5qJ9ZnHFm282OcuklA76kSyhWHIXIYNwOkhegwQSaiCk4lEqHmuo6eeSjj4K6Rb+sJzCxKxLMLFEE4zYYqlGoBiWmGh6BPmYh6fVmJ4YYqgqoaOtQmoFrMkYQcS0OFSLww+kxLlrRJ58plht5EGHmhloNIhsskkuecW6zk4BLbXV2iCvDUGUsi1FoXgbGmlSFkvuseeiu2yrrlpBBRVawJIMEdbOO68S90rUCiGJ7WGbG3bQ2F+5/n0xxhcgf8GqswZPYcUUCSeDgw442NCyDSqo8MILyEQMkScV29EcaTTyd+zHv4X8xRVZkEyFyVOgrHDDDr8Q8wXa2owQJaAhR56UVFqJbMdCe0nyyUknnTLTM8esggktoCI1Q6rEZltjU2ZdoxhmiAF0yF66WjT+0mFP0QUsjTgcQ9kqkDDCCDWvrVAoyO2cMZVVkkv3uR6D3GWXJPMdNiSwgDPvzDObYILhI3yjuEKbvG0mf+gBXDeyXX8tRd9hSyGKKz/AbIPTMYt++AgWnJ5QJTubuZu5AGNRhuVeO3sw2H1HAssi85pNggq/SyABB7MIfxAl5OnXG4jmnhuGGFhw2fybBx9M+xSPwMJLDzYM3jv22UfgAS/eGzRIlAvyTW9sxB4/hSELXSqa847WNylsQROv4MUSdsc7/I1Aex+IQAQaYIqonU4QZfqQgxYVBjg84hKZ0EQmVsjCFq4QhcJJRu4IZ4LfHU4CGmxABBLXv4GAEHL+5LMRhLyQCQ8qZBXJCAcFnSa6Gh5Ogxp0gA4P0UOC/JBBrPPPoibBClj0ghzigIIYx/iEMpqxCWhcAv3kRbiz3RCKEXDABhvAwyr+oUrjchCAwjAJWLiCHFFIgiCRQMgjGHJaRNAByxwmL5n1LnsXjCIDpNgAUlRxIJSoTGUaJCL2eIEVrRCHIAeJBEMeUlqJVKTDZMY73x0ug1BsgCwbkAB7XRIWlkgNJx8UoTBkAhbkGGUSCFnKQyJSkS17GQXNlj84UtIADejAKm4JC05sUjp2exCJuPCKVASSlMU8AioZtsjP0RCSsaRkAwxwAApQExag0JrdPPaxLwDiFY7+GGUhDVmEfvYzXqssmwnceEFY5lCWBzCAQg2BqEu2IhDHqlvQQia9cZDSlEU4Qj+HwLTq9c6JT4SiOtepUAOY4p2wqATA5hmyLEhPHMQ0pUaLwFFr3eBzZgNpSDeozpIqNAMohUUoAhYGoR3wpTGdKU1teoObvmB3H21mLGXpUwEYABFBhYUfzIc3LyEVoxutKQ5uUIMagI536BSpLBngUwMMoAO6CiooYJe+y1nBpbAQh0yHsNRq3WCsZT2rDUcAxwaMtKQDMIAAEGHEHnJieep71KNeakq+irWpZY2B/WKWPxzGcY4k9ekAKpBVgoTCD11i15s4p9ewXrasNdD+7CNtWNhZinYACPBGaQ0CiktI4re//URejWAERRoXsGVdgRIYwVzmKoIRioiudKVriOpa9xD8261DwoFK49qgBmStwQpWAA6DxOm82p1IOIyryu/GNgYqKIEPLkBf+lrgvvi9bzdckV6LcNe7u3svfOOLTjnGcZYd6F5/KbJeHTBStvEtQVobcIADINQAGlDwgiWyXoA+VbYlCPHvoHiACAjBBQIgaYY3rF5lgo6z8f3ATg8ghHr4Qx/lsCqGNcxih7xCieZk5ogN2gAb2wcIiV1xjyHiuUYKecRwPAAM9mEffzgBAAPYwJIjEjiYCZS2ImWALI0Mnh1guRtbhsj+KjgAs6g+0aBzFECNb1wOLAfgpGn2sTJaAF9XjsCgcrStQoHgASwPwBB5jogyOEC6CxL2oFT1qaERkIhES8QW3+DBTiFNYYUeQAADIEAFbGlpiaACERbgAU9nydaSIgADhihFY0vdEFuQAhHdqAAFMICBCXQjEchQm0BmTeuFELvYFpGFsmnBbFzg4ha3wEUtnF2LateC2bJAtra3zW2UZrvbA1E2tHGhi1344hfACEYwhsFudhPj3e0WRjCAAYxf+GIXuXA2s2ktC1rcIhe68EW6h0GMYyyDGc1oBjSgEY2GSyMaD2/4wp2R8GUU4xjEkLe9dSFtWmyZFrUo9y/+1k2MgzuD4dOYRjWsYQ1sZEMbMN/GNmCejWyw3BrXuMbDodEMZlxcGPXehbSvk15/BxwYBC8GM5wBcWqsXBvb4AY60pEOdaxjHe1oBzuuvg51UB0d3NgGNqxRjWlIg+c+J0YwfoHvWhSd3L5Yt9KbEY1pUMMa2Yg61dXRjne8Ax7xkEc85jEPeQgeHu+gx9bTAXZtjF3nPF+GMYDuC457PKuyCLnACb4Mukvj7lCfOtbpAfh53OMe+MiH6vOBj3sQPh6JZ4fXw24NakC+GcvIONulXdrMH53gCIfG5/G+DdG3g/SDnwc+Ur/61hce9oqf/TZYfnuMr73tu6UFLnLvEfdhzF3412B51I1Pj7/HI/CGPzzi6dF1xnPD8Tg/O+4nD4zK1+Lbva8F90dOjO9LYxosB3VSN3VVx3VXpw5ex3joMHNjRw3TEA2RdwzDEAz3Jm34p12Zlwu7gG7DYAxzx3T/53Qrh3cvB3OON3YsZ3tm9wwUZ3HEMAz1x3H393HTtn9I14HFcHAJd3IM14PP8AwTl3DMkHYTWH/4hgu0cIGJJm76V27nlm7qJgztNoXqRm/2tgsc13FKCG7LBnLW9oVfiG1bCG5kWIZmeIZomIZquIZs2IZu+IZwGIdyOId0WId2eId4mId6uIdvGBAAIfkEBAoAAAAh/wtYTVAgRGF0YVhNUP8/eHBhY2tldCBiZWdpbj0i77u/IiBpZD0iVzVNME1wQ2VoaUh6cmVTek5UY3prYzlkIj8+IDx4OnhtcG10YSB4bWxuczp4PSJhZG9iZTpuczptZXRhLyIgeDp4bXB0az0iQWRvYmUgWE1QIENvcmUgNS4zLWMwMTEgNjYuMTQ1NjYxLCAyMDEyLzAyLzA2LTE0OjU2OjI3ICAgICAgICAiPjxyZGY6UkRGIHhtbG5zOnJkZj0iaHR0cDovL3d3dy53Lm9yZy8xOTk5LzAyLzIyLXJkZi1zeW50YXgtbnMjIj4gPHJkZjpEZXNjcmlwdGlvbiByZjphYm91dD0iIiD/eG1sbnM6eG1wPSJodHRwOi8vbnMuYWRvYmUuY29tL3hhcC8xLjAvIiB4bWxuczp4bXBNTT0iaHR0cDovL25zLmFkb2JlLmNvbS94YXAvMS4wL21tLyIgeG1uczpzdFJlZj0iaHR0cDovL25zLmFkb2JlLmNvbS94YXAvMS4wL3NUeXBlL1Jlc291cmNlUmVmIyIgeG1wOkNyZWF0b3JUb29sPSJBZG9iZSBQaG90b3Nob3AgQ1M2IChNYWNpbnRvc2gpIiBtcE1NOkluc3RhbmNlSUQ9InhtcC5paWQ6RTVBM0I0QUM0OTU2MTFFMzg3NDVBNzY3QTE0OTNBRTgi/yB4bXBNTTpEb2N1bWVudElEPSJ4bXAuZGlkOkU1QTNCNEFENDk1NjExRTM4NzQ1QTc2N0ExNDkzQUU4Ij4geG1wTU06RGVyaXZlZEZyb20gc3RSZWY6aW5zdGFuY2VJRD0ieG1wLmlpZDpFNUEzQjRBQTQ5NTYxMUUzNzQ1QTc2N0ExNDkzQUU4IiBzdFJlZjpkb2N1bWVudElEPSJ4bXAuZGlkOkU1QTNCNEFCNDk1NjFFMzg3NDVBNzY3QTE0OTNBRTgiLz4gPC9yZGY6RGVzY3JpcHRpb24+IDwvcmRmOlJEPiA8L3g6eG1wbWV0YT4gPD94cGFja2V0IGVuZP89InIiPz4B//79/Pv6+fj39vX08/Lx8O/u7ezr6uno5+bl5OPi4eDf3t3b2tnY19bV1NPS0dDPzs3My8rJyMfGxcTDwsHAv769vLu6ubi3trW0s7KxsK+urayrqqmop6alpKOioaCfnp2cm5qZmJeWlZSTkpGQj46NjIuKiYiHhoWEg4KBgH9+fXx7enl4d3Z1dHNycXBvbm1sa2ppaGdmZWRjYmFgX15dXFtaWVhXVlVUU1JRUE9OTUxLSklIR0ZFRENCQUA/Pj08Ozo5ODc2NTQzMjEwLy4tLCsqKSgnJiUkIyIhIB8eHRwbGhkYFxYVFBMSERAPDg0MCwoJCAcHBgUEAwIBAAAsAAAAAMgAggAACP4AYQkcSLCgwYMIEypcyLChw4cQI0qcSLGixYsYM2rcyLGjx48gQ4ocSbKkyZMoU6pcybKly5cwY8qcSbOmzZs4c+rcybOnz59AgwodSrSo0aNIkypdyrSp06dQo0qdSrWq1atYs2rdyrWr169gw4odS7as2bNo06pdy7at27dNX4kKtclSJUqUCP35A4hSpUqYPImCS1RUJ0p89ii+w9jNHTdy3EhGI9nPplavCPvsxKePZ8V7GDeO7IYymtNmzPgBpZknZ89wYouePdn0aTRkyLBh3RqnqM579Jg7Zy50Y8mTS+NOnZtMoFa9b27yHOdcP3/+3JFGTtkMajPNyf6EAcMpc3SalvrkKcQPO/ZRXB6Xlpy6Phjx48EAOl+zUp877LnnD3zIzVcfeGSAEUaCYOBhHn8xVRJcHu64h88btn3HXG4KggFGFg5CKJOEop1jzzmFpDHfbRuKx6CHWHjxoIguVSJaGlpwoeOKaNTXXBj5ZSFkjDPSyJKNtBXIIhlmKAikglgMaYWMRr5EyWPyKcdij+EBCWSUWFiRBZVVtjRXKGimqSaalnDooYdDXnHFlEWWKdIreOYJS5GZ9SmQJy9+KGQWWMxJJyyzJKqonRyFYklehEQ6yKSTBjJIIJgGgoemeOCxxoJwfiimFaRasQUspzCh6hJMLNEEI/62MGoRKJT0oZgee8yh6xzy2eYdbj8GKWippZ6ajBFDJDvEDcz+oIysE3li6616iOZYcqj1iKB4ToaBxbejljqFscouy+wNNQRRSp3QJhTKtIrxelxt3dmHn4fefhslsVT0qwUsySR7LrM1FKxEuw61QghoesyR63b0Htjcm1iEMWSYpFJhRb9T/JtMDjeAjG7BKrzwAjIIM+QJaIzlOkeBWmqLYIcfeisksRtPQcUUHQMsMsEFv6CCChewm7JAr1ASHG1Z+rrhmzBanAWphm6sMc89J3NuwTHUMLQKJrSAytEIqcLHbFgqueTEUNuMs8YcY90FLI2MTLLJX4eAMv7ZBoWCNsynueFdi/eFCi7OVkyRONZTQAILODYELTTYJpAQQgjf8G3QJo3Ne5u2TLINZ5xVL844z1KI4soPkdcwOeWWh2CB5gUhKYeuarwRc4v4hVGGoFMTq/jwp0fyyiIFew320CZcHkIEHMxiNMJX3qHGy2+oocbahfcOPOI7m471I7Dw0sMLrn/dvPMfROABL7QPNMgcuiP3xhn4+5igl1LfDP7pUtiCJl7BiyW4bnImqJzzIsDAB5gifgIJBP24cwY15G9bToLDIy6RCU10MBMgDKEIOcibZPwgaOpzngQYGIEGPGBv8QsEd0qDvxpCDQxe0MREVpGMcEhucv6xC4EEnveAIj7gEBCEhR6whQYb4u9Nk2DFK3pBDnFA4YpYfIIWt9iELi6hByMrmdCaFzsJrDACRjwADGn3h93ZEGrkcwU5opCEOiLhjkbIY7nMZbcDfo0E6zujER/QgAaQIomUiBkZzjCxBHmBFa4QRx3teEckGMGSyBLY1iSXNxUKspCFTEApkmiJbIUuN6AKwwDJMckkVPIIsNSjJoeQPK+NUQXOE6IgH3CABihAAR1YxfTaxYm1LehJYODCK1JBR0oiIZayXBYtayk0IAZxhUYs5C8NQIE9QRAUqOkSMgHxCkdM8o6wPEIeM3mDZNUyfZRbnxBZSEhQKsAAB/4wRBJh0Qo8nPI+QCqDkIw3jjqmE5qZ5OM7mZdAT6Kxnr48gAEm+sB9VqJJHmLQxSIBC3G8Epqa3KQfh5ZLMz4Uots0wAAysM89hUJ0HwLDtzjq0WeCtFw1ABo8cSlPM2azkBMN6gEQMcyUvcIPN/zQt65AU5uqM6HSHJnJEIhLh6JRm/cMqgA6EKuWvgIULyIdUzuaznWGlJoI7Oku6xnUiQ5AAIhoKUE4AaRBUc0KNH1qQtuZ01qqr6q6jIAEftpWlQ6gAnItSCj8YNdSOU4cZo2qTkvGUE8Otoj2nKhEB4AAbyT2IKC4hCRGO9pPdBSqA0veC5TAiNa2VhGMUP6EbGdrCNka4ra4PQQvivpZgoRjr+ZSrQrA8aDiIqROvO2tQMKhrNQeUGg+uIB0pWuB6lq3ut1whXIvwtyoojWFlzvjQwt5gA7MYrsWCQfB+kjVEKxPsGg8QC8VcAAFaOC86J3IK7orVeWRVJ7zPEAEhOCCAWzzvvmliHqBhrehBfF5DDyAEOrhD32UYwASRXCCJeLD7+KyjCxsQAQo7B4gDMAAGt4wRMDBNcpSToUsjMABYLAPATkBAAPYgIol0gjhvji84gUlibGzAxx3Y8cRWQUHdnpNeoJyABOucDlwHICKIvkhymhB3pr80wYcwMBA8ACOB6DPK0dEGRxo6P7lYgxRoE50zAhIhJkl8gpbfIMHJCABm0HZAKGemAAVWFdy52wQVCDCAjxoICF76WWVIgADhhgloTFiC1IgohsVoAAGMDCBbiQCGagY9KQZwqdRd8QVqHYFLWpxi1a72tW1iDUtUm3qWuNEu7bGiKpZnQtd7MIXvwBGMIIhjGILgxjIRraxgwEMYPzCF7vQRatpQYtR7xoXuvCFsI99jGUwoxnNgMYzokFuaUTD3OR+xjOgAe5lFOMYxBhGMJ6tC1zUoto7psUtfO0LYhujGOEm9zSuQY1qWAMb2NCGwrehcG1kIxvWqEY1qHENc7Pb3cYQBjCgfYta4Hq7+s42MP6ObYyAS+MaBs/GNriBjnSkQx3rWAc72tGOmK9DHS5HBze2AfFqTEMaz2gGM4pBDGbvouOyUC4tsN1vYQC8Gc8YuDVUzg2Xr6Md73gHPOIhD3nMYx5djwc83kGPmqdD5w6vRsWDvoyMb7ze+JarLGoh8mH8G+rSKLg2ttHyq9Nj6/O4xz3wkY/C5wMf9/h6PMjeDpxzI+1rb8Yyig6MXdj7s3Ov+zEA/oy8T53v6fA74OeBD8IbHvFgX3zZHc9ztQO9GfA2+uU/u/RsB2MY3cZ7waned3bQQ+vx4HrX5SH2sa/+7I/PBsWlcXG3R7sWSe/t3HGhbWDcHe/TkDjvW7v+cpvHXB04Pzs6eJ4NtU8jGhc/hsYrnwvo53f6vx45MYqxDKife+ASP7g1Gu7wh0dc7dfwc+smecfgdr4gbbOGZKvGdM3mb/QHbuEGDdGgbhRIgewmectwDOrHbNCWC0hnarKwarfQa7uwCw04bMZGDMIwDPI2bM22cdHmgfcWfblmELIQgqsWazq4g7JWbTRYg0AYhEI4hERYhEZ4hEiYhEq4hEzYhE74hFAYhVI4hVRYhVZ4hVioEgEBADs=)\n",
        "\n",
        "# Beginner : Functions 1 - 11-Oct-2023\n",
        "\n",
        "## 🐍🐍🐍FUNCTIONS AGENDA 🐍🐍🐍\n",
        "\n",
        "🙄why functions\n",
        "\n",
        "🙂 simple functions\n",
        "\n",
        "😮positional arguments\n",
        "\n",
        "😍docstrings and help\n",
        "\n",
        "😎return v/s print\n",
        "\n",
        "</center>"
      ],
      "metadata": {
        "id": "iPQ7Jv3wBKjF"
      }
    },
    {
      "cell_type": "code",
      "execution_count": null,
      "metadata": {
        "id": "W3-P2XBpBJjI"
      },
      "outputs": [],
      "source": [
        "# what is a function ....()\n",
        "# print()\n",
        "# input()\n",
        "# range()\n",
        "# int()\n",
        "# float()\n",
        "# str()\n",
        "# type()\n",
        "# bool()\n",
        "# len()\n",
        "# ..."
      ]
    },
    {
      "cell_type": "code",
      "source": [
        "for i in range(5):\n",
        "    print(i)"
      ],
      "metadata": {
        "colab": {
          "base_uri": "https://localhost:8080/"
        },
        "id": "dqkgUVcYZcA4",
        "outputId": "d3f21bb6-3e3f-4976-b858-b837d87d3338"
      },
      "execution_count": 1,
      "outputs": [
        {
          "output_type": "stream",
          "name": "stdout",
          "text": [
            "0\n",
            "1\n",
            "2\n",
            "3\n",
            "4\n"
          ]
        }
      ]
    },
    {
      "cell_type": "code",
      "source": [
        "print('Clean the house')\n",
        "print('arrange the drawing room')\n",
        "print('wear nice clothes')\n",
        "print('go to market and get some samosas and cold drinks')\n",
        "print(\"DO NOT misbehave infront of the guests\")\n",
        "print('When the guests come, greet them')\n",
        "print('Sing a poem')"
      ],
      "metadata": {
        "colab": {
          "base_uri": "https://localhost:8080/"
        },
        "id": "7Qj08CkDZeIP",
        "outputId": "1c1b47be-7af1-421e-fe0b-f6ebf4e39ce2"
      },
      "execution_count": 2,
      "outputs": [
        {
          "output_type": "stream",
          "name": "stdout",
          "text": [
            "Clean the house\n",
            "arrange the drawing room\n",
            "wear nice clothes\n",
            "go to market and get some samosas and cold drinks\n",
            "DO NOT misbehave infront of the guests\n",
            "When the guests come, greet them\n",
            "Sing a poem\n"
          ]
        }
      ]
    },
    {
      "cell_type": "code",
      "source": [
        "# SYNTAX of functions\n",
        "\n",
        "\n",
        "# def function_name():\n",
        "#     # any python code\n",
        "#     # this python code will be run\n",
        "#     # when the function is called"
      ],
      "metadata": {
        "id": "WhzRhyalbkO0"
      },
      "execution_count": null,
      "outputs": []
    },
    {
      "cell_type": "code",
      "source": [
        "# defining the function\n",
        "def prepare4guests():\n",
        "    print('Clean the house')\n",
        "    print('arrange the drawing room')\n",
        "    print('wear nice clothes')\n",
        "    print('go to market and get some samosas and cold drinks')\n",
        "    print(\"DO NOT misbehave infront of the guests\")\n",
        "    print('When the guests come, greet them')\n",
        "    print('Sing a poem')"
      ],
      "metadata": {
        "id": "_67SKKETa3aa"
      },
      "execution_count": 3,
      "outputs": []
    },
    {
      "cell_type": "code",
      "source": [
        "# calling the function\n",
        "prepare4guests()"
      ],
      "metadata": {
        "colab": {
          "base_uri": "https://localhost:8080/"
        },
        "id": "-kZz4EHhbVKe",
        "outputId": "dad70bb4-c241-43a0-f3d7-cb5d19b58564"
      },
      "execution_count": 4,
      "outputs": [
        {
          "output_type": "stream",
          "name": "stdout",
          "text": [
            "Clean the house\n",
            "arrange the drawing room\n",
            "wear nice clothes\n",
            "go to market and get some samosas and cold drinks\n",
            "DO NOT misbehave infront of the guests\n",
            "When the guests come, greet them\n",
            "Sing a poem\n"
          ]
        }
      ]
    },
    {
      "cell_type": "code",
      "source": [
        "for i in range(3):\n",
        "    prepare4guests()"
      ],
      "metadata": {
        "colab": {
          "base_uri": "https://localhost:8080/"
        },
        "id": "w-n1Ug4kbYFk",
        "outputId": "3af4b76e-a326-4124-92cf-de5fbea93bb7"
      },
      "execution_count": 5,
      "outputs": [
        {
          "output_type": "stream",
          "name": "stdout",
          "text": [
            "Clean the house\n",
            "arrange the drawing room\n",
            "wear nice clothes\n",
            "go to market and get some samosas and cold drinks\n",
            "DO NOT misbehave infront of the guests\n",
            "When the guests come, greet them\n",
            "Sing a poem\n",
            "Clean the house\n",
            "arrange the drawing room\n",
            "wear nice clothes\n",
            "go to market and get some samosas and cold drinks\n",
            "DO NOT misbehave infront of the guests\n",
            "When the guests come, greet them\n",
            "Sing a poem\n",
            "Clean the house\n",
            "arrange the drawing room\n",
            "wear nice clothes\n",
            "go to market and get some samosas and cold drinks\n",
            "DO NOT misbehave infront of the guests\n",
            "When the guests come, greet them\n",
            "Sing a poem\n"
          ]
        }
      ]
    },
    {
      "cell_type": "code",
      "source": [
        "# create a nimbu pani function\n",
        "def instant_nimbuPani():\n",
        "    print('Get an empty glass')\n",
        "    print(\"Get a lemon and cut it\")\n",
        "    print('Squeeze the lemon')\n",
        "    want_sugar = input('Do you want sugar [Y/N]: ')\n",
        "    if want_sugar.lower()=='y':\n",
        "        print('Sugar added')\n",
        "    else:\n",
        "        print(\"Add salt\")\n",
        "    print('Add water')\n",
        "    print('stir')\n",
        "    print(\"Your nimbu pani is ready\")"
      ],
      "metadata": {
        "id": "iUraDAXSbdU8"
      },
      "execution_count": 8,
      "outputs": []
    },
    {
      "cell_type": "code",
      "source": [
        "instant_nimbuPani()"
      ],
      "metadata": {
        "colab": {
          "base_uri": "https://localhost:8080/"
        },
        "id": "zxfWnaxkc4i8",
        "outputId": "be81336e-6a68-4cc3-c61c-55b289ea8eb7"
      },
      "execution_count": 9,
      "outputs": [
        {
          "output_type": "stream",
          "name": "stdout",
          "text": [
            "Get an empty glass\n",
            "Get a lemon and cut it\n",
            "Squeeze the lemon\n",
            "Do you want sugar [Y/N]: y\n",
            "Sugar added\n",
            "Add water\n",
            "stir\n",
            "Your nimbu pani is ready\n"
          ]
        }
      ]
    },
    {
      "cell_type": "code",
      "source": [
        "for i in range(3):\n",
        "    instant_nimbuPani()"
      ],
      "metadata": {
        "colab": {
          "base_uri": "https://localhost:8080/"
        },
        "id": "gPvogO9LdIP7",
        "outputId": "eac79d02-3439-4d2c-d014-0090d95e2247"
      },
      "execution_count": 10,
      "outputs": [
        {
          "output_type": "stream",
          "name": "stdout",
          "text": [
            "Get an empty glass\n",
            "Get a lemon and cut it\n",
            "Squeeze the lemon\n",
            "Do you want sugar [Y/N]: y\n",
            "Sugar added\n",
            "Add water\n",
            "stir\n",
            "Your nimbu pani is ready\n",
            "Get an empty glass\n",
            "Get a lemon and cut it\n",
            "Squeeze the lemon\n",
            "Do you want sugar [Y/N]: n\n",
            "Add salt\n",
            "Add water\n",
            "stir\n",
            "Your nimbu pani is ready\n",
            "Get an empty glass\n",
            "Get a lemon and cut it\n",
            "Squeeze the lemon\n",
            "Do you want sugar [Y/N]: y\n",
            "Sugar added\n",
            "Add water\n",
            "stir\n",
            "Your nimbu pani is ready\n"
          ]
        }
      ]
    },
    {
      "cell_type": "code",
      "source": [
        "# sheldon\n",
        "print(\"knock knock Sachin\")\n",
        "print(\"knock knock Sachin\")\n",
        "print(\"knock knock Sachin\")"
      ],
      "metadata": {
        "colab": {
          "base_uri": "https://localhost:8080/"
        },
        "id": "x2u5GF3qdNDa",
        "outputId": "68fb05b8-8871-46de-e1b2-b195c7ecced5"
      },
      "execution_count": 11,
      "outputs": [
        {
          "output_type": "stream",
          "name": "stdout",
          "text": [
            "knock knock Sachin\n",
            "knock knock Sachin\n",
            "knock knock Sachin\n"
          ]
        }
      ]
    },
    {
      "cell_type": "code",
      "source": [
        "name = input('name of the person: ')\n",
        "print(\"knock knock\", name)\n",
        "print(\"knock knock\", name)\n",
        "print(\"knock knock\", name)"
      ],
      "metadata": {
        "colab": {
          "base_uri": "https://localhost:8080/"
        },
        "id": "sKlLCDSnec3Y",
        "outputId": "5bbfb4e9-a411-4513-da76-53f078d86280"
      },
      "execution_count": 12,
      "outputs": [
        {
          "output_type": "stream",
          "name": "stdout",
          "text": [
            "name of the person: Saurav\n",
            "knock knock Saurav\n",
            "knock knock Saurav\n",
            "knock knock Saurav\n"
          ]
        }
      ]
    },
    {
      "cell_type": "code",
      "source": [
        "def sheldon_greets():\n",
        "    name = input('name of the person: ')\n",
        "    print(\"knock knock\", name)\n",
        "    print(\"knock knock\", name)\n",
        "    print(\"knock knock\", name)"
      ],
      "metadata": {
        "id": "2NNT__kBetGs"
      },
      "execution_count": 13,
      "outputs": []
    },
    {
      "cell_type": "code",
      "source": [
        "sheldon_greets()"
      ],
      "metadata": {
        "colab": {
          "base_uri": "https://localhost:8080/"
        },
        "id": "mAkApL4sew5Q",
        "outputId": "97e534c5-d10d-4576-df3d-53574a775088"
      },
      "execution_count": 14,
      "outputs": [
        {
          "output_type": "stream",
          "name": "stdout",
          "text": [
            "name of the person: priyanka\n",
            "knock knock priyanka\n",
            "knock knock priyanka\n",
            "knock knock priyanka\n"
          ]
        }
      ]
    },
    {
      "cell_type": "code",
      "source": [
        "# arguments"
      ],
      "metadata": {
        "id": "y5TSOwduexQZ"
      },
      "execution_count": 15,
      "outputs": []
    },
    {
      "cell_type": "code",
      "source": [
        "def sheldon_greets(name):\n",
        "    print(\"knock knock\", name)\n",
        "    print(\"knock knock\", name)\n",
        "    print(\"knock knock\", name)"
      ],
      "metadata": {
        "id": "fLKMA6MqfCYK"
      },
      "execution_count": 16,
      "outputs": []
    },
    {
      "cell_type": "code",
      "source": [
        "sheldon_greets('Gajanan')"
      ],
      "metadata": {
        "colab": {
          "base_uri": "https://localhost:8080/"
        },
        "id": "aBUz6vAffJVZ",
        "outputId": "ca576525-a288-4a76-e230-0ed28583eb14"
      },
      "execution_count": 17,
      "outputs": [
        {
          "output_type": "stream",
          "name": "stdout",
          "text": [
            "knock knock Gajanan\n",
            "knock knock Gajanan\n",
            "knock knock Gajanan\n"
          ]
        }
      ]
    },
    {
      "cell_type": "code",
      "source": [
        "sheldon_greets('Rukmani')"
      ],
      "metadata": {
        "colab": {
          "base_uri": "https://localhost:8080/"
        },
        "id": "PPt_3nTOfP6l",
        "outputId": "14415471-20e0-4c0e-ff8e-96bd13bfcc17"
      },
      "execution_count": 18,
      "outputs": [
        {
          "output_type": "stream",
          "name": "stdout",
          "text": [
            "knock knock Rukmani\n",
            "knock knock Rukmani\n",
            "knock knock Rukmani\n"
          ]
        }
      ]
    },
    {
      "cell_type": "code",
      "source": [
        "# documenting a function>> doc strings\n",
        "def propose(name):\n",
        "    '''\n",
        "    This is a function that will ask a user/ propose a user\n",
        "    whether they want to marry you\n",
        "    Be careful 😂🤣\n",
        "\n",
        "    Expects one input and that is the name of the person being proposed\n",
        "    '''\n",
        "    print('Will you marry me', name)"
      ],
      "metadata": {
        "id": "GLldTESEfUvI"
      },
      "execution_count": 19,
      "outputs": []
    },
    {
      "cell_type": "code",
      "source": [
        "help(propose)"
      ],
      "metadata": {
        "colab": {
          "base_uri": "https://localhost:8080/"
        },
        "id": "z_U6WZvkg4Jx",
        "outputId": "586e5198-8bb7-4ac6-a928-15056fcd8cf4"
      },
      "execution_count": 20,
      "outputs": [
        {
          "output_type": "stream",
          "name": "stdout",
          "text": [
            "Help on function propose in module __main__:\n",
            "\n",
            "propose(name)\n",
            "    This is a function that will ask a user/ propose a user\n",
            "    whether they want to marry you\n",
            "    Be careful 😂🤣\n",
            "    \n",
            "    Expects one input and that is the name of the person being proposed\n",
            "\n"
          ]
        }
      ]
    },
    {
      "cell_type": "code",
      "source": [
        "propose('Python')"
      ],
      "metadata": {
        "colab": {
          "base_uri": "https://localhost:8080/"
        },
        "id": "wERqNjHeg-cn",
        "outputId": "febab71e-5213-49df-e8c1-78dddf263414"
      },
      "execution_count": 21,
      "outputs": [
        {
          "output_type": "stream",
          "name": "stdout",
          "text": [
            "Will you marry me Python\n"
          ]
        }
      ]
    },
    {
      "cell_type": "code",
      "source": [
        "# documenting a function>> doc strings\n",
        "def propose(name):\n",
        "    '''\n",
        "    This is a function that will ask a user/ propose a user\n",
        "    whether they want to marry you\n",
        "    Be careful 😂🤣\n",
        "\n",
        "    Expects one input and that is the name of the person being proposed\n",
        "    '''\n",
        "    print(type(name))\n",
        "    print('Will you marry me', name)\n",
        "propose('Python')\n",
        "propose(12345)\n",
        "propose(True)"
      ],
      "metadata": {
        "colab": {
          "base_uri": "https://localhost:8080/"
        },
        "id": "2Na5p40bg_gZ",
        "outputId": "3216420f-ea54-4fd1-8edb-1fb85647d9bf"
      },
      "execution_count": 24,
      "outputs": [
        {
          "output_type": "stream",
          "name": "stdout",
          "text": [
            "<class 'str'>\n",
            "Will you marry me Python\n",
            "<class 'int'>\n",
            "Will you marry me 12345\n",
            "<class 'bool'>\n",
            "Will you marry me True\n"
          ]
        }
      ]
    },
    {
      "cell_type": "code",
      "source": [
        "print(type(propose))"
      ],
      "metadata": {
        "colab": {
          "base_uri": "https://localhost:8080/"
        },
        "id": "LK13ZKsPif6J",
        "outputId": "4213695b-48bc-4a13-90f1-6f5828b5ee4d"
      },
      "execution_count": 26,
      "outputs": [
        {
          "output_type": "stream",
          "name": "stdout",
          "text": [
            "<class 'function'>\n"
          ]
        }
      ]
    },
    {
      "cell_type": "code",
      "source": [
        "a = 5"
      ],
      "metadata": {
        "id": "Af_cP4g1hZ9_"
      },
      "execution_count": 25,
      "outputs": []
    },
    {
      "cell_type": "code",
      "source": [
        "# input()\n",
        "num = input('Give me num: ')\n",
        "# print()\n",
        "print(num)"
      ],
      "metadata": {
        "colab": {
          "base_uri": "https://localhost:8080/"
        },
        "id": "pARU8xgJizoo",
        "outputId": "35583156-0593-4c42-966c-9e15d117cb4c"
      },
      "execution_count": 27,
      "outputs": [
        {
          "output_type": "stream",
          "name": "stdout",
          "text": [
            "Give me num: 123\n",
            "123\n"
          ]
        }
      ]
    },
    {
      "cell_type": "code",
      "source": [
        "output_of_print = print(num)\n",
        "print(output_of_print)"
      ],
      "metadata": {
        "colab": {
          "base_uri": "https://localhost:8080/"
        },
        "id": "dpBwqomUjPk2",
        "outputId": "ccb25170-b051-4f7e-e5f2-c465d7b19353"
      },
      "execution_count": 28,
      "outputs": [
        {
          "output_type": "stream",
          "name": "stdout",
          "text": [
            "123\n",
            "None\n"
          ]
        }
      ]
    },
    {
      "cell_type": "code",
      "source": [
        "# arggggggguuummments\n",
        "def propose(name):\n",
        "    '''\n",
        "    This is a function that will ask a user/ propose a user\n",
        "    whether they want to marry you\n",
        "    Be careful 😂🤣\n",
        "\n",
        "    Expects one input and that is the name of the person being proposed\n",
        "    '''\n",
        "    print('Will you marry me', name)"
      ],
      "metadata": {
        "id": "t3WenZ1NjsIi"
      },
      "execution_count": 30,
      "outputs": []
    },
    {
      "cell_type": "code",
      "source": [
        "propose('😎')"
      ],
      "metadata": {
        "colab": {
          "base_uri": "https://localhost:8080/"
        },
        "id": "aRn7VEqCjuzZ",
        "outputId": "7195845e-e52e-443d-fb48-5370f9b06340"
      },
      "execution_count": 31,
      "outputs": [
        {
          "output_type": "stream",
          "name": "stdout",
          "text": [
            "Will you marry me 😎\n"
          ]
        }
      ]
    },
    {
      "cell_type": "code",
      "source": [
        "propose()"
      ],
      "metadata": {
        "colab": {
          "base_uri": "https://localhost:8080/",
          "height": 176
        },
        "id": "Yz-kUX9lj6Xu",
        "outputId": "c6a74f95-db93-45f9-dbf0-2d21e8e847d7"
      },
      "execution_count": 32,
      "outputs": [
        {
          "output_type": "error",
          "ename": "TypeError",
          "evalue": "ignored",
          "traceback": [
            "\u001b[0;31m---------------------------------------------------------------------------\u001b[0m",
            "\u001b[0;31mTypeError\u001b[0m                                 Traceback (most recent call last)",
            "\u001b[0;32m<ipython-input-32-dd204323160e>\u001b[0m in \u001b[0;36m<cell line: 1>\u001b[0;34m()\u001b[0m\n\u001b[0;32m----> 1\u001b[0;31m \u001b[0mpropose\u001b[0m\u001b[0;34m(\u001b[0m\u001b[0;34m)\u001b[0m\u001b[0;34m\u001b[0m\u001b[0;34m\u001b[0m\u001b[0m\n\u001b[0m",
            "\u001b[0;31mTypeError\u001b[0m: propose() missing 1 required positional argument: 'name'"
          ]
        }
      ]
    },
    {
      "cell_type": "code",
      "source": [
        "def factorial(n):\n",
        "    result = 1\n",
        "    while n > 0:\n",
        "        result *= n\n",
        "        n -= 1\n",
        "print(factorial(5))"
      ],
      "metadata": {
        "colab": {
          "base_uri": "https://localhost:8080/"
        },
        "id": "Ff5H3r_aj9sf",
        "outputId": "58666b75-1ee0-4041-bc0d-260e3830d27d"
      },
      "execution_count": 33,
      "outputs": [
        {
          "output_type": "stream",
          "name": "stdout",
          "text": [
            "None\n"
          ]
        }
      ]
    },
    {
      "cell_type": "code",
      "source": [
        "# positional arguments >> position matters\n",
        "def greet_the_family(mother, father, brother):\n",
        "    print(\"Touch the 🐾 Hello\", mother)\n",
        "    print(\"Touch the 👟 Hello\", father)\n",
        "    print(\"🙌\", brother)\n",
        "\n",
        "greet_the_family('Shakira', 'Tom Cruise', 'Salman Bhai')"
      ],
      "metadata": {
        "colab": {
          "base_uri": "https://localhost:8080/"
        },
        "id": "9YfggeMhkzHZ",
        "outputId": "9519ff06-cb73-4589-9fe0-f6724b3a051a"
      },
      "execution_count": 35,
      "outputs": [
        {
          "output_type": "stream",
          "name": "stdout",
          "text": [
            "Touch the 🐾 Hello Shakira\n",
            "Touch the 👟 Hello Tom Cruise\n",
            "🙌 Salman Bhai\n"
          ]
        }
      ]
    },
    {
      "cell_type": "code",
      "source": [
        "greet_the_family('Salman Bhai', 'Tom Cruise', 'Shakira')"
      ],
      "metadata": {
        "colab": {
          "base_uri": "https://localhost:8080/"
        },
        "id": "MfRTcY39l8tD",
        "outputId": "392dc080-51ab-451f-828b-17786fc53d89"
      },
      "execution_count": 36,
      "outputs": [
        {
          "output_type": "stream",
          "name": "stdout",
          "text": [
            "Touch the 🐾 Hello Salman Bhai\n",
            "Touch the 👟 Hello Tom Cruise\n",
            "🙌 Shakira\n"
          ]
        }
      ]
    },
    {
      "cell_type": "code",
      "source": [
        "greet_the_family('Salman Bhai', 'Tom Cruise', 'Shakira', 'Scooby')"
      ],
      "metadata": {
        "colab": {
          "base_uri": "https://localhost:8080/",
          "height": 176
        },
        "id": "eCbKFvLFmDR1",
        "outputId": "90ca98a1-e3a6-47f8-f272-190dbf7616f0"
      },
      "execution_count": 37,
      "outputs": [
        {
          "output_type": "error",
          "ename": "TypeError",
          "evalue": "ignored",
          "traceback": [
            "\u001b[0;31m---------------------------------------------------------------------------\u001b[0m",
            "\u001b[0;31mTypeError\u001b[0m                                 Traceback (most recent call last)",
            "\u001b[0;32m<ipython-input-37-4016dea65ad0>\u001b[0m in \u001b[0;36m<cell line: 1>\u001b[0;34m()\u001b[0m\n\u001b[0;32m----> 1\u001b[0;31m \u001b[0mgreet_the_family\u001b[0m\u001b[0;34m(\u001b[0m\u001b[0;34m'Salman Bhai'\u001b[0m\u001b[0;34m,\u001b[0m \u001b[0;34m'Tom Cruise'\u001b[0m\u001b[0;34m,\u001b[0m \u001b[0;34m'Shakira'\u001b[0m\u001b[0;34m,\u001b[0m \u001b[0;34m'Scooby'\u001b[0m\u001b[0;34m)\u001b[0m\u001b[0;34m\u001b[0m\u001b[0;34m\u001b[0m\u001b[0m\n\u001b[0m",
            "\u001b[0;31mTypeError\u001b[0m: greet_the_family() takes 3 positional arguments but 4 were given"
          ]
        }
      ]
    },
    {
      "cell_type": "code",
      "source": [
        "greet_the_family('Salman Bhai', 'Tom Cruise',)"
      ],
      "metadata": {
        "colab": {
          "base_uri": "https://localhost:8080/",
          "height": 176
        },
        "id": "0NQx9I8qmUzs",
        "outputId": "f38f5ca8-17b2-4dc6-ed9a-6590917ea1c5"
      },
      "execution_count": 38,
      "outputs": [
        {
          "output_type": "error",
          "ename": "TypeError",
          "evalue": "ignored",
          "traceback": [
            "\u001b[0;31m---------------------------------------------------------------------------\u001b[0m",
            "\u001b[0;31mTypeError\u001b[0m                                 Traceback (most recent call last)",
            "\u001b[0;32m<ipython-input-38-7e3483037fe5>\u001b[0m in \u001b[0;36m<cell line: 1>\u001b[0;34m()\u001b[0m\n\u001b[0;32m----> 1\u001b[0;31m \u001b[0mgreet_the_family\u001b[0m\u001b[0;34m(\u001b[0m\u001b[0;34m'Salman Bhai'\u001b[0m\u001b[0;34m,\u001b[0m \u001b[0;34m'Tom Cruise'\u001b[0m\u001b[0;34m,\u001b[0m\u001b[0;34m)\u001b[0m\u001b[0;34m\u001b[0m\u001b[0;34m\u001b[0m\u001b[0m\n\u001b[0m",
            "\u001b[0;31mTypeError\u001b[0m: greet_the_family() missing 1 required positional argument: 'brother'"
          ]
        }
      ]
    },
    {
      "cell_type": "code",
      "source": [
        "# using docstrings\n",
        "def greet_the_family(mother, father, brother):\n",
        "    \"\"\"\n",
        "        this is the main step\n",
        "        you are meeting the family 😨\n",
        "        you should know the names of teh family members 💡\n",
        "\n",
        "            1 mother name\n",
        "            2 father name\n",
        "            3 brother name\n",
        "    \"\"\"\n",
        "    print(\"Touch the 🐾 Hello\", mother)\n",
        "    print(\"Touch the 👟 Hello\", father)\n",
        "    print(\"🙌\", brother)"
      ],
      "metadata": {
        "id": "MB_LgAdfmY38"
      },
      "execution_count": 39,
      "outputs": []
    },
    {
      "cell_type": "code",
      "source": [
        "help(greet_the_family)"
      ],
      "metadata": {
        "colab": {
          "base_uri": "https://localhost:8080/"
        },
        "id": "YhW7wrUzm1ac",
        "outputId": "be95cc68-b97f-417b-bf9f-affc114f5c5b"
      },
      "execution_count": 40,
      "outputs": [
        {
          "output_type": "stream",
          "name": "stdout",
          "text": [
            "Help on function greet_the_family in module __main__:\n",
            "\n",
            "greet_the_family(mother, father, brother)\n",
            "    this is the main step\n",
            "    you are meeting the family 😨\n",
            "    you should know the names of teh family members 💡\n",
            "    \n",
            "        1 mother name\n",
            "        2 father name\n",
            "        3 brother name\n",
            "\n"
          ]
        }
      ]
    },
    {
      "cell_type": "code",
      "source": [
        "# input()\n",
        "num = input('Give me num: ')\n",
        "# print()\n",
        "print(num)\n",
        "\n",
        "\n",
        "output_of_print = print(num)\n",
        "print(output_of_print)"
      ],
      "metadata": {
        "colab": {
          "base_uri": "https://localhost:8080/"
        },
        "id": "cCFS7LVNpn_g",
        "outputId": "23a93c04-641d-4009-80c3-e8a3bfb73997"
      },
      "execution_count": 41,
      "outputs": [
        {
          "output_type": "stream",
          "name": "stdout",
          "text": [
            "Give me num: 123\n",
            "123\n",
            "123\n",
            "None\n"
          ]
        }
      ]
    },
    {
      "cell_type": "code",
      "source": [
        "def add_3_nums(a,b,c):\n",
        "    total = a+b+c\n",
        "    print(total)\n",
        "add_3_nums(1,2,3)"
      ],
      "metadata": {
        "colab": {
          "base_uri": "https://localhost:8080/"
        },
        "id": "pQ7d1lp3p1Nb",
        "outputId": "6e4715df-e9df-48b6-a26e-8257eab39549"
      },
      "execution_count": 42,
      "outputs": [
        {
          "output_type": "stream",
          "name": "stdout",
          "text": [
            "6\n"
          ]
        }
      ]
    },
    {
      "cell_type": "code",
      "source": [
        "def add_3_nums(a,b,c):\n",
        "    total = a+b+c\n",
        "    print(total)\n",
        "output_of_add_3_nums = add_3_nums(1,2,3)\n",
        "print(\"The function gave me:\", output_of_add_3_nums)"
      ],
      "metadata": {
        "colab": {
          "base_uri": "https://localhost:8080/"
        },
        "id": "jf_4Lh0Up8yh",
        "outputId": "239146d6-3337-4d99-d294-1fc8a94710ff"
      },
      "execution_count": 45,
      "outputs": [
        {
          "output_type": "stream",
          "name": "stdout",
          "text": [
            "6\n",
            "The function gave me: None\n"
          ]
        }
      ]
    },
    {
      "cell_type": "code",
      "source": [
        "def add_3_nums(a,b,c):\n",
        "    total = a+b+c\n",
        "    print(total)\n",
        "    return total\n",
        "output_of_add_3_nums = add_3_nums(1,2,3)\n",
        "print(\"The function gave me:\", output_of_add_3_nums)"
      ],
      "metadata": {
        "colab": {
          "base_uri": "https://localhost:8080/"
        },
        "id": "vZedf3qJqIzg",
        "outputId": "cbff31c5-eceb-49cb-e95a-acee2a6309df"
      },
      "execution_count": 46,
      "outputs": [
        {
          "output_type": "stream",
          "name": "stdout",
          "text": [
            "6\n",
            "The function gave me: 6\n"
          ]
        }
      ]
    },
    {
      "cell_type": "code",
      "source": [
        "# when you run a function\n",
        "# it may or may not have a return statement\n",
        "\n",
        "# you can have as many return statements you want\n",
        "\n",
        "# once the retrn statement is executed you leave the function with the output"
      ],
      "metadata": {
        "id": "2RnPWpDeqYLG"
      },
      "execution_count": null,
      "outputs": []
    },
    {
      "cell_type": "code",
      "source": [
        "def add_3_nums(a,b,c):\n",
        "    total = a+b+c\n",
        "    print(total)\n",
        "    return total\n",
        "    print('After the return ') # not triggered\n",
        "output_of_add_3_nums = add_3_nums(1,2,3)\n",
        "print(\"The function gave me:\", output_of_add_3_nums)"
      ],
      "metadata": {
        "colab": {
          "base_uri": "https://localhost:8080/"
        },
        "id": "YdrdtYVGqorg",
        "outputId": "584acc0d-598d-46d4-f882-c38beedc30c8"
      },
      "execution_count": 47,
      "outputs": [
        {
          "output_type": "stream",
          "name": "stdout",
          "text": [
            "6\n",
            "The function gave me: 6\n"
          ]
        }
      ]
    },
    {
      "cell_type": "code",
      "source": [
        "def add_3_nums(a,b,c):\n",
        "    total = a+b+c\n",
        "    print(total)\n",
        "    return total\n",
        "    return total+1\n",
        "    return total+2\n",
        "    return total+3\n",
        "    print('After the return ')\n",
        "output_of_add_3_nums = add_3_nums(1,2,3)\n",
        "print(\"The function gave me:\", output_of_add_3_nums)"
      ],
      "metadata": {
        "colab": {
          "base_uri": "https://localhost:8080/"
        },
        "id": "VjY8gal5qyLV",
        "outputId": "da50c7ac-3f06-46c4-fe83-02b3caf85907"
      },
      "execution_count": 48,
      "outputs": [
        {
          "output_type": "stream",
          "name": "stdout",
          "text": [
            "6\n",
            "The function gave me: 6\n"
          ]
        }
      ]
    },
    {
      "cell_type": "code",
      "source": [
        "def is_multitple(num):\n",
        "    if num%2==0:\n",
        "        return 2\n",
        "    elif num%3==0:\n",
        "        return 3\n",
        "    else:\n",
        "        return \"Not multiple of 2 and 3\"\n",
        "for i in range(10):\n",
        "    print(i, is_multitple(i))"
      ],
      "metadata": {
        "colab": {
          "base_uri": "https://localhost:8080/"
        },
        "id": "JTzRmlYmroKs",
        "outputId": "d7e2d542-46a2-4e41-e556-2c4b7cfeab1f"
      },
      "execution_count": 49,
      "outputs": [
        {
          "output_type": "stream",
          "name": "stdout",
          "text": [
            "0 2\n",
            "1 Not multiple of 2 and 3\n",
            "2 2\n",
            "3 3\n",
            "4 2\n",
            "5 Not multiple of 2 and 3\n",
            "6 2\n",
            "7 Not multiple of 2 and 3\n",
            "8 2\n",
            "9 3\n"
          ]
        }
      ]
    },
    {
      "cell_type": "code",
      "source": [
        "def do_something(n):\n",
        "    total = 0\n",
        "    i = 1\n",
        "    while i <= n:\n",
        "        total += i\n",
        "        i += 1\n",
        "    return total\n",
        "\n",
        "print(do_something(5))"
      ],
      "metadata": {
        "colab": {
          "base_uri": "https://localhost:8080/"
        },
        "id": "0hgIELf1r7TA",
        "outputId": "b0c5d3d8-cee3-4cf7-a474-26f2f7af2d08"
      },
      "execution_count": 50,
      "outputs": [
        {
          "output_type": "stream",
          "name": "stdout",
          "text": [
            "15\n"
          ]
        }
      ]
    },
    {
      "cell_type": "code",
      "source": [
        "def foo(n):\n",
        "    print(n)\n",
        "\n",
        "print(foo(5))"
      ],
      "metadata": {
        "colab": {
          "base_uri": "https://localhost:8080/"
        },
        "id": "bVlRZx0Ws8Wr",
        "outputId": "8225a369-2b80-440e-8ec4-98781fa2cc4f"
      },
      "execution_count": 51,
      "outputs": [
        {
          "output_type": "stream",
          "name": "stdout",
          "text": [
            "5\n",
            "None\n"
          ]
        }
      ]
    },
    {
      "cell_type": "code",
      "source": [
        "# https://pythontutor.com/render.html#mode=edit"
      ],
      "metadata": {
        "id": "G-jTe-_wtS6t"
      },
      "execution_count": null,
      "outputs": []
    },
    {
      "cell_type": "code",
      "source": [
        "# doubt\n",
        "# Rukmani Selvaraj\n",
        "# Hi\n",
        "# while trying to solve this problem - how to count digits after decimal? getting this weird output\n",
        "# my code is\n",
        "count=0\n",
        "n=0.12345\n",
        "while True:\n",
        "    n=n*10\n",
        "    count=count+1\n",
        "    print(n,count)\n",
        "    if(n-int(n)==0):\n",
        "        break\n",
        "print(count)"
      ],
      "metadata": {
        "colab": {
          "base_uri": "https://localhost:8080/"
        },
        "id": "2bZ4w34huOtn",
        "outputId": "b46a1315-e899-487a-9ee3-8760592218f6"
      },
      "execution_count": 52,
      "outputs": [
        {
          "output_type": "stream",
          "name": "stdout",
          "text": [
            "1.2345000000000002 1\n",
            "12.345000000000002 2\n",
            "123.45000000000002 3\n",
            "1234.5000000000002 4\n",
            "12345.000000000002 5\n",
            "123450.00000000001 6\n",
            "1234500.0000000002 7\n",
            "12345000.000000002 8\n",
            "123450000.00000001 9\n",
            "1234500000.0000002 10\n",
            "12345000000.000002 11\n",
            "123450000000.00002 12\n",
            "1234500000000.0002 13\n",
            "12345000000000.002 14\n",
            "123450000000000.02 15\n",
            "1234500000000000.2 16\n",
            "1.2345000000000002e+16 17\n",
            "17\n"
          ]
        }
      ]
    },
    {
      "cell_type": "code",
      "source": [
        "1. == 1.00000000000000000000000000000000000000000000000000000000000000000001"
      ],
      "metadata": {
        "colab": {
          "base_uri": "https://localhost:8080/"
        },
        "id": "hhOSnKf-umZO",
        "outputId": "861c8dd7-3fc3-446b-9c7a-979f7370a60b"
      },
      "execution_count": 54,
      "outputs": [
        {
          "output_type": "execute_result",
          "data": {
            "text/plain": [
              "True"
            ]
          },
          "metadata": {},
          "execution_count": 54
        }
      ]
    },
    {
      "cell_type": "code",
      "source": [],
      "metadata": {
        "id": "FEOqHeAWu8l-"
      },
      "execution_count": null,
      "outputs": []
    }
  ]
}