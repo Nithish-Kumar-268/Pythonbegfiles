{
  "nbformat": 4,
  "nbformat_minor": 0,
  "metadata": {
    "colab": {
      "provenance": [],
      "authorship_tag": "ABX9TyOmXdAdF4bOJ/A8qPvgpMBt",
      "include_colab_link": true
    },
    "kernelspec": {
      "name": "python3",
      "display_name": "Python 3"
    },
    "language_info": {
      "name": "python"
    }
  },
  "cells": [
    {
      "cell_type": "markdown",
      "metadata": {
        "id": "view-in-github",
        "colab_type": "text"
      },
      "source": [
        "<a href=\"https://colab.research.google.com/gist/singhsidhukuldeep/a34be9eda3e90d6484349dc0d2bb0d69/beginner-data-types-20th-september-2023.ipynb\" target=\"_parent\"><img src=\"https://colab.research.google.com/assets/colab-badge.svg\" alt=\"Open In Colab\"/></a>"
      ]
    },
    {
      "cell_type": "markdown",
      "source": [
        "<center>\n",
        "\n",
        "# Beginner : Data Types - 20th September 2023\n",
        "\n",
        "<img src=\"https://i.giphy.com/media/KAq5w47R9rmTuvWOWa/giphy.webp\" width=\"20%\" >\n",
        "\n",
        "NEW! Most Popular Programming Languages 1965 - 2022: https://youtu.be/qQXXI5QFUfw\n",
        "\n",
        "</center>"
      ],
      "metadata": {
        "id": "qJPPnHWSLh6r"
      }
    },
    {
      "cell_type": "code",
      "source": [
        "print(\"Welcome back 😎\")"
      ],
      "metadata": {
        "id": "vgM6Q6CtMKjy",
        "colab": {
          "base_uri": "https://localhost:8080/"
        },
        "outputId": "dbb2e389-2b3a-4166-e0e3-40bb52b43fc4"
      },
      "execution_count": null,
      "outputs": [
        {
          "output_type": "stream",
          "name": "stdout",
          "text": [
            "Welcome back 😎\n"
          ]
        }
      ]
    },
    {
      "cell_type": "code",
      "source": [
        "# recap #"
      ],
      "metadata": {
        "id": "HwT9VQigSWoO"
      },
      "execution_count": null,
      "outputs": []
    },
    {
      "cell_type": "code",
      "source": [
        "print(\"print is a function that is useful to display output on screen\")"
      ],
      "metadata": {
        "colab": {
          "base_uri": "https://localhost:8080/"
        },
        "id": "EaLxZvHnSXyE",
        "outputId": "db9f990c-71d3-467e-c71f-d84b6fbc9cb0"
      },
      "execution_count": null,
      "outputs": [
        {
          "output_type": "stream",
          "name": "stdout",
          "text": [
            "print is a function that is useful to display output on screen\n"
          ]
        }
      ]
    },
    {
      "cell_type": "code",
      "source": [
        "# python is GREAT 🙌\n",
        "# 1: is case sensitive\n",
        "# 2: is precisely typed"
      ],
      "metadata": {
        "id": "aaZUROAIUmQh"
      },
      "execution_count": null,
      "outputs": []
    },
    {
      "cell_type": "code",
      "source": [
        "print(\"this is a str that will be printed on screen\")\n",
        "print('this is a str that will be printed on screen')\n",
        "print(\"\"\"this\n",
        "is a str that\n",
        "will be printed\n",
        "on screen\"\"\")\n",
        "print('''this is a str that\n",
        "will be printed on screen''')"
      ],
      "metadata": {
        "colab": {
          "base_uri": "https://localhost:8080/"
        },
        "id": "4dAu5yB8SfkE",
        "outputId": "0a079a61-ddd7-42c5-aaa3-1d219250783e"
      },
      "execution_count": null,
      "outputs": [
        {
          "output_type": "stream",
          "name": "stdout",
          "text": [
            "this is a str that will be printed on screen\n",
            "this is a str that will be printed on screen\n",
            "this \n",
            "is a str that \n",
            "will be printed \n",
            "on screen\n",
            "this is a str that \n",
            "will be printed on screen\n"
          ]
        }
      ]
    },
    {
      "cell_type": "code",
      "source": [
        "# print(\"this is a str that\n",
        "# will be printed on screen\")\n",
        "print('this is a str that\n",
        "will be printed on screen')"
      ],
      "metadata": {
        "colab": {
          "base_uri": "https://localhost:8080/",
          "height": 142
        },
        "id": "1DMa98J-SwfF",
        "outputId": "3a636a02-5a22-4d70-d0e2-ffe3839f3d14"
      },
      "execution_count": null,
      "outputs": [
        {
          "output_type": "error",
          "ename": "SyntaxError",
          "evalue": "ignored",
          "traceback": [
            "\u001b[0;36m  File \u001b[0;32m\"<ipython-input-6-378a66cfb430>\"\u001b[0;36m, line \u001b[0;32m3\u001b[0m\n\u001b[0;31m    print('this is a str that\u001b[0m\n\u001b[0m          ^\u001b[0m\n\u001b[0;31mSyntaxError\u001b[0m\u001b[0;31m:\u001b[0m unterminated string literal (detected at line 3)\n"
          ]
        }
      ]
    },
    {
      "cell_type": "code",
      "source": [
        "print(type('''this is a str that\n",
        "will be printed on screen'''))"
      ],
      "metadata": {
        "colab": {
          "base_uri": "https://localhost:8080/"
        },
        "id": "HTJ-Z7jsS0TD",
        "outputId": "04b1bf6a-5520-4fbb-8330-80cec1bd6721"
      },
      "execution_count": null,
      "outputs": [
        {
          "output_type": "stream",
          "name": "stdout",
          "text": [
            "<class 'str'>\n"
          ]
        }
      ]
    },
    {
      "cell_type": "code",
      "source": [
        "# 5 data types >> # str, int, float, bool, none"
      ],
      "metadata": {
        "id": "pUcVRZ5mTAOE"
      },
      "execution_count": null,
      "outputs": []
    },
    {
      "cell_type": "code",
      "source": [
        "# str\n",
        "print(\"this is a str that will be printed on screen\")\n",
        "print('this is a str that will be printed on screen')\n",
        "print(\"\"\"this\n",
        "is a str that\n",
        "will be printed\n",
        "on screen\"\"\")\n",
        "print('''this is a str that\n",
        "will be printed on screen''')"
      ],
      "metadata": {
        "colab": {
          "base_uri": "https://localhost:8080/"
        },
        "id": "dSz3kf9yTEnL",
        "outputId": "d0370c62-ca35-4509-86bd-48b6bac2b567"
      },
      "execution_count": null,
      "outputs": [
        {
          "output_type": "stream",
          "name": "stdout",
          "text": [
            "this is a str that will be printed on screen\n",
            "this is a str that will be printed on screen\n",
            "this \n",
            "is a str that \n",
            "will be printed \n",
            "on screen\n",
            "this is a str that \n",
            "will be printed on screen\n"
          ]
        }
      ]
    },
    {
      "cell_type": "code",
      "source": [
        "# numbers\n",
        "## int\n",
        "print(-1,0,1)\n",
        "print(type(-1),type(0),type(1))\n",
        "## float\n",
        "print(-1.123,0.456,1.0)\n",
        "print(type(-1.123),type(0.456),type(1.0))"
      ],
      "metadata": {
        "colab": {
          "base_uri": "https://localhost:8080/"
        },
        "id": "ZAnyx3xhTK2z",
        "outputId": "2c5b3586-86c0-4282-eaa4-475f98a05fdf"
      },
      "execution_count": null,
      "outputs": [
        {
          "output_type": "stream",
          "name": "stdout",
          "text": [
            "-1 0 1\n",
            "<class 'int'> <class 'int'> <class 'int'>\n",
            "-1.123 0.456 1.0\n",
            "<class 'float'> <class 'float'> <class 'float'>\n"
          ]
        }
      ]
    },
    {
      "cell_type": "code",
      "source": [
        "# bool\n",
        "print(True)\n",
        "print(False)"
      ],
      "metadata": {
        "colab": {
          "base_uri": "https://localhost:8080/"
        },
        "id": "ACXBM3IZTPDr",
        "outputId": "008e27de-7b48-44fb-8cdd-ee9299d13bdd"
      },
      "execution_count": null,
      "outputs": [
        {
          "output_type": "stream",
          "name": "stdout",
          "text": [
            "True\n",
            "False\n"
          ]
        }
      ]
    },
    {
      "cell_type": "code",
      "source": [
        "print(false)"
      ],
      "metadata": {
        "colab": {
          "base_uri": "https://localhost:8080/",
          "height": 176
        },
        "id": "l26Rz5Q_Ufg9",
        "outputId": "73576322-8707-40df-d4a6-baeebc1ec574"
      },
      "execution_count": null,
      "outputs": [
        {
          "output_type": "error",
          "ename": "NameError",
          "evalue": "ignored",
          "traceback": [
            "\u001b[0;31m---------------------------------------------------------------------------\u001b[0m",
            "\u001b[0;31mNameError\u001b[0m                                 Traceback (most recent call last)",
            "\u001b[0;32m<ipython-input-14-1c75371a149b>\u001b[0m in \u001b[0;36m<cell line: 1>\u001b[0;34m()\u001b[0m\n\u001b[0;32m----> 1\u001b[0;31m \u001b[0mprint\u001b[0m\u001b[0;34m(\u001b[0m\u001b[0mfalse\u001b[0m\u001b[0;34m)\u001b[0m\u001b[0;34m\u001b[0m\u001b[0;34m\u001b[0m\u001b[0m\n\u001b[0m",
            "\u001b[0;31mNameError\u001b[0m: name 'false' is not defined"
          ]
        }
      ]
    },
    {
      "cell_type": "code",
      "source": [
        "# None\n",
        "print(None)"
      ],
      "metadata": {
        "colab": {
          "base_uri": "https://localhost:8080/"
        },
        "id": "EmpJaS32UuNh",
        "outputId": "5e0c1f1a-99b8-45e1-b02a-96ad5259e932"
      },
      "execution_count": null,
      "outputs": [
        {
          "output_type": "stream",
          "name": "stdout",
          "text": [
            "None\n"
          ]
        }
      ]
    },
    {
      "cell_type": "code",
      "source": [
        "# I want to store\n",
        "# >> addhaar num>> str\n",
        "# >> bank bal >> float\n",
        "# >> age in years >> int\n",
        "# >> whether elephant is the BEST animal or not >> bool\n",
        "# >> people who say python is not great >> None"
      ],
      "metadata": {
        "id": "hcw4rBZQU4Aj"
      },
      "execution_count": null,
      "outputs": []
    },
    {
      "cell_type": "code",
      "source": [
        "# hack >>0-10 cents>>0.01$ to 0.10 $\n",
        "# 0.1*100_000_000>>$10_000_000"
      ],
      "metadata": {
        "id": "q_bMYvHMVbBA"
      },
      "execution_count": null,
      "outputs": []
    },
    {
      "cell_type": "code",
      "source": [
        "# expressions\n",
        "# lhs = rhs\n",
        "# rhs will be processed first and will be stored in LHS\n",
        "my_var = 10\n",
        "print(my_var)\n",
        "print(type(my_var))"
      ],
      "metadata": {
        "colab": {
          "base_uri": "https://localhost:8080/"
        },
        "id": "8Pz2_FR5WMVY",
        "outputId": "844e0e3a-5e70-4380-8ba9-238b441fd14d"
      },
      "execution_count": null,
      "outputs": [
        {
          "output_type": "stream",
          "name": "stdout",
          "text": [
            "10\n",
            "<class 'int'>\n"
          ]
        }
      ]
    },
    {
      "cell_type": "code",
      "source": [
        "# varaiable names\n",
        "# no spaces\n",
        "# cannot start with numbers\n",
        "# no keyword\n",
        "# in general >> a-z, A-Z, 0-9, _\n",
        "# recommendation>> don't create var names that are popular functions"
      ],
      "metadata": {
        "id": "khvSmZB3WU0h"
      },
      "execution_count": null,
      "outputs": []
    },
    {
      "cell_type": "code",
      "source": [
        "# input function\n",
        "# gettting the input\n",
        "# IMP>> always treats absolutely everything as a str"
      ],
      "metadata": {
        "id": "3QgGAdb_W3Ma"
      },
      "execution_count": null,
      "outputs": []
    },
    {
      "cell_type": "code",
      "source": [
        "name = input(\"What is your name my friend 🙂: \")"
      ],
      "metadata": {
        "colab": {
          "base_uri": "https://localhost:8080/"
        },
        "id": "LX2Mb-rWXIdB",
        "outputId": "a4c12136-6679-4ba4-905a-168fe644832f"
      },
      "execution_count": null,
      "outputs": [
        {
          "name": "stdout",
          "output_type": "stream",
          "text": [
            "What is your name my friend 🙂: Ronaldo\n"
          ]
        }
      ]
    },
    {
      "cell_type": "code",
      "source": [
        "print(\"user entered:\", name)"
      ],
      "metadata": {
        "colab": {
          "base_uri": "https://localhost:8080/"
        },
        "id": "zfEPkuaEXT2l",
        "outputId": "9dad6877-3b3a-47f5-81d4-10995ee31926"
      },
      "execution_count": null,
      "outputs": [
        {
          "output_type": "stream",
          "name": "stdout",
          "text": [
            "user entered: Ronaldo\n"
          ]
        }
      ]
    },
    {
      "cell_type": "code",
      "source": [
        "print(int(\"1234\"))"
      ],
      "metadata": {
        "colab": {
          "base_uri": "https://localhost:8080/"
        },
        "id": "mmjcoM92XWMh",
        "outputId": "ffc3a5aa-34e7-4e38-8fcf-bfddfdb35098"
      },
      "execution_count": null,
      "outputs": [
        {
          "output_type": "stream",
          "name": "stdout",
          "text": [
            "1234\n"
          ]
        }
      ]
    },
    {
      "cell_type": "code",
      "source": [
        "print(str(1234))"
      ],
      "metadata": {
        "colab": {
          "base_uri": "https://localhost:8080/"
        },
        "id": "kWcEcACKYECx",
        "outputId": "6a7985f3-f906-45f0-ea9f-08f237c56656"
      },
      "execution_count": null,
      "outputs": [
        {
          "output_type": "stream",
          "name": "stdout",
          "text": [
            "1234\n"
          ]
        }
      ]
    },
    {
      "cell_type": "code",
      "source": [
        "print(float(\"12345.12345\"))"
      ],
      "metadata": {
        "colab": {
          "base_uri": "https://localhost:8080/"
        },
        "id": "6wsjpdETYHbg",
        "outputId": "b727b3bb-ac8e-41ee-d5f8-e185b1cc5c6e"
      },
      "execution_count": null,
      "outputs": [
        {
          "output_type": "stream",
          "name": "stdout",
          "text": [
            "12345.12345\n"
          ]
        }
      ]
    },
    {
      "cell_type": "code",
      "source": [
        "print(int(\"Ronaldo\"))"
      ],
      "metadata": {
        "colab": {
          "base_uri": "https://localhost:8080/",
          "height": 176
        },
        "id": "DjiXPztmYMVo",
        "outputId": "de17228e-9a29-4661-dc55-63bb215fc8c5"
      },
      "execution_count": null,
      "outputs": [
        {
          "output_type": "error",
          "ename": "ValueError",
          "evalue": "ignored",
          "traceback": [
            "\u001b[0;31m---------------------------------------------------------------------------\u001b[0m",
            "\u001b[0;31mValueError\u001b[0m                                Traceback (most recent call last)",
            "\u001b[0;32m<ipython-input-23-d39c07d917b0>\u001b[0m in \u001b[0;36m<cell line: 1>\u001b[0;34m()\u001b[0m\n\u001b[0;32m----> 1\u001b[0;31m \u001b[0mprint\u001b[0m\u001b[0;34m(\u001b[0m\u001b[0mint\u001b[0m\u001b[0;34m(\u001b[0m\u001b[0;34m\"Ronaldo\"\u001b[0m\u001b[0;34m)\u001b[0m\u001b[0;34m)\u001b[0m\u001b[0;34m\u001b[0m\u001b[0;34m\u001b[0m\u001b[0m\n\u001b[0m",
            "\u001b[0;31mValueError\u001b[0m: invalid literal for int() with base 10: 'Ronaldo'"
          ]
        }
      ]
    },
    {
      "cell_type": "code",
      "source": [
        "print(float(\"12345.12345\")) # str to float\n",
        "print(int(\"12345.12345\")) # float as str to int"
      ],
      "metadata": {
        "colab": {
          "base_uri": "https://localhost:8080/",
          "height": 211
        },
        "id": "1_6NtSciYTmB",
        "outputId": "ad862f18-43c4-40e8-e734-f8bd3bf2d459"
      },
      "execution_count": null,
      "outputs": [
        {
          "output_type": "stream",
          "name": "stdout",
          "text": [
            "12345.12345\n"
          ]
        },
        {
          "output_type": "error",
          "ename": "ValueError",
          "evalue": "ignored",
          "traceback": [
            "\u001b[0;31m---------------------------------------------------------------------------\u001b[0m",
            "\u001b[0;31mValueError\u001b[0m                                Traceback (most recent call last)",
            "\u001b[0;32m<ipython-input-24-51877690bc47>\u001b[0m in \u001b[0;36m<cell line: 2>\u001b[0;34m()\u001b[0m\n\u001b[1;32m      1\u001b[0m \u001b[0mprint\u001b[0m\u001b[0;34m(\u001b[0m\u001b[0mfloat\u001b[0m\u001b[0;34m(\u001b[0m\u001b[0;34m\"12345.12345\"\u001b[0m\u001b[0;34m)\u001b[0m\u001b[0;34m)\u001b[0m \u001b[0;31m# str to float\u001b[0m\u001b[0;34m\u001b[0m\u001b[0;34m\u001b[0m\u001b[0m\n\u001b[0;32m----> 2\u001b[0;31m \u001b[0mprint\u001b[0m\u001b[0;34m(\u001b[0m\u001b[0mint\u001b[0m\u001b[0;34m(\u001b[0m\u001b[0;34m\"12345.12345\"\u001b[0m\u001b[0;34m)\u001b[0m\u001b[0;34m)\u001b[0m \u001b[0;31m# float as str to int\u001b[0m\u001b[0;34m\u001b[0m\u001b[0;34m\u001b[0m\u001b[0m\n\u001b[0m",
            "\u001b[0;31mValueError\u001b[0m: invalid literal for int() with base 10: '12345.12345'"
          ]
        }
      ]
    },
    {
      "cell_type": "code",
      "source": [
        "print(int(12345.456789)) # float to int\n",
        "print(int(-12345.456789)) # float to int\n",
        "# not rounding off, throwing away the decimal values"
      ],
      "metadata": {
        "colab": {
          "base_uri": "https://localhost:8080/"
        },
        "id": "jAJNk6vGYZvw",
        "outputId": "039a2606-1699-467a-aacf-aacb55fd0ec8"
      },
      "execution_count": null,
      "outputs": [
        {
          "output_type": "stream",
          "name": "stdout",
          "text": [
            "12345\n",
            "-12345\n"
          ]
        }
      ]
    },
    {
      "cell_type": "code",
      "source": [
        "print(\"\"\"name\"\"\") # here name is not a var"
      ],
      "metadata": {
        "colab": {
          "base_uri": "https://localhost:8080/"
        },
        "id": "KN_aXe2rZDGH",
        "outputId": "7fcdce1f-a198-4978-c9a4-e887f42b7063"
      },
      "execution_count": null,
      "outputs": [
        {
          "output_type": "stream",
          "name": "stdout",
          "text": [
            "name\n"
          ]
        }
      ]
    },
    {
      "cell_type": "code",
      "source": [
        "name = \"Ronaldo\"\n",
        "age = 39\n",
        "height = 185.5\n",
        "isBetterThanMesi = True\n",
        "FIFA_trophies = None\n",
        "print(name, age, height, isBetterThanMesi, FIFA_trophies) # multiple output by seperating them with ,"
      ],
      "metadata": {
        "colab": {
          "base_uri": "https://localhost:8080/"
        },
        "id": "sj8RWehaYekn",
        "outputId": "60672587-7765-4998-ef3f-7e9c7f802551"
      },
      "execution_count": null,
      "outputs": [
        {
          "output_type": "stream",
          "name": "stdout",
          "text": [
            "Ronaldo 39 185.5 True None\n"
          ]
        }
      ]
    },
    {
      "cell_type": "code",
      "source": [
        "print(\"Ronaldo\", 39, 185.5, True, None)"
      ],
      "metadata": {
        "colab": {
          "base_uri": "https://localhost:8080/"
        },
        "id": "7cR3ac5TZjXO",
        "outputId": "623887d3-2812-4a52-9bdf-9e20d8ce64b8"
      },
      "execution_count": null,
      "outputs": [
        {
          "output_type": "stream",
          "name": "stdout",
          "text": [
            "Ronaldo 39 185.5 True None\n"
          ]
        }
      ]
    },
    {
      "cell_type": "code",
      "source": [
        "print(\"whoaaaa\")\n",
        "print(\"whaaaat?\")"
      ],
      "metadata": {
        "colab": {
          "base_uri": "https://localhost:8080/"
        },
        "id": "ouR-L5pqY9cA",
        "outputId": "e485c9f5-40fe-4118-93ec-15e598e01131"
      },
      "execution_count": null,
      "outputs": [
        {
          "output_type": "stream",
          "name": "stdout",
          "text": [
            "whoaaaa\n",
            "whaaaat?\n"
          ]
        }
      ]
    },
    {
      "cell_type": "code",
      "source": [
        "# sep >> if a single print is printing multiple data points(, seperated), the output with be sep seprated [default is \" \"]\n",
        "# end >> once a print is done, what should be the end, default is new line"
      ],
      "metadata": {
        "id": "w3jFNWIOZMxP"
      },
      "execution_count": null,
      "outputs": []
    },
    {
      "cell_type": "code",
      "source": [
        "print(\"Ronaldo\", 39, 185.5, True, None)\n",
        "print(\"Ronaldo\", 39, 185.5, True, None, sep = \" \")"
      ],
      "metadata": {
        "colab": {
          "base_uri": "https://localhost:8080/"
        },
        "id": "Z1W8ezIdZ1Mo",
        "outputId": "7b7ccd22-7ff6-4456-b650-ce3c6aa0c4f3"
      },
      "execution_count": null,
      "outputs": [
        {
          "output_type": "stream",
          "name": "stdout",
          "text": [
            "Ronaldo 39 185.5 True None\n",
            "Ronaldo 39 185.5 True None\n"
          ]
        }
      ]
    },
    {
      "cell_type": "code",
      "source": [
        "print(\"Ronaldo\", 39, 185.5, True, None, sep = \"--\")"
      ],
      "metadata": {
        "colab": {
          "base_uri": "https://localhost:8080/"
        },
        "id": "kT16kQuuZ6Jj",
        "outputId": "839ba8ab-bcb6-4b5b-a34e-431bbb0f2369"
      },
      "execution_count": null,
      "outputs": [
        {
          "output_type": "stream",
          "name": "stdout",
          "text": [
            "Ronaldo--39--185.5--True--None\n"
          ]
        }
      ]
    },
    {
      "cell_type": "code",
      "source": [
        "print(\"Ronaldo\", end=\"this is done \")\n",
        "print( 39)\n",
        "print( 185.5)\n",
        "print( True)"
      ],
      "metadata": {
        "colab": {
          "base_uri": "https://localhost:8080/"
        },
        "id": "yPYbuA39aKcQ",
        "outputId": "bf724efe-36ea-483d-8a16-bf7749c06239"
      },
      "execution_count": null,
      "outputs": [
        {
          "output_type": "stream",
          "name": "stdout",
          "text": [
            "Ronaldothis is done 39\n",
            "185.5\n",
            "True\n"
          ]
        }
      ]
    },
    {
      "cell_type": "code",
      "source": [
        "print(\"Ronaldo\")\n",
        "print( 39)\n",
        "print( 185.5)\n",
        "print( True)"
      ],
      "metadata": {
        "colab": {
          "base_uri": "https://localhost:8080/"
        },
        "id": "iwLry9eMbGnV",
        "outputId": "5a278deb-5faa-4ad9-9cfe-41610daecff7"
      },
      "execution_count": null,
      "outputs": [
        {
          "output_type": "stream",
          "name": "stdout",
          "text": [
            "Ronaldo\n",
            "39\n",
            "185.5\n",
            "True\n"
          ]
        }
      ]
    },
    {
      "cell_type": "code",
      "source": [
        "# end is new line\n",
        "print(\"Ronaldo\", 39, sep = \" \")\n",
        "print( 185.5, True, sep = \",,\")\n",
        "print( None, sep = \" \")"
      ],
      "metadata": {
        "colab": {
          "base_uri": "https://localhost:8080/"
        },
        "id": "M3Vzg5izaQz4",
        "outputId": "adf70b2a-4f4e-473f-adfc-0de29363c20c"
      },
      "execution_count": null,
      "outputs": [
        {
          "output_type": "stream",
          "name": "stdout",
          "text": [
            "Ronaldo 39\n",
            "185.5,,True\n",
            "None\n"
          ]
        }
      ]
    },
    {
      "cell_type": "code",
      "source": [
        "print(\"Ronaldo\", 39, sep = \"--\", end=\" <this is done>\")\n",
        "print( 185.5, True, sep = \",,\")\n",
        "print( None, sep = \" \")"
      ],
      "metadata": {
        "colab": {
          "base_uri": "https://localhost:8080/"
        },
        "id": "_UXMvKOqaloO",
        "outputId": "a071dcf0-39f5-402e-bf27-0b6ce0edfe5f"
      },
      "execution_count": null,
      "outputs": [
        {
          "output_type": "stream",
          "name": "stdout",
          "text": [
            "Ronaldo--39 <this is done>185.5,,True\n",
            "None\n"
          ]
        }
      ]
    },
    {
      "cell_type": "code",
      "source": [
        "print(\"how to tell in a str that a new line has happened\")\n",
        "print(\"we do that by \\n this will be on a new line\")\n",
        "print(\"by default end is \\n\")"
      ],
      "metadata": {
        "colab": {
          "base_uri": "https://localhost:8080/"
        },
        "id": "q927NzndaxWN",
        "outputId": "127a51a1-6adb-4e58-fe90-d90a4aff58cd"
      },
      "execution_count": null,
      "outputs": [
        {
          "output_type": "stream",
          "name": "stdout",
          "text": [
            "how to tell in a str that a new line has happened\n",
            "we do that by \n",
            " this will be on a new line\n",
            "by default end is \n",
            "\n"
          ]
        }
      ]
    },
    {
      "cell_type": "code",
      "source": [
        "# end is new line\n",
        "print(\"Ronaldo\", 39, sep = \"\\n\")\n",
        "print( 185.5, True, sep = \",,\")\n",
        "print( None, sep = \" \")"
      ],
      "metadata": {
        "colab": {
          "base_uri": "https://localhost:8080/"
        },
        "id": "3cAwMgvKbjU1",
        "outputId": "afa93d0f-3b44-4159-aff7-b7d78d234ddd"
      },
      "execution_count": null,
      "outputs": [
        {
          "output_type": "stream",
          "name": "stdout",
          "text": [
            "Ronaldo\n",
            "39\n",
            "185.5,,True\n",
            "None\n"
          ]
        }
      ]
    },
    {
      "cell_type": "code",
      "source": [
        "# sep>> seperattion between values printed by same print function, default is \" \"\n",
        "# end>> how a print function ends, default is \"\\n\""
      ],
      "metadata": {
        "id": "lG_rN-Fkbl9V"
      },
      "execution_count": null,
      "outputs": []
    },
    {
      "cell_type": "code",
      "source": [
        "# Dheeraj Bagga\n",
        "# To: Everyone\n",
        "# 8:04 AM\n",
        "print(\"Start\")\n",
        "print(\"Abd\\n\")\n",
        "print(\"End\")"
      ],
      "metadata": {
        "colab": {
          "base_uri": "https://localhost:8080/"
        },
        "id": "vw6rkFXbcP6q",
        "outputId": "fe0492ee-579e-4979-ec81-aa98ebdc4676"
      },
      "execution_count": null,
      "outputs": [
        {
          "output_type": "stream",
          "name": "stdout",
          "text": [
            "Start\n",
            "Abd\n",
            "\n",
            "End\n"
          ]
        }
      ]
    },
    {
      "cell_type": "code",
      "source": [
        "# ques\n",
        "print(\"Ronaldo\", 39, 185.5, True, None)\n",
        "# 1 why are they space seperated >> beacuse default sep =\" \"\n",
        "# 2 how to remove the space seperated\n",
        "print(\"Ronaldo\", 39, 185.5, True, None, sep=\"\")\n",
        "# 3 how to remove the space seperated and replace by ,\n",
        "print(\"Ronaldo\", 39, 185.5, True, None, sep=\",\")\n",
        "# 3 how to remove the space seperated and replace by \", \"\n",
        "print(\"Ronaldo\", 39, 185.5, True, None, sep=\", \")"
      ],
      "metadata": {
        "colab": {
          "base_uri": "https://localhost:8080/"
        },
        "id": "yuAQsw1NdjEH",
        "outputId": "6184bcb2-0d43-4c5c-c5cc-46748fe7b63c"
      },
      "execution_count": null,
      "outputs": [
        {
          "output_type": "stream",
          "name": "stdout",
          "text": [
            "Ronaldo 39 185.5 True None\n",
            "Ronaldo39185.5TrueNone\n",
            "Ronaldo,39,185.5,True,None\n",
            "Ronaldo, 39, 185.5, True, None\n"
          ]
        }
      ]
    },
    {
      "cell_type": "code",
      "source": [
        "print(\"Ronaldo\", 39, 185.5, True, None, sep=\"🏃‍♂️\")"
      ],
      "metadata": {
        "colab": {
          "base_uri": "https://localhost:8080/"
        },
        "id": "Bp7_HAvUeTDf",
        "outputId": "d372108c-305b-4c94-c9d2-9d33da079a1f"
      },
      "execution_count": null,
      "outputs": [
        {
          "output_type": "stream",
          "name": "stdout",
          "text": [
            "Ronaldo🏃‍♂️39🏃‍♂️185.5🏃‍♂️True🏃‍♂️None\n"
          ]
        }
      ]
    },
    {
      "cell_type": "code",
      "source": [
        "# simple maths\n",
        "print(20+2) # int + int"
      ],
      "metadata": {
        "colab": {
          "base_uri": "https://localhost:8080/"
        },
        "id": "JKf5yVB7dzwM",
        "outputId": "66c5a761-94e2-4454-ff67-d73715eccee0"
      },
      "execution_count": null,
      "outputs": [
        {
          "output_type": "stream",
          "name": "stdout",
          "text": [
            "22\n"
          ]
        }
      ]
    },
    {
      "cell_type": "code",
      "source": [
        "print(\"20+2\") # str"
      ],
      "metadata": {
        "colab": {
          "base_uri": "https://localhost:8080/"
        },
        "id": "PpcZIEgnez5T",
        "outputId": "fdcb2150-7730-4817-88d5-dd26d93ce63c"
      },
      "execution_count": null,
      "outputs": [
        {
          "output_type": "stream",
          "name": "stdout",
          "text": [
            "20+2\n"
          ]
        }
      ]
    },
    {
      "cell_type": "code",
      "source": [
        "print(\"20\"+\"2\") # \"str\" + \"str\"\n",
        "print(\"Cristiano\"+\"Ronaldo\")"
      ],
      "metadata": {
        "colab": {
          "base_uri": "https://localhost:8080/"
        },
        "id": "Ty0dc-6Ie3H6",
        "outputId": "f4ed351c-2fa9-4ea9-b006-1f78ac6966d9"
      },
      "execution_count": null,
      "outputs": [
        {
          "output_type": "stream",
          "name": "stdout",
          "text": [
            "202\n",
            "CristianoRonaldo\n"
          ]
        }
      ]
    },
    {
      "cell_type": "code",
      "source": [
        "print(20+2)\n",
        "print(20+2.5)\n",
        "print(\"Cristiano\"+\"Ronaldo\")"
      ],
      "metadata": {
        "colab": {
          "base_uri": "https://localhost:8080/"
        },
        "id": "jeQJOUaKfA5a",
        "outputId": "b54f12d3-c7cb-4aa2-d371-8679a56d70e6"
      },
      "execution_count": null,
      "outputs": [
        {
          "output_type": "stream",
          "name": "stdout",
          "text": [
            "22\n",
            "22.5\n",
            "CristianoRonaldo\n"
          ]
        }
      ]
    },
    {
      "cell_type": "code",
      "source": [
        "print(20-2)\n",
        "print(20-2.5)\n",
        "print(\"Cristiano\"-\"Ronaldo\")"
      ],
      "metadata": {
        "colab": {
          "base_uri": "https://localhost:8080/",
          "height": 246
        },
        "id": "hv7vhdm7fKED",
        "outputId": "2e20f673-92e1-457a-e07c-d2f55a9e13af"
      },
      "execution_count": null,
      "outputs": [
        {
          "output_type": "stream",
          "name": "stdout",
          "text": [
            "18\n",
            "17.5\n"
          ]
        },
        {
          "output_type": "error",
          "ename": "TypeError",
          "evalue": "ignored",
          "traceback": [
            "\u001b[0;31m---------------------------------------------------------------------------\u001b[0m",
            "\u001b[0;31mTypeError\u001b[0m                                 Traceback (most recent call last)",
            "\u001b[0;32m<ipython-input-59-02f7f9499c77>\u001b[0m in \u001b[0;36m<cell line: 3>\u001b[0;34m()\u001b[0m\n\u001b[1;32m      1\u001b[0m \u001b[0mprint\u001b[0m\u001b[0;34m(\u001b[0m\u001b[0;36m20\u001b[0m\u001b[0;34m-\u001b[0m\u001b[0;36m2\u001b[0m\u001b[0;34m)\u001b[0m\u001b[0;34m\u001b[0m\u001b[0;34m\u001b[0m\u001b[0m\n\u001b[1;32m      2\u001b[0m \u001b[0mprint\u001b[0m\u001b[0;34m(\u001b[0m\u001b[0;36m20\u001b[0m\u001b[0;34m-\u001b[0m\u001b[0;36m2.5\u001b[0m\u001b[0;34m)\u001b[0m\u001b[0;34m\u001b[0m\u001b[0;34m\u001b[0m\u001b[0m\n\u001b[0;32m----> 3\u001b[0;31m \u001b[0mprint\u001b[0m\u001b[0;34m(\u001b[0m\u001b[0;34m\"Cristiano\"\u001b[0m\u001b[0;34m-\u001b[0m\u001b[0;34m\"Ronaldo\"\u001b[0m\u001b[0;34m)\u001b[0m\u001b[0;34m\u001b[0m\u001b[0;34m\u001b[0m\u001b[0m\n\u001b[0m",
            "\u001b[0;31mTypeError\u001b[0m: unsupported operand type(s) for -: 'str' and 'str'"
          ]
        }
      ]
    },
    {
      "cell_type": "code",
      "source": [
        "print(20/2)\n",
        "print(20/2.5)\n",
        "print(\"Cristiano\"/\"Ronaldo\")"
      ],
      "metadata": {
        "colab": {
          "base_uri": "https://localhost:8080/",
          "height": 246
        },
        "id": "fz74LDFxfR4B",
        "outputId": "fb97f0e6-ad9e-4b80-b719-27d4d3f0abd6"
      },
      "execution_count": null,
      "outputs": [
        {
          "output_type": "stream",
          "name": "stdout",
          "text": [
            "10.0\n",
            "8.0\n"
          ]
        },
        {
          "output_type": "error",
          "ename": "TypeError",
          "evalue": "ignored",
          "traceback": [
            "\u001b[0;31m---------------------------------------------------------------------------\u001b[0m",
            "\u001b[0;31mTypeError\u001b[0m                                 Traceback (most recent call last)",
            "\u001b[0;32m<ipython-input-60-e741eb8189ac>\u001b[0m in \u001b[0;36m<cell line: 3>\u001b[0;34m()\u001b[0m\n\u001b[1;32m      1\u001b[0m \u001b[0mprint\u001b[0m\u001b[0;34m(\u001b[0m\u001b[0;36m20\u001b[0m\u001b[0;34m/\u001b[0m\u001b[0;36m2\u001b[0m\u001b[0;34m)\u001b[0m\u001b[0;34m\u001b[0m\u001b[0;34m\u001b[0m\u001b[0m\n\u001b[1;32m      2\u001b[0m \u001b[0mprint\u001b[0m\u001b[0;34m(\u001b[0m\u001b[0;36m20\u001b[0m\u001b[0;34m/\u001b[0m\u001b[0;36m2.5\u001b[0m\u001b[0;34m)\u001b[0m\u001b[0;34m\u001b[0m\u001b[0;34m\u001b[0m\u001b[0m\n\u001b[0;32m----> 3\u001b[0;31m \u001b[0mprint\u001b[0m\u001b[0;34m(\u001b[0m\u001b[0;34m\"Cristiano\"\u001b[0m\u001b[0;34m/\u001b[0m\u001b[0;34m\"Ronaldo\"\u001b[0m\u001b[0;34m)\u001b[0m\u001b[0;34m\u001b[0m\u001b[0;34m\u001b[0m\u001b[0m\n\u001b[0m",
            "\u001b[0;31mTypeError\u001b[0m: unsupported operand type(s) for /: 'str' and 'str'"
          ]
        }
      ]
    },
    {
      "cell_type": "code",
      "source": [
        "print(20*2)\n",
        "print(20*2.5)\n",
        "print(\"Cristiano\"*\"Ronaldo\")"
      ],
      "metadata": {
        "colab": {
          "base_uri": "https://localhost:8080/",
          "height": 246
        },
        "id": "e7hMZ3SOfcue",
        "outputId": "36cb82c8-01a7-48da-967d-e4d73b20ea2c"
      },
      "execution_count": null,
      "outputs": [
        {
          "output_type": "stream",
          "name": "stdout",
          "text": [
            "40\n",
            "50.0\n"
          ]
        },
        {
          "output_type": "error",
          "ename": "TypeError",
          "evalue": "ignored",
          "traceback": [
            "\u001b[0;31m---------------------------------------------------------------------------\u001b[0m",
            "\u001b[0;31mTypeError\u001b[0m                                 Traceback (most recent call last)",
            "\u001b[0;32m<ipython-input-61-b74096913d51>\u001b[0m in \u001b[0;36m<cell line: 3>\u001b[0;34m()\u001b[0m\n\u001b[1;32m      1\u001b[0m \u001b[0mprint\u001b[0m\u001b[0;34m(\u001b[0m\u001b[0;36m20\u001b[0m\u001b[0;34m*\u001b[0m\u001b[0;36m2\u001b[0m\u001b[0;34m)\u001b[0m\u001b[0;34m\u001b[0m\u001b[0;34m\u001b[0m\u001b[0m\n\u001b[1;32m      2\u001b[0m \u001b[0mprint\u001b[0m\u001b[0;34m(\u001b[0m\u001b[0;36m20\u001b[0m\u001b[0;34m*\u001b[0m\u001b[0;36m2.5\u001b[0m\u001b[0;34m)\u001b[0m\u001b[0;34m\u001b[0m\u001b[0;34m\u001b[0m\u001b[0m\n\u001b[0;32m----> 3\u001b[0;31m \u001b[0mprint\u001b[0m\u001b[0;34m(\u001b[0m\u001b[0;34m\"Cristiano\"\u001b[0m\u001b[0;34m*\u001b[0m\u001b[0;34m\"Ronaldo\"\u001b[0m\u001b[0;34m)\u001b[0m\u001b[0;34m\u001b[0m\u001b[0;34m\u001b[0m\u001b[0m\n\u001b[0m",
            "\u001b[0;31mTypeError\u001b[0m: can't multiply sequence by non-int of type 'str'"
          ]
        }
      ]
    },
    {
      "cell_type": "code",
      "source": [
        "print(\"Cristiano\"*7)# a*7 = a+a+a+a+a+a+a\n",
        "print(\"Cristiano\"+\"Cristiano\")"
      ],
      "metadata": {
        "colab": {
          "base_uri": "https://localhost:8080/"
        },
        "id": "SdcUPdTFfvjx",
        "outputId": "cc05591b-25ef-4bc3-e693-97cee16e4ca0"
      },
      "execution_count": null,
      "outputs": [
        {
          "output_type": "stream",
          "name": "stdout",
          "text": [
            "CristianoCristianoCristianoCristianoCristianoCristianoCristiano\n",
            "CristianoCristiano\n"
          ]
        }
      ]
    },
    {
      "cell_type": "code",
      "source": [
        "print(\"Cristiano\"*7.5)"
      ],
      "metadata": {
        "colab": {
          "base_uri": "https://localhost:8080/",
          "height": 176
        },
        "id": "9MgRZZtngcQE",
        "outputId": "773f2b62-0212-46b3-a574-e22acf836647"
      },
      "execution_count": null,
      "outputs": [
        {
          "output_type": "error",
          "ename": "TypeError",
          "evalue": "ignored",
          "traceback": [
            "\u001b[0;31m---------------------------------------------------------------------------\u001b[0m",
            "\u001b[0;31mTypeError\u001b[0m                                 Traceback (most recent call last)",
            "\u001b[0;32m<ipython-input-64-5cceafba203b>\u001b[0m in \u001b[0;36m<cell line: 1>\u001b[0;34m()\u001b[0m\n\u001b[0;32m----> 1\u001b[0;31m \u001b[0mprint\u001b[0m\u001b[0;34m(\u001b[0m\u001b[0;34m\"Cristiano\"\u001b[0m\u001b[0;34m*\u001b[0m\u001b[0;36m7.5\u001b[0m\u001b[0;34m)\u001b[0m\u001b[0;34m\u001b[0m\u001b[0;34m\u001b[0m\u001b[0m\n\u001b[0m",
            "\u001b[0;31mTypeError\u001b[0m: can't multiply sequence by non-int of type 'float'"
          ]
        }
      ]
    },
    {
      "cell_type": "code",
      "source": [
        "print(\"Cristiano\"*7.0)"
      ],
      "metadata": {
        "colab": {
          "base_uri": "https://localhost:8080/",
          "height": 176
        },
        "id": "XdiNyLxsgeCc",
        "outputId": "aa2e710f-f64d-4114-d56c-83ce6ea7009b"
      },
      "execution_count": null,
      "outputs": [
        {
          "output_type": "error",
          "ename": "TypeError",
          "evalue": "ignored",
          "traceback": [
            "\u001b[0;31m---------------------------------------------------------------------------\u001b[0m",
            "\u001b[0;31mTypeError\u001b[0m                                 Traceback (most recent call last)",
            "\u001b[0;32m<ipython-input-65-276a063b158d>\u001b[0m in \u001b[0;36m<cell line: 1>\u001b[0;34m()\u001b[0m\n\u001b[0;32m----> 1\u001b[0;31m \u001b[0mprint\u001b[0m\u001b[0;34m(\u001b[0m\u001b[0;34m\"Cristiano\"\u001b[0m\u001b[0;34m*\u001b[0m\u001b[0;36m7.0\u001b[0m\u001b[0;34m)\u001b[0m\u001b[0;34m\u001b[0m\u001b[0;34m\u001b[0m\u001b[0m\n\u001b[0m",
            "\u001b[0;31mTypeError\u001b[0m: can't multiply sequence by non-int of type 'float'"
          ]
        }
      ]
    },
    {
      "cell_type": "code",
      "source": [
        "## str\n",
        "# add them (+)>> concats\n",
        "# str*int>> repeats int times\n",
        "\n",
        "# numbers\n",
        "# if you +,-,*: output will be float if atleast one of them was float\n",
        "# if you /: output will always be float"
      ],
      "metadata": {
        "id": "EgmQD1mLf-k6"
      },
      "execution_count": null,
      "outputs": []
    },
    {
      "cell_type": "code",
      "source": [
        "# Sreenidhi\n",
        "# To: Me\n",
        "# 8:41 AM\n",
        "# print(6+3,6-3, 6/3,6*3, \\n)\n",
        "# is not working\n",
        "print(6+3,6-3, 6/3,6*3, \"\\n\")\n",
        "print(6+3,6-3, 6/3,6*3,sep= \"\\n\")"
      ],
      "metadata": {
        "colab": {
          "base_uri": "https://localhost:8080/"
        },
        "id": "lbzWYa0jksy8",
        "outputId": "31d88108-1294-495f-89ce-f733f82fec67"
      },
      "execution_count": 2,
      "outputs": [
        {
          "output_type": "stream",
          "name": "stdout",
          "text": [
            "9 3 2.0 18 \n",
            "\n",
            "9\n",
            "3\n",
            "2.0\n",
            "18\n"
          ]
        }
      ]
    },
    {
      "cell_type": "code",
      "source": [
        "# ask the user for 2 +ive integer numbers\n",
        "# give me the average of the 2 numbers entered"
      ],
      "metadata": {
        "id": "CvWHmeTikZt7"
      },
      "execution_count": null,
      "outputs": []
    },
    {
      "cell_type": "code",
      "source": [
        "a = 4\n",
        "b = 6\n",
        "print(a+b/2) # not the average, BODMAS\n",
        "print((a+b)/2)"
      ],
      "metadata": {
        "colab": {
          "base_uri": "https://localhost:8080/"
        },
        "id": "XyyS_n6ileot",
        "outputId": "c747b500-4759-432e-e553-fe53349a6037"
      },
      "execution_count": 4,
      "outputs": [
        {
          "output_type": "stream",
          "name": "stdout",
          "text": [
            "7.0\n",
            "5.0\n"
          ]
        }
      ]
    },
    {
      "cell_type": "code",
      "source": [
        "first = input(\"Enter first integer: \")\n",
        "first = int(first)"
      ],
      "metadata": {
        "id": "j6I-00gZl7nP"
      },
      "execution_count": null,
      "outputs": []
    },
    {
      "cell_type": "code",
      "source": [
        "first = int(input(\"Enter first integer: \"))\n",
        "second = int(input(\"Enter second integer: \"))\n",
        "print(first,second)\n",
        "total = first+second\n",
        "print(total) # int + int is int\n",
        "avg = total/2\n",
        "print(avg) # anything / is float\n",
        "print(int(avg)) # float to int"
      ],
      "metadata": {
        "colab": {
          "base_uri": "https://localhost:8080/"
        },
        "id": "T0XvRFTclh6t",
        "outputId": "73c71a56-f75a-4d13-9e9f-e2c25a902dae"
      },
      "execution_count": 7,
      "outputs": [
        {
          "output_type": "stream",
          "name": "stdout",
          "text": [
            "Enter first integer: 4\n",
            "Enter second integer: 6\n",
            "4 6\n",
            "10\n",
            "5.0\n",
            "5\n"
          ]
        }
      ]
    },
    {
      "cell_type": "code",
      "source": [
        "print(type(sum)) # sum is a popular function\n",
        "print(type(avg)) # nothing called avg"
      ],
      "metadata": {
        "colab": {
          "base_uri": "https://localhost:8080/",
          "height": 211
        },
        "id": "fxl69WA3mx5N",
        "outputId": "77507d7b-9108-4682-e17d-b2d7c290a945"
      },
      "execution_count": 1,
      "outputs": [
        {
          "output_type": "stream",
          "name": "stdout",
          "text": [
            "<class 'builtin_function_or_method'>\n"
          ]
        },
        {
          "output_type": "error",
          "ename": "NameError",
          "evalue": "ignored",
          "traceback": [
            "\u001b[0;31m---------------------------------------------------------------------------\u001b[0m",
            "\u001b[0;31mNameError\u001b[0m                                 Traceback (most recent call last)",
            "\u001b[0;32m<ipython-input-1-c83b33616f63>\u001b[0m in \u001b[0;36m<cell line: 2>\u001b[0;34m()\u001b[0m\n\u001b[1;32m      1\u001b[0m \u001b[0mprint\u001b[0m\u001b[0;34m(\u001b[0m\u001b[0mtype\u001b[0m\u001b[0;34m(\u001b[0m\u001b[0msum\u001b[0m\u001b[0;34m)\u001b[0m\u001b[0;34m)\u001b[0m\u001b[0;34m\u001b[0m\u001b[0;34m\u001b[0m\u001b[0m\n\u001b[0;32m----> 2\u001b[0;31m \u001b[0mprint\u001b[0m\u001b[0;34m(\u001b[0m\u001b[0mtype\u001b[0m\u001b[0;34m(\u001b[0m\u001b[0mavg\u001b[0m\u001b[0;34m)\u001b[0m\u001b[0;34m)\u001b[0m\u001b[0;34m\u001b[0m\u001b[0;34m\u001b[0m\u001b[0m\n\u001b[0m",
            "\u001b[0;31mNameError\u001b[0m: name 'avg' is not defined"
          ]
        }
      ]
    },
    {
      "cell_type": "code",
      "source": [
        "# python runs line by line\n",
        "# Bommali Hima\n",
        "# To: Everyone\n",
        "# 8:52 AM\n",
        "average = ((a+b))/2\n",
        "a = int(input(\"enter num1:\"))\n",
        "b = int(input(\"enter num2:\"))\n",
        "print(a)\n",
        "print(b)\n",
        "print(\"average\")"
      ],
      "metadata": {
        "id": "DW8yCdEPm2A9"
      },
      "execution_count": null,
      "outputs": []
    },
    {
      "cell_type": "code",
      "source": [
        "# python runs line by line\n",
        "# Bommali Hima\n",
        "# To: Everyone\n",
        "# 8:52 AM\n",
        "\n",
        "a = int(input(\"enter num1:\"))\n",
        "b = int(input(\"enter num2:\"))\n",
        "print(a)\n",
        "print(b)\n",
        "average = ((a+b))/2\n",
        "print(\"average\") # this is not printing average variable\n",
        "print(average)"
      ],
      "metadata": {
        "colab": {
          "base_uri": "https://localhost:8080/"
        },
        "id": "WTWvR3frnW4I",
        "outputId": "b070ba78-9896-44cc-c510-85df136f5216"
      },
      "execution_count": 2,
      "outputs": [
        {
          "output_type": "stream",
          "name": "stdout",
          "text": [
            "enter num1:4\n",
            "enter num2:6\n",
            "4\n",
            "6\n",
            "average\n",
            "5.0\n"
          ]
        }
      ]
    },
    {
      "cell_type": "code",
      "source": [
        "print(10)"
      ],
      "metadata": {
        "id": "fVNRHtrUo0Ov",
        "outputId": "e9822067-6692-4038-8f05-2e569ba032ea",
        "colab": {
          "base_uri": "https://localhost:8080/"
        }
      },
      "execution_count": 4,
      "outputs": [
        {
          "output_type": "stream",
          "name": "stdout",
          "text": [
            "10\n"
          ]
        }
      ]
    },
    {
      "cell_type": "code",
      "source": [
        "print(\"10\")"
      ],
      "metadata": {
        "colab": {
          "base_uri": "https://localhost:8080/"
        },
        "id": "6HL5ffjvndur",
        "outputId": "d7c2dddf-38b1-46ce-83a1-e4f93c408e43"
      },
      "execution_count": 3,
      "outputs": [
        {
          "output_type": "stream",
          "name": "stdout",
          "text": [
            "10\n"
          ]
        }
      ]
    },
    {
      "cell_type": "code",
      "source": [
        "Print(\"5+10\")"
      ],
      "metadata": {
        "id": "Y_wHm0kYpK-7",
        "outputId": "10c499e1-d526-4613-a8ca-c1e3ffb1fad3",
        "colab": {
          "base_uri": "https://localhost:8080/",
          "height": 176
        }
      },
      "execution_count": 5,
      "outputs": [
        {
          "output_type": "error",
          "ename": "NameError",
          "evalue": "ignored",
          "traceback": [
            "\u001b[0;31m---------------------------------------------------------------------------\u001b[0m",
            "\u001b[0;31mNameError\u001b[0m                                 Traceback (most recent call last)",
            "\u001b[0;32m<ipython-input-5-f3c1e93090d1>\u001b[0m in \u001b[0;36m<cell line: 1>\u001b[0;34m()\u001b[0m\n\u001b[0;32m----> 1\u001b[0;31m \u001b[0mPrint\u001b[0m\u001b[0;34m(\u001b[0m\u001b[0;34m\"5+10\"\u001b[0m\u001b[0;34m)\u001b[0m\u001b[0;34m\u001b[0m\u001b[0;34m\u001b[0m\u001b[0m\n\u001b[0m",
            "\u001b[0;31mNameError\u001b[0m: name 'Print' is not defined"
          ]
        }
      ]
    },
    {
      "cell_type": "code",
      "source": [
        "print(type(true))"
      ],
      "metadata": {
        "id": "PRM0Tvpipj8b",
        "outputId": "a97899af-47ba-40bb-9885-9288e293734c",
        "colab": {
          "base_uri": "https://localhost:8080/",
          "height": 176
        }
      },
      "execution_count": 6,
      "outputs": [
        {
          "output_type": "error",
          "ename": "NameError",
          "evalue": "ignored",
          "traceback": [
            "\u001b[0;31m---------------------------------------------------------------------------\u001b[0m",
            "\u001b[0;31mNameError\u001b[0m                                 Traceback (most recent call last)",
            "\u001b[0;32m<ipython-input-6-1c2838cf1bc6>\u001b[0m in \u001b[0;36m<cell line: 1>\u001b[0;34m()\u001b[0m\n\u001b[0;32m----> 1\u001b[0;31m \u001b[0mprint\u001b[0m\u001b[0;34m(\u001b[0m\u001b[0mtype\u001b[0m\u001b[0;34m(\u001b[0m\u001b[0mtrue\u001b[0m\u001b[0;34m)\u001b[0m\u001b[0;34m)\u001b[0m\u001b[0;34m\u001b[0m\u001b[0;34m\u001b[0m\u001b[0m\n\u001b[0m",
            "\u001b[0;31mNameError\u001b[0m: name 'true' is not defined"
          ]
        }
      ]
    },
    {
      "cell_type": "code",
      "source": [
        "Print(\"10+10\")"
      ],
      "metadata": {
        "id": "wE9u7iI4p6T8",
        "outputId": "a96c1a25-47c9-43b3-f6d4-50ac16f48437",
        "colab": {
          "base_uri": "https://localhost:8080/",
          "height": 176
        }
      },
      "execution_count": 7,
      "outputs": [
        {
          "output_type": "error",
          "ename": "NameError",
          "evalue": "ignored",
          "traceback": [
            "\u001b[0;31m---------------------------------------------------------------------------\u001b[0m",
            "\u001b[0;31mNameError\u001b[0m                                 Traceback (most recent call last)",
            "\u001b[0;32m<ipython-input-7-9e68c561795b>\u001b[0m in \u001b[0;36m<cell line: 1>\u001b[0;34m()\u001b[0m\n\u001b[0;32m----> 1\u001b[0;31m \u001b[0mPrint\u001b[0m\u001b[0;34m(\u001b[0m\u001b[0;34m\"10+10\"\u001b[0m\u001b[0;34m)\u001b[0m\u001b[0;34m\u001b[0m\u001b[0;34m\u001b[0m\u001b[0m\n\u001b[0m",
            "\u001b[0;31mNameError\u001b[0m: name 'Print' is not defined"
          ]
        }
      ]
    },
    {
      "cell_type": "code",
      "source": [
        "name='Sahil'\n",
        "print(Name)"
      ],
      "metadata": {
        "id": "SdFmgeBsqAqK",
        "outputId": "0b82ec41-2407-4b70-d3f8-c7ee5b8edc5f",
        "colab": {
          "base_uri": "https://localhost:8080/",
          "height": 194
        }
      },
      "execution_count": 8,
      "outputs": [
        {
          "output_type": "error",
          "ename": "NameError",
          "evalue": "ignored",
          "traceback": [
            "\u001b[0;31m---------------------------------------------------------------------------\u001b[0m",
            "\u001b[0;31mNameError\u001b[0m                                 Traceback (most recent call last)",
            "\u001b[0;32m<ipython-input-8-7490274437d6>\u001b[0m in \u001b[0;36m<cell line: 2>\u001b[0;34m()\u001b[0m\n\u001b[1;32m      1\u001b[0m \u001b[0mname\u001b[0m\u001b[0;34m=\u001b[0m\u001b[0;34m'Sahil'\u001b[0m\u001b[0;34m\u001b[0m\u001b[0;34m\u001b[0m\u001b[0m\n\u001b[0;32m----> 2\u001b[0;31m \u001b[0mprint\u001b[0m\u001b[0;34m(\u001b[0m\u001b[0mName\u001b[0m\u001b[0;34m)\u001b[0m\u001b[0;34m\u001b[0m\u001b[0;34m\u001b[0m\u001b[0m\n\u001b[0m",
            "\u001b[0;31mNameError\u001b[0m: name 'Name' is not defined"
          ]
        }
      ]
    },
    {
      "cell_type": "code",
      "source": [
        "#start\n",
        "x = 3 # x is 3\n",
        "y = 'hello'  # x is 3, y is 'hello\n",
        "num = y # x is 3, y is 'hello, num is 'hello'\n",
        "y = 5 # x is 3, y is 5, num is 'hello'\n",
        "print(num, y)"
      ],
      "metadata": {
        "id": "AJLGci80qTga",
        "outputId": "eabbde1e-2e49-457d-c48f-6335c3bb9de9",
        "colab": {
          "base_uri": "https://localhost:8080/"
        }
      },
      "execution_count": 9,
      "outputs": [
        {
          "output_type": "stream",
          "name": "stdout",
          "text": [
            "hello 5\n"
          ]
        }
      ]
    },
    {
      "cell_type": "code",
      "source": [
        "print('2' + \"2\")"
      ],
      "metadata": {
        "id": "kNXUvpDqqqW1",
        "outputId": "cd836aad-3c92-4e28-bcde-8ec09f13465a",
        "colab": {
          "base_uri": "https://localhost:8080/"
        }
      },
      "execution_count": 10,
      "outputs": [
        {
          "output_type": "stream",
          "name": "stdout",
          "text": [
            "22\n"
          ]
        }
      ]
    }
  ]
}