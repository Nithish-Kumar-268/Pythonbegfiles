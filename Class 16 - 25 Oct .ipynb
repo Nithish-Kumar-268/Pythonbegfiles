{
  "nbformat": 4,
  "nbformat_minor": 0,
  "metadata": {
    "colab": {
      "provenance": [],
      "authorship_tag": "ABX9TyP+4v6/8MV5gJzS++O2TYew",
      "include_colab_link": true
    },
    "kernelspec": {
      "name": "python3",
      "display_name": "Python 3"
    },
    "language_info": {
      "name": "python"
    }
  },
  "cells": [
    {
      "cell_type": "markdown",
      "metadata": {
        "id": "view-in-github",
        "colab_type": "text"
      },
      "source": [
        "<a href=\"https://colab.research.google.com/gist/singhsidhukuldeep/694041666f79c7e6b84ebf4e41e6f3f0/beginner-strings-1-25th-oct-2023.ipynb\" target=\"_parent\"><img src=\"https://colab.research.google.com/assets/colab-badge.svg\" alt=\"Open In Colab\"/></a>"
      ]
    },
    {
      "cell_type": "markdown",
      "source": [
        "<center>\n",
        "\n",
        "## Beginner : Strings 1 - 25th Oct 2023\n",
        "\n",
        "![](https://codehs.com/uploads/f7b9b4e3fce7610f7c88a788e6d4aa29)\n",
        "\n",
        "</center>"
      ],
      "metadata": {
        "id": "rwZbaY52iyAP"
      }
    },
    {
      "cell_type": "code",
      "execution_count": null,
      "metadata": {
        "id": "j8TBL39iixbK"
      },
      "outputs": [],
      "source": [
        "## Data Types >> primitive DS\n",
        "# str\n",
        "# int\n",
        "# float\n",
        "# bool\n",
        "# None\n",
        "\n",
        "# Properties>> single value at a time>> they are NON-editable/immutable"
      ]
    },
    {
      "cell_type": "code",
      "source": [
        "## str"
      ],
      "metadata": {
        "id": "ya4jGIyGfBOE"
      },
      "execution_count": 1,
      "outputs": []
    },
    {
      "cell_type": "code",
      "source": [
        "my_str = 'this is a str'\n",
        "print(my_str)"
      ],
      "metadata": {
        "colab": {
          "base_uri": "https://localhost:8080/"
        },
        "id": "2slPY47gfCjr",
        "outputId": "d590c3fc-635a-4410-9172-6b42fe89b0c8"
      },
      "execution_count": 2,
      "outputs": [
        {
          "output_type": "stream",
          "name": "stdout",
          "text": [
            "this is a str\n"
          ]
        }
      ]
    },
    {
      "cell_type": "code",
      "source": [
        "my_str = \"this is a str\"\n",
        "print(my_str)"
      ],
      "metadata": {
        "colab": {
          "base_uri": "https://localhost:8080/"
        },
        "id": "_LZJkiU7fJ3W",
        "outputId": "9462be26-4972-4578-d4cf-551ec52ec2a6"
      },
      "execution_count": 3,
      "outputs": [
        {
          "output_type": "stream",
          "name": "stdout",
          "text": [
            "this is a str\n"
          ]
        }
      ]
    },
    {
      "cell_type": "code",
      "source": [
        "my_str = \"\"\"this\n",
        "is a\n",
        "str\"\"\"\n",
        "print(my_str)"
      ],
      "metadata": {
        "colab": {
          "base_uri": "https://localhost:8080/"
        },
        "id": "IqojWsU3fLpc",
        "outputId": "72342bdb-45bd-4cac-8c0f-fc97013be6d6"
      },
      "execution_count": 6,
      "outputs": [
        {
          "output_type": "stream",
          "name": "stdout",
          "text": [
            "this \n",
            "is a \n",
            "str\n"
          ]
        }
      ]
    },
    {
      "cell_type": "code",
      "source": [
        "my_str = '''this is a str'''\n",
        "print(my_str)"
      ],
      "metadata": {
        "colab": {
          "base_uri": "https://localhost:8080/"
        },
        "id": "a7mG02x3fOq6",
        "outputId": "45da9d33-709a-4f0e-db61-2074aef0ebdc"
      },
      "execution_count": 5,
      "outputs": [
        {
          "output_type": "stream",
          "name": "stdout",
          "text": [
            "this is a str\n"
          ]
        }
      ]
    },
    {
      "cell_type": "code",
      "source": [
        "my_str = \"this is\n",
        "a str\"\n",
        "print(my_str)"
      ],
      "metadata": {
        "colab": {
          "base_uri": "https://localhost:8080/",
          "height": 142
        },
        "id": "KhzKUiLYfRAV",
        "outputId": "22a6998f-4fe9-4cb7-9d80-f05432f6728a"
      },
      "execution_count": 7,
      "outputs": [
        {
          "output_type": "error",
          "ename": "SyntaxError",
          "evalue": "ignored",
          "traceback": [
            "\u001b[0;36m  File \u001b[0;32m\"<ipython-input-7-212cf2fd322a>\"\u001b[0;36m, line \u001b[0;32m1\u001b[0m\n\u001b[0;31m    my_str = \"this is\u001b[0m\n\u001b[0m             ^\u001b[0m\n\u001b[0;31mSyntaxError\u001b[0m\u001b[0;31m:\u001b[0m unterminated string literal (detected at line 1)\n"
          ]
        }
      ]
    },
    {
      "cell_type": "code",
      "source": [
        "my_str = \"this is \\na str\"\n",
        "print(my_str)"
      ],
      "metadata": {
        "colab": {
          "base_uri": "https://localhost:8080/"
        },
        "id": "rxpPxCysfbJX",
        "outputId": "38638ef3-e8bf-41b2-ad34-4a21b95a96ce"
      },
      "execution_count": 8,
      "outputs": [
        {
          "output_type": "stream",
          "name": "stdout",
          "text": [
            "this is \n",
            "a str\n"
          ]
        }
      ]
    },
    {
      "cell_type": "code",
      "source": [
        "my_str = \"this is a str'\n",
        "print(my_str)"
      ],
      "metadata": {
        "colab": {
          "base_uri": "https://localhost:8080/",
          "height": 142
        },
        "id": "h3ZwK4Vcfgdr",
        "outputId": "58ac0c25-c8d6-4a62-ae89-a39d8690ae88"
      },
      "execution_count": 9,
      "outputs": [
        {
          "output_type": "error",
          "ename": "SyntaxError",
          "evalue": "ignored",
          "traceback": [
            "\u001b[0;36m  File \u001b[0;32m\"<ipython-input-9-c5a76edc8a15>\"\u001b[0;36m, line \u001b[0;32m1\u001b[0m\n\u001b[0;31m    my_str = \"this is a str'\u001b[0m\n\u001b[0m             ^\u001b[0m\n\u001b[0;31mSyntaxError\u001b[0m\u001b[0;31m:\u001b[0m unterminated string literal (detected at line 1)\n"
          ]
        }
      ]
    },
    {
      "cell_type": "code",
      "source": [
        "my_str = '''12345677890-0=)(*&^%$%#!@!jhgsfadkqas,kfudgaP}{>?\":<>}🙂)'''\n",
        "print(my_str)"
      ],
      "metadata": {
        "colab": {
          "base_uri": "https://localhost:8080/"
        },
        "id": "0dPPJdnofz-0",
        "outputId": "a3b29c70-182a-4f7f-f0f0-deb9bafd6133"
      },
      "execution_count": 10,
      "outputs": [
        {
          "output_type": "stream",
          "name": "stdout",
          "text": [
            "12345677890-0=)(*&^%$%#!@!jhgsfadkqas,kfudgaP}{>?\":<>}🙂)\n"
          ]
        }
      ]
    },
    {
      "cell_type": "code",
      "source": [
        "# American Standard Code for Information Interchange\n",
        "# ASCII"
      ],
      "metadata": {
        "id": "O9j7dbu9gWKE"
      },
      "execution_count": null,
      "outputs": []
    },
    {
      "cell_type": "code",
      "source": [
        "ord('a')"
      ],
      "metadata": {
        "colab": {
          "base_uri": "https://localhost:8080/"
        },
        "id": "A-zugplEhDi1",
        "outputId": "aa104a0d-d9be-474f-c202-a0470cf9af4e"
      },
      "execution_count": 11,
      "outputs": [
        {
          "output_type": "execute_result",
          "data": {
            "text/plain": [
              "97"
            ]
          },
          "metadata": {},
          "execution_count": 11
        }
      ]
    },
    {
      "cell_type": "code",
      "source": [
        "ord('A')"
      ],
      "metadata": {
        "colab": {
          "base_uri": "https://localhost:8080/"
        },
        "id": "QVjZ4LzVhHTy",
        "outputId": "443315ba-84e9-4fb6-848b-d92deb68bb0d"
      },
      "execution_count": 12,
      "outputs": [
        {
          "output_type": "execute_result",
          "data": {
            "text/plain": [
              "65"
            ]
          },
          "metadata": {},
          "execution_count": 12
        }
      ]
    },
    {
      "cell_type": "code",
      "source": [
        "ord('🙂')"
      ],
      "metadata": {
        "colab": {
          "base_uri": "https://localhost:8080/"
        },
        "id": "TfT2z16bhJ1T",
        "outputId": "b5838d27-9454-4a08-f6e7-a6516844d966"
      },
      "execution_count": 13,
      "outputs": [
        {
          "output_type": "execute_result",
          "data": {
            "text/plain": [
              "128578"
            ]
          },
          "metadata": {},
          "execution_count": 13
        }
      ]
    },
    {
      "cell_type": "code",
      "source": [
        "print(chr(65))"
      ],
      "metadata": {
        "colab": {
          "base_uri": "https://localhost:8080/"
        },
        "id": "pTlViLdehk8T",
        "outputId": "34e9646a-7e0c-4b61-8c38-bcbe0c503d14"
      },
      "execution_count": 14,
      "outputs": [
        {
          "output_type": "stream",
          "name": "stdout",
          "text": [
            "A\n"
          ]
        }
      ]
    },
    {
      "cell_type": "code",
      "source": [
        "print(ord('a'), ord('z'))\n",
        "print(ord('A'), ord('Z'))\n",
        "print(ord('0'), ord('9'))"
      ],
      "metadata": {
        "colab": {
          "base_uri": "https://localhost:8080/"
        },
        "id": "yaj_u_XZhmy5",
        "outputId": "b251ac68-56c1-4553-8792-fd61e65be362"
      },
      "execution_count": 15,
      "outputs": [
        {
          "output_type": "stream",
          "name": "stdout",
          "text": [
            "97 122\n",
            "65 90\n",
            "48 57\n"
          ]
        }
      ]
    },
    {
      "cell_type": "code",
      "source": [
        "for ordinal in range(ord('0'), ord('9')+1):\n",
        "    print(ordinal, chr(ordinal))"
      ],
      "metadata": {
        "colab": {
          "base_uri": "https://localhost:8080/"
        },
        "id": "GUFoNXJ-iFBO",
        "outputId": "9c9e5880-3368-456a-e392-8ca04838ad8f"
      },
      "execution_count": 19,
      "outputs": [
        {
          "output_type": "stream",
          "name": "stdout",
          "text": [
            "48 0\n",
            "49 1\n",
            "50 2\n",
            "51 3\n",
            "52 4\n",
            "53 5\n",
            "54 6\n",
            "55 7\n",
            "56 8\n",
            "57 9\n"
          ]
        }
      ]
    },
    {
      "cell_type": "code",
      "source": [
        "for ordinal in range(ord('A'), ord('Z')+1):\n",
        "    print(ordinal, chr(ordinal))"
      ],
      "metadata": {
        "colab": {
          "base_uri": "https://localhost:8080/"
        },
        "id": "mErr5lU-iCtf",
        "outputId": "40b16ca0-c053-435f-b952-d83d45724e33"
      },
      "execution_count": 18,
      "outputs": [
        {
          "output_type": "stream",
          "name": "stdout",
          "text": [
            "65 A\n",
            "66 B\n",
            "67 C\n",
            "68 D\n",
            "69 E\n",
            "70 F\n",
            "71 G\n",
            "72 H\n",
            "73 I\n",
            "74 J\n",
            "75 K\n",
            "76 L\n",
            "77 M\n",
            "78 N\n",
            "79 O\n",
            "80 P\n",
            "81 Q\n",
            "82 R\n",
            "83 S\n",
            "84 T\n",
            "85 U\n",
            "86 V\n",
            "87 W\n",
            "88 X\n",
            "89 Y\n",
            "90 Z\n"
          ]
        }
      ]
    },
    {
      "cell_type": "code",
      "source": [
        "for ordinal in range(ord('a'), ord('z')+1):\n",
        "    print(ordinal, chr(ordinal))"
      ],
      "metadata": {
        "colab": {
          "base_uri": "https://localhost:8080/"
        },
        "id": "KmojZBLahwng",
        "outputId": "a19f8b33-e3cc-42f3-9238-e6cd3d10804d"
      },
      "execution_count": 17,
      "outputs": [
        {
          "output_type": "stream",
          "name": "stdout",
          "text": [
            "97 a\n",
            "98 b\n",
            "99 c\n",
            "100 d\n",
            "101 e\n",
            "102 f\n",
            "103 g\n",
            "104 h\n",
            "105 i\n",
            "106 j\n",
            "107 k\n",
            "108 l\n",
            "109 m\n",
            "110 n\n",
            "111 o\n",
            "112 p\n",
            "113 q\n",
            "114 r\n",
            "115 s\n",
            "116 t\n",
            "117 u\n",
            "118 v\n",
            "119 w\n",
            "120 x\n",
            "121 y\n",
            "122 z\n"
          ]
        }
      ]
    },
    {
      "cell_type": "code",
      "source": [
        "ord('a'), ord('A')"
      ],
      "metadata": {
        "colab": {
          "base_uri": "https://localhost:8080/"
        },
        "id": "_cKZQlFViT5c",
        "outputId": "8978c484-d541-48ba-a8c1-1d2f1173c67d"
      },
      "execution_count": 20,
      "outputs": [
        {
          "output_type": "execute_result",
          "data": {
            "text/plain": [
              "(97, 65)"
            ]
          },
          "metadata": {},
          "execution_count": 20
        }
      ]
    },
    {
      "cell_type": "code",
      "source": [
        "\"a\">\"A\""
      ],
      "metadata": {
        "colab": {
          "base_uri": "https://localhost:8080/"
        },
        "id": "kwifnGUfh8qK",
        "outputId": "023e4aa0-70ae-4428-c9b3-31fec99a2fa4"
      },
      "execution_count": 21,
      "outputs": [
        {
          "output_type": "execute_result",
          "data": {
            "text/plain": [
              "True"
            ]
          },
          "metadata": {},
          "execution_count": 21
        }
      ]
    },
    {
      "cell_type": "code",
      "source": [
        "chr(10500)"
      ],
      "metadata": {
        "colab": {
          "base_uri": "https://localhost:8080/",
          "height": 35
        },
        "id": "PmO3DwPCicxf",
        "outputId": "cb82373b-9e74-4c2b-98c5-0ec37f3a8061"
      },
      "execution_count": 23,
      "outputs": [
        {
          "output_type": "execute_result",
          "data": {
            "text/plain": [
              "'⤄'"
            ],
            "application/vnd.google.colaboratory.intrinsic+json": {
              "type": "string"
            }
          },
          "metadata": {},
          "execution_count": 23
        }
      ]
    },
    {
      "cell_type": "code",
      "source": [
        "# simple str manipulations"
      ],
      "metadata": {
        "id": "6GjWGNvuieG3"
      },
      "execution_count": 24,
      "outputs": []
    },
    {
      "cell_type": "code",
      "source": [
        "print(\">> +\")\n",
        "print(\"Cristiano\" + \"Ronaldo\")"
      ],
      "metadata": {
        "colab": {
          "base_uri": "https://localhost:8080/"
        },
        "id": "CkkTndrFirco",
        "outputId": "aec8e88a-0bc1-47b2-a2da-1694844c92a7"
      },
      "execution_count": 25,
      "outputs": [
        {
          "output_type": "stream",
          "name": "stdout",
          "text": [
            ">> +\n",
            "CristianoRonaldo\n"
          ]
        }
      ]
    },
    {
      "cell_type": "code",
      "source": [
        "my_str = \"I live on earth, and we are 3 planet\"\n",
        "print(my_str)\n",
        "print(type(my_str))"
      ],
      "metadata": {
        "colab": {
          "base_uri": "https://localhost:8080/"
        },
        "id": "xPEBq7gEjDWK",
        "outputId": "ce87bfd7-2f03-4e50-e4fc-bab15bf6a89a"
      },
      "execution_count": 26,
      "outputs": [
        {
          "output_type": "stream",
          "name": "stdout",
          "text": [
            "I live on earth, and we are 3 planet\n",
            "<class 'str'>\n"
          ]
        }
      ]
    },
    {
      "cell_type": "code",
      "source": [
        "# f str\n",
        "\n",
        "\n",
        "##### How f str\n",
        "# 1: replace all the data with the var names in {}\n",
        "# 2: add f in front\n",
        "\n",
        "planet = \"earth\"\n",
        "rank = 3\n",
        "\n",
        "my_str = f\"I live on {planet}, and we are {rank} planet\"\n",
        "print(my_str)\n",
        "print(type(my_str))"
      ],
      "metadata": {
        "colab": {
          "base_uri": "https://localhost:8080/"
        },
        "id": "z_1BzF_OiyES",
        "outputId": "70aa2253-5b2b-4a17-9b70-875cf13adbb1"
      },
      "execution_count": 28,
      "outputs": [
        {
          "output_type": "stream",
          "name": "stdout",
          "text": [
            "I live on earth, and we are 3 planet\n",
            "<class 'str'>\n"
          ]
        }
      ]
    },
    {
      "cell_type": "code",
      "source": [
        "planet = \"mars\"\n",
        "rank = 4\n",
        "\n",
        "my_str = f\"I live on {planet}, and we are {rank} planet\"\n",
        "print(my_str)\n",
        "print(type(my_str))\n",
        "\n",
        "planet = \"earth\"\n",
        "rank = 3\n",
        "print(my_str)\n",
        "print(type(my_str))"
      ],
      "metadata": {
        "colab": {
          "base_uri": "https://localhost:8080/"
        },
        "id": "Pus70QqNjX1H",
        "outputId": "e12ada88-0e83-4bd4-f1ed-27e4592e8846"
      },
      "execution_count": 30,
      "outputs": [
        {
          "output_type": "stream",
          "name": "stdout",
          "text": [
            "I live on mars, and we are 4 planet\n",
            "<class 'str'>\n",
            "I live on mars, and we are 4 planet\n",
            "<class 'str'>\n"
          ]
        }
      ]
    },
    {
      "cell_type": "code",
      "source": [
        "planet = \"earth\"\n",
        "rank = 3\n",
        "\n",
        "my_str = \"I live on {}, and we are {} planet\".format(planet, rank)\n",
        "print(my_str)\n",
        "print(type(my_str))"
      ],
      "metadata": {
        "colab": {
          "base_uri": "https://localhost:8080/"
        },
        "id": "VXIJXNGvjsaX",
        "outputId": "13d69b15-e1fa-4970-c7c7-f1dfc6910b7a"
      },
      "execution_count": 31,
      "outputs": [
        {
          "output_type": "stream",
          "name": "stdout",
          "text": [
            "I live on earth, and we are 3 planet\n",
            "<class 'str'>\n"
          ]
        }
      ]
    },
    {
      "cell_type": "code",
      "source": [
        "# Question-1\n",
        "# Take a string input from user and print that string character by character,\n",
        "# with each character in new line.\n",
        "\n",
        "# Input:\n",
        "# \"INDIA\"\n",
        "\n",
        "# Output:\n",
        "# I\n",
        "# N\n",
        "# D\n",
        "# I\n",
        "# A"
      ],
      "metadata": {
        "id": "hTsFVexckmZH"
      },
      "execution_count": null,
      "outputs": []
    },
    {
      "cell_type": "code",
      "source": [
        "my_str = input()\n",
        "for c in my_str:\n",
        "    print(c)"
      ],
      "metadata": {
        "colab": {
          "base_uri": "https://localhost:8080/"
        },
        "id": "XUyR9sR5ldKw",
        "outputId": "46b751bf-b600-4230-90a9-e541f56d501b"
      },
      "execution_count": 33,
      "outputs": [
        {
          "output_type": "stream",
          "name": "stdout",
          "text": [
            "INDIA\n",
            "I\n",
            "N\n",
            "D\n",
            "I\n",
            "A\n"
          ]
        }
      ]
    },
    {
      "cell_type": "code",
      "source": [
        "# Question-2\n",
        "# Take a string input from user.\n",
        "# Print the following.\n",
        "# Print format:\n",
        "\n",
        "# \"First Character - <first_character>, Last Character - <last_character>\"\n",
        "\n",
        "# Input:\n",
        "# \"INDIA\"\n",
        "\n",
        "# Output:\n",
        "# \"First Character - I, Last Character - A\""
      ],
      "metadata": {
        "id": "mGFr3M8Wl4Vt"
      },
      "execution_count": null,
      "outputs": []
    },
    {
      "cell_type": "code",
      "source": [
        "my_str = input()\n",
        "print(f\"First Character - {my_str[0]}, Last Character - {my_str[-1]}\")"
      ],
      "metadata": {
        "colab": {
          "base_uri": "https://localhost:8080/"
        },
        "id": "5RKNQWy5m80R",
        "outputId": "6f686a90-6abd-42b4-ddac-b5cdfb37b90d"
      },
      "execution_count": 34,
      "outputs": [
        {
          "output_type": "stream",
          "name": "stdout",
          "text": [
            "INDIA\n",
            "First Character - I, Last Character - A\n"
          ]
        }
      ]
    },
    {
      "cell_type": "code",
      "source": [
        "my_str = \"INDIA\"\n",
        "print(my_str)\n",
        "print(my_str[1])\n",
        "my_str[1] ='n' # >> they are NON-editable/immutable"
      ],
      "metadata": {
        "colab": {
          "base_uri": "https://localhost:8080/",
          "height": 246
        },
        "id": "xDHdcHOUnIyl",
        "outputId": "3a6bcefd-9dd1-4b9e-9060-07d5ccfca57e"
      },
      "execution_count": 36,
      "outputs": [
        {
          "output_type": "stream",
          "name": "stdout",
          "text": [
            "INDIA\n",
            "N\n"
          ]
        },
        {
          "output_type": "error",
          "ename": "TypeError",
          "evalue": "ignored",
          "traceback": [
            "\u001b[0;31m---------------------------------------------------------------------------\u001b[0m",
            "\u001b[0;31mTypeError\u001b[0m                                 Traceback (most recent call last)",
            "\u001b[0;32m<ipython-input-36-0a52ca0caae6>\u001b[0m in \u001b[0;36m<cell line: 4>\u001b[0;34m()\u001b[0m\n\u001b[1;32m      2\u001b[0m \u001b[0mprint\u001b[0m\u001b[0;34m(\u001b[0m\u001b[0mmy_str\u001b[0m\u001b[0;34m)\u001b[0m\u001b[0;34m\u001b[0m\u001b[0;34m\u001b[0m\u001b[0m\n\u001b[1;32m      3\u001b[0m \u001b[0mprint\u001b[0m\u001b[0;34m(\u001b[0m\u001b[0mmy_str\u001b[0m\u001b[0;34m[\u001b[0m\u001b[0;36m1\u001b[0m\u001b[0;34m]\u001b[0m\u001b[0;34m)\u001b[0m\u001b[0;34m\u001b[0m\u001b[0;34m\u001b[0m\u001b[0m\n\u001b[0;32m----> 4\u001b[0;31m \u001b[0mmy_str\u001b[0m\u001b[0;34m[\u001b[0m\u001b[0;36m1\u001b[0m\u001b[0;34m]\u001b[0m \u001b[0;34m=\u001b[0m\u001b[0;34m'n'\u001b[0m\u001b[0;34m\u001b[0m\u001b[0;34m\u001b[0m\u001b[0m\n\u001b[0m",
            "\u001b[0;31mTypeError\u001b[0m: 'str' object does not support item assignment"
          ]
        }
      ]
    },
    {
      "cell_type": "code",
      "source": [
        "# Question-3\n",
        "# Take a string input from user.\n",
        "# Reverse that string."
      ],
      "metadata": {
        "id": "oeCNPf_CnYAk"
      },
      "execution_count": null,
      "outputs": []
    },
    {
      "cell_type": "code",
      "source": [
        "my_str = input()\n",
        "print(my_str[::-1])"
      ],
      "metadata": {
        "colab": {
          "base_uri": "https://localhost:8080/"
        },
        "id": "5bT7vfppoOvR",
        "outputId": "42459a1e-6616-414f-a0bd-ee7eb5bd2830"
      },
      "execution_count": 37,
      "outputs": [
        {
          "output_type": "stream",
          "name": "stdout",
          "text": [
            "my string\n",
            "gnirts ym\n"
          ]
        }
      ]
    },
    {
      "cell_type": "code",
      "source": [
        "# Question-4\n",
        "# Take a string input from user.\n",
        "# Return \"PALINDROME\" if the string is a palindrome, otherwise return \"NOT A PALINDROME\"."
      ],
      "metadata": {
        "id": "tHl5FJgboSET"
      },
      "execution_count": null,
      "outputs": []
    },
    {
      "cell_type": "code",
      "source": [
        "my_str = input().lower()\n",
        "if my_str==my_str[::-1]:\n",
        "    print(\"PALINDROME\")\n",
        "else:\n",
        "    print(\"NOT A PALINDROME\")"
      ],
      "metadata": {
        "colab": {
          "base_uri": "https://localhost:8080/"
        },
        "id": "1coKNJmQpruX",
        "outputId": "a8b8ef7a-5e86-416c-d99c-760d5ac92a9b"
      },
      "execution_count": 43,
      "outputs": [
        {
          "output_type": "stream",
          "name": "stdout",
          "text": [
            "Noon\n",
            "PALINDROME\n"
          ]
        }
      ]
    },
    {
      "cell_type": "code",
      "source": [
        "# Noon == nooN❌"
      ],
      "metadata": {
        "id": "xch0gmhkqFOz"
      },
      "execution_count": null,
      "outputs": []
    },
    {
      "cell_type": "code",
      "source": [
        "# Question-5\n",
        "# Take a string input from user.\n",
        "# Print the number of upper case characters in that string."
      ],
      "metadata": {
        "id": "wH72iMZaqkop"
      },
      "execution_count": null,
      "outputs": []
    },
    {
      "cell_type": "code",
      "source": [
        "my_str = \"This is a RANDOM strinG 67890, ^$#@\""
      ],
      "metadata": {
        "id": "egA2YP33t3X4"
      },
      "execution_count": 50,
      "outputs": []
    },
    {
      "cell_type": "code",
      "source": [
        "#1\n",
        "count = 0\n",
        "for character in my_str:\n",
        "    if ord(character)>=65 and ord(character)<=90:\n",
        "        count+=1\n",
        "print(count)"
      ],
      "metadata": {
        "colab": {
          "base_uri": "https://localhost:8080/"
        },
        "id": "1K2hMsKbuDnt",
        "outputId": "6532f40e-0c06-4b22-e7b0-ea463091e849"
      },
      "execution_count": 51,
      "outputs": [
        {
          "output_type": "stream",
          "name": "stdout",
          "text": [
            "8\n"
          ]
        }
      ]
    },
    {
      "cell_type": "code",
      "source": [
        "#2\n",
        "count = 0\n",
        "for character in my_str:\n",
        "    if character.isupper():\n",
        "        count+=1\n",
        "print(count)"
      ],
      "metadata": {
        "colab": {
          "base_uri": "https://localhost:8080/"
        },
        "id": "8_QUJRCWuSWp",
        "outputId": "e0a75dc4-d1f3-4a2d-f5e9-606b13d3fb52"
      },
      "execution_count": 52,
      "outputs": [
        {
          "output_type": "stream",
          "name": "stdout",
          "text": [
            "8\n"
          ]
        }
      ]
    },
    {
      "cell_type": "code",
      "source": [
        "# split and join\n",
        "\n",
        "\n",
        "my_str = \"1,2,3,4,5,6\"\n",
        "print(my_str.split(','))"
      ],
      "metadata": {
        "colab": {
          "base_uri": "https://localhost:8080/"
        },
        "id": "J-8thBZgubR-",
        "outputId": "c0d65789-bf0d-4c27-85c3-89365591f8be"
      },
      "execution_count": 53,
      "outputs": [
        {
          "output_type": "stream",
          "name": "stdout",
          "text": [
            "['1', '2', '3', '4', '5', '6']\n"
          ]
        }
      ]
    },
    {
      "cell_type": "code",
      "source": [
        "my_list_of_strs = ['1', '2', '3', '4', '5', '6']\n",
        "print(' '.join(my_list_of_strs))\n",
        "print('__'.join(my_list_of_strs))\n",
        "join_using = \":\"\n",
        "print(join_using.join(my_list_of_strs))"
      ],
      "metadata": {
        "colab": {
          "base_uri": "https://localhost:8080/"
        },
        "id": "lv7FLvERu77g",
        "outputId": "e4db19b5-4840-40d9-d054-e621c1eda1f2"
      },
      "execution_count": 57,
      "outputs": [
        {
          "output_type": "stream",
          "name": "stdout",
          "text": [
            "1 2 3 4 5 6\n",
            "1__2__3__4__5__6\n",
            "1:2:3:4:5:6\n"
          ]
        }
      ]
    },
    {
      "cell_type": "code",
      "source": [
        "# Question-6\n",
        "# You are given a list of numbers between 1 and 256.\n",
        "# Generate a string from the char values of these numbers.\n",
        "\n",
        "# Input:\n",
        "# [65, 97, 68]\n",
        "\n",
        "# Output:\n",
        "# Aad\n",
        "\n",
        "# Explanation\n",
        "# chr(65) - A\n",
        "# chr(97) - a\n",
        "# chr(68) - d"
      ],
      "metadata": {
        "id": "16pQNP7svM5u"
      },
      "execution_count": null,
      "outputs": []
    },
    {
      "cell_type": "code",
      "source": [
        "#1\n",
        "def generate_str(lst):\n",
        "    s = \"\"\n",
        "    for i in lst:\n",
        "        s+=chr(i)\n",
        "    return s\n",
        "generate_str(lst=[65, 97, 68])"
      ],
      "metadata": {
        "colab": {
          "base_uri": "https://localhost:8080/",
          "height": 35
        },
        "id": "rqwAXojRw38q",
        "outputId": "945a041a-ea36-4f4c-f803-344f12005cf5"
      },
      "execution_count": 58,
      "outputs": [
        {
          "output_type": "execute_result",
          "data": {
            "text/plain": [
              "'AaD'"
            ],
            "application/vnd.google.colaboratory.intrinsic+json": {
              "type": "string"
            }
          },
          "metadata": {},
          "execution_count": 58
        }
      ]
    },
    {
      "cell_type": "code",
      "source": [
        "#2\n",
        "def generate_str(lst):\n",
        "    s = []\n",
        "    for i in lst:\n",
        "        s.append(chr(i))\n",
        "    return \"\".join(s)\n",
        "generate_str(lst=[65, 97, 68])"
      ],
      "metadata": {
        "colab": {
          "base_uri": "https://localhost:8080/",
          "height": 35
        },
        "id": "mzcKOfRnxFoW",
        "outputId": "2e0b9660-a101-469f-8b85-08463d8b2797"
      },
      "execution_count": 59,
      "outputs": [
        {
          "output_type": "execute_result",
          "data": {
            "text/plain": [
              "'AaD'"
            ],
            "application/vnd.google.colaboratory.intrinsic+json": {
              "type": "string"
            }
          },
          "metadata": {},
          "execution_count": 59
        }
      ]
    },
    {
      "cell_type": "code",
      "source": [
        "# Question-7\n",
        "# Get input from the user of a string of comma separated int.\n",
        "# Convert it into a list  of individual int.\n",
        "\n",
        "# \"56,78,99,101\"\n",
        "# [56, 78, 99, 101]"
      ],
      "metadata": {
        "id": "uuth9JGyxSoF"
      },
      "execution_count": null,
      "outputs": []
    },
    {
      "cell_type": "code",
      "source": [
        "user_input = input()\n",
        "print(\"user_input:\", user_input)\n",
        "user_input_split = user_input.split(',')\n",
        "print(\"user_input_split:\", user_input_split)\n",
        "result = []\n",
        "for i in user_input_split:\n",
        "    result.append(int(i))\n",
        "result"
      ],
      "metadata": {
        "colab": {
          "base_uri": "https://localhost:8080/"
        },
        "id": "r_LMDz32zLQX",
        "outputId": "ea92419c-256c-41a2-e263-bd5bf785f7fa"
      },
      "execution_count": 61,
      "outputs": [
        {
          "output_type": "stream",
          "name": "stdout",
          "text": [
            "56,78,99,101\n",
            "user_input: 56,78,99,101\n",
            "user_input_split: ['56', '78', '99', '101']\n"
          ]
        },
        {
          "output_type": "execute_result",
          "data": {
            "text/plain": [
              "[56, 78, 99, 101]"
            ]
          },
          "metadata": {},
          "execution_count": 61
        }
      ]
    },
    {
      "cell_type": "markdown",
      "source": [
        "![](https://www.researchgate.net/profile/Benjamin-Burroughs/publication/282513413/figure/fig3/AS:286648472092674@1445353729169/A-humorous-meme-blending-the-doubt-your-doubts-line-with-the-popular-most.png)"
      ],
      "metadata": {
        "id": "Z_-Kb5zy0Vvv"
      }
    },
    {
      "cell_type": "code",
      "source": [
        "\n",
        "# Chandnika R\n",
        "# To: Everyone\n",
        "# 8:42 AM\n",
        "new_str = \"hello\"\n",
        "new_str = new_str.join(\"hi\")\n",
        "new_str"
      ],
      "metadata": {
        "colab": {
          "base_uri": "https://localhost:8080/",
          "height": 35
        },
        "id": "gnA31sX_0kWZ",
        "outputId": "99cca9f2-460e-407a-8e25-df24a793bda9"
      },
      "execution_count": 62,
      "outputs": [
        {
          "output_type": "execute_result",
          "data": {
            "text/plain": [
              "'hhelloi'"
            ],
            "application/vnd.google.colaboratory.intrinsic+json": {
              "type": "string"
            }
          },
          "metadata": {},
          "execution_count": 62
        }
      ]
    },
    {
      "cell_type": "code",
      "source": [
        "h--i"
      ],
      "metadata": {
        "id": "r52KftPa0o_w"
      },
      "execution_count": null,
      "outputs": []
    },
    {
      "cell_type": "code",
      "source": [
        "\"hi\".join(\"hello\")"
      ],
      "metadata": {
        "colab": {
          "base_uri": "https://localhost:8080/",
          "height": 35
        },
        "id": "tEid01sy0sZ0",
        "outputId": "3bffbecf-bee5-4897-f1af-f47d417f3443"
      },
      "execution_count": 63,
      "outputs": [
        {
          "output_type": "execute_result",
          "data": {
            "text/plain": [
              "'hhiehilhilhio'"
            ],
            "application/vnd.google.colaboratory.intrinsic+json": {
              "type": "string"
            }
          },
          "metadata": {},
          "execution_count": 63
        }
      ]
    },
    {
      "cell_type": "code",
      "source": [
        "h--e--l--l--o"
      ],
      "metadata": {
        "id": "bWQhOHFy0wlV"
      },
      "execution_count": null,
      "outputs": []
    }
  ]
}