{
  "nbformat": 4,
  "nbformat_minor": 0,
  "metadata": {
    "colab": {
      "provenance": [],
      "authorship_tag": "ABX9TyPOi2GWIZbRN+Kgdt9KLOz2",
      "include_colab_link": true
    },
    "kernelspec": {
      "name": "python3",
      "display_name": "Python 3"
    },
    "language_info": {
      "name": "python"
    }
  },
  "cells": [
    {
      "cell_type": "markdown",
      "metadata": {
        "id": "view-in-github",
        "colab_type": "text"
      },
      "source": [
        "<a href=\"https://colab.research.google.com/gist/singhsidhukuldeep/2b83158af540215e6342f2ce188558c6/beginner-lists-1d-16october2023.ipynb\" target=\"_parent\"><img src=\"https://colab.research.google.com/assets/colab-badge.svg\" alt=\"Open In Colab\"/></a>"
      ]
    },
    {
      "cell_type": "markdown",
      "source": [
        "<center>\n",
        "\n",
        "# Beginner : Lists - 1D - 16October2023\n",
        "\n",
        "<img src=\"https://inventyourshit.com/wp-content/uploads/2020/11/4l8rtu.jpg\" width=\"40%\">\n",
        "\n",
        "</center>"
      ],
      "metadata": {
        "id": "lHfvOd0npalh"
      }
    },
    {
      "cell_type": "code",
      "execution_count": null,
      "metadata": {
        "id": "BSz050k9paBH"
      },
      "outputs": [],
      "source": [
        "### PTYHON LISTS 🐍\n",
        "# 1 Why Python lists?\n",
        "# 2 How to create python lists?\n",
        "# 3 what Python lists::: functionality and concepts revolving python lists"
      ]
    },
    {
      "cell_type": "code",
      "source": [
        "# data types>> Primitive DS>> 1 data point at a time\n",
        "# str, int, float, bool, None"
      ],
      "metadata": {
        "id": "ZwDKHhd6IbCb"
      },
      "execution_count": null,
      "outputs": []
    },
    {
      "cell_type": "code",
      "source": [
        "# Non Primitive DS >> stores more than 1 data point at a time\n",
        "# >> Python lists"
      ],
      "metadata": {
        "id": "nQpocDBnIoIf"
      },
      "execution_count": null,
      "outputs": []
    },
    {
      "cell_type": "code",
      "source": [
        "# planet earth 🌍🌎🌏🌐\n",
        "name = \"Earth\"\n",
        "rank = 3\n",
        "diameter = 12742.6\n",
        "haveWeFoundAlliens = False\n",
        "\n",
        "print(name, type(name))\n",
        "print(rank, type(rank))\n",
        "print(diameter, type(diameter))\n",
        "print(haveWeFoundAlliens, type(haveWeFoundAlliens))"
      ],
      "metadata": {
        "colab": {
          "base_uri": "https://localhost:8080/"
        },
        "id": "TSgWgi9JI3R2",
        "outputId": "f3e2b82b-2098-47c8-e70b-ce222c2ed2f9"
      },
      "execution_count": 1,
      "outputs": [
        {
          "output_type": "stream",
          "name": "stdout",
          "text": [
            "Earth <class 'str'>\n",
            "3 <class 'int'>\n",
            "12742.6 <class 'float'>\n",
            "False <class 'bool'>\n"
          ]
        }
      ]
    },
    {
      "cell_type": "code",
      "source": [
        "# total planets >> 9\n",
        "# for a single planet >> 4 vars, 4 simple pieces of info, 4 different lines\n",
        "# 9*4 = 36"
      ],
      "metadata": {
        "id": "JByV2JMtJjfp"
      },
      "execution_count": null,
      "outputs": []
    },
    {
      "cell_type": "code",
      "source": [
        "# SBI\n",
        "## name, age, bal, criminalRecord\n",
        "# 1 cust>>4 var\n",
        "# 10mil >> 40mil var"
      ],
      "metadata": {
        "id": "tut5CD7RKWf9"
      },
      "execution_count": null,
      "outputs": []
    },
    {
      "cell_type": "code",
      "source": [
        "# python 🐍 lists\n",
        "# ✅[]\n",
        "# ❌{}, ()\n",
        "emptyList = []\n",
        "print(emptyList)\n",
        "print(type(emptyList))"
      ],
      "metadata": {
        "colab": {
          "base_uri": "https://localhost:8080/"
        },
        "id": "NqWRku4EKwiM",
        "outputId": "45f32f00-33aa-47fb-9427-ec82da05a6fb"
      },
      "execution_count": 2,
      "outputs": [
        {
          "output_type": "stream",
          "name": "stdout",
          "text": [
            "[]\n",
            "<class 'list'>\n"
          ]
        }
      ]
    },
    {
      "cell_type": "code",
      "source": [
        "player = ['Ronaldo', 38, 185.5, True, None]\n",
        "print(player)\n",
        "print(type(player))"
      ],
      "metadata": {
        "colab": {
          "base_uri": "https://localhost:8080/"
        },
        "id": "na1toHwwLGQ8",
        "outputId": "fdd2ca49-f3a6-4a39-fe07-fbc8d8672bfb"
      },
      "execution_count": 3,
      "outputs": [
        {
          "output_type": "stream",
          "name": "stdout",
          "text": [
            "['Ronaldo', 38, 185.5, True, None]\n",
            "<class 'list'>\n"
          ]
        }
      ]
    },
    {
      "cell_type": "code",
      "source": [
        "grocceryList = [3, 'tables', 3, 'chairs', 1.5, 'apples', ['Ronaldo', 38, 185.5, True, None]]\n",
        "print(grocceryList)\n",
        "print(type(grocceryList))"
      ],
      "metadata": {
        "colab": {
          "base_uri": "https://localhost:8080/"
        },
        "id": "AXh-pFh0LPcf",
        "outputId": "937b6df6-13fb-4bec-c193-650f8656b995"
      },
      "execution_count": 4,
      "outputs": [
        {
          "output_type": "stream",
          "name": "stdout",
          "text": [
            "[3, 'tables', 3, 'chairs', 1.5, 'apples', ['Ronaldo', 38, 185.5, True, None]]\n",
            "<class 'list'>\n"
          ]
        }
      ]
    },
    {
      "cell_type": "code",
      "source": [
        "# python lists can store absolutely any data type, even another list\n",
        "# python lists can store duplicate values\n",
        "# python lists maintain order"
      ],
      "metadata": {
        "id": "qc6yz1uCLjGb"
      },
      "execution_count": null,
      "outputs": []
    },
    {
      "cell_type": "code",
      "source": [
        "# ordering\n",
        "# 0-indexing\n",
        "\n",
        "###########     0         1       2       3       4\n",
        "avengers = ['iron-man', 'thor', 'cap', 'hulk', 'groot']\n",
        "\n",
        "print(avengers)\n",
        "\n",
        "print(avengers[0])\n",
        "print(avengers[1])\n",
        "print(avengers[2])\n",
        "print(avengers[3])\n",
        "print(avengers[4])\n",
        "# print(avengers[5]) # ❌❌❌ IndexError: list index out of range\n",
        "\n",
        "print(\"Number of elements in python list are\", len(avengers))"
      ],
      "metadata": {
        "colab": {
          "base_uri": "https://localhost:8080/"
        },
        "id": "c4bbMfaNMAnK",
        "outputId": "7c015dea-599d-4df1-d98a-87a09c7b7aec"
      },
      "execution_count": 10,
      "outputs": [
        {
          "output_type": "stream",
          "name": "stdout",
          "text": [
            "['iron-man', 'thor', 'cap', 'hulk', 'groot']\n",
            "iron-man\n",
            "thor\n",
            "cap\n",
            "hulk\n",
            "groot\n",
            "Number of elements in python list are 5\n"
          ]
        }
      ]
    },
    {
      "cell_type": "code",
      "source": [
        "###########     0         1       2       3       4\n",
        "avengers = ['iron-man', 'thor', 'cap', 'hulk', 'groot']\n",
        "\n",
        "print(avengers)\n",
        "print(\"Number of elements in python list are:\", len(avengers))\n",
        "\n",
        "print(\"The first element in my python list is:\", avengers[0])\n",
        "print(\"The last element in my python list is:\", avengers[len(avengers)-1])"
      ],
      "metadata": {
        "colab": {
          "base_uri": "https://localhost:8080/"
        },
        "id": "0HPohsVRNWcP",
        "outputId": "a41a9ea0-8592-4338-9504-282de7ad3150"
      },
      "execution_count": 13,
      "outputs": [
        {
          "output_type": "stream",
          "name": "stdout",
          "text": [
            "['iron-man', 'thor', 'cap', 'hulk', 'groot']\n",
            "Number of elements in python list are: 5\n",
            "The first element in my python list is: iron-man\n",
            "The last element in my python list is: groot\n"
          ]
        }
      ]
    },
    {
      "cell_type": "code",
      "source": [
        "# ordering\n",
        "# 0-indexing\n",
        "# -ive indexing\n",
        "\n",
        "###########     0         1       2       3       4\n",
        "avengers = ['iron-man', 'thor', 'cap', 'hulk', 'groot']\n",
        "###########    -5        -4      -3      -2      -1\n",
        "print(avengers)\n",
        "\n",
        "print(avengers[0], avengers[-5])\n",
        "print(avengers[1], avengers[-4])\n",
        "print(avengers[2], avengers[-3])\n",
        "print(avengers[3], avengers[-2])\n",
        "print(avengers[4], avengers[-1])\n",
        "\n",
        "# print(avengers[5]) # ❌❌❌ IndexError: list index out of range\n",
        "# print(avengers[-6]) # ❌❌❌ IndexError: list index out of range"
      ],
      "metadata": {
        "colab": {
          "base_uri": "https://localhost:8080/"
        },
        "id": "MaoW9LyHOkUN",
        "outputId": "e4c48500-b3ce-4683-fb1e-28f8db04da18"
      },
      "execution_count": 17,
      "outputs": [
        {
          "output_type": "stream",
          "name": "stdout",
          "text": [
            "['iron-man', 'thor', 'cap', 'hulk', 'groot']\n",
            "iron-man iron-man\n",
            "thor thor\n",
            "cap cap\n",
            "hulk hulk\n",
            "groot groot\n"
          ]
        }
      ]
    },
    {
      "cell_type": "code",
      "source": [
        "\n",
        "# Arifa Tazeen\n",
        "# To: Everyone\n",
        "# 7:42 AM\n",
        "# why negative indexing doesn't start with 0\n",
        "\n",
        "###########     0         1       2       3       4\n",
        "avengers = ['iron-man', 'thor', 'cap', 'hulk', 'groot']\n",
        "###########                                       0\n",
        "print(avengers)\n",
        "\n",
        "print(avengers[0])\n",
        "print(-0==0)"
      ],
      "metadata": {
        "colab": {
          "base_uri": "https://localhost:8080/"
        },
        "id": "lR0p0F5dQU8r",
        "outputId": "254fc99e-1fe9-4088-8ddc-d21e51931234"
      },
      "execution_count": 15,
      "outputs": [
        {
          "output_type": "stream",
          "name": "stdout",
          "text": [
            "['iron-man', 'thor', 'cap', 'hulk', 'groot']\n",
            "iron-man\n",
            "True\n"
          ]
        }
      ]
    },
    {
      "cell_type": "code",
      "source": [
        "###########     0         1       2       3       4\n",
        "avengers = ['iron-man', 'thor', 'cap', 'hulk', 'groot']\n",
        "###########    -5        -4      -3      -2      -1\n",
        "print(avengers)\n",
        "\n",
        "bestAvenger = avengers[1]\n",
        "print(bestAvenger)\n",
        "print(type(bestAvenger))\n",
        "print(len(bestAvenger))"
      ],
      "metadata": {
        "colab": {
          "base_uri": "https://localhost:8080/"
        },
        "id": "YKwzMOiNQ1py",
        "outputId": "8af1d819-5945-4def-d92b-6de2ac62724c"
      },
      "execution_count": 19,
      "outputs": [
        {
          "output_type": "stream",
          "name": "stdout",
          "text": [
            "['iron-man', 'thor', 'cap', 'hulk', 'groot']\n",
            "thor\n",
            "<class 'str'>\n",
            "4\n"
          ]
        }
      ]
    },
    {
      "cell_type": "code",
      "source": [
        "# Question - 1\n",
        "# Given the list runs = [45, 67, 89, 12, 34, 56, 100]\n",
        "# print the total of the runs on odd matches in the list.\n",
        "#        1   2   3  4    5   6   7\n",
        "runs = [45, 67, 89, 12, 34, 56, 100]\n",
        "#        0   1   2   3   4   5   6\n",
        "print(runs[0]+runs[2]+runs[4]+runs[6])"
      ],
      "metadata": {
        "colab": {
          "base_uri": "https://localhost:8080/"
        },
        "id": "O-1B-k51RUOi",
        "outputId": "b6f5521e-7b61-4040-8684-9648d253461f"
      },
      "execution_count": 20,
      "outputs": [
        {
          "output_type": "stream",
          "name": "stdout",
          "text": [
            "268\n"
          ]
        }
      ]
    },
    {
      "cell_type": "code",
      "source": [
        "for i in range(0,len(runs), 2):\n",
        "    print(i)"
      ],
      "metadata": {
        "colab": {
          "base_uri": "https://localhost:8080/"
        },
        "id": "h8PLiR_VS_Do",
        "outputId": "cac1b9c4-9d8f-4b9f-9014-3cbd0fffeb3a"
      },
      "execution_count": 21,
      "outputs": [
        {
          "output_type": "stream",
          "name": "stdout",
          "text": [
            "0\n",
            "2\n",
            "4\n",
            "6\n"
          ]
        }
      ]
    },
    {
      "cell_type": "code",
      "source": [
        "# read"
      ],
      "metadata": {
        "id": "xpSb7K-ST3_2"
      },
      "execution_count": null,
      "outputs": []
    },
    {
      "cell_type": "code",
      "source": [
        "###########     0         1       2       3       4\n",
        "avengers = ['iron-man', 'thor', 'cap', 'hulk', 'groot']\n",
        "###########    -5        -4      -3      -2      -1\n",
        "print(avengers)\n",
        "\n",
        "\n",
        "\n",
        "print(avengers[1])\n",
        "print(avengers[-2 ])"
      ],
      "metadata": {
        "colab": {
          "base_uri": "https://localhost:8080/"
        },
        "id": "qSamKpkrTVvg",
        "outputId": "a790e1bd-6437-4a77-f9d6-cd3d9470498f"
      },
      "execution_count": 23,
      "outputs": [
        {
          "output_type": "stream",
          "name": "stdout",
          "text": [
            "['iron-man', 'thor', 'cap', 'hulk', 'groot']\n",
            "thor\n",
            "hulk\n"
          ]
        }
      ]
    },
    {
      "cell_type": "code",
      "source": [
        "# add"
      ],
      "metadata": {
        "id": "K9GgojmLT2zb"
      },
      "execution_count": null,
      "outputs": []
    },
    {
      "cell_type": "code",
      "source": [
        "###########     0         1       2       3       4\n",
        "avengers = ['iron-man', 'thor', 'cap', 'hulk', 'groot']\n",
        "###########    -5        -4      -3      -2      -1\n",
        "print(avengers)\n",
        "\n",
        "\n",
        "# append >> will add 1 element at the end of the list\n",
        "avengers.append('gamora')\n",
        "print(avengers)\n",
        "avengers.append('rocket')\n",
        "print(avengers)"
      ],
      "metadata": {
        "colab": {
          "base_uri": "https://localhost:8080/"
        },
        "id": "bGtBsJ50T4ai",
        "outputId": "ad6a53a4-79ab-462a-aff6-172029c16631"
      },
      "execution_count": 25,
      "outputs": [
        {
          "output_type": "stream",
          "name": "stdout",
          "text": [
            "['iron-man', 'thor', 'cap', 'hulk', 'groot']\n",
            "['iron-man', 'thor', 'cap', 'hulk', 'groot', 'gamora']\n",
            "['iron-man', 'thor', 'cap', 'hulk', 'groot', 'gamora', 'rocket']\n"
          ]
        }
      ]
    },
    {
      "cell_type": "code",
      "source": [
        "###########     0         1       2       3       4\n",
        "avengers = ['iron-man', 'thor', 'cap', 'hulk', 'groot']\n",
        "###########    -5        -4      -3      -2      -1\n",
        "print(avengers)\n",
        "\n",
        "# insert >> insert will add a single element before a given index\n",
        "avengers.insert(2, 'gamora')\n",
        "print(avengers)\n",
        "avengers.insert(3, 'rocket')\n",
        "print(avengers)"
      ],
      "metadata": {
        "colab": {
          "base_uri": "https://localhost:8080/"
        },
        "id": "09FWyhbSUHUv",
        "outputId": "520d9c15-fbd2-4fb7-b669-67dea9055c20"
      },
      "execution_count": 27,
      "outputs": [
        {
          "output_type": "stream",
          "name": "stdout",
          "text": [
            "['iron-man', 'thor', 'cap', 'hulk', 'groot']\n",
            "['iron-man', 'thor', 'gamora', 'cap', 'hulk', 'groot']\n",
            "['iron-man', 'thor', 'gamora', 'rocket', 'cap', 'hulk', 'groot']\n"
          ]
        }
      ]
    },
    {
      "cell_type": "code",
      "source": [
        "###########     0         1       2       3       4\n",
        "avengers = ['iron-man', 'thor', 'cap', 'hulk', 'groot']\n",
        "###########    -5        -4      -3      -2      -1\n",
        "print(avengers)\n",
        "\n",
        "# extend >> takes a list and extends it by another list\n",
        "DC  = ['wonder-woman', 'superman', 'aquaman', 'flash']\n",
        "print(DC)\n",
        "\n",
        "avengers.extend(DC)\n",
        "print(avengers)"
      ],
      "metadata": {
        "colab": {
          "base_uri": "https://localhost:8080/"
        },
        "id": "oQ8_-89GUVHo",
        "outputId": "d191a268-ca7d-4684-a9b3-690e4deb58e3"
      },
      "execution_count": 28,
      "outputs": [
        {
          "output_type": "stream",
          "name": "stdout",
          "text": [
            "['iron-man', 'thor', 'cap', 'hulk', 'groot']\n",
            "['wonder-woman', 'superman', 'aquaman', 'flash']\n",
            "['iron-man', 'thor', 'cap', 'hulk', 'groot', 'wonder-woman', 'superman', 'aquaman', 'flash']\n"
          ]
        }
      ]
    },
    {
      "cell_type": "code",
      "source": [
        "# update"
      ],
      "metadata": {
        "id": "FJm_RD1kVZWW"
      },
      "execution_count": 29,
      "outputs": []
    },
    {
      "cell_type": "code",
      "source": [
        "###########     0         1       2       3       4\n",
        "avengers = ['iron-man', 'thor', 'cap', 'hulk', 'groot']\n",
        "###########    -5        -4      -3      -2      -1\n",
        "print(avengers)\n",
        "\n",
        "print(avengers[1])\n",
        "avengers[1] = 'God of thunder'\n",
        "print(avengers)"
      ],
      "metadata": {
        "colab": {
          "base_uri": "https://localhost:8080/"
        },
        "id": "1bbGdLtWVZ-3",
        "outputId": "1175623d-8fff-44df-d129-7d7af66a1053"
      },
      "execution_count": 31,
      "outputs": [
        {
          "output_type": "stream",
          "name": "stdout",
          "text": [
            "['iron-man', 'thor', 'cap', 'hulk', 'groot']\n",
            "thor\n",
            "['iron-man', 'God of thunder', 'cap', 'hulk', 'groot']\n"
          ]
        }
      ]
    },
    {
      "cell_type": "code",
      "source": [
        "###########     0         1       2       3       4\n",
        "avengers = ['iron-man', 'thor', 'cap', 'hulk', 'groot']\n",
        "###########    -5        -4      -3      -2      -1\n",
        "print(avengers)\n",
        "\n",
        "print(avengers[-1])\n",
        "avengers[-1] = ['groot', 'rocket']\n",
        "print(avengers)"
      ],
      "metadata": {
        "colab": {
          "base_uri": "https://localhost:8080/"
        },
        "id": "lw9vkJmUVrhh",
        "outputId": "eb7501a4-67a8-4507-da90-b6e1c326d3d8"
      },
      "execution_count": 33,
      "outputs": [
        {
          "output_type": "stream",
          "name": "stdout",
          "text": [
            "['iron-man', 'thor', 'cap', 'hulk', 'groot']\n",
            "groot\n",
            "['iron-man', 'thor', 'cap', 'hulk', ['groot', 'rocket']]\n"
          ]
        }
      ]
    },
    {
      "cell_type": "code",
      "source": [
        "# del/remove"
      ],
      "metadata": {
        "id": "lui-8wgiVuT_"
      },
      "execution_count": null,
      "outputs": []
    },
    {
      "cell_type": "code",
      "source": [
        "\n",
        "avengers = ['iron-man', 'thor', 'thanos', 'cap', 'hulk', 'thanos', 'groot']\n",
        "\n",
        "print(avengers)\n",
        "avengers.remove('thanos')\n",
        "print(avengers)\n",
        "avengers.remove('thanos')\n",
        "print(avengers)\n",
        "# remove>> will remove the first occurence of the element"
      ],
      "metadata": {
        "colab": {
          "base_uri": "https://localhost:8080/"
        },
        "id": "N7Klhmp9WSh5",
        "outputId": "ed88da0d-59a0-4136-aa77-8d7f3ed06f9d"
      },
      "execution_count": 35,
      "outputs": [
        {
          "output_type": "stream",
          "name": "stdout",
          "text": [
            "['iron-man', 'thor', 'thanos', 'cap', 'hulk', 'thanos', 'groot']\n",
            "['iron-man', 'thor', 'cap', 'hulk', 'thanos', 'groot']\n",
            "['iron-man', 'thor', 'cap', 'hulk', 'groot']\n"
          ]
        }
      ]
    },
    {
      "cell_type": "code",
      "source": [
        "###########     0         1       2       3       4\n",
        "avengers = ['iron-man', 'thor', 'cap', 'hulk', 'groot']\n",
        "###########    -5        -4      -3      -2      -1\n",
        "print(avengers)\n",
        "\n",
        "del avengers[1]\n",
        "print(avengers)"
      ],
      "metadata": {
        "colab": {
          "base_uri": "https://localhost:8080/"
        },
        "id": "M-sAksYPWoOo",
        "outputId": "2850203b-2145-4a1c-8ee4-8f13f361c71e"
      },
      "execution_count": 36,
      "outputs": [
        {
          "output_type": "stream",
          "name": "stdout",
          "text": [
            "['iron-man', 'thor', 'cap', 'hulk', 'groot']\n",
            "['iron-man', 'cap', 'hulk', 'groot']\n"
          ]
        }
      ]
    },
    {
      "cell_type": "code",
      "source": [
        "###########     0         1       2       3       4\n",
        "avengers = ['iron-man', 'thor', 'cap', 'hulk', 'groot']\n",
        "###########    -5        -4      -3      -2      -1\n",
        "print(avengers)\n",
        "\n",
        "avengers.pop(2 )\n",
        "print(avengers)\n",
        "\n",
        "removedElement = avengers.pop(0)\n",
        "print(removedElement)\n",
        "print(avengers)"
      ],
      "metadata": {
        "colab": {
          "base_uri": "https://localhost:8080/"
        },
        "id": "02avP_TJW31R",
        "outputId": "a2154eb0-58ef-4aad-d44b-83f25cd49b76"
      },
      "execution_count": 38,
      "outputs": [
        {
          "output_type": "stream",
          "name": "stdout",
          "text": [
            "['iron-man', 'thor', 'cap', 'hulk', 'groot']\n",
            "['iron-man', 'thor', 'hulk', 'groot']\n",
            "iron-man\n",
            "['thor', 'hulk', 'groot']\n"
          ]
        }
      ]
    },
    {
      "cell_type": "code",
      "source": [
        "my_list = [1, 2, 3, 4, 5]\n",
        "my_list.append(6)\n",
        "print(my_list)"
      ],
      "metadata": {
        "colab": {
          "base_uri": "https://localhost:8080/"
        },
        "id": "dEi1X2GOXCKN",
        "outputId": "9b1acea3-4425-4634-8813-415fe37f4f5c"
      },
      "execution_count": 39,
      "outputs": [
        {
          "output_type": "stream",
          "name": "stdout",
          "text": [
            "[1, 2, 3, 4, 5, 6]\n"
          ]
        }
      ]
    },
    {
      "cell_type": "code",
      "source": [
        "# Iterating lists"
      ],
      "metadata": {
        "id": "KITZCZHbYYf1"
      },
      "execution_count": null,
      "outputs": []
    },
    {
      "cell_type": "code",
      "source": [
        "avengers = ['iron-man', 'thor', 'cap', 'hulk', 'groot']\n",
        "print(avengers)\n",
        "\n",
        "# here element is a var, can call it whatever you want\n",
        "for element in avengers:\n",
        "    print(element)"
      ],
      "metadata": {
        "colab": {
          "base_uri": "https://localhost:8080/"
        },
        "id": "cPr_toeOXqyS",
        "outputId": "dd199884-444e-4eaa-ae71-df7f08ec92ab"
      },
      "execution_count": 40,
      "outputs": [
        {
          "output_type": "stream",
          "name": "stdout",
          "text": [
            "iron-man\n",
            "thor\n",
            "cap\n",
            "hulk\n",
            "groot\n"
          ]
        }
      ]
    },
    {
      "cell_type": "code",
      "source": [
        "###########     0         1       2       3       4\n",
        "avengers = ['iron-man', 'thor', 'cap', 'hulk', 'groot']\n",
        "###########    -5        -4      -3      -2      -1\n",
        "print(avengers)\n",
        "\n",
        "for i in range(0, len(avengers)): #0,1,2...len(avengers)-1\n",
        "    print(i, avengers[i])"
      ],
      "metadata": {
        "colab": {
          "base_uri": "https://localhost:8080/"
        },
        "id": "3FWpY4x9X_Us",
        "outputId": "357dcb7f-5345-4df9-9e34-0372aad78de6"
      },
      "execution_count": 41,
      "outputs": [
        {
          "output_type": "stream",
          "name": "stdout",
          "text": [
            "['iron-man', 'thor', 'cap', 'hulk', 'groot']\n",
            "0 iron-man\n",
            "1 thor\n",
            "2 cap\n",
            "3 hulk\n",
            "4 groot\n"
          ]
        }
      ]
    },
    {
      "cell_type": "code",
      "source": [
        "my_list = [1, 2, 3, 4, 5]\n",
        "i = -1\n",
        "while i >= -5:\n",
        "    print(my_list[i], end = \" \")\n",
        "    i -= 1"
      ],
      "metadata": {
        "colab": {
          "base_uri": "https://localhost:8080/"
        },
        "id": "ofj70UEGYSCm",
        "outputId": "e535ca45-235a-41d9-f5ce-abd8fbbe7548"
      },
      "execution_count": 42,
      "outputs": [
        {
          "output_type": "stream",
          "name": "stdout",
          "text": [
            "5 4 3 2 1 "
          ]
        }
      ]
    },
    {
      "cell_type": "code",
      "source": [
        "runs = [67, 54, 12, 34, 77, 89, 101]\n",
        "# Calculate the sum, average, max and min."
      ],
      "metadata": {
        "id": "7r3NCZs5ae3d"
      },
      "execution_count": null,
      "outputs": []
    },
    {
      "cell_type": "code",
      "source": [
        "runs = [67, 54, 12, 34, 77, 89, 101]\n",
        "\n",
        "total = 0\n",
        "count = 0\n",
        "for i in runs:\n",
        "    total+=i\n",
        "    count+=1\n",
        "print('count: ', count)\n",
        "print('total: ', total)\n",
        "print('average: ', total/count)"
      ],
      "metadata": {
        "colab": {
          "base_uri": "https://localhost:8080/"
        },
        "id": "IrLmv2z6bz9k",
        "outputId": "a6792f15-4f1d-4c7d-f0f4-0c071a27a9a7"
      },
      "execution_count": 46,
      "outputs": [
        {
          "output_type": "stream",
          "name": "stdout",
          "text": [
            "count:  7\n",
            "total:  434\n",
            "average:  62.0\n"
          ]
        }
      ]
    },
    {
      "cell_type": "code",
      "source": [
        "runs = [67, 54, 12, 34, 77, 89, 101]\n",
        "\n",
        "min_val = runs[0]\n",
        "for i in runs:\n",
        "    if i<min_val:\n",
        "        min_val=i\n",
        "print('min_val: ', min_val)"
      ],
      "metadata": {
        "colab": {
          "base_uri": "https://localhost:8080/"
        },
        "id": "iewEh8nob5xD",
        "outputId": "7660b775-c3e7-4b89-b48e-7a121cc99152"
      },
      "execution_count": 47,
      "outputs": [
        {
          "output_type": "stream",
          "name": "stdout",
          "text": [
            "min_val:  12\n"
          ]
        }
      ]
    },
    {
      "cell_type": "code",
      "source": [
        "runs = [67, 54, 12, 34, 77, 89, 101]\n",
        "\n",
        "max_val = runs[0]\n",
        "for i in runs:\n",
        "    if i>max_val:\n",
        "        max_val=i\n",
        "print('max_val: ', max_val)"
      ],
      "metadata": {
        "colab": {
          "base_uri": "https://localhost:8080/"
        },
        "id": "w5IvqzJlcpOk",
        "outputId": "87343dca-1c2a-49af-afe1-f3ddfe635713"
      },
      "execution_count": 48,
      "outputs": [
        {
          "output_type": "stream",
          "name": "stdout",
          "text": [
            "max_val:  101\n"
          ]
        }
      ]
    },
    {
      "cell_type": "code",
      "source": [
        "my_list = [1, 2, 3, 4, 5]\n",
        "i = 0\n",
        "while i < len(my_list):\n",
        "    if my_list[i] == 3:\n",
        "        break\n",
        "    print(my_list[i], end = \" \")\n",
        "    i += 1"
      ],
      "metadata": {
        "colab": {
          "base_uri": "https://localhost:8080/"
        },
        "id": "u6nfcIRhc_XC",
        "outputId": "8a8b37da-4065-4e3a-b2da-7fe0ad734776"
      },
      "execution_count": 49,
      "outputs": [
        {
          "output_type": "stream",
          "name": "stdout",
          "text": [
            "1 2 "
          ]
        }
      ]
    },
    {
      "cell_type": "code",
      "source": [
        "runs = [67, 54, 12, 34, 77, 89, 101]\n",
        "# Calculate the sum of runs made by Virat on all matches with even index.\n",
        "# use loops\n",
        "\n",
        "\n",
        "sum_even_index_runs = 0\n",
        "\n",
        "for i in range(len(runs)): # 0,1,2,3......len(runs)-1\n",
        "    if i%2==0:\n",
        "        sum_even_index_runs+=runs[i]\n",
        "print('sum_even_index_runs: ', sum_even_index_runs)"
      ],
      "metadata": {
        "colab": {
          "base_uri": "https://localhost:8080/"
        },
        "id": "_ti95Qr-dv73",
        "outputId": "e91d4bd8-81bf-4040-ae6f-0a2bac4c6d3f"
      },
      "execution_count": 50,
      "outputs": [
        {
          "output_type": "stream",
          "name": "stdout",
          "text": [
            "sum_even_index_runs:  257\n"
          ]
        }
      ]
    },
    {
      "cell_type": "code",
      "source": [
        "# f strings\n",
        "my_str = \"I live on Earth and that is 3 rank planet\"\n",
        "print(my_str)"
      ],
      "metadata": {
        "colab": {
          "base_uri": "https://localhost:8080/"
        },
        "id": "2629cizKfQw5",
        "outputId": "5d4563b9-71dd-4af4-fee3-d5a29d3ce0eb"
      },
      "execution_count": 51,
      "outputs": [
        {
          "output_type": "stream",
          "name": "stdout",
          "text": [
            "I live on Earth and that is 3 rank planet\n"
          ]
        }
      ]
    },
    {
      "cell_type": "code",
      "source": [
        "planetName = \"Earth\"\n",
        "planetRank = 3\n",
        "# f strings\n",
        "# 1 replace the data with var names in {}\n",
        "# 2 add f in front\n",
        "my_str = f\"I live on {planetName} and that is {planetRank} rank planet\"\n",
        "print(my_str)"
      ],
      "metadata": {
        "colab": {
          "base_uri": "https://localhost:8080/"
        },
        "id": "l-kTU7Gnfoc8",
        "outputId": "86f66a8e-9505-4cda-ee40-39f4994af21c"
      },
      "execution_count": 52,
      "outputs": [
        {
          "output_type": "stream",
          "name": "stdout",
          "text": [
            "I live on Earth and that is 3 rank planet\n"
          ]
        }
      ]
    },
    {
      "cell_type": "code",
      "source": [
        "planetName = \"Mars\"\n",
        "planetRank = 4\n",
        "# f strings\n",
        "# 1 replace the data with var names in {}\n",
        "# 2 add f in front\n",
        "my_str = f\"I live on {planetName} and that is {planetRank} rank planet\"\n",
        "print(my_str)"
      ],
      "metadata": {
        "colab": {
          "base_uri": "https://localhost:8080/"
        },
        "id": "30f90YI5f68K",
        "outputId": "799ec9e7-cb04-4bb3-d3b4-f86724bf4a38"
      },
      "execution_count": 53,
      "outputs": [
        {
          "output_type": "stream",
          "name": "stdout",
          "text": [
            "I live on Mars and that is 4 rank planet\n"
          ]
        }
      ]
    },
    {
      "cell_type": "code",
      "source": [
        "my_list = [\"apple\", \"banana\", \"orange\"]\n",
        "for i in range(len(my_list)):\n",
        "    print(f\"{my_list[i]} is a fruit.\", end = \" \")"
      ],
      "metadata": {
        "colab": {
          "base_uri": "https://localhost:8080/"
        },
        "id": "XjVIjd-Gf79n",
        "outputId": "7c7a62c9-5101-4d15-9275-84212855f7ab"
      },
      "execution_count": 54,
      "outputs": [
        {
          "output_type": "stream",
          "name": "stdout",
          "text": [
            "apple is a fruit. banana is a fruit. orange is a fruit. "
          ]
        }
      ]
    },
    {
      "cell_type": "code",
      "source": [
        "my_list = [10, 20, 30, 40, 50]\n",
        "i = 0\n",
        "while i < len(my_list):\n",
        "    my_list[i] *= 2\n",
        "    i += 1\n",
        "print(my_list)"
      ],
      "metadata": {
        "colab": {
          "base_uri": "https://localhost:8080/"
        },
        "id": "cZzs-nc5gn6_",
        "outputId": "36c36329-0556-4a3b-b0d6-ca340063e61f"
      },
      "execution_count": 55,
      "outputs": [
        {
          "output_type": "stream",
          "name": "stdout",
          "text": [
            "[20, 40, 60, 80, 100]\n"
          ]
        }
      ]
    }
  ]
}