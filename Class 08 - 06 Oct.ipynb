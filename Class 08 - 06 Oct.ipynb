{
  "nbformat": 4,
  "nbformat_minor": 0,
  "metadata": {
    "colab": {
      "provenance": [],
      "authorship_tag": "ABX9TyO8olTREyICW378qwmYje/f",
      "include_colab_link": true
    },
    "kernelspec": {
      "name": "python3",
      "display_name": "Python 3"
    },
    "language_info": {
      "name": "python"
    }
  },
  "cells": [
    {
      "cell_type": "markdown",
      "metadata": {
        "id": "view-in-github",
        "colab_type": "text"
      },
      "source": [
        "<a href=\"https://colab.research.google.com/gist/singhsidhukuldeep/8ad08a407c8c4acc1ef7c6e31d253a66/beginner-nested-loops-and-patterns-6th-october-2023.ipynb\" target=\"_parent\"><img src=\"https://colab.research.google.com/assets/colab-badge.svg\" alt=\"Open In Colab\"/></a>"
      ]
    },
    {
      "cell_type": "markdown",
      "source": [
        "<center>\n",
        "\n",
        "# Beginner : Nested Loops and Patterns - 6th October 2023"
      ],
      "metadata": {
        "id": "LMmndOh_oHwp"
      }
    },
    {
      "cell_type": "code",
      "execution_count": 2,
      "metadata": {
        "colab": {
          "base_uri": "https://localhost:8080/"
        },
        "id": "3n2B4WgUn_oh",
        "outputId": "bc438714-adc4-43aa-d880-b6ae8d4e554a"
      },
      "outputs": [
        {
          "output_type": "stream",
          "name": "stdout",
          "text": [
            "\n",
            "❓**Question**: Write a loop to print the following numbers - 1,4,7,10,13,16\n",
            "\n",
            "\n",
            "1,4,7,10,13,16\n"
          ]
        }
      ],
      "source": [
        "print(\"\"\"\n",
        "❓**Question**: Write a loop to print the following numbers - 1,4,7,10,13,16\n",
        "\n",
        "\"\"\")\n",
        "print(\"1,4,7,10,13,16\")"
      ]
    },
    {
      "cell_type": "code",
      "source": [
        "for num in range(1,17,3):\n",
        "    if num==16:\n",
        "        print(num, end=\"\")\n",
        "    else:\n",
        "        print(num, end=\",\")"
      ],
      "metadata": {
        "colab": {
          "base_uri": "https://localhost:8080/"
        },
        "id": "pSO-l7Haohpf",
        "outputId": "84d9414d-86ba-404a-c0e6-08307f1f2316"
      },
      "execution_count": 5,
      "outputs": [
        {
          "output_type": "stream",
          "name": "stdout",
          "text": [
            "1,4,7,10,13,16"
          ]
        }
      ]
    },
    {
      "cell_type": "code",
      "source": [
        "print(\"\"\"\n",
        "❓**Question**: Write a loop to print the following numbers - 1,3,7,13,21,31,43\n",
        "\n",
        "\"\"\")\n",
        "print(\"1,3,7,13,21,31,43\")"
      ],
      "metadata": {
        "colab": {
          "base_uri": "https://localhost:8080/"
        },
        "id": "k3Q-zdWaqdR-",
        "outputId": "86219db2-6af7-4567-b1b1-e795fd0ec1e6"
      },
      "execution_count": 6,
      "outputs": [
        {
          "output_type": "stream",
          "name": "stdout",
          "text": [
            "\n",
            "❓**Question**: Write a loop to print the following numbers - 1,3,7,13,21,31,43\n",
            "\n",
            "\n",
            "1,3,7,13,21,31,43\n"
          ]
        }
      ]
    },
    {
      "cell_type": "code",
      "source": [
        "# starting conditions\n",
        "number = 1\n",
        "gap = 2 # to track table of 2\n",
        "while number<=43:\n",
        "    if number==43:\n",
        "        print(number, end=\"\")\n",
        "    else:\n",
        "        print(number, end=\",\")\n",
        "    # print(number)\n",
        "    number+=gap\n",
        "    gap+=2"
      ],
      "metadata": {
        "colab": {
          "base_uri": "https://localhost:8080/"
        },
        "id": "muJJO3SssJn3",
        "outputId": "85427ce9-0028-4971-a16f-6170f7aaa1c6"
      },
      "execution_count": 8,
      "outputs": [
        {
          "output_type": "stream",
          "name": "stdout",
          "text": [
            "1,3,7,13,21,31,43"
          ]
        }
      ]
    },
    {
      "cell_type": "code",
      "source": [
        "# starting conditions\n",
        "number = 1\n",
        "gap = 1 # to track table of 2\n",
        "while number<=43:\n",
        "    if number==43:\n",
        "        print(number, end=\"\")\n",
        "    else:\n",
        "        print(number, end=\",\")\n",
        "    # print(number)\n",
        "    number+=(gap*2)\n",
        "    gap+=1"
      ],
      "metadata": {
        "colab": {
          "base_uri": "https://localhost:8080/"
        },
        "id": "ll5mc_c0s_sk",
        "outputId": "d6fe17be-666e-4a4b-bb4d-d76d2ed91691"
      },
      "execution_count": 10,
      "outputs": [
        {
          "output_type": "stream",
          "name": "stdout",
          "text": [
            "1,3,7,13,21,31,43"
          ]
        }
      ]
    },
    {
      "cell_type": "code",
      "source": [
        "x= 5\n",
        "print(x%2, x%2==0)\n",
        "print(bool(x%2), x%2==0)"
      ],
      "metadata": {
        "colab": {
          "base_uri": "https://localhost:8080/"
        },
        "id": "tW5xjT3atebG",
        "outputId": "c1c96d10-b14e-4886-a864-e7350de705ce"
      },
      "execution_count": 11,
      "outputs": [
        {
          "output_type": "stream",
          "name": "stdout",
          "text": [
            "1 False\n",
            "True False\n"
          ]
        }
      ]
    },
    {
      "cell_type": "code",
      "source": [
        "x= 50\n",
        "if x%2:\n",
        "    print('odd')\n",
        "else:\n",
        "    print('even')\n",
        "\n",
        "if x%2==0:\n",
        "    print('even')\n",
        "else:\n",
        "    print('odd')"
      ],
      "metadata": {
        "colab": {
          "base_uri": "https://localhost:8080/"
        },
        "id": "QXyOy17ltwdM",
        "outputId": "cd6d9faa-f982-4080-98a5-3a1017ec0adb"
      },
      "execution_count": 13,
      "outputs": [
        {
          "output_type": "stream",
          "name": "stdout",
          "text": [
            "even\n",
            "even\n"
          ]
        }
      ]
    },
    {
      "cell_type": "code",
      "source": [
        "print(list(range(7)))"
      ],
      "metadata": {
        "colab": {
          "base_uri": "https://localhost:8080/"
        },
        "id": "eCpPrOq8vrj6",
        "outputId": "150eca30-9c6c-40df-d46f-f288685b20ad"
      },
      "execution_count": 17,
      "outputs": [
        {
          "output_type": "stream",
          "name": "stdout",
          "text": [
            "[0, 1, 2, 3, 4, 5, 6]\n"
          ]
        }
      ]
    },
    {
      "cell_type": "code",
      "source": [
        "## 🦘 Jump Statements"
      ],
      "metadata": {
        "id": "LTrms2-puJ4S"
      },
      "execution_count": 14,
      "outputs": []
    },
    {
      "cell_type": "code",
      "source": [
        "# break >> the loop stops completely, the current iteration is stopped in between and no further iterations are done\n",
        "\n",
        "for i in range(7):\n",
        "    if i==3:\n",
        "        break\n",
        "    print(i)"
      ],
      "metadata": {
        "colab": {
          "base_uri": "https://localhost:8080/"
        },
        "id": "rSOV5l7NurKS",
        "outputId": "95f28c48-a1eb-47c8-a243-49d2f9337248"
      },
      "execution_count": 16,
      "outputs": [
        {
          "output_type": "stream",
          "name": "stdout",
          "text": [
            "0\n",
            "1\n",
            "2\n"
          ]
        }
      ]
    },
    {
      "cell_type": "code",
      "source": [
        "# continue >> the loop iteration is skipped, the current iteration is stopped in between and the further iterations are done\n",
        "\n",
        "for i in range(7):\n",
        "    if i==3:\n",
        "        continue\n",
        "    print(i)"
      ],
      "metadata": {
        "colab": {
          "base_uri": "https://localhost:8080/"
        },
        "id": "WJhEFCJbvfva",
        "outputId": "3353ece6-c7ce-40de-95b0-1786fecccc60"
      },
      "execution_count": 18,
      "outputs": [
        {
          "output_type": "stream",
          "name": "stdout",
          "text": [
            "0\n",
            "1\n",
            "2\n",
            "4\n",
            "5\n",
            "6\n"
          ]
        }
      ]
    },
    {
      "cell_type": "code",
      "source": [
        "# pass >> absolutely nothing/ we use it as a placeholder"
      ],
      "metadata": {
        "id": "BPpI-qRVwIjK"
      },
      "execution_count": null,
      "outputs": []
    },
    {
      "cell_type": "code",
      "source": [
        "if 2>5:\n",
        ""
      ],
      "metadata": {
        "colab": {
          "base_uri": "https://localhost:8080/",
          "height": 142
        },
        "id": "Q6cV2V1wwsrS",
        "outputId": "64020c31-0b8a-4f84-c487-01d564697e36"
      },
      "execution_count": 19,
      "outputs": [
        {
          "output_type": "error",
          "ename": "SyntaxError",
          "evalue": "ignored",
          "traceback": [
            "\u001b[0;36m  File \u001b[0;32m\"<ipython-input-19-5d0ad6e6dc56>\"\u001b[0;36m, line \u001b[0;32m2\u001b[0m\n\u001b[0;31m    \u001b[0m\n\u001b[0m    ^\u001b[0m\n\u001b[0;31mSyntaxError\u001b[0m\u001b[0;31m:\u001b[0m incomplete input\n"
          ]
        }
      ]
    },
    {
      "cell_type": "code",
      "source": [
        "if 2>5:\n",
        "    # TODO: write clause of operation\n",
        "    pass"
      ],
      "metadata": {
        "id": "hjLXhew8wxlC"
      },
      "execution_count": 20,
      "outputs": []
    },
    {
      "cell_type": "code",
      "source": [
        "for i in range(5):\n",
        ""
      ],
      "metadata": {
        "colab": {
          "base_uri": "https://localhost:8080/",
          "height": 142
        },
        "id": "65h_cHfMwyNf",
        "outputId": "8e20e6db-98fb-4fbf-9d77-184656be93a3"
      },
      "execution_count": 21,
      "outputs": [
        {
          "output_type": "error",
          "ename": "SyntaxError",
          "evalue": "ignored",
          "traceback": [
            "\u001b[0;36m  File \u001b[0;32m\"<ipython-input-21-3663e3ae6c9f>\"\u001b[0;36m, line \u001b[0;32m2\u001b[0m\n\u001b[0;31m    \u001b[0m\n\u001b[0m    ^\u001b[0m\n\u001b[0;31mSyntaxError\u001b[0m\u001b[0;31m:\u001b[0m incomplete input\n"
          ]
        }
      ]
    },
    {
      "cell_type": "code",
      "source": [
        "for i in range(5):\n",
        "    pass"
      ],
      "metadata": {
        "id": "GlYxB_PEw1Mw"
      },
      "execution_count": 22,
      "outputs": []
    },
    {
      "cell_type": "code",
      "source": [
        "pass"
      ],
      "metadata": {
        "id": "MMOvPN9Fw2sY"
      },
      "execution_count": 23,
      "outputs": []
    },
    {
      "cell_type": "code",
      "source": [
        "break"
      ],
      "metadata": {
        "colab": {
          "base_uri": "https://localhost:8080/",
          "height": 142
        },
        "id": "0MjTip8exRLw",
        "outputId": "92f14561-3004-4aa1-91cc-254013d9ec86"
      },
      "execution_count": 24,
      "outputs": [
        {
          "output_type": "error",
          "ename": "SyntaxError",
          "evalue": "ignored",
          "traceback": [
            "\u001b[0;36m  File \u001b[0;32m\"<ipython-input-24-6aaf1f276005>\"\u001b[0;36m, line \u001b[0;32m1\u001b[0m\n\u001b[0;31m    break\u001b[0m\n\u001b[0m    ^\u001b[0m\n\u001b[0;31mSyntaxError\u001b[0m\u001b[0;31m:\u001b[0m 'break' outside loop\n"
          ]
        }
      ]
    },
    {
      "cell_type": "code",
      "source": [
        "continue"
      ],
      "metadata": {
        "colab": {
          "base_uri": "https://localhost:8080/",
          "height": 142
        },
        "id": "z8FIgW1rxS-v",
        "outputId": "75e619fe-a18b-48ff-e05e-fe2eca2b38cc"
      },
      "execution_count": 25,
      "outputs": [
        {
          "output_type": "error",
          "ename": "SyntaxError",
          "evalue": "ignored",
          "traceback": [
            "\u001b[0;36m  File \u001b[0;32m\"<ipython-input-25-6ca52a340915>\"\u001b[0;36m, line \u001b[0;32m1\u001b[0m\n\u001b[0;31m    continue\u001b[0m\n\u001b[0m    ^\u001b[0m\n\u001b[0;31mSyntaxError\u001b[0m\u001b[0;31m:\u001b[0m 'continue' not properly in loop\n"
          ]
        }
      ]
    },
    {
      "cell_type": "code",
      "source": [
        "print(\"\"\"\n",
        "❓ **Question:**\n",
        "Write a program that continuously asks the user to provide an input number.\n",
        "The program should stop only when the user provides 5.\n",
        "Once the user provides 5. The program should print the number of times an input was provided.\n",
        "Assume that user always provides a number!\n",
        "\n",
        "\"\"\")"
      ],
      "metadata": {
        "colab": {
          "base_uri": "https://localhost:8080/"
        },
        "id": "nCXh5pHjxTrH",
        "outputId": "2f483807-8bf3-4774-a801-5fec4a87cec0"
      },
      "execution_count": 28,
      "outputs": [
        {
          "output_type": "stream",
          "name": "stdout",
          "text": [
            "\n",
            "❓ **Question:** \n",
            "Write a program that continuously asks the user to provide an input number.\n",
            "The program should stop only when the user provides 5.\n",
            "Once the user provides 5. The program should print the number of times an input was provided.\n",
            "Assume that user always provides a number!\n",
            "\n",
            "\n"
          ]
        }
      ]
    },
    {
      "cell_type": "code",
      "source": [
        "counter = 0\n",
        "while True:\n",
        "    counter+=1\n",
        "    number = int(input())\n",
        "    if number==5:\n",
        "        break\n",
        "print(\"asked input for\",counter,\"times\")"
      ],
      "metadata": {
        "colab": {
          "base_uri": "https://localhost:8080/"
        },
        "id": "-DO62eTHyMAP",
        "outputId": "21411d47-e308-4e74-c514-5a2476566469"
      },
      "execution_count": 31,
      "outputs": [
        {
          "output_type": "stream",
          "name": "stdout",
          "text": [
            "4\n",
            "6\n",
            "5\n",
            "asked input for 3 times\n"
          ]
        }
      ]
    },
    {
      "cell_type": "code",
      "source": [
        "# NESTED LOOPS"
      ],
      "metadata": {
        "id": "cVAXWPb4zanW"
      },
      "execution_count": 32,
      "outputs": []
    },
    {
      "cell_type": "code",
      "source": [
        "for i in range(3):\n",
        "    for j in range(3):\n",
        "        print(i, j)"
      ],
      "metadata": {
        "colab": {
          "base_uri": "https://localhost:8080/"
        },
        "id": "vzweG_cZzwOt",
        "outputId": "1ad43deb-db5c-4374-8e2e-3e2e076a3e14"
      },
      "execution_count": 34,
      "outputs": [
        {
          "output_type": "stream",
          "name": "stdout",
          "text": [
            "0 0\n",
            "0 1\n",
            "0 2\n",
            "1 0\n",
            "1 1\n",
            "1 2\n",
            "2 0\n",
            "2 1\n",
            "2 2\n"
          ]
        }
      ]
    },
    {
      "cell_type": "code",
      "source": [
        "for i in range(3):\n",
        "    for j in range(3):\n",
        "        for k in range(2):\n",
        "            print(i, j, k)"
      ],
      "metadata": {
        "colab": {
          "base_uri": "https://localhost:8080/"
        },
        "id": "mly-Yz9e2RYF",
        "outputId": "c7c5e05c-76f0-4b12-fea7-cbee017c8c59"
      },
      "execution_count": 35,
      "outputs": [
        {
          "output_type": "stream",
          "name": "stdout",
          "text": [
            "0 0 0\n",
            "0 0 1\n",
            "0 1 0\n",
            "0 1 1\n",
            "0 2 0\n",
            "0 2 1\n",
            "1 0 0\n",
            "1 0 1\n",
            "1 1 0\n",
            "1 1 1\n",
            "1 2 0\n",
            "1 2 1\n",
            "2 0 0\n",
            "2 0 1\n",
            "2 1 0\n",
            "2 1 1\n",
            "2 2 0\n",
            "2 2 1\n"
          ]
        }
      ]
    },
    {
      "cell_type": "code",
      "source": [
        "print(\"\"\"\n",
        "❓ **Question**:\n",
        "Ask the user for N as an input.\n",
        "Write a program to print a `N x N` matrix of `*`\n",
        "\n",
        "\"\"\")\n",
        "print(\"\"\"\n",
        "\n",
        "Example Input:\n",
        "3\n",
        "\n",
        "Example Output:\n",
        "* * *\n",
        "* * *\n",
        "* * *\n",
        "\n",
        "\n",
        "\"\"\")"
      ],
      "metadata": {
        "colab": {
          "base_uri": "https://localhost:8080/"
        },
        "id": "7J8w-Mzu2wwi",
        "outputId": "c9111611-0772-48c7-cf79-4d46ffde25ec"
      },
      "execution_count": 38,
      "outputs": [
        {
          "output_type": "stream",
          "name": "stdout",
          "text": [
            "\n",
            "❓ **Question**: \n",
            "Ask the user for N as an input.\n",
            "Write a program to print a `N x N` matrix of `*`\n",
            "\n",
            "\n",
            "\n",
            "\n",
            "Example Input:\n",
            "3\n",
            "\n",
            "Example Output:\n",
            "* * * \n",
            "* * * \n",
            "* * * \n",
            "\n",
            "\n",
            "\n"
          ]
        }
      ]
    },
    {
      "cell_type": "code",
      "source": [
        "# row for the matrix>> * * * N times\n",
        "N = 3\n",
        "for j in range(N):\n",
        "    print('*', end=\" \")"
      ],
      "metadata": {
        "colab": {
          "base_uri": "https://localhost:8080/"
        },
        "id": "Wo0qKbHf4PBN",
        "outputId": "e58eac72-414d-4d6e-b5f3-7778686c1349"
      },
      "execution_count": 44,
      "outputs": [
        {
          "output_type": "stream",
          "name": "stdout",
          "text": [
            "* * * "
          ]
        }
      ]
    },
    {
      "cell_type": "code",
      "source": [
        "N = int(input())\n",
        "\n",
        "for i in range(N):\n",
        "    # print the row\n",
        "    for j in range(N):\n",
        "        print('*', end=\" \")\n",
        "    print() # this is just to create a new line after printing the row"
      ],
      "metadata": {
        "colab": {
          "base_uri": "https://localhost:8080/"
        },
        "id": "LifZyAce23eb",
        "outputId": "ce65f67b-b6ff-43b2-8b92-3051c427527b"
      },
      "execution_count": 49,
      "outputs": [
        {
          "output_type": "stream",
          "name": "stdout",
          "text": [
            "10\n",
            "* * * * * * * * * * \n",
            "* * * * * * * * * * \n",
            "* * * * * * * * * * \n",
            "* * * * * * * * * * \n",
            "* * * * * * * * * * \n",
            "* * * * * * * * * * \n",
            "* * * * * * * * * * \n",
            "* * * * * * * * * * \n",
            "* * * * * * * * * * \n",
            "* * * * * * * * * * \n"
          ]
        }
      ]
    },
    {
      "cell_type": "code",
      "source": [
        "print(\"\"\"\n",
        "❓ **Question**:\n",
        "Ask the user for N as an input.\n",
        "Write a program to print a multiplication table till the input N\n",
        "\n",
        "\"\"\")\n",
        "print(\"\"\"\n",
        "\n",
        "Example Input:\n",
        "3\n",
        "\n",
        "Example Output:\n",
        "1 2 3 4 5 6 7 8 9 10\n",
        "2 4 6 8 10 12 14 16 18 20\n",
        "3 6 9 12 15 18 21 24 27 30\n",
        "\n",
        "\"\"\")"
      ],
      "metadata": {
        "colab": {
          "base_uri": "https://localhost:8080/"
        },
        "id": "jYHgjRzs4qeC",
        "outputId": "aabc998d-91c2-4818-d748-1f3c4fbaecb4"
      },
      "execution_count": 51,
      "outputs": [
        {
          "output_type": "stream",
          "name": "stdout",
          "text": [
            "\n",
            "❓ **Question**: \n",
            "Ask the user for N as an input.\n",
            "Write a program to print a multiplication table till the input N\n",
            "\n",
            "\n",
            "\n",
            "\n",
            "Example Input:\n",
            "3\n",
            "\n",
            "Example Output:\n",
            "1 2 3 4 5 6 7 8 9 10\n",
            "2 4 6 8 10 12 14 16 18 20\n",
            "3 6 9 12 15 18 21 24 27 30\n",
            "\n",
            "\n"
          ]
        }
      ]
    },
    {
      "cell_type": "code",
      "source": [
        "table_of=3\n",
        "for j in range(1,11): #>> 1,2,3,....9,10\n",
        "    print(table_of*j, end=\" \")"
      ],
      "metadata": {
        "colab": {
          "base_uri": "https://localhost:8080/"
        },
        "id": "L7BxSJoh6zLX",
        "outputId": "5237b4b4-5768-4fa8-df5a-4cd34004b20e"
      },
      "execution_count": 55,
      "outputs": [
        {
          "output_type": "stream",
          "name": "stdout",
          "text": [
            "3 6 9 12 15 18 21 24 27 30 "
          ]
        }
      ]
    },
    {
      "cell_type": "code",
      "source": [
        "N = int(input())\n",
        "\n",
        "for table_of in range(1, N+1):\n",
        "    # print('Table of ', table_of)\n",
        "    for j in range(1,11): #>> 1,2,3,....9,10\n",
        "        print(table_of*j, end=\" \")\n",
        "    print() # this is just to create a new line after printing the row"
      ],
      "metadata": {
        "colab": {
          "base_uri": "https://localhost:8080/"
        },
        "id": "MB8KGxrg5Xvg",
        "outputId": "2a08d62c-5881-407a-c106-03dfa4a60718"
      },
      "execution_count": 60,
      "outputs": [
        {
          "output_type": "stream",
          "name": "stdout",
          "text": [
            "3\n",
            "1 2 3 4 5 6 7 8 9 10 \n",
            "2 4 6 8 10 12 14 16 18 20 \n",
            "3 6 9 12 15 18 21 24 27 30 \n"
          ]
        }
      ]
    },
    {
      "cell_type": "code",
      "source": [
        "# GCD/HCF"
      ],
      "metadata": {
        "id": "O07MNgDN6vLJ"
      },
      "execution_count": 61,
      "outputs": []
    },
    {
      "cell_type": "code",
      "source": [
        "a = 16\n",
        "b = 24\n",
        "# 8\n",
        "\n",
        "a = int(input())\n",
        "b = int(input())\n",
        "\n",
        "\n",
        "max_possible_GCD = min(a,b)\n",
        "min_possible_GCD = 1\n",
        "\n",
        "for GCD in range(max_possible_GCD, min_possible_GCD-1, -1):\n",
        "    if a%GCD==0 and b%GCD==0:\n",
        "        print(GCD)\n",
        "        break"
      ],
      "metadata": {
        "colab": {
          "base_uri": "https://localhost:8080/"
        },
        "id": "biPjFBnm8JZN",
        "outputId": "d70d7ac5-852b-44fd-8b38-8ad97c2d2ffb"
      },
      "execution_count": 65,
      "outputs": [
        {
          "output_type": "stream",
          "name": "stdout",
          "text": [
            "24\n",
            "30\n",
            "6\n"
          ]
        }
      ]
    },
    {
      "cell_type": "code",
      "source": [
        "# LCM"
      ],
      "metadata": {
        "id": "WRgp_c-47fhI"
      },
      "execution_count": null,
      "outputs": []
    },
    {
      "cell_type": "code",
      "source": [
        "a = 3\n",
        "b = 8\n",
        "# 24\n",
        "\n",
        "a = int(input())\n",
        "b = int(input())\n",
        "\n",
        "max_possible_LCM = a*b\n",
        "min_possible_LCM = max(a,b)\n",
        "\n",
        "for LCM in range(min_possible_LCM, max_possible_LCM+1):\n",
        "    if LCM%a==0 and LCM%b==0:\n",
        "        print(LCM)\n",
        "        break"
      ],
      "metadata": {
        "colab": {
          "base_uri": "https://localhost:8080/"
        },
        "id": "svBR0fmt9iPu",
        "outputId": "a2dea4e0-f4ca-4a72-f584-51b0edcf7998"
      },
      "execution_count": 67,
      "outputs": [
        {
          "output_type": "stream",
          "name": "stdout",
          "text": [
            "3\n",
            "12\n",
            "12\n"
          ]
        }
      ]
    },
    {
      "cell_type": "markdown",
      "source": [
        "Which statement is used to skip the current iteration of a loop and move on to the next iteration?\n",
        "\n",
        "A. `break`\n",
        "\n",
        "B. `continue`\n",
        "\n",
        "C. `pass`\n",
        "\n",
        "D. None of the above"
      ],
      "metadata": {
        "id": "JyBqfvt8-uX1"
      }
    },
    {
      "cell_type": "code",
      "source": [
        "# Answer: B. continue"
      ],
      "metadata": {
        "id": "7tU721U5-c7d"
      },
      "execution_count": 68,
      "outputs": []
    },
    {
      "cell_type": "markdown",
      "source": [
        "What will be the output of the following code snippet?\n",
        "```\n",
        "x = 0\n",
        "while x < 5:\n",
        "    x += 1\n",
        "    if x == 3:\n",
        "        continue\n",
        "    print(x)\n",
        "```\n",
        "A.\n",
        "```\n",
        "1\n",
        "2\n",
        "3\n",
        "4\n",
        "5\n",
        "```\n",
        "B.\n",
        "```\n",
        "1\n",
        "2\n",
        "4\n",
        "5\n",
        "```\n",
        "C.\n",
        "```\n",
        "1\n",
        "2\n",
        "3\n",
        "4\n",
        "```\n",
        "D.\n",
        "```\n",
        "0\n",
        "1\n",
        "2\n",
        "3\n",
        "4\n",
        "5\n",
        "```"
      ],
      "metadata": {
        "id": "1om04OFA-9Js"
      }
    },
    {
      "cell_type": "code",
      "source": [
        "x = 0\n",
        "while x < 5:\n",
        "    x += 1\n",
        "    if x == 3:\n",
        "        continue\n",
        "    print(x)"
      ],
      "metadata": {
        "colab": {
          "base_uri": "https://localhost:8080/"
        },
        "id": "YTUdgVKz-4I2",
        "outputId": "c9b39ae5-fc6c-43eb-b834-1dbc1c45b73f"
      },
      "execution_count": 69,
      "outputs": [
        {
          "output_type": "stream",
          "name": "stdout",
          "text": [
            "1\n",
            "2\n",
            "4\n",
            "5\n"
          ]
        }
      ]
    },
    {
      "cell_type": "code",
      "source": [
        "# Answer: B"
      ],
      "metadata": {
        "id": "2fWLlczS_Ylk"
      },
      "execution_count": 70,
      "outputs": []
    },
    {
      "cell_type": "code",
      "source": [
        "# for else\n",
        "# while else"
      ],
      "metadata": {
        "id": "hdVHKdwk_a3N"
      },
      "execution_count": 71,
      "outputs": []
    },
    {
      "cell_type": "code",
      "source": [
        "for i in range(5):\n",
        "    print(i, end=\" \")\n",
        "else: # this will run if the above loop never break\n",
        "    print(\"\\nPhew.. I never broke\")"
      ],
      "metadata": {
        "colab": {
          "base_uri": "https://localhost:8080/"
        },
        "id": "Yy2IfyKA_nCF",
        "outputId": "9cd9b066-7bb4-40c8-a325-c2d3211b9fb8"
      },
      "execution_count": 74,
      "outputs": [
        {
          "output_type": "stream",
          "name": "stdout",
          "text": [
            "0 1 2 3 4 \n",
            "Phew.. I never broke\n"
          ]
        }
      ]
    },
    {
      "cell_type": "code",
      "source": [
        "for i in range(5):\n",
        "    if i==3:\n",
        "        break\n",
        "    print(i, end=\" \")\n",
        "else: # this will run if the above loop never break\n",
        "    print(\"\\nPhew.. I never broke\")"
      ],
      "metadata": {
        "colab": {
          "base_uri": "https://localhost:8080/"
        },
        "id": "ccoUS_b0_rON",
        "outputId": "cfb1529e-d8f1-4ba2-ba68-9da2eb75fcbd"
      },
      "execution_count": 75,
      "outputs": [
        {
          "output_type": "stream",
          "name": "stdout",
          "text": [
            "0 1 2 "
          ]
        }
      ]
    },
    {
      "cell_type": "code",
      "source": [
        "meter = 1\n",
        "while meter<=5:\n",
        "    print(meter, end=\" \")\n",
        "    meter+=1\n",
        "else: # this will run if the above loop never break\n",
        "    print(\"\\nPhew.. I never broke\")"
      ],
      "metadata": {
        "colab": {
          "base_uri": "https://localhost:8080/"
        },
        "id": "84-Cj68T_5j0",
        "outputId": "124075f4-fcf1-4f59-ff74-e2e68a82cafd"
      },
      "execution_count": 77,
      "outputs": [
        {
          "output_type": "stream",
          "name": "stdout",
          "text": [
            "1 2 3 4 5 \n",
            "Phew.. I never broke\n"
          ]
        }
      ]
    },
    {
      "cell_type": "code",
      "source": [
        "meter = 1\n",
        "while meter<=5:\n",
        "    if meter==3:\n",
        "        break\n",
        "    print(meter, end=\" \")\n",
        "    meter+=1\n",
        "else: # this will run if the above loop never break\n",
        "    print(\"\\nPhew.. I never broke\")"
      ],
      "metadata": {
        "colab": {
          "base_uri": "https://localhost:8080/"
        },
        "id": "FfrJfmjCACi0",
        "outputId": "0b6e6406-c2ba-4a8c-ab29-e852a8aee0cb"
      },
      "execution_count": 78,
      "outputs": [
        {
          "output_type": "stream",
          "name": "stdout",
          "text": [
            "1 2 "
          ]
        }
      ]
    },
    {
      "cell_type": "code",
      "source": [
        "# Guess the number\n",
        "# generate a random between 1-10 and store it\n",
        "# then ask the user to enter a number\n",
        "# if the user choice is greater than computer choice say 'too high'\n",
        "# if the user choice is smaller than computer choice say 'too low'\n",
        "# if the user choice is equal to computer choice say 'correct guess'\n",
        "# BONUS points: allow user a max of 3 guesses\n",
        "# will need: use google to learn how to generate a random number between 1-10"
      ],
      "metadata": {
        "id": "oB4MRX_NBZvC"
      },
      "execution_count": null,
      "outputs": []
    },
    {
      "cell_type": "code",
      "source": [
        "import random\n",
        "computer_choice=random.randint(1,10)\n",
        "for i in range(3):\n",
        "    user_choice = int(input('Guess the number: '))\n",
        "    if user_choice==computer_choice:\n",
        "        print('correct guess')\n",
        "        break\n",
        "    elif user_choice>computer_choice:\n",
        "        print('too high')\n",
        "    else:\n",
        "        print('too low')\n",
        "else: # this runs only when loop completes all cycles\n",
        "    print('Failed 3 times')\n",
        "print('GAME OVER')"
      ],
      "metadata": {
        "colab": {
          "base_uri": "https://localhost:8080/"
        },
        "id": "8U4oV733BwJt",
        "outputId": "dc3e104d-43eb-4481-b5be-1f2fc569a2dd"
      },
      "execution_count": 81,
      "outputs": [
        {
          "output_type": "stream",
          "name": "stdout",
          "text": [
            "Guess the number: 5\n",
            "too high\n",
            "Guess the number: 2\n",
            "too high\n",
            "Guess the number: 1\n",
            "correct guess\n",
            "GAME OVER\n"
          ]
        }
      ]
    },
    {
      "cell_type": "code",
      "source": [
        "import random\n",
        "computer_choice=random.randint(1,10)\n",
        "attempts = 0\n",
        "while attempts<3:\n",
        "    user_choice = int(input('Guess the number: '))\n",
        "    if user_choice==computer_choice:\n",
        "        print('correct guess')\n",
        "        break\n",
        "    elif user_choice>computer_choice:\n",
        "        print('too high')\n",
        "    else:\n",
        "        print('too low')\n",
        "    attempts+=1\n",
        "if attempts>=3:\n",
        "    print('Failed 3 times')\n",
        "print('GAME OVER')"
      ],
      "metadata": {
        "id": "1UQhlcE-BuA9"
      },
      "execution_count": null,
      "outputs": []
    }
  ]
}