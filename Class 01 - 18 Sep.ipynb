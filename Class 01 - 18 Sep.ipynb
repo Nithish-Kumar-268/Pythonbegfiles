{
  "nbformat": 4,
  "nbformat_minor": 0,
  "metadata": {
    "colab": {
      "provenance": [],
      "authorship_tag": "ABX9TyMMFt4vhiDx5mcd3aRcBjLr",
      "include_colab_link": true
    },
    "kernelspec": {
      "name": "python3",
      "display_name": "Python 3"
    },
    "language_info": {
      "name": "python"
    }
  },
  "cells": [
    {
      "cell_type": "markdown",
      "metadata": {
        "id": "view-in-github",
        "colab_type": "text"
      },
      "source": [
        "<a href=\"https://colab.research.google.com/gist/singhsidhukuldeep/5faa39386c482f3f079b71607cfd9756/beginner-introduction-to-python-18th-september-2023.ipynb\" target=\"_parent\"><img src=\"https://colab.research.google.com/assets/colab-badge.svg\" alt=\"Open In Colab\"/></a>"
      ]
    },
    {
      "cell_type": "code",
      "execution_count": 2,
      "metadata": {
        "colab": {
          "base_uri": "https://localhost:8080/"
        },
        "id": "UNX30qpREdjQ",
        "outputId": "99beae1d-b4b8-4d3a-9aa0-86eaf7c4ee6e"
      },
      "outputs": [
        {
          "output_type": "stream",
          "name": "stdout",
          "text": [
            "hi\n",
            "hi\n"
          ]
        }
      ],
      "source": [
        "print('hi')\n",
        "print(\"hi\")"
      ]
    },
    {
      "cell_type": "code",
      "source": [
        "print(\"I love python\")\n",
        "print(\"shortcut to run python code cell is shift + enter\")"
      ],
      "metadata": {
        "colab": {
          "base_uri": "https://localhost:8080/"
        },
        "id": "lhjMYksdJSBC",
        "outputId": "4161d93c-5d33-4988-ea7e-daafbfae1d8b"
      },
      "execution_count": 3,
      "outputs": [
        {
          "output_type": "stream",
          "name": "stdout",
          "text": [
            "I love python\n",
            "shortcut to run python code cell is shift + enter\n"
          ]
        }
      ]
    },
    {
      "cell_type": "code",
      "source": [
        "print('this is something I wrote')\n",
        "print(\"someone tole me I can use double quotes as well\")"
      ],
      "metadata": {
        "colab": {
          "base_uri": "https://localhost:8080/"
        },
        "id": "Npguatd3JeCl",
        "outputId": "98147182-0347-46cd-c966-274878986f81"
      },
      "execution_count": 4,
      "outputs": [
        {
          "output_type": "stream",
          "name": "stdout",
          "text": [
            "this is something I wrote\n",
            "someone tole me I can use double quotes as well\n"
          ]
        }
      ]
    },
    {
      "cell_type": "code",
      "source": [
        "print(\"will this run?\")\n",
        "print('what about this?')\n",
        "print(\"whqat about this ONE?')"
      ],
      "metadata": {
        "colab": {
          "base_uri": "https://localhost:8080/",
          "height": 142
        },
        "id": "BFmJTlhVJnNh",
        "outputId": "fec45c08-4409-471d-c6a4-f0de05b67ee7"
      },
      "execution_count": 5,
      "outputs": [
        {
          "output_type": "error",
          "ename": "SyntaxError",
          "evalue": "ignored",
          "traceback": [
            "\u001b[0;36m  File \u001b[0;32m\"<ipython-input-5-9e7a66ed0ecd>\"\u001b[0;36m, line \u001b[0;32m3\u001b[0m\n\u001b[0;31m    print(\"whqat about this ONE?')\u001b[0m\n\u001b[0m          ^\u001b[0m\n\u001b[0;31mSyntaxError\u001b[0m\u001b[0;31m:\u001b[0m unterminated string literal (detected at line 3)\n"
          ]
        }
      ]
    },
    {
      "cell_type": "code",
      "source": [
        "print(\"sometimes we can get errors and that is fine\")\n",
        "# but some times we want to ignore errors\n",
        "#and for that we have python comments\n",
        "print('how do you create comments?')\n",
        "print(\"any line that starts with hash(#) is a python comment\")\n",
        "print('python comments are completely ignoresd by python')"
      ],
      "metadata": {
        "colab": {
          "base_uri": "https://localhost:8080/"
        },
        "id": "HqW8nttiJ5At",
        "outputId": "e7693165-bba3-45f4-d724-6c3e4f078697"
      },
      "execution_count": 6,
      "outputs": [
        {
          "output_type": "stream",
          "name": "stdout",
          "text": [
            "sometimes we can get errors and that is fine\n",
            "how do you create comments?\n",
            "any line that starts with hash(#) is a python comment\n",
            "python comments are completely ignoresd by python\n"
          ]
        }
      ]
    },
    {
      "cell_type": "code",
      "source": [
        "print('in general we use python comments to document code')"
      ],
      "metadata": {
        "colab": {
          "base_uri": "https://localhost:8080/"
        },
        "id": "lDBNYbcyKjSC",
        "outputId": "4f2029ab-92b3-4e86-cb68-4e2c33e1ece3"
      },
      "execution_count": 7,
      "outputs": [
        {
          "output_type": "stream",
          "name": "stdout",
          "text": [
            "in general we use python comments to document code\n"
          ]
        }
      ]
    },
    {
      "cell_type": "code",
      "source": [
        "print('this will show output on a single line')\n",
        "print(\"still on a single line\")\n",
        "print('I am getting tired, how do I write on multipltle lines')"
      ],
      "metadata": {
        "colab": {
          "base_uri": "https://localhost:8080/"
        },
        "id": "gjoHvyItKm_v",
        "outputId": "00a3c27c-9754-4d23-d022-712a3969d421"
      },
      "execution_count": 8,
      "outputs": [
        {
          "output_type": "stream",
          "name": "stdout",
          "text": [
            "this will show output on a single line\n",
            "still on a single line\n",
            "I am getting tired, how do I write on multipltle lines\n"
          ]
        }
      ]
    },
    {
      "cell_type": "code",
      "source": [
        "print(\"this\n",
        "should\n",
        "      go\n",
        "      on\n",
        "      multiple lines\")"
      ],
      "metadata": {
        "colab": {
          "base_uri": "https://localhost:8080/",
          "height": 142
        },
        "id": "2LvEVCPlLBXY",
        "outputId": "45130bcf-b995-4ea6-d9e5-dbc5ad1dd4d3"
      },
      "execution_count": 9,
      "outputs": [
        {
          "output_type": "error",
          "ename": "SyntaxError",
          "evalue": "ignored",
          "traceback": [
            "\u001b[0;36m  File \u001b[0;32m\"<ipython-input-9-213705743287>\"\u001b[0;36m, line \u001b[0;32m1\u001b[0m\n\u001b[0;31m    print(\"this\u001b[0m\n\u001b[0m          ^\u001b[0m\n\u001b[0;31mSyntaxError\u001b[0m\u001b[0;31m:\u001b[0m unterminated string literal (detected at line 1)\n"
          ]
        }
      ]
    },
    {
      "cell_type": "code",
      "source": [
        "print('''to\n",
        "print\n",
        "output on\n",
        "multiple lines\n",
        "we use tripple quotes''')"
      ],
      "metadata": {
        "colab": {
          "base_uri": "https://localhost:8080/"
        },
        "id": "mnzahzheLIJP",
        "outputId": "564fb862-04bd-4c1a-cae8-e3cd13b7e029"
      },
      "execution_count": 10,
      "outputs": [
        {
          "output_type": "stream",
          "name": "stdout",
          "text": [
            "to \n",
            "print\n",
            "output on \n",
            "multiple lines\n",
            "we use tripple quotes\n"
          ]
        }
      ]
    },
    {
      "cell_type": "code",
      "source": [
        "print(\"\"\"to\n",
        "print\n",
        "output on\n",
        "multiple lines\n",
        "we use tripple quotes\"\"\")"
      ],
      "metadata": {
        "colab": {
          "base_uri": "https://localhost:8080/"
        },
        "id": "6fXWQUcVLPrw",
        "outputId": "754a2a22-8294-40b1-9311-efe48c976493"
      },
      "execution_count": 11,
      "outputs": [
        {
          "output_type": "stream",
          "name": "stdout",
          "text": [
            "to \n",
            "print\n",
            "output on \n",
            "multiple lines\n",
            "we use tripple quotes\n"
          ]
        }
      ]
    },
    {
      "cell_type": "code",
      "source": [
        "print(\"we used print to show output on screen\")\n",
        "print(\"anything that we want shown shold be in single quotes, double quotes OR tripple single quotes OR tripple double quotes\")\n",
        "print('single quote')\n",
        "print(\"double quote\")\n",
        "print('''tripple single\n",
        "quote''')\n",
        "print(\"\"\" tripple double\n",
        "quote\"\"\")\n",
        "print(\"\"\"tripple quotes allow you to have output that can go on as many lines as possible\"\"\")\n",
        "print(\"Python comments start with # and are ignored by python\")\n",
        "# like this"
      ],
      "metadata": {
        "colab": {
          "base_uri": "https://localhost:8080/"
        },
        "id": "4yJz1sqZLSbH",
        "outputId": "c72de7da-84f6-46d0-f553-133e25d446ed"
      },
      "execution_count": 12,
      "outputs": [
        {
          "output_type": "stream",
          "name": "stdout",
          "text": [
            "we used print to show output on screen\n",
            "anything that we want shown shold be in single quotes, double quotes OR tripple single quotes OR tripple double quotes\n",
            "single quote\n",
            "double quote\n",
            "tripple single\n",
            "quote\n",
            " tripple double \n",
            "quote\n",
            "tripple quotes allow you to have output that can go on as many lines as possible\n",
            "Python comments start with # and are ignored by python\n"
          ]
        }
      ]
    },
    {
      "cell_type": "code",
      "source": [
        "# data types\n",
        "# 5 in python"
      ],
      "metadata": {
        "id": "3e42J7R8L4Nn"
      },
      "execution_count": 14,
      "outputs": []
    },
    {
      "cell_type": "code",
      "source": [
        "# str\n",
        "print('hi')\n",
        "print(\"hi\")\n",
        "print('''tripple single\n",
        "quote''')\n",
        "print(\"\"\" tripple double\n",
        "quote\"\"\")\n",
        "print(\"\"\"12345678990-=[]'l;/.,?><:\"}|{+_)(*&^%$!@#)}\"\"\")\n",
        "print(\"65\")\n",
        "print(\"65-60\")"
      ],
      "metadata": {
        "colab": {
          "base_uri": "https://localhost:8080/"
        },
        "id": "ajI40F2bOlk-",
        "outputId": "6df9cc3d-3da9-4392-b4a0-91275b20776c"
      },
      "execution_count": 17,
      "outputs": [
        {
          "output_type": "stream",
          "name": "stdout",
          "text": [
            "hi\n",
            "hi\n",
            "tripple single\n",
            "quote\n",
            " tripple double \n",
            "quote\n",
            "12345678990-=[]'l;/.,?><:\"}|{+_)(*&^%$!@#)}\n",
            "65\n",
            "65-60\n"
          ]
        }
      ]
    },
    {
      "cell_type": "code",
      "source": [
        "# int\n",
        "print(65)\n",
        "print(65-60)\n",
        "print(0)\n",
        "print(-100)"
      ],
      "metadata": {
        "colab": {
          "base_uri": "https://localhost:8080/"
        },
        "id": "xWN-4AiqO2Jv",
        "outputId": "39c83267-a584-4609-d589-8cc9948a47fa"
      },
      "execution_count": 20,
      "outputs": [
        {
          "output_type": "stream",
          "name": "stdout",
          "text": [
            "65\n",
            "5\n",
            "0\n",
            "-100\n"
          ]
        }
      ]
    },
    {
      "cell_type": "code",
      "source": [
        "# float\n",
        "print(100.5)\n",
        "print(0.0)\n",
        "print(-10.01)\n",
        "print(100.5*2.5)"
      ],
      "metadata": {
        "colab": {
          "base_uri": "https://localhost:8080/"
        },
        "id": "GpRalPuKPIuU",
        "outputId": "85e62b2c-d80c-4a66-bf4c-20c29d892e1b"
      },
      "execution_count": 21,
      "outputs": [
        {
          "output_type": "stream",
          "name": "stdout",
          "text": [
            "100.5\n",
            "0.0\n",
            "-10.01\n",
            "251.25\n"
          ]
        }
      ]
    },
    {
      "cell_type": "code",
      "source": [
        "# bool\n",
        "print(True)\n",
        "print(False)"
      ],
      "metadata": {
        "colab": {
          "base_uri": "https://localhost:8080/"
        },
        "id": "1DoFcyADPndk",
        "outputId": "bb759341-c5d8-4afc-991b-f75cc5023590"
      },
      "execution_count": 22,
      "outputs": [
        {
          "output_type": "stream",
          "name": "stdout",
          "text": [
            "True\n",
            "False\n"
          ]
        }
      ]
    },
    {
      "cell_type": "code",
      "source": [
        "print(false) # python is case sensitive"
      ],
      "metadata": {
        "colab": {
          "base_uri": "https://localhost:8080/",
          "height": 176
        },
        "id": "OP5PzKdJQE57",
        "outputId": "3f6328e3-1e12-4b9e-c333-ae25397bfa13"
      },
      "execution_count": 23,
      "outputs": [
        {
          "output_type": "error",
          "ename": "NameError",
          "evalue": "ignored",
          "traceback": [
            "\u001b[0;31m---------------------------------------------------------------------------\u001b[0m",
            "\u001b[0;31mNameError\u001b[0m                                 Traceback (most recent call last)",
            "\u001b[0;32m<ipython-input-23-1c75371a149b>\u001b[0m in \u001b[0;36m<cell line: 1>\u001b[0;34m()\u001b[0m\n\u001b[0;32m----> 1\u001b[0;31m \u001b[0mprint\u001b[0m\u001b[0;34m(\u001b[0m\u001b[0mfalse\u001b[0m\u001b[0;34m)\u001b[0m\u001b[0;34m\u001b[0m\u001b[0;34m\u001b[0m\u001b[0m\n\u001b[0m",
            "\u001b[0;31mNameError\u001b[0m: name 'false' is not defined"
          ]
        }
      ]
    },
    {
      "cell_type": "code",
      "source": [
        "# None\n",
        "print(None)"
      ],
      "metadata": {
        "colab": {
          "base_uri": "https://localhost:8080/"
        },
        "id": "--vq266qQJLU",
        "outputId": "7ee09e80-70cb-47b5-d4bd-6bed74e12248"
      },
      "execution_count": 24,
      "outputs": [
        {
          "output_type": "stream",
          "name": "stdout",
          "text": [
            "None\n"
          ]
        }
      ]
    },
    {
      "cell_type": "code",
      "source": [
        "# str\n",
        "print('hi')\n",
        "print(\"hi\")\n",
        "print('''tripple single\n",
        "quote''')\n",
        "print(\"\"\" tripple double\n",
        "quote\"\"\")\n",
        "print(\"\"\"12345678990-=[]'l;/.,?><:\"}|{+_)(*&^%$!@#)}\"\"\")\n",
        "print(\"65\")\n",
        "print(\"65-60\")\n",
        "# int\n",
        "print(65)\n",
        "print(65-60)\n",
        "print(0)\n",
        "print(-100)\n",
        "# float\n",
        "print(100.5)\n",
        "print(0.0)\n",
        "print(-10.01)\n",
        "print(100.5*2.5)\n",
        "# bool\n",
        "print(True)\n",
        "print(False)\n",
        "# None\n",
        "print(None)"
      ],
      "metadata": {
        "colab": {
          "base_uri": "https://localhost:8080/"
        },
        "id": "Lc9XGB8-QYaT",
        "outputId": "3ef090c5-7feb-406b-ef94-7b756176ea28"
      },
      "execution_count": 25,
      "outputs": [
        {
          "output_type": "stream",
          "name": "stdout",
          "text": [
            "hi\n",
            "hi\n",
            "tripple single\n",
            "quote\n",
            " tripple double \n",
            "quote\n",
            "12345678990-=[]'l;/.,?><:\"}|{+_)(*&^%$!@#)}\n",
            "65\n",
            "65-60\n",
            "65\n",
            "5\n",
            "0\n",
            "-100\n",
            "100.5\n",
            "0.0\n",
            "-10.01\n",
            "251.25\n",
            "True\n",
            "False\n",
            "None\n"
          ]
        }
      ]
    },
    {
      "cell_type": "code",
      "source": [
        "print(\"I 💘 python🐍\")\n",
        "print(\"😀👍\")"
      ],
      "metadata": {
        "colab": {
          "base_uri": "https://localhost:8080/"
        },
        "id": "rht-897rRiqM",
        "outputId": "e257a249-6a4e-4ad9-9b77-589960040147"
      },
      "execution_count": 27,
      "outputs": [
        {
          "output_type": "stream",
          "name": "stdout",
          "text": [
            "I 💘 python🐍\n",
            "😀👍\n"
          ]
        }
      ]
    },
    {
      "cell_type": "code",
      "source": [
        "# expressions"
      ],
      "metadata": {
        "id": "YSaJByGLRnaa"
      },
      "execution_count": null,
      "outputs": []
    },
    {
      "cell_type": "code",
      "source": [
        "name = \"Cristiano Ronaldo\"\n",
        "print(name)\n",
        "print(type(\"Cristiano Ronaldo\"))\n",
        "print(type(name))"
      ],
      "metadata": {
        "colab": {
          "base_uri": "https://localhost:8080/"
        },
        "id": "AHdPELk-TLxK",
        "outputId": "286dbbbc-df63-459a-e29f-c1a6636923b2"
      },
      "execution_count": 30,
      "outputs": [
        {
          "output_type": "stream",
          "name": "stdout",
          "text": [
            "Cristiano Ronaldo\n",
            "<class 'str'>\n",
            "<class 'str'>\n"
          ]
        }
      ]
    },
    {
      "cell_type": "code",
      "source": [
        "name = \"Cristiano Ronaldo\"\n",
        "print(name, type(name))\n",
        "age = 38\n",
        "print(age, type(age))\n",
        "height = 185.5\n",
        "print(height, type(height))\n",
        "isHeBetterThanMessi = True\n",
        "print(isHeBetterThanMessi, type(isHeBetterThanMessi))\n",
        "FIFA_trophies = None\n",
        "print(FIFA_trophies, type(FIFA_trophies))"
      ],
      "metadata": {
        "colab": {
          "base_uri": "https://localhost:8080/"
        },
        "id": "uyjo-7XeTSVJ",
        "outputId": "b3f16212-2125-41f3-f2ff-df69bd0c0b46"
      },
      "execution_count": 35,
      "outputs": [
        {
          "output_type": "stream",
          "name": "stdout",
          "text": [
            "Cristiano Ronaldo <class 'str'>\n",
            "38 <class 'int'>\n",
            "185.5 <class 'float'>\n",
            "True <class 'bool'>\n",
            "None <class 'NoneType'>\n"
          ]
        }
      ]
    },
    {
      "cell_type": "code",
      "source": [
        "# variable name cannot start with a number\n",
        "2ab = \"Ronaldo\""
      ],
      "metadata": {
        "colab": {
          "base_uri": "https://localhost:8080/",
          "height": 142
        },
        "id": "k9wofi-4Uagm",
        "outputId": "532dce12-4272-49c7-da23-a80f5ca7ee36"
      },
      "execution_count": 36,
      "outputs": [
        {
          "output_type": "error",
          "ename": "SyntaxError",
          "evalue": "ignored",
          "traceback": [
            "\u001b[0;36m  File \u001b[0;32m\"<ipython-input-36-4f1971dcef91>\"\u001b[0;36m, line \u001b[0;32m2\u001b[0m\n\u001b[0;31m    2ab = \"Ronaldo\"\u001b[0m\n\u001b[0m    ^\u001b[0m\n\u001b[0;31mSyntaxError\u001b[0m\u001b[0;31m:\u001b[0m invalid decimal literal\n"
          ]
        }
      ]
    },
    {
      "cell_type": "code",
      "source": [
        "# variable name cannot have a space\n",
        "this is my Name = \"Ronaldo\""
      ],
      "metadata": {
        "colab": {
          "base_uri": "https://localhost:8080/",
          "height": 142
        },
        "id": "7-77RcjFUejH",
        "outputId": "0e4759d1-d579-43e6-bc2c-051f9905b75f"
      },
      "execution_count": 37,
      "outputs": [
        {
          "output_type": "error",
          "ename": "SyntaxError",
          "evalue": "ignored",
          "traceback": [
            "\u001b[0;36m  File \u001b[0;32m\"<ipython-input-37-bc4ac712bd3a>\"\u001b[0;36m, line \u001b[0;32m2\u001b[0m\n\u001b[0;31m    this is my Name = \"Ronaldo\"\u001b[0m\n\u001b[0m               ^\u001b[0m\n\u001b[0;31mSyntaxError\u001b[0m\u001b[0;31m:\u001b[0m invalid syntax\n"
          ]
        }
      ]
    },
    {
      "cell_type": "code",
      "source": [
        "# variable name cannot be a keyword\n",
        "lambda = 10"
      ],
      "metadata": {
        "colab": {
          "base_uri": "https://localhost:8080/",
          "height": 142
        },
        "id": "twUWb-FTUlq_",
        "outputId": "40636461-29b0-49b2-82c5-543d04df143f"
      },
      "execution_count": 39,
      "outputs": [
        {
          "output_type": "error",
          "ename": "SyntaxError",
          "evalue": "ignored",
          "traceback": [
            "\u001b[0;36m  File \u001b[0;32m\"<ipython-input-39-659db9a03a46>\"\u001b[0;36m, line \u001b[0;32m2\u001b[0m\n\u001b[0;31m    lambda = 10\u001b[0m\n\u001b[0m           ^\u001b[0m\n\u001b[0;31mSyntaxError\u001b[0m\u001b[0;31m:\u001b[0m invalid syntax\n"
          ]
        }
      ]
    },
    {
      "cell_type": "code",
      "source": [
        "help('keywords')"
      ],
      "metadata": {
        "colab": {
          "base_uri": "https://localhost:8080/"
        },
        "id": "4CWCkGlDU0wx",
        "outputId": "c44330ce-5d25-472b-bb0f-4378b384798a"
      },
      "execution_count": 38,
      "outputs": [
        {
          "output_type": "stream",
          "name": "stdout",
          "text": [
            "\n",
            "Here is a list of the Python keywords.  Enter any keyword to get more help.\n",
            "\n",
            "False               class               from                or\n",
            "None                continue            global              pass\n",
            "True                def                 if                  raise\n",
            "and                 del                 import              return\n",
            "as                  elif                in                  try\n",
            "assert              else                is                  while\n",
            "async               except              lambda              with\n",
            "await               finally             nonlocal            yield\n",
            "break               for                 not                 \n",
            "\n"
          ]
        }
      ]
    },
    {
      "cell_type": "code",
      "source": [
        "# print()\n",
        "# type()\n",
        "# help()\n",
        "# anything that ends with () is a python function"
      ],
      "metadata": {
        "id": "kKUX7zF2U2B3"
      },
      "execution_count": null,
      "outputs": []
    },
    {
      "cell_type": "code",
      "source": [
        "print(\"this is using print as a python function\")"
      ],
      "metadata": {
        "colab": {
          "base_uri": "https://localhost:8080/"
        },
        "id": "LofvR8gyVFdL",
        "outputId": "fe0bbabf-339b-4115-8ad1-ba117081d24a"
      },
      "execution_count": 40,
      "outputs": [
        {
          "output_type": "stream",
          "name": "stdout",
          "text": [
            "this is using print as a python function\n"
          ]
        }
      ]
    },
    {
      "cell_type": "code",
      "source": [
        "# using popular python functions as variable names is not recommended\n",
        "print = 2\n",
        "print(\"can I still show output\")\n",
        "# 😢\n",
        "# runtime >  disconnect and delete runtime"
      ],
      "metadata": {
        "colab": {
          "base_uri": "https://localhost:8080/",
          "height": 211
        },
        "id": "GhLF4uigVIgA",
        "outputId": "0dc193bf-5d3d-4282-96e9-1a23a5e75857"
      },
      "execution_count": 41,
      "outputs": [
        {
          "output_type": "error",
          "ename": "TypeError",
          "evalue": "ignored",
          "traceback": [
            "\u001b[0;31m---------------------------------------------------------------------------\u001b[0m",
            "\u001b[0;31mTypeError\u001b[0m                                 Traceback (most recent call last)",
            "\u001b[0;32m<ipython-input-41-a28afb140187>\u001b[0m in \u001b[0;36m<cell line: 3>\u001b[0;34m()\u001b[0m\n\u001b[1;32m      1\u001b[0m \u001b[0;31m# using popular python functions as variable names is not recommended\u001b[0m\u001b[0;34m\u001b[0m\u001b[0;34m\u001b[0m\u001b[0m\n\u001b[1;32m      2\u001b[0m \u001b[0mprint\u001b[0m \u001b[0;34m=\u001b[0m \u001b[0;36m2\u001b[0m\u001b[0;34m\u001b[0m\u001b[0;34m\u001b[0m\u001b[0m\n\u001b[0;32m----> 3\u001b[0;31m \u001b[0mprint\u001b[0m\u001b[0;34m(\u001b[0m\u001b[0;34m\"can I still show output\"\u001b[0m\u001b[0;34m)\u001b[0m\u001b[0;34m\u001b[0m\u001b[0;34m\u001b[0m\u001b[0m\n\u001b[0m",
            "\u001b[0;31mTypeError\u001b[0m: 'int' object is not callable"
          ]
        }
      ]
    },
    {
      "cell_type": "code",
      "source": [
        "print(\"all varaiables are reset\")"
      ],
      "metadata": {
        "colab": {
          "base_uri": "https://localhost:8080/"
        },
        "id": "I3R89FMKVe6Y",
        "outputId": "83bcbb7d-8537-41eb-861a-00bcb51040aa"
      },
      "execution_count": 1,
      "outputs": [
        {
          "output_type": "stream",
          "name": "stdout",
          "text": [
            "all varaiables are reset\n"
          ]
        }
      ]
    },
    {
      "cell_type": "code",
      "source": [
        "name = 'Ronaldo'"
      ],
      "metadata": {
        "id": "-LTSB28SV3sv"
      },
      "execution_count": 3,
      "outputs": []
    },
    {
      "cell_type": "code",
      "source": [
        "print(name)"
      ],
      "metadata": {
        "colab": {
          "base_uri": "https://localhost:8080/"
        },
        "id": "PuTN0Kg7V_Wo",
        "outputId": "9c5d91d7-c7df-4673-da1c-e85c5fe7207a"
      },
      "execution_count": 4,
      "outputs": [
        {
          "output_type": "stream",
          "name": "stdout",
          "text": [
            "Ronaldo\n"
          ]
        }
      ]
    },
    {
      "cell_type": "code",
      "source": [
        "# input function\n",
        "# this is used to get input\n",
        "input()\n",
        "print('Hey I got some input')"
      ],
      "metadata": {
        "colab": {
          "base_uri": "https://localhost:8080/"
        },
        "id": "mtSXlEcEWAC_",
        "outputId": "13c6fc64-6b5b-4c09-b170-f6c326ebb73e"
      },
      "execution_count": 5,
      "outputs": [
        {
          "output_type": "stream",
          "name": "stdout",
          "text": [
            "I can write anything\n",
            "Hey I got some input\n"
          ]
        }
      ]
    },
    {
      "cell_type": "code",
      "source": [
        "# i can store the user input in a var\n",
        "userGaveMe=input()\n",
        "print(\"THis is what the user gave\", userGaveMe)"
      ],
      "metadata": {
        "colab": {
          "base_uri": "https://localhost:8080/"
        },
        "id": "kyzYX18pWN3_",
        "outputId": "43f2ac63-b4d6-4480-94bc-7c2e7eb96214"
      },
      "execution_count": 6,
      "outputs": [
        {
          "output_type": "stream",
          "name": "stdout",
          "text": [
            "Hellooooo\n",
            "THis is what the user gave Hellooooo\n"
          ]
        }
      ]
    },
    {
      "cell_type": "code",
      "source": [
        "print('starting tot get the input')\n",
        "userGaveMe=input()\n",
        "print('Input gotten')"
      ],
      "metadata": {
        "colab": {
          "base_uri": "https://localhost:8080/"
        },
        "id": "cAn4LuKVWhVe",
        "outputId": "8fbf3f9a-f677-45c0-bded-20091032c0f4"
      },
      "execution_count": 7,
      "outputs": [
        {
          "output_type": "stream",
          "name": "stdout",
          "text": [
            "starting tot get the input\n",
            "123\n",
            "Input gotten\n"
          ]
        }
      ]
    },
    {
      "cell_type": "code",
      "source": [
        "age = input(\"Hey user, please enter your age: \")"
      ],
      "metadata": {
        "colab": {
          "base_uri": "https://localhost:8080/"
        },
        "id": "BIJsRQOVWvnl",
        "outputId": "49b7bb3d-b4c6-406b-c0d2-341007684c07"
      },
      "execution_count": 9,
      "outputs": [
        {
          "name": "stdout",
          "output_type": "stream",
          "text": [
            "Hey user, please enter your age: 26\n"
          ]
        }
      ]
    },
    {
      "cell_type": "code",
      "source": [
        "print(age)"
      ],
      "metadata": {
        "colab": {
          "base_uri": "https://localhost:8080/"
        },
        "id": "3BUaOgSDW1Nv",
        "outputId": "d5ef2d6c-1701-4974-cac3-f1dbb1d535ba"
      },
      "execution_count": 11,
      "outputs": [
        {
          "output_type": "stream",
          "name": "stdout",
          "text": [
            "26\n"
          ]
        }
      ]
    },
    {
      "cell_type": "code",
      "source": [
        "print(age+1)"
      ],
      "metadata": {
        "colab": {
          "base_uri": "https://localhost:8080/",
          "height": 176
        },
        "id": "6igsj0RaXF3u",
        "outputId": "2f550e12-441b-40b9-8dd3-657559a76ac0"
      },
      "execution_count": 12,
      "outputs": [
        {
          "output_type": "error",
          "ename": "TypeError",
          "evalue": "ignored",
          "traceback": [
            "\u001b[0;31m---------------------------------------------------------------------------\u001b[0m",
            "\u001b[0;31mTypeError\u001b[0m                                 Traceback (most recent call last)",
            "\u001b[0;32m<ipython-input-12-5ed435aebc33>\u001b[0m in \u001b[0;36m<cell line: 1>\u001b[0;34m()\u001b[0m\n\u001b[0;32m----> 1\u001b[0;31m \u001b[0mprint\u001b[0m\u001b[0;34m(\u001b[0m\u001b[0mage\u001b[0m\u001b[0;34m+\u001b[0m\u001b[0;36m1\u001b[0m\u001b[0;34m)\u001b[0m\u001b[0;34m\u001b[0m\u001b[0;34m\u001b[0m\u001b[0m\n\u001b[0m",
            "\u001b[0;31mTypeError\u001b[0m: can only concatenate str (not \"int\") to str"
          ]
        }
      ]
    },
    {
      "cell_type": "code",
      "source": [
        "print(type(age))"
      ],
      "metadata": {
        "colab": {
          "base_uri": "https://localhost:8080/"
        },
        "id": "Q8p18GoXXKM2",
        "outputId": "a2fd6bcf-bbad-41a0-ec79-ad9666c6e12d"
      },
      "execution_count": 13,
      "outputs": [
        {
          "output_type": "stream",
          "name": "stdout",
          "text": [
            "<class 'str'>\n"
          ]
        }
      ]
    },
    {
      "cell_type": "code",
      "source": [
        "print('26')\n",
        "print(26)"
      ],
      "metadata": {
        "colab": {
          "base_uri": "https://localhost:8080/"
        },
        "id": "VDfziFAGXVWu",
        "outputId": "59d98f8e-d1f7-49ce-b24d-a41e35e9126a"
      },
      "execution_count": 14,
      "outputs": [
        {
          "output_type": "stream",
          "name": "stdout",
          "text": [
            "26\n",
            "26\n"
          ]
        }
      ]
    },
    {
      "cell_type": "code",
      "source": [
        "# input stores everything as a str"
      ],
      "metadata": {
        "id": "N-3VeEZZXZp-"
      },
      "execution_count": null,
      "outputs": []
    },
    {
      "cell_type": "code",
      "source": [
        "print(age, type(age))\n",
        "age_as_int = int(age)\n",
        "print(age_as_int, type(age_as_int))"
      ],
      "metadata": {
        "colab": {
          "base_uri": "https://localhost:8080/"
        },
        "id": "-YMHdNHwXiNO",
        "outputId": "c1a7fb14-fe43-4467-d519-57c17b0d8be0"
      },
      "execution_count": 16,
      "outputs": [
        {
          "output_type": "stream",
          "name": "stdout",
          "text": [
            "26 <class 'str'>\n",
            "26 <class 'int'>\n"
          ]
        }
      ]
    },
    {
      "cell_type": "code",
      "source": [
        "print(age_as_int+1)"
      ],
      "metadata": {
        "colab": {
          "base_uri": "https://localhost:8080/"
        },
        "id": "UPSVOVQnXjNG",
        "outputId": "fd645b64-3ba9-40c4-d0fa-074a6586267c"
      },
      "execution_count": 17,
      "outputs": [
        {
          "output_type": "stream",
          "name": "stdout",
          "text": [
            "27\n"
          ]
        }
      ]
    },
    {
      "cell_type": "code",
      "source": [
        "height = input(\"what is your height:\")\n",
        "\n"
      ],
      "metadata": {
        "colab": {
          "base_uri": "https://localhost:8080/"
        },
        "id": "OCpjdCjUXs9F",
        "outputId": "d12012f8-7ca1-4d84-d229-acbd862aa659"
      },
      "execution_count": 19,
      "outputs": [
        {
          "name": "stdout",
          "output_type": "stream",
          "text": [
            "what is your height:182.5\n"
          ]
        }
      ]
    },
    {
      "cell_type": "code",
      "source": [
        "print(height, type(height))"
      ],
      "metadata": {
        "colab": {
          "base_uri": "https://localhost:8080/"
        },
        "id": "1Wot3tVxX6WM",
        "outputId": "ce795e06-9806-4895-ead1-12a481623a79"
      },
      "execution_count": 20,
      "outputs": [
        {
          "output_type": "stream",
          "name": "stdout",
          "text": [
            "182.5 <class 'str'>\n"
          ]
        }
      ]
    },
    {
      "cell_type": "code",
      "source": [
        "height = float(height)\n",
        "print(height, type(height))"
      ],
      "metadata": {
        "colab": {
          "base_uri": "https://localhost:8080/"
        },
        "id": "h4zKfec4X_R8",
        "outputId": "b70a002f-6fab-4324-81fb-e019e2f4daba"
      },
      "execution_count": 21,
      "outputs": [
        {
          "output_type": "stream",
          "name": "stdout",
          "text": [
            "182.5 <class 'float'>\n"
          ]
        }
      ]
    },
    {
      "cell_type": "code",
      "source": [
        "height = float(input(\"what is your height:\"))\n",
        "print(height, type(height))"
      ],
      "metadata": {
        "colab": {
          "base_uri": "https://localhost:8080/"
        },
        "id": "aekG9lMEYEIV",
        "outputId": "d33af929-b797-4315-c505-5658e9410a69"
      },
      "execution_count": 22,
      "outputs": [
        {
          "output_type": "stream",
          "name": "stdout",
          "text": [
            "what is your height:25\n",
            "25.0 <class 'float'>\n"
          ]
        }
      ]
    },
    {
      "cell_type": "code",
      "source": [],
      "metadata": {
        "id": "lSO3nloIYLHu"
      },
      "execution_count": null,
      "outputs": []
    }
  ]
}