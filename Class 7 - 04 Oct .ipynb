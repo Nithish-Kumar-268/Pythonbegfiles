{
  "nbformat": 4,
  "nbformat_minor": 0,
  "metadata": {
    "colab": {
      "provenance": [],
      "authorship_tag": "ABX9TyOIj1e5+E3c4sWwlqhtjTYE",
      "include_colab_link": true
    },
    "kernelspec": {
      "name": "python3",
      "display_name": "Python 3"
    },
    "language_info": {
      "name": "python"
    }
  },
  "cells": [
    {
      "cell_type": "markdown",
      "metadata": {
        "id": "view-in-github",
        "colab_type": "text"
      },
      "source": [
        "<a href=\"https://colab.research.google.com/gist/singhsidhukuldeep/5ff7b7d09f6f43c43b37a9bd2f7755a1/beginner-iteration-for-loops-4october2023.ipynb\" target=\"_parent\"><img src=\"https://colab.research.google.com/assets/colab-badge.svg\" alt=\"Open In Colab\"/></a>"
      ]
    },
    {
      "cell_type": "markdown",
      "source": [
        "<center>\n",
        "\n",
        "# Beginner : Iteration - For Loops - 4October2023\n",
        "\n",
        "![w1.gif](data:image/gif;base64,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)\n",
        "\n",
        "</center>"
      ],
      "metadata": {
        "id": "qVuFV0_ryINH"
      }
    },
    {
      "cell_type": "code",
      "execution_count": 1,
      "metadata": {
        "colab": {
          "base_uri": "https://localhost:8080/"
        },
        "id": "f6bt7Y-MyHLn",
        "outputId": "a33422cc-4e52-43b5-94b2-6ba7770b0a07"
      },
      "outputs": [
        {
          "output_type": "stream",
          "name": "stdout",
          "text": [
            "1\n",
            "2\n",
            "3\n",
            "4\n",
            "5\n"
          ]
        }
      ],
      "source": [
        "# while\n",
        "meter = 1 # starting condition\n",
        "while meter<=5: # while <condition>\n",
        "    print(meter) # do something\n",
        "    meter = meter + 1 # increment"
      ]
    },
    {
      "cell_type": "code",
      "source": [
        "for num in range(5):\n",
        "    print(num)"
      ],
      "metadata": {
        "colab": {
          "base_uri": "https://localhost:8080/"
        },
        "id": "rBXwfIpgZpk4",
        "outputId": "d1905f71-3f51-44a4-ef41-2fe991ddeb96"
      },
      "execution_count": 2,
      "outputs": [
        {
          "output_type": "stream",
          "name": "stdout",
          "text": [
            "0\n",
            "1\n",
            "2\n",
            "3\n",
            "4\n"
          ]
        }
      ]
    },
    {
      "cell_type": "code",
      "source": [
        "for num in range(2,5):\n",
        "    print(num)"
      ],
      "metadata": {
        "colab": {
          "base_uri": "https://localhost:8080/"
        },
        "id": "jf7dfjzHbOob",
        "outputId": "2902b1c3-7180-4424-c707-f211000904cd"
      },
      "execution_count": 3,
      "outputs": [
        {
          "output_type": "stream",
          "name": "stdout",
          "text": [
            "2\n",
            "3\n",
            "4\n"
          ]
        }
      ]
    },
    {
      "cell_type": "code",
      "source": [
        "for num in range(3,15,2):\n",
        "    print(num)"
      ],
      "metadata": {
        "colab": {
          "base_uri": "https://localhost:8080/"
        },
        "id": "wLqQkV1mbcY2",
        "outputId": "fc80d1ef-b7ff-4498-c0f5-52894c48622f"
      },
      "execution_count": 4,
      "outputs": [
        {
          "output_type": "stream",
          "name": "stdout",
          "text": [
            "3\n",
            "5\n",
            "7\n",
            "9\n",
            "11\n",
            "13\n"
          ]
        }
      ]
    },
    {
      "cell_type": "code",
      "source": [
        "for num in range(9,3):\n",
        "    print(num)"
      ],
      "metadata": {
        "id": "kar1WD8gbpdf"
      },
      "execution_count": 5,
      "outputs": []
    },
    {
      "cell_type": "code",
      "source": [
        "for num in range(9,3,-1):\n",
        "    print(num)"
      ],
      "metadata": {
        "colab": {
          "base_uri": "https://localhost:8080/"
        },
        "id": "xPsAHFhrbwqv",
        "outputId": "a0a82afe-2a96-4905-9bd6-aaab5c155c2b"
      },
      "execution_count": 6,
      "outputs": [
        {
          "output_type": "stream",
          "name": "stdout",
          "text": [
            "9\n",
            "8\n",
            "7\n",
            "6\n",
            "5\n",
            "4\n"
          ]
        }
      ]
    },
    {
      "cell_type": "code",
      "source": [
        "for num in range(9.5,3,-1): # start has to be an int\n",
        "    print(num)"
      ],
      "metadata": {
        "colab": {
          "base_uri": "https://localhost:8080/",
          "height": 194
        },
        "id": "ickTFKtAb3Wo",
        "outputId": "d44506d7-8a90-447d-d91a-1379311fe5e4"
      },
      "execution_count": 7,
      "outputs": [
        {
          "output_type": "error",
          "ename": "TypeError",
          "evalue": "ignored",
          "traceback": [
            "\u001b[0;31m---------------------------------------------------------------------------\u001b[0m",
            "\u001b[0;31mTypeError\u001b[0m                                 Traceback (most recent call last)",
            "\u001b[0;32m<ipython-input-7-5e33ebf55cd9>\u001b[0m in \u001b[0;36m<cell line: 1>\u001b[0;34m()\u001b[0m\n\u001b[0;32m----> 1\u001b[0;31m \u001b[0;32mfor\u001b[0m \u001b[0mnum\u001b[0m \u001b[0;32min\u001b[0m \u001b[0mrange\u001b[0m\u001b[0;34m(\u001b[0m\u001b[0;36m9.5\u001b[0m\u001b[0;34m,\u001b[0m\u001b[0;36m3\u001b[0m\u001b[0;34m,\u001b[0m\u001b[0;34m-\u001b[0m\u001b[0;36m1\u001b[0m\u001b[0;34m)\u001b[0m\u001b[0;34m:\u001b[0m\u001b[0;34m\u001b[0m\u001b[0;34m\u001b[0m\u001b[0m\n\u001b[0m\u001b[1;32m      2\u001b[0m     \u001b[0mprint\u001b[0m\u001b[0;34m(\u001b[0m\u001b[0mnum\u001b[0m\u001b[0;34m)\u001b[0m\u001b[0;34m\u001b[0m\u001b[0;34m\u001b[0m\u001b[0m\n",
            "\u001b[0;31mTypeError\u001b[0m: 'float' object cannot be interpreted as an integer"
          ]
        }
      ]
    },
    {
      "cell_type": "code",
      "source": [
        "for num in range(9,3.5,-1): # end has to be an int\n",
        "    print(num)"
      ],
      "metadata": {
        "colab": {
          "base_uri": "https://localhost:8080/",
          "height": 194
        },
        "id": "pVg0ZEosb-tQ",
        "outputId": "b5355e7b-924f-4eaa-a019-d41ec73a4d41"
      },
      "execution_count": 8,
      "outputs": [
        {
          "output_type": "error",
          "ename": "TypeError",
          "evalue": "ignored",
          "traceback": [
            "\u001b[0;31m---------------------------------------------------------------------------\u001b[0m",
            "\u001b[0;31mTypeError\u001b[0m                                 Traceback (most recent call last)",
            "\u001b[0;32m<ipython-input-8-8bebed4f1066>\u001b[0m in \u001b[0;36m<cell line: 1>\u001b[0;34m()\u001b[0m\n\u001b[0;32m----> 1\u001b[0;31m \u001b[0;32mfor\u001b[0m \u001b[0mnum\u001b[0m \u001b[0;32min\u001b[0m \u001b[0mrange\u001b[0m\u001b[0;34m(\u001b[0m\u001b[0;36m9\u001b[0m\u001b[0;34m,\u001b[0m\u001b[0;36m3.5\u001b[0m\u001b[0;34m,\u001b[0m\u001b[0;34m-\u001b[0m\u001b[0;36m1\u001b[0m\u001b[0;34m)\u001b[0m\u001b[0;34m:\u001b[0m \u001b[0;31m# start has to an int\u001b[0m\u001b[0;34m\u001b[0m\u001b[0;34m\u001b[0m\u001b[0m\n\u001b[0m\u001b[1;32m      2\u001b[0m     \u001b[0mprint\u001b[0m\u001b[0;34m(\u001b[0m\u001b[0mnum\u001b[0m\u001b[0;34m)\u001b[0m\u001b[0;34m\u001b[0m\u001b[0;34m\u001b[0m\u001b[0m\n",
            "\u001b[0;31mTypeError\u001b[0m: 'float' object cannot be interpreted as an integer"
          ]
        }
      ]
    },
    {
      "cell_type": "code",
      "source": [
        "for num in range(9,3,-1.5): # step has to be an int\n",
        "    print(num)"
      ],
      "metadata": {
        "colab": {
          "base_uri": "https://localhost:8080/",
          "height": 194
        },
        "id": "ErDd4n94cD_c",
        "outputId": "f99ec5ca-691c-49b5-fb97-021d4d09aede"
      },
      "execution_count": 9,
      "outputs": [
        {
          "output_type": "error",
          "ename": "TypeError",
          "evalue": "ignored",
          "traceback": [
            "\u001b[0;31m---------------------------------------------------------------------------\u001b[0m",
            "\u001b[0;31mTypeError\u001b[0m                                 Traceback (most recent call last)",
            "\u001b[0;32m<ipython-input-9-480af8fd00ae>\u001b[0m in \u001b[0;36m<cell line: 1>\u001b[0;34m()\u001b[0m\n\u001b[0;32m----> 1\u001b[0;31m \u001b[0;32mfor\u001b[0m \u001b[0mnum\u001b[0m \u001b[0;32min\u001b[0m \u001b[0mrange\u001b[0m\u001b[0;34m(\u001b[0m\u001b[0;36m9\u001b[0m\u001b[0;34m,\u001b[0m\u001b[0;36m3\u001b[0m\u001b[0;34m,\u001b[0m\u001b[0;34m-\u001b[0m\u001b[0;36m1.5\u001b[0m\u001b[0;34m)\u001b[0m\u001b[0;34m:\u001b[0m \u001b[0;31m# end has to be an int\u001b[0m\u001b[0;34m\u001b[0m\u001b[0;34m\u001b[0m\u001b[0m\n\u001b[0m\u001b[1;32m      2\u001b[0m     \u001b[0mprint\u001b[0m\u001b[0;34m(\u001b[0m\u001b[0mnum\u001b[0m\u001b[0;34m)\u001b[0m\u001b[0;34m\u001b[0m\u001b[0;34m\u001b[0m\u001b[0m\n",
            "\u001b[0;31mTypeError\u001b[0m: 'float' object cannot be interpreted as an integer"
          ]
        }
      ]
    },
    {
      "cell_type": "code",
      "source": [
        "for num in range(9,3,0): # step has to be a non 0 int\n",
        "    print(num)"
      ],
      "metadata": {
        "colab": {
          "base_uri": "https://localhost:8080/",
          "height": 194
        },
        "id": "P_44TdLYcF06",
        "outputId": "b65f66fc-fb8d-4e1b-8237-78462493b965"
      },
      "execution_count": 10,
      "outputs": [
        {
          "output_type": "error",
          "ename": "ValueError",
          "evalue": "ignored",
          "traceback": [
            "\u001b[0;31m---------------------------------------------------------------------------\u001b[0m",
            "\u001b[0;31mValueError\u001b[0m                                Traceback (most recent call last)",
            "\u001b[0;32m<ipython-input-10-7723ea998a55>\u001b[0m in \u001b[0;36m<cell line: 1>\u001b[0;34m()\u001b[0m\n\u001b[0;32m----> 1\u001b[0;31m \u001b[0;32mfor\u001b[0m \u001b[0mnum\u001b[0m \u001b[0;32min\u001b[0m \u001b[0mrange\u001b[0m\u001b[0;34m(\u001b[0m\u001b[0;36m9\u001b[0m\u001b[0;34m,\u001b[0m\u001b[0;36m3\u001b[0m\u001b[0;34m,\u001b[0m\u001b[0;36m0\u001b[0m\u001b[0;34m)\u001b[0m\u001b[0;34m:\u001b[0m \u001b[0;31m# step has to be an int\u001b[0m\u001b[0;34m\u001b[0m\u001b[0;34m\u001b[0m\u001b[0m\n\u001b[0m\u001b[1;32m      2\u001b[0m     \u001b[0mprint\u001b[0m\u001b[0;34m(\u001b[0m\u001b[0mnum\u001b[0m\u001b[0;34m)\u001b[0m\u001b[0;34m\u001b[0m\u001b[0;34m\u001b[0m\u001b[0m\n",
            "\u001b[0;31mValueError\u001b[0m: range() arg 3 must not be zero"
          ]
        }
      ]
    },
    {
      "cell_type": "code",
      "source": [
        "for i in range(-100,-90):\n",
        "    print(i)"
      ],
      "metadata": {
        "colab": {
          "base_uri": "https://localhost:8080/"
        },
        "id": "SZ9T6bUpcX2p",
        "outputId": "abce4cf5-7f1b-4b5c-8fa0-de8de5243f8c"
      },
      "execution_count": 11,
      "outputs": [
        {
          "output_type": "stream",
          "name": "stdout",
          "text": [
            "-100\n",
            "-99\n",
            "-98\n",
            "-97\n",
            "-96\n",
            "-95\n",
            "-94\n",
            "-93\n",
            "-92\n",
            "-91\n"
          ]
        }
      ]
    },
    {
      "cell_type": "code",
      "source": [
        "'''\n",
        "Question 1 -\n",
        "Print all integers from 1 to N using for loop. (N to be included)\n",
        "Take N as input from the user.\n",
        "'''\n",
        "'''\n",
        "Input is 4\n",
        "Output will be 1 2 3 4\n",
        "'''"
      ],
      "metadata": {
        "id": "EfAM87yYc9wF"
      },
      "execution_count": null,
      "outputs": []
    },
    {
      "cell_type": "code",
      "source": [
        "N = int(input())\n",
        "for i in range(N): # >> 0,1,2,3,,,,N-1\n",
        "    print(i+1, end=\" \") # >> 1,2,3,4,,,,N"
      ],
      "metadata": {
        "colab": {
          "base_uri": "https://localhost:8080/"
        },
        "id": "OYCRS4eAdozX",
        "outputId": "d092518d-ef37-41c2-be47-fb2999bd9f50"
      },
      "execution_count": 13,
      "outputs": [
        {
          "output_type": "stream",
          "name": "stdout",
          "text": [
            "4\n",
            "1 2 3 4 "
          ]
        }
      ]
    },
    {
      "cell_type": "code",
      "source": [
        "N = int(input())\n",
        "for i in range(1,N+1): # >> 1,2,3,4,,,,N\n",
        "    print(i, end=\" \")"
      ],
      "metadata": {
        "colab": {
          "base_uri": "https://localhost:8080/"
        },
        "id": "LYBKrnpGdsA0",
        "outputId": "d37355ad-7874-48ca-f439-1f386fed8641"
      },
      "execution_count": 15,
      "outputs": [
        {
          "output_type": "stream",
          "name": "stdout",
          "text": [
            "4\n",
            "1 2 3 4 "
          ]
        }
      ]
    },
    {
      "cell_type": "code",
      "source": [
        "# len\n",
        "print(len(range(5)))"
      ],
      "metadata": {
        "colab": {
          "base_uri": "https://localhost:8080/"
        },
        "id": "vej-QBDfeGjP",
        "outputId": "67e9b293-d05a-49f9-9cae-d8b590cb747c"
      },
      "execution_count": 16,
      "outputs": [
        {
          "output_type": "stream",
          "name": "stdout",
          "text": [
            "5\n"
          ]
        }
      ]
    },
    {
      "cell_type": "code",
      "source": [
        "print(len(range(2,5)))"
      ],
      "metadata": {
        "colab": {
          "base_uri": "https://localhost:8080/"
        },
        "id": "ogZEkwdqeSGg",
        "outputId": "4b19e21a-d4f9-4d87-82ec-10d28d233559"
      },
      "execution_count": 17,
      "outputs": [
        {
          "output_type": "stream",
          "name": "stdout",
          "text": [
            "3\n"
          ]
        }
      ]
    },
    {
      "cell_type": "code",
      "source": [
        "print(len(range(5,2)))"
      ],
      "metadata": {
        "colab": {
          "base_uri": "https://localhost:8080/"
        },
        "id": "l3oDDsD-eWcF",
        "outputId": "40c81c87-a1e2-4c70-e126-2ffb747b8226"
      },
      "execution_count": 18,
      "outputs": [
        {
          "output_type": "stream",
          "name": "stdout",
          "text": [
            "0\n"
          ]
        }
      ]
    },
    {
      "cell_type": "code",
      "source": [
        "print(len(range(5,2, -1)))"
      ],
      "metadata": {
        "colab": {
          "base_uri": "https://localhost:8080/"
        },
        "id": "X5UUGBBleZO7",
        "outputId": "5b796fdc-feab-402f-c7e4-f18634df4156"
      },
      "execution_count": 19,
      "outputs": [
        {
          "output_type": "stream",
          "name": "stdout",
          "text": [
            "3\n"
          ]
        }
      ]
    },
    {
      "cell_type": "code",
      "source": [
        "'''\n",
        "Question 2 -\n",
        "Take N as input from the user.\n",
        "Calculate the sum of all numbers from 1 to N (N is included).\n",
        "ONLY USE for LOOP AND range\n",
        "'''\n",
        "'''\n",
        "Input : 3\n",
        "Output : 6\n",
        "'''"
      ],
      "metadata": {
        "id": "rraMANAUegRi"
      },
      "execution_count": null,
      "outputs": []
    },
    {
      "cell_type": "code",
      "source": [
        "# 1 get the input\n",
        "N = int(input())\n",
        "# 2 start the total from 0\n",
        "total =0\n",
        "# 3 loop over the range\n",
        "for i in range(1,N+1): # >> 1,2,3,4,,,,N\n",
        "    # print(i, end=\" \")\n",
        "    # 4 update the total as you loop over the range\n",
        "    total = total + i\n",
        "# 5 print the total\n",
        "print(total)"
      ],
      "metadata": {
        "colab": {
          "base_uri": "https://localhost:8080/"
        },
        "id": "WeBMwL36fdGN",
        "outputId": "b3c3f7c0-8044-444f-ef09-578e9b41b870"
      },
      "execution_count": 21,
      "outputs": [
        {
          "output_type": "stream",
          "name": "stdout",
          "text": [
            "3\n",
            "6\n"
          ]
        }
      ]
    },
    {
      "cell_type": "code",
      "source": [
        "'''\n",
        "Question 3 -\n",
        "FACTORIAL ->\n",
        "Take N an input from the user.\n",
        "Calculate the product of all numbers from 1 to N (N is included).\n",
        "'''\n",
        "'''\n",
        "1 > 1\n",
        "2 > 2\n",
        "3 > 6\n",
        "4 > 24\n",
        "'''"
      ],
      "metadata": {
        "id": "m8w1e0Jrf4un"
      },
      "execution_count": null,
      "outputs": []
    },
    {
      "cell_type": "code",
      "source": [
        "# 1 get the input\n",
        "N = int(input())\n",
        "# 2 start the product from 1\n",
        "product =1\n",
        "# 3 loop over the range\n",
        "for i in range(1,N+1): # >> 1,2,3,4,,,,N\n",
        "    # print(i, end=\" \")\n",
        "    # 4 update the product as you loop over the range\n",
        "    product = product * i\n",
        "# 5 print the product\n",
        "print(product)"
      ],
      "metadata": {
        "colab": {
          "base_uri": "https://localhost:8080/"
        },
        "id": "YjNpwzYGhKy1",
        "outputId": "375ce8cc-d8f7-4ae9-a4f6-f5738d837c30"
      },
      "execution_count": 22,
      "outputs": [
        {
          "output_type": "stream",
          "name": "stdout",
          "text": [
            "4\n",
            "24\n"
          ]
        }
      ]
    },
    {
      "cell_type": "code",
      "source": [
        "print(range(5))"
      ],
      "metadata": {
        "colab": {
          "base_uri": "https://localhost:8080/"
        },
        "id": "VBqyVE6Lhgpw",
        "outputId": "4059f557-6ba6-4c0a-8ac4-b24bb0c9ab6d"
      },
      "execution_count": 23,
      "outputs": [
        {
          "output_type": "stream",
          "name": "stdout",
          "text": [
            "range(0, 5)\n"
          ]
        }
      ]
    },
    {
      "cell_type": "code",
      "source": [
        "print(list(range(5)))"
      ],
      "metadata": {
        "colab": {
          "base_uri": "https://localhost:8080/"
        },
        "id": "wPV6Tt21hxGv",
        "outputId": "37dda23a-406d-4358-ba0f-adc03b24e7f5"
      },
      "execution_count": 24,
      "outputs": [
        {
          "output_type": "stream",
          "name": "stdout",
          "text": [
            "[0, 1, 2, 3, 4]\n"
          ]
        }
      ]
    },
    {
      "cell_type": "code",
      "source": [
        "print(list(range(2,5)))"
      ],
      "metadata": {
        "colab": {
          "base_uri": "https://localhost:8080/"
        },
        "id": "sMeQUG_Ihya9",
        "outputId": "a6e2000c-8b92-4be1-9a51-a6fe26d8e683"
      },
      "execution_count": 25,
      "outputs": [
        {
          "output_type": "stream",
          "name": "stdout",
          "text": [
            "[2, 3, 4]\n"
          ]
        }
      ]
    },
    {
      "cell_type": "code",
      "source": [
        "print(list(range(2,5,2)))"
      ],
      "metadata": {
        "colab": {
          "base_uri": "https://localhost:8080/"
        },
        "id": "izNFnAC_h0s2",
        "outputId": "a7062f2b-fb2e-486d-a620-c05305f8864f"
      },
      "execution_count": 26,
      "outputs": [
        {
          "output_type": "stream",
          "name": "stdout",
          "text": [
            "[2, 4]\n"
          ]
        }
      ]
    },
    {
      "cell_type": "code",
      "source": [
        "print(list(range(7, 8)))\n",
        "print(list(range(8, 8)))\n",
        "print(len(range(1, 11, 2)))\n",
        "print(len(range(11)))"
      ],
      "metadata": {
        "colab": {
          "base_uri": "https://localhost:8080/"
        },
        "id": "jyZWzX_7h2te",
        "outputId": "c9f69476-5ae1-4e33-9039-4528e75a3909"
      },
      "execution_count": 30,
      "outputs": [
        {
          "output_type": "stream",
          "name": "stdout",
          "text": [
            "[7]\n",
            "[]\n",
            "5\n",
            "11\n"
          ]
        }
      ]
    },
    {
      "cell_type": "code",
      "source": [
        "'''\n",
        "Question 4 -\n",
        "Take N as input from the user.\n",
        "Calculate the product of all even numbers between 1 and N. Both included.\n",
        "'''"
      ],
      "metadata": {
        "id": "PayQe135k9bh"
      },
      "execution_count": null,
      "outputs": []
    },
    {
      "cell_type": "code",
      "source": [
        "N = int(input())\n",
        "product = 1\n",
        "for i in range(2, N+1,2):\n",
        "    product*=i\n",
        "print(product)"
      ],
      "metadata": {
        "colab": {
          "base_uri": "https://localhost:8080/"
        },
        "id": "aUQleRxrmae2",
        "outputId": "df3f61cd-69fc-4ca7-ac73-1e390a511d10"
      },
      "execution_count": 32,
      "outputs": [
        {
          "output_type": "stream",
          "name": "stdout",
          "text": [
            "5\n",
            "8\n"
          ]
        }
      ]
    },
    {
      "cell_type": "code",
      "source": [
        "N = 7\n",
        "print(list(range(2, N+1,2)))\n",
        "N = 8\n",
        "print(list(range(2, N+1,2)))"
      ],
      "metadata": {
        "colab": {
          "base_uri": "https://localhost:8080/"
        },
        "id": "BSrHDm-2m7yH",
        "outputId": "2230b4a1-a8f8-436c-862a-6ce5b8e9f7f9"
      },
      "execution_count": 33,
      "outputs": [
        {
          "output_type": "stream",
          "name": "stdout",
          "text": [
            "[2, 4, 6]\n",
            "[2, 4, 6, 8]\n"
          ]
        }
      ]
    },
    {
      "cell_type": "code",
      "source": [
        "N = int(input())\n",
        "product = 1\n",
        "for i in range(1, N+1):\n",
        "    if i%2==0:\n",
        "        product*=i\n",
        "print(product)"
      ],
      "metadata": {
        "colab": {
          "base_uri": "https://localhost:8080/"
        },
        "id": "eACxPotimECW",
        "outputId": "23ba0110-b9f5-4cf1-933a-0639b323820d"
      },
      "execution_count": 31,
      "outputs": [
        {
          "output_type": "stream",
          "name": "stdout",
          "text": [
            "5\n",
            "8\n"
          ]
        }
      ]
    },
    {
      "cell_type": "code",
      "source": [
        "'''\n",
        "Question 5 -\n",
        "Take start and end as input from the user.\n",
        "Calculate the product of all even numbers between start and end.\n",
        "Both included.\n",
        "\n",
        "GIVEN - Both start and end will be greater than 0.\n",
        "'''"
      ],
      "metadata": {
        "id": "euoruPigmSpW"
      },
      "execution_count": null,
      "outputs": []
    },
    {
      "cell_type": "code",
      "source": [
        "start = int(input())\n",
        "end = int(input())\n",
        "if start%2==0:\n",
        "    start=start\n",
        "else:\n",
        "    start=start+1\n",
        "product = 1\n",
        "for i in range(start, end+1,2):\n",
        "    product*=i\n",
        "print(product)"
      ],
      "metadata": {
        "colab": {
          "base_uri": "https://localhost:8080/"
        },
        "id": "yxNxpgH7otl0",
        "outputId": "c014bf07-39c3-4c99-9c09-e61c80e2f351"
      },
      "execution_count": 38,
      "outputs": [
        {
          "output_type": "stream",
          "name": "stdout",
          "text": [
            "5\n",
            "10\n",
            "480\n"
          ]
        }
      ]
    },
    {
      "cell_type": "code",
      "source": [
        "start = int(input())\n",
        "end = int(input())\n",
        "product = 1\n",
        "for i in range(start, end+1):\n",
        "    if i%2==0:\n",
        "        product*=i\n",
        "print(product)"
      ],
      "metadata": {
        "colab": {
          "base_uri": "https://localhost:8080/"
        },
        "id": "EVaMLH9joUaz",
        "outputId": "0cc7310e-1098-4599-aa60-0a9d33723747"
      },
      "execution_count": 36,
      "outputs": [
        {
          "output_type": "stream",
          "name": "stdout",
          "text": [
            "5\n",
            "10\n",
            "480\n"
          ]
        }
      ]
    },
    {
      "cell_type": "code",
      "source": [
        "'''\n",
        "Question 6 -\n",
        "Print all the numbers from an input N to 1 in reverse order.\n",
        "N > 1 -> Given\n",
        "'''"
      ],
      "metadata": {
        "id": "zrks_zz4oiir"
      },
      "execution_count": null,
      "outputs": []
    },
    {
      "cell_type": "code",
      "source": [
        "N = int(input())\n",
        "for i in range(N , 1-1, -1):\n",
        "    print(i, end=\" \")"
      ],
      "metadata": {
        "colab": {
          "base_uri": "https://localhost:8080/"
        },
        "id": "KKtHRdd4pzEo",
        "outputId": "e70365e3-ebf0-4f62-c2c7-a4b7197f0052"
      },
      "execution_count": 39,
      "outputs": [
        {
          "output_type": "stream",
          "name": "stdout",
          "text": [
            "5\n",
            "5 4 3 2 1 "
          ]
        }
      ]
    },
    {
      "cell_type": "markdown",
      "source": [
        "# Home work\n",
        "```\n",
        "Question 7 -\n",
        "Print all the numbers from an input N to 1 in reverse order.\n",
        ">>   With for loop using range function but Without using a negative step/jump!\n",
        "N > 1 -> Given\n",
        "\n",
        "```"
      ],
      "metadata": {
        "id": "WdF81zRjqQyd"
      }
    },
    {
      "cell_type": "code",
      "source": [
        "n = int(input())\n",
        "\n",
        "for i in range(-n, 0):\n",
        "    print(-i, end=\" \")"
      ],
      "metadata": {
        "id": "TTGwxNs2p_IP"
      },
      "execution_count": null,
      "outputs": []
    },
    {
      "cell_type": "code",
      "source": [
        "n = int(input())\n",
        "\n",
        "for i in range(n):\n",
        "    print(n-i, end=\" \")"
      ],
      "metadata": {
        "id": "YQWagPdYqdnu"
      },
      "execution_count": null,
      "outputs": []
    },
    {
      "cell_type": "markdown",
      "source": [
        "# Not home work"
      ],
      "metadata": {
        "id": "HXt09QiEqWmr"
      }
    },
    {
      "cell_type": "code",
      "source": [
        "name = \"Cristiano Ronaldo\"\n",
        "print(name)"
      ],
      "metadata": {
        "colab": {
          "base_uri": "https://localhost:8080/"
        },
        "id": "w5w00us9qYQI",
        "outputId": "ac8802d8-58fa-4134-9a3c-fb35db5dc852"
      },
      "execution_count": 40,
      "outputs": [
        {
          "output_type": "stream",
          "name": "stdout",
          "text": [
            "Cristiano Ronaldo\n"
          ]
        }
      ]
    },
    {
      "cell_type": "code",
      "source": [
        "print(len(name))"
      ],
      "metadata": {
        "colab": {
          "base_uri": "https://localhost:8080/"
        },
        "id": "TWbpPK9aqjGv",
        "outputId": "92911570-6f22-445b-a3a9-233371521dc4"
      },
      "execution_count": 41,
      "outputs": [
        {
          "output_type": "stream",
          "name": "stdout",
          "text": [
            "17\n"
          ]
        }
      ]
    },
    {
      "cell_type": "code",
      "source": [
        "for i in name:\n",
        "    print(i)"
      ],
      "metadata": {
        "colab": {
          "base_uri": "https://localhost:8080/"
        },
        "id": "ogQj6LaYqoRJ",
        "outputId": "cb0e2bcf-ffb7-4d6c-8888-bbc7e962d70a"
      },
      "execution_count": 42,
      "outputs": [
        {
          "output_type": "stream",
          "name": "stdout",
          "text": [
            "C\n",
            "r\n",
            "i\n",
            "s\n",
            "t\n",
            "i\n",
            "a\n",
            "n\n",
            "o\n",
            " \n",
            "R\n",
            "o\n",
            "n\n",
            "a\n",
            "l\n",
            "d\n",
            "o\n"
          ]
        }
      ]
    },
    {
      "cell_type": "code",
      "source": [],
      "metadata": {
        "id": "67tPYDCjqvNg"
      },
      "execution_count": null,
      "outputs": []
    }
  ]
}