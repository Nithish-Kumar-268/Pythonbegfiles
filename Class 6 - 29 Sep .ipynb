{
  "nbformat": 4,
  "nbformat_minor": 0,
  "metadata": {
    "colab": {
      "provenance": [],
      "authorship_tag": "ABX9TyMs2VriHsaIRfMZsrKUyy8/",
      "include_colab_link": true
    },
    "kernelspec": {
      "name": "python3",
      "display_name": "Python 3"
    },
    "language_info": {
      "name": "python"
    }
  },
  "cells": [
    {
      "cell_type": "markdown",
      "metadata": {
        "id": "view-in-github",
        "colab_type": "text"
      },
      "source": [
        "<a href=\"https://colab.research.google.com/gist/singhsidhukuldeep/74cad0aa0b30edb0ca9d0019df74c074/beginner-iteration-while-loops-29th-september-2023.ipynb\" target=\"_parent\"><img src=\"https://colab.research.google.com/assets/colab-badge.svg\" alt=\"Open In Colab\"/></a>"
      ]
    },
    {
      "cell_type": "markdown",
      "source": [
        "\n",
        "<center>\n",
        "\n",
        "# Beginner : Iteration - While Loops - 29th September 2023\n",
        "\n",
        "<img src=\"https://media.tenor.com/p1buuYhxWr8AAAAd/python-loop.gif\" width=\"40%\">\n",
        "\n",
        "</center>"
      ],
      "metadata": {
        "id": "KMqw_I_OHKR8"
      }
    },
    {
      "cell_type": "code",
      "execution_count": 3,
      "metadata": {
        "id": "a64QSQgKHJ1Z",
        "colab": {
          "base_uri": "https://localhost:8080/"
        },
        "outputId": "c37f329d-d519-432e-8031-92a264b43a5d"
      },
      "outputs": [
        {
          "output_type": "stream",
          "name": "stdout",
          "text": [
            "1\n",
            "2\n",
            "3\n",
            "4\n",
            "5\n",
            "After the loop is done running, num was 6\n"
          ]
        }
      ],
      "source": [
        "# shouting a number\n",
        "# shout the num as long as it is <= 5\n",
        "\n",
        "num=1\n",
        "\n",
        "while num<=5:\n",
        "    print(num)\n",
        "    num = num + 1\n",
        "\n",
        "\n",
        "print(\"After the loop is done running, num was\", num)"
      ]
    },
    {
      "cell_type": "code",
      "source": [
        "# as long as the <condition> is True\n",
        "# <some python code>\n",
        "# will keep on running"
      ],
      "metadata": {
        "id": "17vxNGPxpRRR"
      },
      "execution_count": null,
      "outputs": []
    },
    {
      "cell_type": "code",
      "source": [
        "while <condition>:\n",
        "    # some\n",
        "    # python\n",
        "    # code"
      ],
      "metadata": {
        "id": "EgFAdbCcpGqM"
      },
      "execution_count": null,
      "outputs": []
    },
    {
      "cell_type": "code",
      "source": [
        "# shouting a number\n",
        "# shout the num as long as it is <= 5\n",
        "\n",
        "num=1 # starting value\n",
        "\n",
        "while num<=5: # condition\n",
        "    print(num)\n",
        "    num = num + 1 # increment/ change in the conition\n",
        "\n",
        "\n",
        "print(\"After the loop is done running, num was\", num)"
      ],
      "metadata": {
        "id": "nfv-leyXpeUT"
      },
      "execution_count": null,
      "outputs": []
    },
    {
      "cell_type": "code",
      "source": [
        "num=1 # starting value\n",
        "\n",
        "while num<=5: # condition\n",
        "    print(num)\n",
        "    num = num + 1 # increment/ change in the conition"
      ],
      "metadata": {
        "colab": {
          "base_uri": "https://localhost:8080/"
        },
        "id": "bfzY9v9VpvEx",
        "outputId": "f9b17b2a-1a92-4032-ad58-55c1d4fbbe19"
      },
      "execution_count": 4,
      "outputs": [
        {
          "output_type": "stream",
          "name": "stdout",
          "text": [
            "1\n",
            "2\n",
            "3\n",
            "4\n",
            "5\n"
          ]
        }
      ]
    },
    {
      "cell_type": "code",
      "source": [
        "num=2 # starting value\n",
        "\n",
        "while num<=5: # condition\n",
        "    print(num)\n",
        "    num = num + 1 # increment/ change in the conition"
      ],
      "metadata": {
        "colab": {
          "base_uri": "https://localhost:8080/"
        },
        "id": "sNiNIG5ap0Ms",
        "outputId": "097ae3e2-2f17-4696-8fd2-dc238960e03b"
      },
      "execution_count": 5,
      "outputs": [
        {
          "output_type": "stream",
          "name": "stdout",
          "text": [
            "2\n",
            "3\n",
            "4\n",
            "5\n"
          ]
        }
      ]
    },
    {
      "cell_type": "code",
      "source": [
        "num=2 # starting value\n",
        "\n",
        "while num<=4: # condition\n",
        "    print(num)\n",
        "    num = num + 1 # increment/ change in the conition"
      ],
      "metadata": {
        "colab": {
          "base_uri": "https://localhost:8080/"
        },
        "id": "kBrjIcxXp3d8",
        "outputId": "b274e579-a84f-406b-dda3-b497051bf0aa"
      },
      "execution_count": 6,
      "outputs": [
        {
          "output_type": "stream",
          "name": "stdout",
          "text": [
            "2\n",
            "3\n",
            "4\n"
          ]
        }
      ]
    },
    {
      "cell_type": "code",
      "source": [
        "num=2 # starting value\n",
        "\n",
        "while num<=4: # condition\n",
        "    print(num)\n",
        "    num = num + 2 # increment/ change in the conition"
      ],
      "metadata": {
        "colab": {
          "base_uri": "https://localhost:8080/"
        },
        "id": "arEhKFZYp7KV",
        "outputId": "1bf53db5-da31-4e52-fadf-330479afc285"
      },
      "execution_count": 7,
      "outputs": [
        {
          "output_type": "stream",
          "name": "stdout",
          "text": [
            "2\n",
            "4\n"
          ]
        }
      ]
    },
    {
      "cell_type": "code",
      "source": [
        "print('''\n",
        "Question 1 -\n",
        "Take an integer input from the user and print alternate numbers from from 1 to input.\n",
        "Input will be a positive number > 1.\n",
        "\n",
        "INPUT - 7\n",
        "OUTPUT - 1 3 5 7\n",
        "\n",
        "INPUT - 4\n",
        "OUTPUT - 1 3\n",
        "''')"
      ],
      "metadata": {
        "colab": {
          "base_uri": "https://localhost:8080/"
        },
        "id": "uszCq5bxqL5U",
        "outputId": "6d6b8adb-8e81-4d53-f0f4-c7ac852011a6"
      },
      "execution_count": 8,
      "outputs": [
        {
          "output_type": "stream",
          "name": "stdout",
          "text": [
            "\n",
            "Question 1 -\n",
            "Take an integer input from the user and print alternate numbers from from 1 to input.\n",
            "Input will be a positive number > 1.\n",
            "\n",
            "INPUT - 7\n",
            "OUTPUT - 1 3 5 7\n",
            "\n",
            "INPUT - 4\n",
            "OUTPUT - 1 3\n",
            "\n"
          ]
        }
      ]
    },
    {
      "cell_type": "code",
      "source": [
        "num = int(input())\n",
        "print(\"=\"*25)\n",
        "\n",
        "start = 1\n",
        "\n",
        "while start<=num:\n",
        "    print(start, end = \" \")\n",
        "    start = start + 2"
      ],
      "metadata": {
        "colab": {
          "base_uri": "https://localhost:8080/"
        },
        "id": "dEcG7Uxeq4WL",
        "outputId": "f0acab21-5af9-44d8-ef7f-d4f2107ca000"
      },
      "execution_count": 11,
      "outputs": [
        {
          "output_type": "stream",
          "name": "stdout",
          "text": [
            "7\n",
            "=========================\n",
            "1 3 5 7 "
          ]
        }
      ]
    },
    {
      "cell_type": "code",
      "source": [
        "print('''\n",
        "Question 1.1 -\n",
        "Take an input from the user and print alternate numbers from from 1 to input.\n",
        "If number is >= 1 -> Print as required.\n",
        "Else print \"Number is smaller than 1!\"\n",
        "\n",
        "INPUT - 7\n",
        "OUTPUT - 1 3 5 7\n",
        "\n",
        "INPUT - -5\n",
        "OUTPUT - Number is smaller than 1!\n",
        "''')"
      ],
      "metadata": {
        "colab": {
          "base_uri": "https://localhost:8080/"
        },
        "id": "4qmS7FzxrhmQ",
        "outputId": "0c0f19f3-64b5-4ab3-9674-35de63bdaaa4"
      },
      "execution_count": 13,
      "outputs": [
        {
          "output_type": "stream",
          "name": "stdout",
          "text": [
            "\n",
            "Question 1.1 -\n",
            "Take an input from the user and print alternate numbers from from 1 to input.\n",
            "If number is >= 1 -> Print as required.\n",
            "Else print \"Number is smaller than 1!\"\n",
            "\n",
            "INPUT - 7\n",
            "OUTPUT - 1 3 5 7\n",
            "\n",
            "INPUT - -5\n",
            "OUTPUT - Number is smaller than 1!\n",
            "\n"
          ]
        }
      ]
    },
    {
      "cell_type": "code",
      "source": [
        "num = int(input())\n",
        "\n",
        "if num >= 1:\n",
        "    # do what we did earlier\n",
        "    start = 1\n",
        "\n",
        "    while start<=num:\n",
        "        print(start, end = \" \")\n",
        "        start = start + 2\n",
        "else:\n",
        "    print(\"Number is smaller than 1!\")"
      ],
      "metadata": {
        "colab": {
          "base_uri": "https://localhost:8080/"
        },
        "id": "F1q0oBNQsuR6",
        "outputId": "04e133dd-a0ad-4065-e86c-e73722088d9b"
      },
      "execution_count": 15,
      "outputs": [
        {
          "output_type": "stream",
          "name": "stdout",
          "text": [
            "-5\n",
            "Number is smaller than 1!\n"
          ]
        }
      ]
    },
    {
      "cell_type": "code",
      "source": [
        "print('''\n",
        "Question 2 -\n",
        "Take two integer inputs from user for start and end integer values.\n",
        "Print every third number starting at start till end. (BOTH START AND END TO BE INCLUDED.)\n",
        "\n",
        "Input :\n",
        "2\n",
        "30\n",
        "\n",
        "2 5 8 11 14 17 20 23 26 29\n",
        "''')"
      ],
      "metadata": {
        "colab": {
          "base_uri": "https://localhost:8080/"
        },
        "id": "JqJlynM_tFjf",
        "outputId": "73100401-a109-4a41-8afb-3ad590b86734"
      },
      "execution_count": 16,
      "outputs": [
        {
          "output_type": "stream",
          "name": "stdout",
          "text": [
            "\n",
            "Question 2 -\n",
            "Take two integer inputs from user for start and end integer values.\n",
            "Print every third number starting at start till end. (BOTH START AND END TO BE INCLUDED.)\n",
            "\n",
            "Input :\n",
            "2\n",
            "30\n",
            "\n",
            "2 5 8 11 14 17 20 23 26 29\n",
            "\n"
          ]
        }
      ]
    },
    {
      "cell_type": "code",
      "source": [
        "start = int(input())\n",
        "end = int(input())\n",
        "\n",
        "# <= because end is included\n",
        "while start<=end:\n",
        "    print(start, end=\" \")\n",
        "    start = start + 3"
      ],
      "metadata": {
        "colab": {
          "base_uri": "https://localhost:8080/"
        },
        "id": "aiu9-V0vumux",
        "outputId": "0bf47d87-995b-4cc9-b5e7-101e44a0a7c8"
      },
      "execution_count": 18,
      "outputs": [
        {
          "output_type": "stream",
          "name": "stdout",
          "text": [
            "2\n",
            "30\n",
            "2 5 8 11 14 17 20 23 26 29 "
          ]
        }
      ]
    },
    {
      "cell_type": "code",
      "source": [
        "print('''\n",
        "Question 3 -\n",
        "Take an input from user for start and end values.\n",
        "Print all even numbers between them. (start and end included)\n",
        "\n",
        "INPUT -\n",
        "3\n",
        "7\n",
        "\n",
        "OUTPUT - 4 6\n",
        "''')"
      ],
      "metadata": {
        "colab": {
          "base_uri": "https://localhost:8080/"
        },
        "id": "JdhSHyblvbb6",
        "outputId": "87174133-f838-41de-d730-03d9f0e78006"
      },
      "execution_count": 20,
      "outputs": [
        {
          "output_type": "stream",
          "name": "stdout",
          "text": [
            "\n",
            "Question 3 -\n",
            "Take an input from user for start and end values.\n",
            "Print all even numbers between them. (start and end included)\n",
            "\n",
            "INPUT -\n",
            "3\n",
            "7\n",
            "\n",
            "OUTPUT - 4 6\n",
            "\n"
          ]
        }
      ]
    },
    {
      "cell_type": "code",
      "source": [
        "# 1 get the input from the user\n",
        "# 2 go over all the numbers between the start and the end\n",
        "    # print the num\n",
        "# 3 instead of printing all the numbers, print only if it is even"
      ],
      "metadata": {
        "id": "LpRBpLoyw-uu"
      },
      "execution_count": null,
      "outputs": []
    },
    {
      "cell_type": "code",
      "source": [
        "start = int(input())\n",
        "end = int(input())\n",
        "\n",
        "while start<=end:\n",
        "    if start%2==0:\n",
        "        print(start, end=\" \")\n",
        "    start+=1"
      ],
      "metadata": {
        "colab": {
          "base_uri": "https://localhost:8080/"
        },
        "id": "nrZ_l0eHw1VJ",
        "outputId": "eb48a573-8a39-4ece-d870-acfd9132618c"
      },
      "execution_count": 22,
      "outputs": [
        {
          "output_type": "stream",
          "name": "stdout",
          "text": [
            "3\n",
            "7\n",
            "4 6 "
          ]
        }
      ]
    },
    {
      "cell_type": "code",
      "source": [
        "start = int(input())\n",
        "end = int(input())\n",
        "\n",
        "loop_count = 0\n",
        "while start<=end:\n",
        "    if start%2==0:\n",
        "        print(start, end=\" \")\n",
        "    start+=1\n",
        "    loop_count+=1\n",
        "\n",
        "print(\"\\n\\nThis loop ran for\", loop_count)"
      ],
      "metadata": {
        "colab": {
          "base_uri": "https://localhost:8080/"
        },
        "id": "_pMAqoxexZvy",
        "outputId": "8e796c93-e8e8-4ac1-bf13-5231c69d5e45"
      },
      "execution_count": 27,
      "outputs": [
        {
          "output_type": "stream",
          "name": "stdout",
          "text": [
            "5\n",
            "20\n",
            "6 8 10 12 14 16 18 20 \n",
            "\n",
            "This loop ran for 16\n"
          ]
        }
      ]
    },
    {
      "cell_type": "code",
      "source": [
        "start = int(input())\n",
        "end = int(input())\n",
        "\n",
        "if start%2==0:\n",
        "    start=start\n",
        "else:\n",
        "    start=start+1\n",
        "\n",
        "loop_count = 0\n",
        "while start<=end:\n",
        "    print(start, end=\" \")\n",
        "    start+=2\n",
        "    loop_count+=1\n",
        "\n",
        "print(\"\\n\\nThis loop ran for\", loop_count)"
      ],
      "metadata": {
        "colab": {
          "base_uri": "https://localhost:8080/"
        },
        "id": "E5vPDKNGyA9j",
        "outputId": "f6adfa00-ef69-4b70-ffce-f8fa96943edd"
      },
      "execution_count": 30,
      "outputs": [
        {
          "output_type": "stream",
          "name": "stdout",
          "text": [
            "5\n",
            "20\n",
            "6 8 10 12 14 16 18 20 \n",
            "\n",
            "This loop ran for 8\n"
          ]
        }
      ]
    },
    {
      "cell_type": "code",
      "source": [
        "print(\"\"\"Password is 567\n",
        "\n",
        "Write a loop in python which runs from 0 to 999 and prints the password after finding it.\n",
        "Print - \"Trying <number>\" for every number\n",
        "Print - \"Password found - number\" when password is found\"\"\")"
      ],
      "metadata": {
        "colab": {
          "base_uri": "https://localhost:8080/"
        },
        "id": "3XgQQEzqzZ1h",
        "outputId": "46236895-93df-4579-f8a7-31b3cf5c5dd6"
      },
      "execution_count": 31,
      "outputs": [
        {
          "output_type": "stream",
          "name": "stdout",
          "text": [
            "Password is 567\n",
            "\n",
            "Write a loop in python which runs from 0 to 999 and prints the password after finding it.\n",
            "Print - \"Trying <number>\" for every number\n",
            "Print - \"Password found - number\" when password is found\n"
          ]
        }
      ]
    },
    {
      "cell_type": "code",
      "source": [
        "password = 12 # assume I don't know this\n",
        "\n",
        "i = 0\n",
        "while i<=999:\n",
        "    print('trying', i)\n",
        "    if i==password:\n",
        "        print('Password found - ', i)\n",
        "        break # once this is executed, your python loop stop\n",
        "    i+=1"
      ],
      "metadata": {
        "colab": {
          "base_uri": "https://localhost:8080/"
        },
        "id": "nZP-2XGC3Pby",
        "outputId": "6e748557-5c47-4d1a-d0fe-f0e181986745"
      },
      "execution_count": 34,
      "outputs": [
        {
          "output_type": "stream",
          "name": "stdout",
          "text": [
            "trying 0\n",
            "trying 1\n",
            "trying 2\n",
            "trying 3\n",
            "trying 4\n",
            "trying 5\n",
            "trying 6\n",
            "trying 7\n",
            "trying 8\n",
            "trying 9\n",
            "trying 10\n",
            "trying 11\n",
            "trying 12\n",
            "Password found -  12\n"
          ]
        }
      ]
    },
    {
      "cell_type": "code",
      "source": [
        "if i==password:\n",
        "    print('Password found - ', i)\n",
        "    break"
      ],
      "metadata": {
        "colab": {
          "base_uri": "https://localhost:8080/",
          "height": 142
        },
        "id": "IqkE0IBE3_sl",
        "outputId": "d11be004-f420-4cee-dc38-86c883aff927"
      },
      "execution_count": 35,
      "outputs": [
        {
          "output_type": "error",
          "ename": "SyntaxError",
          "evalue": "ignored",
          "traceback": [
            "\u001b[0;36m  File \u001b[0;32m\"<ipython-input-35-29ace6afec2c>\"\u001b[0;36m, line \u001b[0;32m3\u001b[0m\n\u001b[0;31m    break\u001b[0m\n\u001b[0m    ^\u001b[0m\n\u001b[0;31mSyntaxError\u001b[0m\u001b[0;31m:\u001b[0m 'break' outside loop\n"
          ]
        }
      ]
    },
    {
      "cell_type": "code",
      "source": [
        "print(\"\"\"Take a number input from user.\n",
        "Print its multiplication table till 10th multiple.\n",
        "\n",
        "INPUT - 7\n",
        "OUTPUT - 7 14 21 28 35 42 49 56 63 70\"\"\")"
      ],
      "metadata": {
        "colab": {
          "base_uri": "https://localhost:8080/"
        },
        "id": "08dDCsp84UKE",
        "outputId": "d4397ac1-4596-4657-a108-c1ff88739244"
      },
      "execution_count": 36,
      "outputs": [
        {
          "output_type": "stream",
          "name": "stdout",
          "text": [
            "Take a number input from user.\n",
            "Print its multiplication table till 10th multiple.\n",
            "\n",
            "INPUT - 7\n",
            "OUTPUT - 7 14 21 28 35 42 49 56 63 70\n"
          ]
        }
      ]
    },
    {
      "cell_type": "code",
      "source": [
        "table_of = int(input())\n",
        "\n",
        "i = 1\n",
        "while i<=10:\n",
        "    print(table_of*i, end=\" \")\n",
        "    i+=1 # i = i +1"
      ],
      "metadata": {
        "colab": {
          "base_uri": "https://localhost:8080/"
        },
        "id": "EnvUDUSC6hAR",
        "outputId": "a78248ba-8141-47d8-8bf3-4bbd552eafbd"
      },
      "execution_count": 37,
      "outputs": [
        {
          "output_type": "stream",
          "name": "stdout",
          "text": [
            "7\n",
            "7 14 21 28 35 42 49 56 63 70 "
          ]
        }
      ]
    },
    {
      "cell_type": "code",
      "source": [
        "print(\"\"\"1. Take an integer input from user. This is the number of test cases. (count)\n",
        "2. Take int for each count from the user.\n",
        "3. Print multiplication table of that integer.\n",
        "\n",
        "\n",
        "INPUT - 3\n",
        "\n",
        "OUTPUT -\n",
        "Please input number 1 - 2\n",
        "Multiplication table - 2 4 6 8 10 12 14 16 18 20\n",
        "\n",
        "Plese input number 2 - 1\n",
        "Multiplication table - 1 2 3 4 5 6 7 8 9 10\n",
        "\n",
        "Please input number 3 - 5\n",
        "Multiplication table - 5 10 15 20 25 30 35 40 45 50\"\"\")\n",
        "\n",
        "print(\"\"\"\n",
        "table_of = int(input())\n",
        "\n",
        "i = 1\n",
        "while i<=10:\n",
        "    print(table_of*i, end=\" \")\n",
        "    i+=1\"\"\")"
      ],
      "metadata": {
        "colab": {
          "base_uri": "https://localhost:8080/"
        },
        "id": "t2FViJO-62Je",
        "outputId": "f9c82288-ef4e-48e8-ab5f-0d04abb7d710"
      },
      "execution_count": 38,
      "outputs": [
        {
          "output_type": "stream",
          "name": "stdout",
          "text": [
            "1. Take an integer input from user. This is the number of test cases. (count)\n",
            "2. Take int for each count from the user.\n",
            "3. Print multiplication table of that integer.\n",
            "\n",
            "\n",
            "INPUT - 3\n",
            "\n",
            "OUTPUT -\n",
            "Please input number 1 - 2\n",
            "Multiplication table - 2 4 6 8 10 12 14 16 18 20\n",
            "\n",
            "Plese input number 2 - 1\n",
            "Multiplication table - 1 2 3 4 5 6 7 8 9 10\n",
            "\n",
            "Please input number 3 - 5\n",
            "Multiplication table - 5 10 15 20 25 30 35 40 45 50\n",
            "\n",
            "table_of = int(input())\n",
            "\n",
            "i = 1\n",
            "while i<=10:\n",
            "    print(table_of*i, end=\" \")\n",
            "    i+=1\n"
          ]
        }
      ]
    },
    {
      "cell_type": "code",
      "source": [
        "total_test_cases = int(input('How many test cases you want to run: '))\n",
        "test_case_count = 1\n",
        "\n",
        "while test_case_count<=total_test_cases:\n",
        "    # do the table\n",
        "    # code for the table from the last question\n",
        "    table_of = int(input())\n",
        "\n",
        "    i = 1\n",
        "    while i<=10:\n",
        "        print(table_of*i, end=\" \")\n",
        "        i+=1\n",
        "\n",
        "    ####################\n",
        "    print('\\n\\n\\n')\n",
        "    test_case_count += 1"
      ],
      "metadata": {
        "colab": {
          "base_uri": "https://localhost:8080/"
        },
        "id": "q0OU5rnj9ZwZ",
        "outputId": "fe85ce93-4e00-4628-e09d-d1de14a8a71b"
      },
      "execution_count": 39,
      "outputs": [
        {
          "output_type": "stream",
          "name": "stdout",
          "text": [
            "How many test cases you want to run: 3\n",
            "2\n",
            "2 4 6 8 10 12 14 16 18 20 \n",
            "\n",
            "\n",
            "\n",
            "1\n",
            "1 2 3 4 5 6 7 8 9 10 \n",
            "\n",
            "\n",
            "\n",
            "5\n",
            "5 10 15 20 25 30 35 40 45 50 \n",
            "\n",
            "\n",
            "\n"
          ]
        }
      ]
    },
    {
      "cell_type": "code",
      "source": [
        "# Dwarakanath\n",
        "# To: Everyone\n",
        "# 8:57 AM\n",
        "# how to find factors of given number\n",
        "\n",
        "# factors of a number\n",
        "num = int(input())\n",
        "factor = 1\n",
        "while factor<=num:\n",
        "    if num%factor==0:\n",
        "        print(factor, end=\" \")\n",
        "    factor+=1"
      ],
      "metadata": {
        "colab": {
          "base_uri": "https://localhost:8080/"
        },
        "id": "9Nu88Ror-s5Y",
        "outputId": "63030f76-f069-45ca-db9a-6b99f2b4ebf4"
      },
      "execution_count": 40,
      "outputs": [
        {
          "output_type": "stream",
          "name": "stdout",
          "text": [
            "24\n",
            "1 2 3 4 6 8 12 24 "
          ]
        }
      ]
    },
    {
      "cell_type": "code",
      "source": [],
      "metadata": {
        "id": "Gc4hxlr0-8Xu"
      },
      "execution_count": null,
      "outputs": []
    }
  ]
}