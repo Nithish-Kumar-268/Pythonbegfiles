{
  "nbformat": 4,
  "nbformat_minor": 0,
  "metadata": {
    "colab": {
      "provenance": [],
      "authorship_tag": "ABX9TyPcHez94kFv3tVL1v27qeZb",
      "include_colab_link": true
    },
    "kernelspec": {
      "name": "python3",
      "display_name": "Python 3"
    },
    "language_info": {
      "name": "python"
    }
  },
  "cells": [
    {
      "cell_type": "markdown",
      "metadata": {
        "id": "view-in-github",
        "colab_type": "text"
      },
      "source": [
        "<a href=\"https://colab.research.google.com/gist/singhsidhukuldeep/dc0eb7655368f79c4d8dd3fbfff9e5af/beginner-list-slicing-18-october-2023.ipynb\" target=\"_parent\"><img src=\"https://colab.research.google.com/assets/colab-badge.svg\" alt=\"Open In Colab\"/></a>"
      ]
    },
    {
      "cell_type": "markdown",
      "source": [
        "<center>\n",
        "\n",
        "# Beginner : List Slicing - 18 October 2023\n",
        "\n",
        "\n",
        "![](https://images7.memedroid.com/images/UPLOADED870/633c84725a9a8.jpeg)\n",
        "\n",
        "</center>"
      ],
      "metadata": {
        "id": "1YtPvPMjGhK4"
      }
    },
    {
      "cell_type": "code",
      "execution_count": 1,
      "metadata": {
        "id": "Z_lf_gFEGdgy"
      },
      "outputs": [],
      "source": [
        "# primitive DS\n",
        "## str, int, float, bool, None"
      ]
    },
    {
      "cell_type": "code",
      "source": [
        "# non- primitive DS"
      ],
      "metadata": {
        "id": "49NMidJGba0c"
      },
      "execution_count": 2,
      "outputs": []
    },
    {
      "cell_type": "code",
      "source": [
        "# python list\n",
        "# []\n",
        "# ordered >> indexing/sort\n",
        "# duplicates are allowed\n",
        "# it can store anything\n",
        "# editable/ mutable"
      ],
      "metadata": {
        "id": "7Ps0ISMQblpy"
      },
      "execution_count": null,
      "outputs": []
    },
    {
      "cell_type": "code",
      "source": [
        "my_list = [5,2,7,7,7,8,6,1]\n",
        "print(my_list)\n",
        "my_list[2]*=-1\n",
        "print(my_list)\n",
        "my_list.sort()\n",
        "print(my_list)\n",
        "my_list.sort(reverse=True)\n",
        "print(my_list)"
      ],
      "metadata": {
        "colab": {
          "base_uri": "https://localhost:8080/"
        },
        "id": "nbn-AZijb2zk",
        "outputId": "a5a95cfd-4177-4060-dc8e-b00d86d18357"
      },
      "execution_count": 7,
      "outputs": [
        {
          "output_type": "stream",
          "name": "stdout",
          "text": [
            "[5, 2, 7, 7, 7, 8, 6, 1]\n",
            "[5, 2, -7, 7, 7, 8, 6, 1]\n",
            "[-7, 1, 2, 5, 6, 7, 7, 8]\n",
            "[8, 7, 7, 6, 5, 2, 1, -7]\n"
          ]
        }
      ]
    },
    {
      "cell_type": "code",
      "source": [
        "# operations\n",
        "a = [1,7,4]\n",
        "b = [2,8,5,-15]\n",
        "\n",
        "print('>> +')\n",
        "print(a+b)\n",
        "\n",
        "print('>> -')\n",
        "# print(a-b) # TypeError: unsupported operand type(s) for -: 'list' and 'list'\n",
        "\n",
        "print('>> /')\n",
        "# print(a/b) # TypeError: unsupported operand type(s) for /: 'list' and 'list'\n",
        "\n",
        "print('>> *')\n",
        "# print(a*b) # TypeError: can't multiply sequence by non-int of type 'list'"
      ],
      "metadata": {
        "colab": {
          "base_uri": "https://localhost:8080/"
        },
        "id": "O2XUc0D9b_Ph",
        "outputId": "0f60c50f-fb4c-41f5-9ff1-6a208fbf2bc8"
      },
      "execution_count": 14,
      "outputs": [
        {
          "output_type": "stream",
          "name": "stdout",
          "text": [
            ">> +\n",
            "[1, 7, 4, 2, 8, 5, -15]\n",
            ">> -\n",
            ">> /\n",
            ">> *\n"
          ]
        }
      ]
    },
    {
      "cell_type": "code",
      "source": [
        "a = [1,7,4]\n",
        "print('>> *')\n",
        "print(a*2)\n",
        "print(a*5)\n",
        "\n",
        "# x*4 = x+x+x+x"
      ],
      "metadata": {
        "colab": {
          "base_uri": "https://localhost:8080/"
        },
        "id": "oIGKidfjcr2M",
        "outputId": "99c879b2-81ea-4d78-cc31-0ff20da5dccb"
      },
      "execution_count": 16,
      "outputs": [
        {
          "output_type": "stream",
          "name": "stdout",
          "text": [
            ">> *\n",
            "[1, 7, 4, 1, 7, 4]\n",
            "[1, 7, 4, 1, 7, 4, 1, 7, 4, 1, 7, 4, 1, 7, 4]\n"
          ]
        }
      ]
    },
    {
      "cell_type": "code",
      "source": [
        "# iterating\n",
        "\n",
        "# my_list\n",
        "\n",
        "# for i in my_list: # direct iteration of the values inside the my_list\n",
        "# for i in range(len(my_list)): # 0,1,2....len(my_list)-1>> my_list[i]"
      ],
      "metadata": {
        "id": "CWruQDo1da5K"
      },
      "execution_count": null,
      "outputs": []
    },
    {
      "cell_type": "markdown",
      "source": [
        "##**Question-1**\n",
        "Given list of all runs by Virat, print runs made in odd matches (Even Indexes).\n",
        "\n",
        "\n",
        "```runs = [62, 85, 74, 10, 12, 101, 122, 99, 81, 55]```"
      ],
      "metadata": {
        "id": "6dnrrct4eRx9"
      }
    },
    {
      "cell_type": "code",
      "source": [
        "runs = [62, 85, 74, 10, 12, 101, 122, 99, 81, 55]\n",
        "print(runs[0::2])"
      ],
      "metadata": {
        "colab": {
          "base_uri": "https://localhost:8080/"
        },
        "id": "qY4BRUh9uiod",
        "outputId": "b8572738-437f-4508-99bf-b16d5990777a"
      },
      "execution_count": 50,
      "outputs": [
        {
          "output_type": "stream",
          "name": "stdout",
          "text": [
            "[62, 74, 12, 122, 81]\n"
          ]
        }
      ]
    },
    {
      "cell_type": "code",
      "source": [
        "runs = [62, 85, 74, 10, 12, 101, 122, 99, 81, 55]\n",
        "\n",
        "for i in range(len(runs)):\n",
        "    if i%2==0:\n",
        "        print(runs[i])"
      ],
      "metadata": {
        "colab": {
          "base_uri": "https://localhost:8080/"
        },
        "id": "jIcmwcNpeYVu",
        "outputId": "7da34572-aa6e-49a3-92f7-412046922e1c"
      },
      "execution_count": 19,
      "outputs": [
        {
          "output_type": "stream",
          "name": "stdout",
          "text": [
            "62\n",
            "74\n",
            "12\n",
            "122\n",
            "81\n"
          ]
        }
      ]
    },
    {
      "cell_type": "markdown",
      "source": [
        "## **Question-2**\n",
        "Given list of all runs by Virat, create a new list of runs made in odd matches (Even Indexes).\n",
        "\n",
        "\n",
        "```runs = [62, 85, 74, 10, 12, 101, 122, 99, 81, 55]```\n",
        "\n",
        "Create a function called `odd_runs`, that will take one argument, which is the `runs` list"
      ],
      "metadata": {
        "id": "Lxi-2RIffc1_"
      }
    },
    {
      "cell_type": "code",
      "source": [
        "runs = [62, 85, 74, 10, 12, 101, 122, 99, 81, 55]\n",
        "print(runs[0::2])"
      ],
      "metadata": {
        "colab": {
          "base_uri": "https://localhost:8080/"
        },
        "id": "L6OIN1jMuvMn",
        "outputId": "88c33cb6-05d4-4c52-bec7-713772a5d035"
      },
      "execution_count": 51,
      "outputs": [
        {
          "output_type": "stream",
          "name": "stdout",
          "text": [
            "[62, 74, 12, 122, 81]\n"
          ]
        }
      ]
    },
    {
      "cell_type": "code",
      "source": [
        "runs = [62, 85, 74, 10, 12, 101, 122, 99, 81, 55]\n",
        "\n",
        "def odd_runs(runs):\n",
        "    result = []\n",
        "\n",
        "    for i in range(len(runs)):\n",
        "        if i%2==0:\n",
        "            # print(runs[i])\n",
        "            result.append(runs[i])\n",
        "\n",
        "    return result\n",
        "\n",
        "odd_runs(runs)"
      ],
      "metadata": {
        "colab": {
          "base_uri": "https://localhost:8080/"
        },
        "id": "jB3IIYddfBI3",
        "outputId": "0f791649-de0c-4bef-fb6b-426fa2332c94"
      },
      "execution_count": 21,
      "outputs": [
        {
          "output_type": "execute_result",
          "data": {
            "text/plain": [
              "[62, 74, 12, 122, 81]"
            ]
          },
          "metadata": {},
          "execution_count": 21
        }
      ]
    },
    {
      "cell_type": "markdown",
      "source": [
        "## **Question-3**\n",
        "Given list of all runs by Virat, create a new list of runs made in last 5 matches.\n",
        "\n",
        "\n",
        "```runs = [62, 85, 74, 10, 12, 101, 122, 99, 81, 55]```\n",
        "\n",
        "Output should be: `[101, 122, 99, 81, 55]`"
      ],
      "metadata": {
        "id": "DkJvmsy7gYwE"
      }
    },
    {
      "cell_type": "code",
      "source": [
        "runs = [62, 85, 74, 10, 12, 101, 122, 99, 81, 55]\n",
        "print(runs[-5:])"
      ],
      "metadata": {
        "colab": {
          "base_uri": "https://localhost:8080/"
        },
        "id": "-mAFW9q6uyTR",
        "outputId": "e319e07e-7349-45b7-dc7a-5d10b0fba88f"
      },
      "execution_count": 52,
      "outputs": [
        {
          "output_type": "stream",
          "name": "stdout",
          "text": [
            "[101, 122, 99, 81, 55]\n"
          ]
        }
      ]
    },
    {
      "cell_type": "code",
      "source": [
        "##########################   index of the last value is, -1, len(runs)-1\n",
        "##########################   index of the second last value is, len(runs)-2\n",
        "##########################   index of the third last value is, len(runs)-3\n",
        "##########################   index of the fourth last value is, len(runs)-4\n",
        "##########################   index of the fifth last value is, len(runs)-5\n",
        "runs = [62, 85, 74, 10, 12, 101, 122, 99, 81, 55]\n",
        "\n",
        "result = []\n",
        "\n",
        "for i in range(len(runs)-5,len(runs)):#>>  len(runs)-5  ....... len(runs)-1\n",
        "    result.append(runs[i])\n",
        "print(result)"
      ],
      "metadata": {
        "colab": {
          "base_uri": "https://localhost:8080/"
        },
        "id": "dDq4o3cBhxcG",
        "outputId": "c4c2185b-e865-4d93-f4ab-52cf8126e5dc"
      },
      "execution_count": 23,
      "outputs": [
        {
          "output_type": "stream",
          "name": "stdout",
          "text": [
            "[101, 122, 99, 81, 55]\n"
          ]
        }
      ]
    },
    {
      "cell_type": "code",
      "source": [
        "##########################   -5   -4  -3  -2  -1\n",
        "runs = [62, 85, 74, 10, 12, 101, 122, 99, 81, 55]\n",
        "\n",
        "result = []\n",
        "\n",
        "for i in range(-5,0):#>> -5   -4  -3  -2  -1\n",
        "    result.append(runs[i])\n",
        "print(result)"
      ],
      "metadata": {
        "colab": {
          "base_uri": "https://localhost:8080/"
        },
        "id": "Wfr-cvd0gZIS",
        "outputId": "3780be36-da21-4d95-afc9-c403ce9c5bbd"
      },
      "execution_count": 22,
      "outputs": [
        {
          "output_type": "stream",
          "name": "stdout",
          "text": [
            "[101, 122, 99, 81, 55]\n"
          ]
        }
      ]
    },
    {
      "cell_type": "markdown",
      "source": [
        "## **Question-4**\n",
        "Given list of all runs by Virat, create a new list of runs made in first 3 matches.\n",
        "\n",
        "```runs = [62, 85, 74, 10, 12, 101, 122, 99, 81, 55]```\n",
        "\n",
        "Output should be: `[62, 85, 74]`"
      ],
      "metadata": {
        "id": "nQNxyAs4jYch"
      }
    },
    {
      "cell_type": "code",
      "source": [
        "runs = [62, 85, 74, 10, 12, 101, 122, 99, 81, 55]\n",
        "print(runs[0:3])"
      ],
      "metadata": {
        "colab": {
          "base_uri": "https://localhost:8080/"
        },
        "id": "HOYfHJtRvSt7",
        "outputId": "b805f2cc-e58d-459c-8693-01eab3b99408"
      },
      "execution_count": 53,
      "outputs": [
        {
          "output_type": "stream",
          "name": "stdout",
          "text": [
            "[62, 85, 74]\n"
          ]
        }
      ]
    },
    {
      "cell_type": "code",
      "source": [
        "runs = [62, 85, 74, 10, 12, 101, 122, 99, 81, 55]\n",
        "###     0    1   2\n",
        "result = []\n",
        "\n",
        "for i in range(3):#>> 0 1 2\n",
        "    result.append(runs[i])\n",
        "print(result)"
      ],
      "metadata": {
        "colab": {
          "base_uri": "https://localhost:8080/"
        },
        "id": "gW7FM-CxjY9K",
        "outputId": "c0168994-db6b-449f-959d-c0a092537a92"
      },
      "execution_count": 24,
      "outputs": [
        {
          "output_type": "stream",
          "name": "stdout",
          "text": [
            "[62, 85, 74]\n"
          ]
        }
      ]
    },
    {
      "cell_type": "markdown",
      "source": [
        "## **Question-5**\n",
        "\n",
        "Given list of all runs by Virat, create a new list of runs made from the 3rd match to the 7th match.\n",
        "\n",
        "```runs = [62, 85, 74, 10, 12, 101, 122, 99, 81, 55]```\n",
        "\n",
        "Output should be: `[74, 10, 12, 101, 122]`\n",
        "\n",
        "You can assume that the list length will be valid"
      ],
      "metadata": {
        "id": "UVyKRiqwkOBK"
      }
    },
    {
      "cell_type": "code",
      "source": [
        "runs = [62, 85, 74, 10, 12, 101, 122, 99, 81, 55]\n",
        "print(runs[2:7])"
      ],
      "metadata": {
        "colab": {
          "base_uri": "https://localhost:8080/"
        },
        "id": "2Zx5_8NBvd1J",
        "outputId": "7c2cae7c-1c39-4270-de35-a4b7d5b44b5d"
      },
      "execution_count": 54,
      "outputs": [
        {
          "output_type": "stream",
          "name": "stdout",
          "text": [
            "[74, 10, 12, 101, 122]\n"
          ]
        }
      ]
    },
    {
      "cell_type": "code",
      "source": [
        "runs = [62, 85, 74, 10, 12, 101, 122, 99, 81, 55]\n",
        "####    0   1    2  3   4    5   6     7   8   9\n",
        "\n",
        "result = []\n",
        "\n",
        "for i in range(2,7):\n",
        "    result.append(runs[i])\n",
        "print(result)"
      ],
      "metadata": {
        "colab": {
          "base_uri": "https://localhost:8080/"
        },
        "id": "K6KHuFUgkPRG",
        "outputId": "c19a2164-f804-4f24-8f63-79137c57e4f8"
      },
      "execution_count": 25,
      "outputs": [
        {
          "output_type": "stream",
          "name": "stdout",
          "text": [
            "[74, 10, 12, 101, 122]\n"
          ]
        }
      ]
    },
    {
      "cell_type": "code",
      "source": [
        "# slicing"
      ],
      "metadata": {
        "id": "YpWINS6xlMd0"
      },
      "execution_count": 26,
      "outputs": []
    },
    {
      "cell_type": "code",
      "source": [
        "# list slicing>> output is ALWAYS a python list  👈👈👈👈👈👈👈👈"
      ],
      "metadata": {
        "id": "UWvytwrVlj00"
      },
      "execution_count": null,
      "outputs": []
    },
    {
      "cell_type": "code",
      "source": [
        "####            0          1      2       3        4\n",
        "avengers = ['iron-man', 'thor', 'cap', 'hulk', 'groot']\n",
        "####           -5         -4      -3      -2       -1\n",
        "\n",
        "print(avengers)"
      ],
      "metadata": {
        "colab": {
          "base_uri": "https://localhost:8080/"
        },
        "id": "BhWyWJWKlxTH",
        "outputId": "e32390b8-14f9-4ac7-8202-aa50a6bd6cba"
      },
      "execution_count": 27,
      "outputs": [
        {
          "output_type": "stream",
          "name": "stdout",
          "text": [
            "['iron-man', 'thor', 'cap', 'hulk', 'groot']\n"
          ]
        }
      ]
    },
    {
      "cell_type": "code",
      "source": [
        "####            0          1      2       3        4\n",
        "avengers = ['iron-man', 'thor', 'cap', 'hulk', 'groot']\n",
        "####           -5         -4      -3      -2       -1\n",
        "\n",
        "print(avengers[2])"
      ],
      "metadata": {
        "colab": {
          "base_uri": "https://localhost:8080/"
        },
        "id": "kZ7pd73jl3UK",
        "outputId": "5c734a64-f64e-4d60-8cfa-1ecfaf23c31d"
      },
      "execution_count": 28,
      "outputs": [
        {
          "output_type": "stream",
          "name": "stdout",
          "text": [
            "cap\n"
          ]
        }
      ]
    },
    {
      "cell_type": "code",
      "source": [
        "####            0          1      2       3        4\n",
        "avengers = ['iron-man', 'thor', 'cap', 'hulk', 'groot']\n",
        "####           -5         -4      -3      -2       -1\n",
        "\n",
        "# list[start:end] >> slice the list >> [start, start+1, start+2...end-1]>>> end index is NOT included\n",
        "print(avengers[1:4])# start = 1 , end = 4>>1,2,3\n",
        "\n",
        "# question\n",
        "print(avengers[0:2]) # start = 0, end = 2>> 0 1"
      ],
      "metadata": {
        "colab": {
          "base_uri": "https://localhost:8080/"
        },
        "id": "530WQdZMmEun",
        "outputId": "b0e00443-cecc-4487-ec98-c538d4fc5b53"
      },
      "execution_count": 30,
      "outputs": [
        {
          "output_type": "stream",
          "name": "stdout",
          "text": [
            "['thor', 'cap', 'hulk']\n",
            "['iron-man', 'thor']\n"
          ]
        }
      ]
    },
    {
      "cell_type": "code",
      "source": [
        "####            0          1      2       3        4\n",
        "avengers = ['iron-man', 'thor', 'cap', 'hulk', 'groot']\n",
        "####           -5         -4      -3      -2       -1\n",
        "\n",
        "# list[start:end:step] >> slice the list >> [start, start+step, start+2*step...till end]\n",
        "# >>> stop before end, end index is NOT included\n",
        "print(avengers[1:4:1])# start = 1, end = 4, step = 1>> 1,2,3\n",
        "\n",
        "# question\n",
        "print(avengers[1:4:2]) # start = 1, end = 4 , step = 2>>1,3\n",
        "\n",
        "# question\n",
        "print(avengers[0:3:2]) # start = 0, end = 3 , step = 2>>0,2"
      ],
      "metadata": {
        "colab": {
          "base_uri": "https://localhost:8080/"
        },
        "id": "bNTsuHgGmy1C",
        "outputId": "a1f90950-6828-460a-c255-403680d262b2"
      },
      "execution_count": 33,
      "outputs": [
        {
          "output_type": "stream",
          "name": "stdout",
          "text": [
            "['thor', 'cap', 'hulk']\n",
            "['thor', 'hulk']\n",
            "['iron-man', 'cap']\n"
          ]
        }
      ]
    },
    {
      "cell_type": "code",
      "source": [
        "####            0          1      2       3        4\n",
        "avengers = ['iron-man', 'thor', 'cap', 'hulk', 'groot']\n",
        "####           -5         -4      -3      -2       -1\n",
        "\n",
        "\n",
        "# question\n",
        "print(['iron-man', 'cap', 'groot'])\n",
        "print(avengers[0:5:2])\n",
        "print(avengers[0:6:2])\n",
        "\n",
        "print(avengers[0:600:2])"
      ],
      "metadata": {
        "colab": {
          "base_uri": "https://localhost:8080/"
        },
        "id": "MuaCGt1JoATP",
        "outputId": "9f9acf2e-f3aa-46c2-f18d-529ece54ce8e"
      },
      "execution_count": 36,
      "outputs": [
        {
          "output_type": "stream",
          "name": "stdout",
          "text": [
            "['iron-man', 'cap', 'groot']\n",
            "['iron-man', 'cap', 'groot']\n",
            "['iron-man', 'cap', 'groot']\n",
            "['iron-man', 'cap', 'groot']\n"
          ]
        }
      ]
    },
    {
      "cell_type": "code",
      "source": [
        "####            0          1      2       3        4\n",
        "avengers = ['iron-man', 'thor', 'cap', 'hulk', 'groot']\n",
        "####           -5         -4      -3      -2       -1\n",
        "\n",
        "print(avengers[100:200])"
      ],
      "metadata": {
        "colab": {
          "base_uri": "https://localhost:8080/"
        },
        "id": "UjgENyIVod3o",
        "outputId": "d5870efb-cfa6-428e-bae8-de43212f1c65"
      },
      "execution_count": 37,
      "outputs": [
        {
          "output_type": "stream",
          "name": "stdout",
          "text": [
            "[]\n"
          ]
        }
      ]
    },
    {
      "cell_type": "code",
      "source": [
        "####            0          1      2       3        4\n",
        "avengers = ['iron-man', 'thor', 'cap', 'hulk', 'groot']\n",
        "####           -5         -4      -3      -2       -1\n",
        "\n",
        "# list[start:end:step] >> slice the list >> [start, start+step, start+2*step...till end]\n",
        "# >>> stop before end, end index is NOT included\n",
        "\n",
        "print(avengers[1:4:1])# start = 1, end = 4, step = 1>> 1,2,3\n",
        "print(avengers[-4:-1:1])\n",
        "print(avengers[1:-1:1])\n",
        "print(avengers[-4:4:1])\n",
        "\n",
        "# 0 index and -ive index can be interchanged wherever you want"
      ],
      "metadata": {
        "colab": {
          "base_uri": "https://localhost:8080/"
        },
        "id": "AeA8Mn2ao5Ud",
        "outputId": "4240c26e-e085-464f-a0a8-7bbc923c62f1"
      },
      "execution_count": 40,
      "outputs": [
        {
          "output_type": "stream",
          "name": "stdout",
          "text": [
            "['thor', 'cap', 'hulk']\n",
            "['thor', 'cap', 'hulk']\n",
            "['thor', 'cap', 'hulk']\n"
          ]
        }
      ]
    },
    {
      "cell_type": "code",
      "source": [
        "####            0          1      2       3        4\n",
        "avengers = ['iron-man', 'thor', 'cap', 'hulk', 'groot']\n",
        "####           -5         -4      -3      -2       -1\n",
        "\n",
        "# list[start:end:step] >> slice the list >> [start, start+step, start+2*step...till end]\n",
        "# >>> stop before end, end index is NOT included\n",
        "\n",
        "print(avengers[1:4:1])# start = 1, end = 4, step = 1>> 1,2,3\n",
        "\n",
        "print(avengers[4:2:-1])# start = 4, end = 2, step = -1>> 4,3\n",
        "\n",
        "# question\n",
        "print(avengers[4:0:-3])# start = 4, end = 0, step = -3>> 4,1"
      ],
      "metadata": {
        "colab": {
          "base_uri": "https://localhost:8080/"
        },
        "id": "OmsAyvrxpKMv",
        "outputId": "3bda6fb9-3ef5-43ae-84c9-ae98fd7f8b59"
      },
      "execution_count": 42,
      "outputs": [
        {
          "output_type": "stream",
          "name": "stdout",
          "text": [
            "['thor', 'cap', 'hulk']\n",
            "['groot', 'hulk']\n",
            "['groot', 'thor']\n"
          ]
        }
      ]
    },
    {
      "cell_type": "code",
      "source": [
        "####            0          1      2       3        4\n",
        "avengers = ['iron-man', 'thor', 'cap', 'hulk', 'groot']\n",
        "####           -5         -4      -3      -2       -1\n",
        "\n",
        "# list[start:end:step] >> slice the list >> [start, start+step, start+2*step...till end]\n",
        "# >>> stop before end, end index is NOT included\n",
        "\n",
        "print(avengers[1:4])# start = 1, end = 4, step = 1(default)>> 1,2,3"
      ],
      "metadata": {
        "colab": {
          "base_uri": "https://localhost:8080/"
        },
        "id": "_r6pESCMqAXM",
        "outputId": "b783c028-866b-491a-dff0-e69d70c13717"
      },
      "execution_count": 43,
      "outputs": [
        {
          "output_type": "stream",
          "name": "stdout",
          "text": [
            "['thor', 'cap', 'hulk']\n"
          ]
        }
      ]
    },
    {
      "cell_type": "code",
      "source": [
        "####            0          1      2       3        4\n",
        "avengers = ['iron-man', 'thor', 'cap', 'hulk', 'groot']\n",
        "####           -5         -4      -3      -2       -1\n",
        "\n",
        "# list[start:end:step] >> slice the list >> [start, start+step, start+2*step...till end]\n",
        "# >>> stop before end, end index is NOT included\n",
        "\n",
        "print(avengers[:4:])# start = left side(step is +ive), end = 4, step = 1\n",
        "\n",
        "# step is +ive: default start is left  side, default end is right side\n",
        "# step is -ive: default start is right side, default end is left  side\n",
        "\n",
        "print(avengers[4::-1])# start = 4, end = left side as step is -ive,  step = -1"
      ],
      "metadata": {
        "colab": {
          "base_uri": "https://localhost:8080/"
        },
        "id": "RW3MSQJlqDc-",
        "outputId": "392e7c74-ca36-432a-f4ce-5c590eedc60c"
      },
      "execution_count": 45,
      "outputs": [
        {
          "output_type": "stream",
          "name": "stdout",
          "text": [
            "['iron-man', 'thor', 'cap', 'hulk']\n",
            "['groot', 'hulk', 'cap', 'thor', 'iron-man']\n"
          ]
        }
      ]
    },
    {
      "cell_type": "code",
      "source": [
        "####            0          1      2       3        4\n",
        "avengers = ['iron-man', 'thor', 'cap', 'hulk', 'groot']\n",
        "####           -5         -4      -3      -2       -1\n",
        "\n",
        "print(avengers[:]) # start=left  side, end=right side, step =1"
      ],
      "metadata": {
        "colab": {
          "base_uri": "https://localhost:8080/"
        },
        "id": "0oeDUXt8qvlV",
        "outputId": "354e03cc-f2e5-4eb7-dffe-b38ce0e5a5c6"
      },
      "execution_count": 46,
      "outputs": [
        {
          "output_type": "stream",
          "name": "stdout",
          "text": [
            "['iron-man', 'thor', 'cap', 'hulk', 'groot']\n"
          ]
        }
      ]
    },
    {
      "cell_type": "code",
      "source": [
        "####            0          1      2       3        4\n",
        "avengers = ['iron-man', 'thor', 'cap', 'hulk', 'groot']\n",
        "####           -5         -4      -3      -2       -1\n",
        "\n",
        "print(avengers[::-1]) # start=right side, end=left  side, step =-1"
      ],
      "metadata": {
        "colab": {
          "base_uri": "https://localhost:8080/"
        },
        "id": "jfZSpsSArAtp",
        "outputId": "96a864d3-7762-45fa-af8e-611e84a33a2b"
      },
      "execution_count": 47,
      "outputs": [
        {
          "output_type": "stream",
          "name": "stdout",
          "text": [
            "['groot', 'hulk', 'cap', 'thor', 'iron-man']\n"
          ]
        }
      ]
    },
    {
      "cell_type": "code",
      "source": [
        "####            0          1      2       3        4\n",
        "avengers = ['iron-man', 'thor', 'cap', 'hulk', 'groot']\n",
        "####           -5         -4      -3      -2       -1\n",
        "\n",
        "print(avengers[::-2]) # start=right side, end=left  side, step =-2"
      ],
      "metadata": {
        "colab": {
          "base_uri": "https://localhost:8080/"
        },
        "id": "V0ZKFTXcrNR1",
        "outputId": "454647b7-0c09-463f-9211-d08de7506749"
      },
      "execution_count": 48,
      "outputs": [
        {
          "output_type": "stream",
          "name": "stdout",
          "text": [
            "['groot', 'cap', 'iron-man']\n"
          ]
        }
      ]
    },
    {
      "cell_type": "code",
      "source": [
        "####            0          1      2       3        4\n",
        "avengers = ['iron-man', 'thor', 'cap', 'hulk', 'groot']\n",
        "####           -5         -4      -3      -2       -1\n",
        "\n",
        "# stupid slicing\n",
        "print(avengers[1:4:-2])"
      ],
      "metadata": {
        "colab": {
          "base_uri": "https://localhost:8080/"
        },
        "id": "Hzy80mgPrf--",
        "outputId": "aac92a60-a802-45cb-d1bb-d19edb39c98c"
      },
      "execution_count": 49,
      "outputs": [
        {
          "output_type": "stream",
          "name": "stdout",
          "text": [
            "[]\n"
          ]
        }
      ]
    },
    {
      "cell_type": "code",
      "source": [
        "# str splitting\n",
        "s = \"this is my str\"\n",
        "print(s.split('is'))"
      ],
      "metadata": {
        "colab": {
          "base_uri": "https://localhost:8080/"
        },
        "id": "iCGfT_LLvrll",
        "outputId": "dbc86507-442b-450f-eeb7-8272ac29bb32"
      },
      "execution_count": 55,
      "outputs": [
        {
          "output_type": "stream",
          "name": "stdout",
          "text": [
            "['th', ' ', ' my str']\n"
          ]
        }
      ]
    },
    {
      "cell_type": "code",
      "source": [
        "# str splitting\n",
        "s = \"this is my str\"\n",
        "print(s.split('i'))"
      ],
      "metadata": {
        "colab": {
          "base_uri": "https://localhost:8080/"
        },
        "id": "Gc00-plxvx2a",
        "outputId": "f2f6a50b-dc4e-4745-8acd-5a160b550750"
      },
      "execution_count": 56,
      "outputs": [
        {
          "output_type": "stream",
          "name": "stdout",
          "text": [
            "['th', 's ', 's my str']\n"
          ]
        }
      ]
    },
    {
      "cell_type": "code",
      "source": [
        "# str splitting\n",
        "s = \"this is my str\"\n",
        "print(s.split(' '))"
      ],
      "metadata": {
        "colab": {
          "base_uri": "https://localhost:8080/"
        },
        "id": "jJ-3-bamv240",
        "outputId": "f9230e76-0bfd-4ab6-9fac-6093edae7130"
      },
      "execution_count": 57,
      "outputs": [
        {
          "output_type": "stream",
          "name": "stdout",
          "text": [
            "['this', 'is', 'my', 'str']\n"
          ]
        }
      ]
    },
    {
      "cell_type": "markdown",
      "source": [
        "![](https://qph.cf2.quoracdn.net/main-qimg-36bf3a962c4e64d26d9f8b16b8ba4ae1)"
      ],
      "metadata": {
        "id": "I0RW3wjv1rm6"
      }
    },
    {
      "cell_type": "code",
      "source": [
        "# Quick fire questions\n",
        "##             0   1  2    3   4   5   6   7   8   9   10\n",
        "python_list = [0, 10, 20, 30, 40, 50, 60, 70, 80, 90, 100]\n",
        "##            -11 -10 -9  -8  -7  -6  -5  -4  -3  -2   -1"
      ],
      "metadata": {
        "id": "R_lxP4Pxv7Tx"
      },
      "execution_count": 66,
      "outputs": []
    },
    {
      "cell_type": "code",
      "source": [
        "print(\"Quick-Question: 10\",      python_list[-8:5:-1])\n",
        "print(\"Streak: _\")"
      ],
      "metadata": {
        "colab": {
          "base_uri": "https://localhost:8080/"
        },
        "id": "xaEoVKvN1aS_",
        "outputId": "9513fcd9-00b9-4a28-8181-9e23a2dfcc80"
      },
      "execution_count": 71,
      "outputs": [
        {
          "output_type": "stream",
          "name": "stdout",
          "text": [
            "Quick-Question: 10 []\n",
            "Streak: _\n"
          ]
        }
      ]
    },
    {
      "cell_type": "code",
      "source": [
        "print(\"Quick-Question: 9\",       python_list[-8:5])\n",
        "print(\"Streak: _\")\n",
        "# default step is 1"
      ],
      "metadata": {
        "colab": {
          "base_uri": "https://localhost:8080/"
        },
        "id": "_JV9pQIv1EBU",
        "outputId": "6ed03720-aab7-48cd-a1cb-677e58097ceb"
      },
      "execution_count": 70,
      "outputs": [
        {
          "output_type": "stream",
          "name": "stdout",
          "text": [
            "Quick-Question: 9 [30, 40]\n",
            "Streak: _\n"
          ]
        }
      ]
    },
    {
      "cell_type": "code",
      "source": [
        "print(\"Quick-Question: 8\",       python_list[-2:])\n",
        "print(\"Streak: _\")\n",
        "# default step is 1"
      ],
      "metadata": {
        "colab": {
          "base_uri": "https://localhost:8080/"
        },
        "id": "Z4re_pDY0mQD",
        "outputId": "af24e675-7a0a-46cd-9943-1eccf44c31c6"
      },
      "execution_count": 68,
      "outputs": [
        {
          "output_type": "stream",
          "name": "stdout",
          "text": [
            "Quick-Question: 8 [90, 100]\n",
            "Streak: _\n"
          ]
        }
      ]
    },
    {
      "cell_type": "code",
      "source": [
        "print(\"Quick-Question: 7\",       python_list[:-5])\n",
        "print(\"Streak: _\")\n",
        "# default step is 1\n",
        "# -5 is same as 6"
      ],
      "metadata": {
        "colab": {
          "base_uri": "https://localhost:8080/"
        },
        "id": "u2pZB53T0FIt",
        "outputId": "84a553bd-04c0-47eb-e8a5-da598bd91288"
      },
      "execution_count": 67,
      "outputs": [
        {
          "output_type": "stream",
          "name": "stdout",
          "text": [
            "Quick-Question: 7 [0, 10, 20, 30, 40, 50]\n",
            "Streak: _\n"
          ]
        }
      ]
    },
    {
      "cell_type": "code",
      "source": [
        "print(\"Quick-Question: 6\",       python_list[-2:-7])\n",
        "print(\"Streak: _\")\n",
        "# default step is 1"
      ],
      "metadata": {
        "colab": {
          "base_uri": "https://localhost:8080/"
        },
        "id": "OThYekGKzmpB",
        "outputId": "936744ff-262f-4b79-a5c5-4f6cb5825144"
      },
      "execution_count": 65,
      "outputs": [
        {
          "output_type": "stream",
          "name": "stdout",
          "text": [
            "Quick-Question: 6 []\n",
            "Streak: _\n"
          ]
        }
      ]
    },
    {
      "cell_type": "code",
      "source": [
        "print(\"Quick-Question: 5\",       python_list[-2:-5:-1])\n",
        "print(\"Streak: _\")"
      ],
      "metadata": {
        "colab": {
          "base_uri": "https://localhost:8080/"
        },
        "id": "yFBmIBZXy1HN",
        "outputId": "a9a0d2aa-2619-48ea-add6-782082260949"
      },
      "execution_count": 64,
      "outputs": [
        {
          "output_type": "stream",
          "name": "stdout",
          "text": [
            "Quick-Question: 5 [90, 80, 70]\n",
            "Streak: _\n"
          ]
        }
      ]
    },
    {
      "cell_type": "code",
      "source": [
        "print(\"Quick-Question: 4\",       python_list[7:])\n",
        "print(\"Streak: _\")"
      ],
      "metadata": {
        "colab": {
          "base_uri": "https://localhost:8080/"
        },
        "id": "t-yAsDp8yVCY",
        "outputId": "19b588e5-d123-4532-f33c-2b85a43a40bf"
      },
      "execution_count": 63,
      "outputs": [
        {
          "output_type": "stream",
          "name": "stdout",
          "text": [
            "Quick-Question: 4 [70, 80, 90, 100]\n",
            "Streak: _\n"
          ]
        }
      ]
    },
    {
      "cell_type": "code",
      "source": [
        "print(\"Quick-Question: 3\",       python_list[:])\n",
        "print(\"Streak: _\")"
      ],
      "metadata": {
        "colab": {
          "base_uri": "https://localhost:8080/"
        },
        "id": "tXUm2bCLx3pm",
        "outputId": "d447a24a-fdda-456f-f2a7-9ef836972f39"
      },
      "execution_count": 62,
      "outputs": [
        {
          "output_type": "stream",
          "name": "stdout",
          "text": [
            "Quick-Question: 3 [0, 10, 20, 30, 40, 50, 60, 70, 80, 90, 100]\n",
            "Streak: _\n"
          ]
        }
      ]
    },
    {
      "cell_type": "code",
      "source": [
        "print(\"Quick-Question: 2\",       python_list[:8])\n",
        "print(\"Streak: _\")"
      ],
      "metadata": {
        "colab": {
          "base_uri": "https://localhost:8080/"
        },
        "id": "4RqCNY8_w_aP",
        "outputId": "1cbd837a-d781-4894-dade-de80e27b0c11"
      },
      "execution_count": 60,
      "outputs": [
        {
          "output_type": "stream",
          "name": "stdout",
          "text": [
            "Quick-Question: 2 [0, 10, 20, 30, 40, 50, 60, 70]\n",
            "Streak: _\n"
          ]
        }
      ]
    },
    {
      "cell_type": "code",
      "source": [
        "print(\"Quick-Question: 1\",       python_list[3:5])\n",
        "print(\"Streak: _\")"
      ],
      "metadata": {
        "colab": {
          "base_uri": "https://localhost:8080/"
        },
        "id": "3cBqm18fwob5",
        "outputId": "422225fa-d6c7-43bb-aa66-a47d09389201"
      },
      "execution_count": 59,
      "outputs": [
        {
          "output_type": "stream",
          "name": "stdout",
          "text": [
            "Quick-Question: 1 [30, 40]\n",
            "Streak: _\n"
          ]
        }
      ]
    }
  ]
}