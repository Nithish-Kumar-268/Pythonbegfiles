{
  "nbformat": 4,
  "nbformat_minor": 0,
  "metadata": {
    "colab": {
      "provenance": [],
      "authorship_tag": "ABX9TyNr3ByrcaVPmAZx6LMVqJJi",
      "include_colab_link": true
    },
    "kernelspec": {
      "name": "python3",
      "display_name": "Python 3"
    },
    "language_info": {
      "name": "python"
    }
  },
  "cells": [
    {
      "cell_type": "markdown",
      "metadata": {
        "id": "view-in-github",
        "colab_type": "text"
      },
      "source": [
        "<a href=\"https://colab.research.google.com/gist/singhsidhukuldeep/34ab06c0b5d110df99ffd68bc136b229/beginner-functions-2-13th-oct-2023.ipynb\" target=\"_parent\"><img src=\"https://colab.research.google.com/assets/colab-badge.svg\" alt=\"Open In Colab\"/></a>"
      ]
    },
    {
      "cell_type": "markdown",
      "source": [
        "<center>\n",
        "\n",
        "# Beginner : Functions 2 - 13th Oct 2023\n",
        "\n",
        "<img src=\"https://ucarecdn.com/5fb26dfe-c0a3-4c6e-b2b0-38be5103258c/\" width=\"40%\">\n",
        "\n",
        "</center>\n"
      ],
      "metadata": {
        "id": "MTd1xkJRcJ12"
      }
    },
    {
      "cell_type": "code",
      "execution_count": null,
      "metadata": {
        "id": "kn0Bv-JvcI8s"
      },
      "outputs": [],
      "source": [
        "# https://pythontutor.com/render.html#mode=edit"
      ]
    },
    {
      "cell_type": "code",
      "source": [
        "a=5\n",
        "a"
      ],
      "metadata": {
        "colab": {
          "base_uri": "https://localhost:8080/"
        },
        "id": "wPsYGqj5spNn",
        "outputId": "675d7618-3a16-4b4f-bbfd-ae6848fed5ae"
      },
      "execution_count": 1,
      "outputs": [
        {
          "output_type": "execute_result",
          "data": {
            "text/plain": [
              "5"
            ]
          },
          "metadata": {},
          "execution_count": 1
        }
      ]
    },
    {
      "cell_type": "code",
      "source": [
        "print(\"Running\")\n",
        "def random():\n",
        "    return True\n",
        "random()\n",
        "print(\"DONE Running\")"
      ],
      "metadata": {
        "colab": {
          "base_uri": "https://localhost:8080/"
        },
        "id": "9zjmFP07s530",
        "outputId": "38abbba7-e6df-4a79-b705-ff128286e97a"
      },
      "execution_count": 2,
      "outputs": [
        {
          "output_type": "stream",
          "name": "stdout",
          "text": [
            "Running\n",
            "DONE Running\n"
          ]
        }
      ]
    },
    {
      "cell_type": "code",
      "source": [
        "print(\"Running\")\n",
        "def abc:\n",
        "    return \"I am a function!\"\n",
        "abc()\n",
        "print(\"DONE Running\")"
      ],
      "metadata": {
        "colab": {
          "base_uri": "https://localhost:8080/",
          "height": 142
        },
        "id": "7x7bfRqztADb",
        "outputId": "5b175943-35a0-439b-b024-91522818919d"
      },
      "execution_count": 3,
      "outputs": [
        {
          "output_type": "error",
          "ename": "SyntaxError",
          "evalue": "ignored",
          "traceback": [
            "\u001b[0;36m  File \u001b[0;32m\"<ipython-input-3-031a4f993827>\"\u001b[0;36m, line \u001b[0;32m2\u001b[0m\n\u001b[0;31m    def abc:\u001b[0m\n\u001b[0m           ^\u001b[0m\n\u001b[0;31mSyntaxError\u001b[0m\u001b[0;31m:\u001b[0m invalid syntax\n"
          ]
        }
      ]
    },
    {
      "cell_type": "code",
      "source": [
        "a = 10 # global\n",
        "def calculator(number):# number is local\n",
        "    print(number * 10)\n",
        "\n",
        "calculator(a)\n",
        "print(number)\n",
        "print(a)"
      ],
      "metadata": {
        "colab": {
          "base_uri": "https://localhost:8080/",
          "height": 246
        },
        "id": "OHqFbnkEtwTX",
        "outputId": "64122cba-b922-4067-9ba0-b50bfe9387ca"
      },
      "execution_count": 4,
      "outputs": [
        {
          "output_type": "stream",
          "name": "stdout",
          "text": [
            "100\n"
          ]
        },
        {
          "output_type": "error",
          "ename": "NameError",
          "evalue": "ignored",
          "traceback": [
            "\u001b[0;31m---------------------------------------------------------------------------\u001b[0m",
            "\u001b[0;31mNameError\u001b[0m                                 Traceback (most recent call last)",
            "\u001b[0;32m<ipython-input-4-d85accb3108c>\u001b[0m in \u001b[0;36m<cell line: 6>\u001b[0;34m()\u001b[0m\n\u001b[1;32m      4\u001b[0m \u001b[0;34m\u001b[0m\u001b[0m\n\u001b[1;32m      5\u001b[0m \u001b[0mcalculator\u001b[0m\u001b[0;34m(\u001b[0m\u001b[0ma\u001b[0m\u001b[0;34m)\u001b[0m\u001b[0;34m\u001b[0m\u001b[0;34m\u001b[0m\u001b[0m\n\u001b[0;32m----> 6\u001b[0;31m \u001b[0mprint\u001b[0m\u001b[0;34m(\u001b[0m\u001b[0mnumber\u001b[0m\u001b[0;34m)\u001b[0m\u001b[0;34m\u001b[0m\u001b[0;34m\u001b[0m\u001b[0m\n\u001b[0m\u001b[1;32m      7\u001b[0m \u001b[0mprint\u001b[0m\u001b[0;34m(\u001b[0m\u001b[0ma\u001b[0m\u001b[0;34m)\u001b[0m\u001b[0;34m\u001b[0m\u001b[0;34m\u001b[0m\u001b[0m\n",
            "\u001b[0;31mNameError\u001b[0m: name 'number' is not defined"
          ]
        }
      ]
    },
    {
      "cell_type": "code",
      "source": [
        "a = 10\n",
        "def calculator(number):\n",
        "    print(number * 10)\n",
        "\n",
        "calculator(a)\n",
        "print(a)"
      ],
      "metadata": {
        "colab": {
          "base_uri": "https://localhost:8080/"
        },
        "id": "dO3b-TbMu5XT",
        "outputId": "c74aaf30-354d-470c-ae6c-bb0a3940e7ab"
      },
      "execution_count": 5,
      "outputs": [
        {
          "output_type": "stream",
          "name": "stdout",
          "text": [
            "100\n",
            "10\n"
          ]
        }
      ]
    },
    {
      "cell_type": "code",
      "source": [
        "print(\"Running\")\n",
        "a = 57\n",
        "def simple_function(a):\n",
        "    if a <= 10:\n",
        "        return \"SMALL\"\n",
        "    elif a > 10:\n",
        "        return \"BIG\"\n",
        "\n",
        "simple_function(a)\n",
        "print(\"DONE Running\")"
      ],
      "metadata": {
        "colab": {
          "base_uri": "https://localhost:8080/"
        },
        "id": "vFlXvh-AviB4",
        "outputId": "2c5aea56-561e-49ff-a3ac-b26943945523"
      },
      "execution_count": 7,
      "outputs": [
        {
          "output_type": "stream",
          "name": "stdout",
          "text": [
            "Running\n",
            "DONE Running\n"
          ]
        }
      ]
    },
    {
      "cell_type": "code",
      "source": [
        "def greet_the_family(mother, father, brother):\n",
        "    \"\"\"\n",
        "        this is the main step\n",
        "        you are meeting the family 😨\n",
        "        you should know the names of teh family members 💡\n",
        "\n",
        "            1 mother name\n",
        "            2 father name\n",
        "            3 brother name\n",
        "    \"\"\"\n",
        "    print(\"Touch the 🐾 Hello\", mother)\n",
        "    print(\"Touch the 👟 Hello\", father)\n",
        "    print(\"🙌\", brother)"
      ],
      "metadata": {
        "id": "fpNKJmVqwZ0G"
      },
      "execution_count": 8,
      "outputs": []
    },
    {
      "cell_type": "code",
      "source": [
        "greet_the_family('Shakira', 'Tom Cruise', 'Salman Bhai')"
      ],
      "metadata": {
        "colab": {
          "base_uri": "https://localhost:8080/"
        },
        "id": "3yEHkIErwd2g",
        "outputId": "67083b84-52c4-44fa-9912-caab4ddd3295"
      },
      "execution_count": 9,
      "outputs": [
        {
          "output_type": "stream",
          "name": "stdout",
          "text": [
            "Touch the 🐾 Hello Shakira\n",
            "Touch the 👟 Hello Tom Cruise\n",
            "🙌 Salman Bhai\n"
          ]
        }
      ]
    },
    {
      "cell_type": "code",
      "source": [
        "# positional arguments\n",
        "greet_the_family('Salman Bhai', 'Tom Cruise', 'Shakira')"
      ],
      "metadata": {
        "colab": {
          "base_uri": "https://localhost:8080/"
        },
        "id": "306qWXo7wmjp",
        "outputId": "0e65bb5a-c1f8-4a05-89c5-3bcfec3b0396"
      },
      "execution_count": 10,
      "outputs": [
        {
          "output_type": "stream",
          "name": "stdout",
          "text": [
            "Touch the 🐾 Hello Salman Bhai\n",
            "Touch the 👟 Hello Tom Cruise\n",
            "🙌 Shakira\n"
          ]
        }
      ]
    },
    {
      "cell_type": "code",
      "source": [
        "# keyword arguments\n",
        "print(\"This\", 'is', \"print\", sep=\"--\", end=\"\\n\\n\")\n",
        "print(\"This\", 'is 2nd', \"print\", sep=\"--\")"
      ],
      "metadata": {
        "colab": {
          "base_uri": "https://localhost:8080/"
        },
        "id": "-GghpG02w1qw",
        "outputId": "ecdf32fd-ec05-41c2-8ae0-9288ba67e0a7"
      },
      "execution_count": 11,
      "outputs": [
        {
          "output_type": "stream",
          "name": "stdout",
          "text": [
            "This--is--print\n",
            "\n",
            "This--is 2nd--print\n"
          ]
        }
      ]
    },
    {
      "cell_type": "code",
      "source": [
        "greet_the_family(mother = 'Shakira', father ='Tom Cruise', brother='Salman Bhai')"
      ],
      "metadata": {
        "colab": {
          "base_uri": "https://localhost:8080/"
        },
        "id": "_He3vjTkxIuU",
        "outputId": "93c8fa12-c5c5-4e9a-9365-a2f59b86583e"
      },
      "execution_count": 12,
      "outputs": [
        {
          "output_type": "stream",
          "name": "stdout",
          "text": [
            "Touch the 🐾 Hello Shakira\n",
            "Touch the 👟 Hello Tom Cruise\n",
            "🙌 Salman Bhai\n"
          ]
        }
      ]
    },
    {
      "cell_type": "code",
      "source": [
        "greet_the_family(brother='Salman Bhai', father ='Tom Cruise', mother = 'Shakira')"
      ],
      "metadata": {
        "colab": {
          "base_uri": "https://localhost:8080/"
        },
        "id": "gD7TH0p2xMen",
        "outputId": "7e58cc7a-96dc-45fc-8cf0-0d0daa29e7da"
      },
      "execution_count": 13,
      "outputs": [
        {
          "output_type": "stream",
          "name": "stdout",
          "text": [
            "Touch the 🐾 Hello Shakira\n",
            "Touch the 👟 Hello Tom Cruise\n",
            "🙌 Salman Bhai\n"
          ]
        }
      ]
    },
    {
      "cell_type": "code",
      "source": [
        "def printer(a,b,c,d):\n",
        "    print('a =', a)\n",
        "    print('b =', b)\n",
        "    print('c =', c)\n",
        "    print('d =', d)"
      ],
      "metadata": {
        "id": "kXh0qskIxfut"
      },
      "execution_count": 14,
      "outputs": []
    },
    {
      "cell_type": "code",
      "source": [
        "printer(1,2,3,4) # positional"
      ],
      "metadata": {
        "colab": {
          "base_uri": "https://localhost:8080/"
        },
        "id": "faMrmzfxxrqV",
        "outputId": "52602d0e-e960-4e09-86f8-4f40a92cb6c8"
      },
      "execution_count": 15,
      "outputs": [
        {
          "output_type": "stream",
          "name": "stdout",
          "text": [
            "a = 1\n",
            "b = 2\n",
            "c = 3\n",
            "d = 4\n"
          ]
        }
      ]
    },
    {
      "cell_type": "code",
      "source": [
        "printer(a=1,b=2,c=3,d=4) # keyword"
      ],
      "metadata": {
        "colab": {
          "base_uri": "https://localhost:8080/"
        },
        "id": "nhqCiR14x_DW",
        "outputId": "e3259073-c9b7-4688-d42d-689b90f1122f"
      },
      "execution_count": 16,
      "outputs": [
        {
          "output_type": "stream",
          "name": "stdout",
          "text": [
            "a = 1\n",
            "b = 2\n",
            "c = 3\n",
            "d = 4\n"
          ]
        }
      ]
    },
    {
      "cell_type": "code",
      "source": [
        "printer(c=3,d=4, a=1,b=2) # keyword"
      ],
      "metadata": {
        "colab": {
          "base_uri": "https://localhost:8080/"
        },
        "id": "9C5A6G8lyEiF",
        "outputId": "91377b69-499e-44ba-c0f1-ffbd3878c299"
      },
      "execution_count": 17,
      "outputs": [
        {
          "output_type": "stream",
          "name": "stdout",
          "text": [
            "a = 1\n",
            "b = 2\n",
            "c = 3\n",
            "d = 4\n"
          ]
        }
      ]
    },
    {
      "cell_type": "code",
      "source": [
        "printer(c=3,d=4, c=1,b=2) # keyword"
      ],
      "metadata": {
        "colab": {
          "base_uri": "https://localhost:8080/",
          "height": 142
        },
        "id": "YBdiIqVpyNbV",
        "outputId": "9f3f3b6e-83e0-482c-bd2b-c98ece6a0463"
      },
      "execution_count": 18,
      "outputs": [
        {
          "output_type": "error",
          "ename": "SyntaxError",
          "evalue": "ignored",
          "traceback": [
            "\u001b[0;36m  File \u001b[0;32m\"<ipython-input-18-a447e1ad27c6>\"\u001b[0;36m, line \u001b[0;32m1\u001b[0m\n\u001b[0;31m    printer(c=3,d=4, c=1,b=2) # keyword\u001b[0m\n\u001b[0m                     ^\u001b[0m\n\u001b[0;31mSyntaxError\u001b[0m\u001b[0;31m:\u001b[0m keyword argument repeated: c\n"
          ]
        }
      ]
    },
    {
      "cell_type": "code",
      "source": [
        "def printer(a,b,c,d):\n",
        "    print('a =', a)\n",
        "    print('b =', b)\n",
        "    print('c =', c)\n",
        "    print('d =', d)\n",
        "printer(1,2,d=4,c=3)"
      ],
      "metadata": {
        "colab": {
          "base_uri": "https://localhost:8080/"
        },
        "id": "l7MjJBMbyi2f",
        "outputId": "6b552ee1-77a8-4980-c19b-4cd90efd5fad"
      },
      "execution_count": 19,
      "outputs": [
        {
          "output_type": "stream",
          "name": "stdout",
          "text": [
            "a = 1\n",
            "b = 2\n",
            "c = 3\n",
            "d = 4\n"
          ]
        }
      ]
    },
    {
      "cell_type": "code",
      "source": [
        "def printer(a,b,c,d):\n",
        "    print('a =', a)\n",
        "    print('b =', b)\n",
        "    print('c =', c)\n",
        "    print('d =', d)\n",
        "printer(1,2,d=4,a=3)"
      ],
      "metadata": {
        "colab": {
          "base_uri": "https://localhost:8080/",
          "height": 211
        },
        "id": "70w00JPBy3wZ",
        "outputId": "9250d098-ee95-433e-a02c-5267dfa4cfd8"
      },
      "execution_count": 20,
      "outputs": [
        {
          "output_type": "error",
          "ename": "TypeError",
          "evalue": "ignored",
          "traceback": [
            "\u001b[0;31m---------------------------------------------------------------------------\u001b[0m",
            "\u001b[0;31mTypeError\u001b[0m                                 Traceback (most recent call last)",
            "\u001b[0;32m<ipython-input-20-14b4e5abd1da>\u001b[0m in \u001b[0;36m<cell line: 6>\u001b[0;34m()\u001b[0m\n\u001b[1;32m      4\u001b[0m     \u001b[0mprint\u001b[0m\u001b[0;34m(\u001b[0m\u001b[0;34m'c ='\u001b[0m\u001b[0;34m,\u001b[0m \u001b[0mc\u001b[0m\u001b[0;34m)\u001b[0m\u001b[0;34m\u001b[0m\u001b[0;34m\u001b[0m\u001b[0m\n\u001b[1;32m      5\u001b[0m     \u001b[0mprint\u001b[0m\u001b[0;34m(\u001b[0m\u001b[0;34m'd ='\u001b[0m\u001b[0;34m,\u001b[0m \u001b[0md\u001b[0m\u001b[0;34m)\u001b[0m\u001b[0;34m\u001b[0m\u001b[0;34m\u001b[0m\u001b[0m\n\u001b[0;32m----> 6\u001b[0;31m \u001b[0mprinter\u001b[0m\u001b[0;34m(\u001b[0m\u001b[0;36m1\u001b[0m\u001b[0;34m,\u001b[0m\u001b[0;36m2\u001b[0m\u001b[0;34m,\u001b[0m\u001b[0md\u001b[0m\u001b[0;34m=\u001b[0m\u001b[0;36m4\u001b[0m\u001b[0;34m,\u001b[0m\u001b[0ma\u001b[0m\u001b[0;34m=\u001b[0m\u001b[0;36m3\u001b[0m\u001b[0;34m)\u001b[0m\u001b[0;34m\u001b[0m\u001b[0;34m\u001b[0m\u001b[0m\n\u001b[0m",
            "\u001b[0;31mTypeError\u001b[0m: printer() got multiple values for argument 'a'"
          ]
        }
      ]
    },
    {
      "cell_type": "code",
      "source": [
        "def printer(a,b,c,d):\n",
        "    print('a =', a)\n",
        "    print('b =', b)\n",
        "    print('c =', c)\n",
        "    print('d =', d)\n",
        "printer(d=4,1,2,c=3)"
      ],
      "metadata": {
        "colab": {
          "base_uri": "https://localhost:8080/",
          "height": 142
        },
        "id": "LF2I4QFYzC-l",
        "outputId": "1cb3f595-98d0-4a1d-8691-9f1422b4e520"
      },
      "execution_count": 21,
      "outputs": [
        {
          "output_type": "error",
          "ename": "SyntaxError",
          "evalue": "ignored",
          "traceback": [
            "\u001b[0;36m  File \u001b[0;32m\"<ipython-input-21-7721dfa2f77a>\"\u001b[0;36m, line \u001b[0;32m6\u001b[0m\n\u001b[0;31m    printer(d=4,1,2,c=3)\u001b[0m\n\u001b[0m                       ^\u001b[0m\n\u001b[0;31mSyntaxError\u001b[0m\u001b[0;31m:\u001b[0m positional argument follows keyword argument\n"
          ]
        }
      ]
    },
    {
      "cell_type": "code",
      "source": [
        "# Sachin Kaushalya\n",
        "# To: Everyone\n",
        "# 7:41 AM\n",
        "# i cannot put 1,b=2,3,4 ?\n",
        "def printer(a,b,c,d):\n",
        "    print('a =', a)\n",
        "    print('b =', b)\n",
        "    print('c =', c)\n",
        "    print('d =', d)\n",
        "printer( 1,b=2,3,4 )"
      ],
      "metadata": {
        "colab": {
          "base_uri": "https://localhost:8080/",
          "height": 142
        },
        "id": "0NcVI_gHzgDo",
        "outputId": "9dfdb8f5-93b2-4942-c95c-05eb746a79c4"
      },
      "execution_count": 22,
      "outputs": [
        {
          "output_type": "error",
          "ename": "SyntaxError",
          "evalue": "ignored",
          "traceback": [
            "\u001b[0;36m  File \u001b[0;32m\"<ipython-input-22-40d768486fe8>\"\u001b[0;36m, line \u001b[0;32m10\u001b[0m\n\u001b[0;31m    printer( 1,b=2,3,4 )\u001b[0m\n\u001b[0m                       ^\u001b[0m\n\u001b[0;31mSyntaxError\u001b[0m\u001b[0;31m:\u001b[0m positional argument follows keyword argument\n"
          ]
        }
      ]
    },
    {
      "cell_type": "code",
      "source": [
        "def simple_interest(p,r,t):\n",
        "    \"\"\"\n",
        "    p: Principal amount\n",
        "    r: rate of interest\n",
        "    t: time\n",
        "    \"\"\"\n",
        "    interest = p*r*t/100\n",
        "    return interest\n",
        "print(simple_interest(100,9.5,2))"
      ],
      "metadata": {
        "colab": {
          "base_uri": "https://localhost:8080/"
        },
        "id": "CK72S0aKz02U",
        "outputId": "af17ee58-ed36-468a-8dd3-909c81fb5063"
      },
      "execution_count": 23,
      "outputs": [
        {
          "output_type": "stream",
          "name": "stdout",
          "text": [
            "19.0\n"
          ]
        }
      ]
    },
    {
      "cell_type": "code",
      "source": [
        "def simple_interest(p,r,t):\n",
        "    \"\"\"\n",
        "    p: Principal amount\n",
        "    r: rate of interest\n",
        "    t: time\n",
        "    \"\"\"\n",
        "    interest = p*r*t/100\n",
        "    return interest\n",
        "print(simple_interest(100,9.5))"
      ],
      "metadata": {
        "colab": {
          "base_uri": "https://localhost:8080/",
          "height": 211
        },
        "id": "f-HIJOSc0s4V",
        "outputId": "9df6cc47-a3ed-41ba-c8eb-db201a8a4760"
      },
      "execution_count": 24,
      "outputs": [
        {
          "output_type": "error",
          "ename": "TypeError",
          "evalue": "ignored",
          "traceback": [
            "\u001b[0;31m---------------------------------------------------------------------------\u001b[0m",
            "\u001b[0;31mTypeError\u001b[0m                                 Traceback (most recent call last)",
            "\u001b[0;32m<ipython-input-24-78b8abedfe19>\u001b[0m in \u001b[0;36m<cell line: 9>\u001b[0;34m()\u001b[0m\n\u001b[1;32m      7\u001b[0m     \u001b[0minterest\u001b[0m \u001b[0;34m=\u001b[0m \u001b[0mp\u001b[0m\u001b[0;34m*\u001b[0m\u001b[0mr\u001b[0m\u001b[0;34m*\u001b[0m\u001b[0mt\u001b[0m\u001b[0;34m/\u001b[0m\u001b[0;36m100\u001b[0m\u001b[0;34m\u001b[0m\u001b[0;34m\u001b[0m\u001b[0m\n\u001b[1;32m      8\u001b[0m     \u001b[0;32mreturn\u001b[0m \u001b[0minterest\u001b[0m\u001b[0;34m\u001b[0m\u001b[0;34m\u001b[0m\u001b[0m\n\u001b[0;32m----> 9\u001b[0;31m \u001b[0mprint\u001b[0m\u001b[0;34m(\u001b[0m\u001b[0msimple_interest\u001b[0m\u001b[0;34m(\u001b[0m\u001b[0;36m100\u001b[0m\u001b[0;34m,\u001b[0m\u001b[0;36m9.5\u001b[0m\u001b[0;34m)\u001b[0m\u001b[0;34m)\u001b[0m\u001b[0;34m\u001b[0m\u001b[0;34m\u001b[0m\u001b[0m\n\u001b[0m",
            "\u001b[0;31mTypeError\u001b[0m: simple_interest() missing 1 required positional argument: 't'"
          ]
        }
      ]
    },
    {
      "cell_type": "code",
      "source": [
        "def simple_interest(p,r,t=5):\n",
        "    \"\"\"\n",
        "    p: Principal amount\n",
        "    r: rate of interest\n",
        "    t: time\n",
        "    \"\"\"\n",
        "    interest = p*r*t/100\n",
        "    return interest\n",
        "print(simple_interest(100,9.5))\n",
        "print(simple_interest(100,9.5,2))"
      ],
      "metadata": {
        "colab": {
          "base_uri": "https://localhost:8080/"
        },
        "id": "9C2Buv-21CxZ",
        "outputId": "9575a85b-3de7-47dd-9b81-b07c6f07ab2d"
      },
      "execution_count": 25,
      "outputs": [
        {
          "output_type": "stream",
          "name": "stdout",
          "text": [
            "47.5\n",
            "19.0\n"
          ]
        }
      ]
    },
    {
      "cell_type": "code",
      "source": [
        "def simple_interest(p,t=5,r):\n",
        "    \"\"\"\n",
        "    p: Principal amount\n",
        "    r: rate of interest\n",
        "    t: time\n",
        "    \"\"\"\n",
        "    interest = p*r*t/100\n",
        "    return interest\n",
        "print(simple_interest(100,9.5))\n",
        "print(simple_interest(100,9.5,2))"
      ],
      "metadata": {
        "colab": {
          "base_uri": "https://localhost:8080/",
          "height": 142
        },
        "id": "PSO2w_cm1TTr",
        "outputId": "83ec1be2-0185-462b-8474-9d540f1e3dae"
      },
      "execution_count": 26,
      "outputs": [
        {
          "output_type": "error",
          "ename": "SyntaxError",
          "evalue": "ignored",
          "traceback": [
            "\u001b[0;36m  File \u001b[0;32m\"<ipython-input-26-c2221f3870d1>\"\u001b[0;36m, line \u001b[0;32m1\u001b[0m\n\u001b[0;31m    def simple_interest(p,t=5,r):\u001b[0m\n\u001b[0m                              ^\u001b[0m\n\u001b[0;31mSyntaxError\u001b[0m\u001b[0;31m:\u001b[0m non-default argument follows default argument\n"
          ]
        }
      ]
    },
    {
      "cell_type": "code",
      "source": [
        "def simple_interest(p=100,r=7.5,t=5):\n",
        "    \"\"\"\n",
        "    p: Principal amount\n",
        "    r: rate of interest\n",
        "    t: time\n",
        "    \"\"\"\n",
        "    interest = p*r*t/100\n",
        "    return interest\n",
        "print(simple_interest(100,9.5))\n",
        "print(simple_interest(100,9.5,2))"
      ],
      "metadata": {
        "colab": {
          "base_uri": "https://localhost:8080/"
        },
        "id": "Svgs_cDC1dTp",
        "outputId": "b7d6683d-a648-4443-abe7-b79a8525babb"
      },
      "execution_count": 27,
      "outputs": [
        {
          "output_type": "stream",
          "name": "stdout",
          "text": [
            "47.5\n",
            "19.0\n"
          ]
        }
      ]
    },
    {
      "cell_type": "code",
      "source": [
        "print(\n",
        "'''\n",
        "Question 1 -\n",
        "Create a date printing function (print_date) -\n",
        "Should take 4 arguments -> day, month, year and style\n",
        "\n",
        "Styling Logic -\n",
        "style -> 0 -> d/m/y\n",
        "style -> 1 -> m/d/y\n",
        "style -> any other value -> Invalid Style\n",
        "\n",
        "default style is 0.\n",
        "'''\n",
        "\n",
        ")"
      ],
      "metadata": {
        "colab": {
          "base_uri": "https://localhost:8080/"
        },
        "id": "LHPMosOc1xtt",
        "outputId": "be570ca1-09e9-4cab-fda9-a0d408357d2a"
      },
      "execution_count": 29,
      "outputs": [
        {
          "output_type": "stream",
          "name": "stdout",
          "text": [
            "\n",
            "Question 1 -\n",
            "Create a date printing function (print_date) -\n",
            "Should take 4 arguments -> day, month, year and style\n",
            "\n",
            "Styling Logic -\n",
            "style -> 0 -> d/m/y\n",
            "style -> 1 -> m/d/y\n",
            "style -> any other value -> Invalid Style\n",
            "\n",
            "default style is 0.\n",
            "\n"
          ]
        }
      ]
    },
    {
      "cell_type": "code",
      "source": [
        "def print_date(day, month, year , style=0):\n",
        "    if style ==0:\n",
        "        print(day, month, year, sep=\"/\")\n",
        "    elif style ==1:\n",
        "        print( month,day, year, sep=\"/\")\n",
        "    else:\n",
        "        print('Invalid Style')\n",
        "print_date(13, 10, 2023 , style=0)\n",
        "print_date(13, 10, 2023 )\n",
        "print_date(13, 10, 2023, 10)"
      ],
      "metadata": {
        "colab": {
          "base_uri": "https://localhost:8080/"
        },
        "id": "jiKSJiVx2cMM",
        "outputId": "e24c6be4-0927-40c6-dcd0-332802f7b930"
      },
      "execution_count": 32,
      "outputs": [
        {
          "output_type": "stream",
          "name": "stdout",
          "text": [
            "13/10/2023\n",
            "13/10/2023\n",
            "Invalid Style\n"
          ]
        }
      ]
    },
    {
      "cell_type": "code",
      "source": [
        "def multiply(num1=3, num2):\n",
        "    return num1 * num2\n",
        "\n",
        "print(multiply(2, 4))"
      ],
      "metadata": {
        "colab": {
          "base_uri": "https://localhost:8080/",
          "height": 142
        },
        "id": "Dg_b58Ie3k01",
        "outputId": "4cce79c1-5e26-4486-afb3-069ff7b054fc"
      },
      "execution_count": 33,
      "outputs": [
        {
          "output_type": "error",
          "ename": "SyntaxError",
          "evalue": "ignored",
          "traceback": [
            "\u001b[0;36m  File \u001b[0;32m\"<ipython-input-33-f42fbf0805a4>\"\u001b[0;36m, line \u001b[0;32m1\u001b[0m\n\u001b[0;31m    def multiply(num1=3, num2):\u001b[0m\n\u001b[0m                         ^\u001b[0m\n\u001b[0;31mSyntaxError\u001b[0m\u001b[0;31m:\u001b[0m non-default argument follows default argument\n"
          ]
        }
      ]
    },
    {
      "cell_type": "code",
      "source": [
        "a = 10 # global\n",
        "def calculator(number):# number is local\n",
        "    print(number * 10)\n",
        "\n",
        "calculator(a)\n",
        "print(number)\n",
        "print(a)"
      ],
      "metadata": {
        "colab": {
          "base_uri": "https://localhost:8080/",
          "height": 246
        },
        "id": "KrkWg8CK6kFU",
        "outputId": "aea0383d-ea29-46b6-eafb-ce00120d820f"
      },
      "execution_count": 34,
      "outputs": [
        {
          "output_type": "stream",
          "name": "stdout",
          "text": [
            "100\n"
          ]
        },
        {
          "output_type": "error",
          "ename": "NameError",
          "evalue": "ignored",
          "traceback": [
            "\u001b[0;31m---------------------------------------------------------------------------\u001b[0m",
            "\u001b[0;31mNameError\u001b[0m                                 Traceback (most recent call last)",
            "\u001b[0;32m<ipython-input-34-6b588d5fad9d>\u001b[0m in \u001b[0;36m<cell line: 6>\u001b[0;34m()\u001b[0m\n\u001b[1;32m      4\u001b[0m \u001b[0;34m\u001b[0m\u001b[0m\n\u001b[1;32m      5\u001b[0m \u001b[0mcalculator\u001b[0m\u001b[0;34m(\u001b[0m\u001b[0ma\u001b[0m\u001b[0;34m)\u001b[0m\u001b[0;34m\u001b[0m\u001b[0;34m\u001b[0m\u001b[0m\n\u001b[0;32m----> 6\u001b[0;31m \u001b[0mprint\u001b[0m\u001b[0;34m(\u001b[0m\u001b[0mnumber\u001b[0m\u001b[0;34m)\u001b[0m\u001b[0;34m\u001b[0m\u001b[0;34m\u001b[0m\u001b[0m\n\u001b[0m\u001b[1;32m      7\u001b[0m \u001b[0mprint\u001b[0m\u001b[0;34m(\u001b[0m\u001b[0ma\u001b[0m\u001b[0;34m)\u001b[0m\u001b[0;34m\u001b[0m\u001b[0;34m\u001b[0m\u001b[0m\n",
            "\u001b[0;31mNameError\u001b[0m: name 'number' is not defined"
          ]
        }
      ]
    },
    {
      "cell_type": "code",
      "source": [
        "a = 10 # global\n",
        "def calculator(number):# number is local\n",
        "    a=20# a is local\n",
        "\n",
        "calculator(a)\n",
        "print(a)"
      ],
      "metadata": {
        "colab": {
          "base_uri": "https://localhost:8080/"
        },
        "id": "1jqqY-r67W6r",
        "outputId": "8236da23-39ae-4265-b8cd-b8b6d4b3a63a"
      },
      "execution_count": 35,
      "outputs": [
        {
          "output_type": "stream",
          "name": "stdout",
          "text": [
            "10\n"
          ]
        }
      ]
    },
    {
      "cell_type": "code",
      "source": [
        "\n",
        "# Gopalakrishnan V\n",
        "# To: Everyone\n",
        "# 8:18 AM\n",
        "# what if we return the value of a\n",
        "a = 10 # global\n",
        "def calculator(number):# number is local\n",
        "    a=20# a is local\n",
        "    return a\n",
        "calculator(a)\n",
        "print(a)"
      ],
      "metadata": {
        "colab": {
          "base_uri": "https://localhost:8080/"
        },
        "id": "4cdZ19SX72IG",
        "outputId": "6215a6e6-9fdd-43f4-d6fe-ee5bdda2f610"
      },
      "execution_count": 36,
      "outputs": [
        {
          "output_type": "stream",
          "name": "stdout",
          "text": [
            "10\n"
          ]
        }
      ]
    },
    {
      "cell_type": "code",
      "source": [
        "\n",
        "# Gopalakrishnan V\n",
        "# To: Everyone\n",
        "# 8:18 AM\n",
        "# what if we return the value of a\n",
        "a = 10 # global\n",
        "def calculator(number):# number is local\n",
        "    a=20# a is local\n",
        "    return a\n",
        "a = calculator(a)\n",
        "print(a)"
      ],
      "metadata": {
        "colab": {
          "base_uri": "https://localhost:8080/"
        },
        "id": "IlhZ6AVh7-a7",
        "outputId": "1da2a1b2-5169-44e4-a3ae-e2c55f1c542a"
      },
      "execution_count": 37,
      "outputs": [
        {
          "output_type": "stream",
          "name": "stdout",
          "text": [
            "20\n"
          ]
        }
      ]
    },
    {
      "cell_type": "code",
      "source": [
        "a = 10 # global\n",
        "def calculator(number):# number is local\n",
        "    print('number', number)\n",
        "\n",
        "calculator(a)\n",
        "print('a outside after function call', a)"
      ],
      "metadata": {
        "colab": {
          "base_uri": "https://localhost:8080/"
        },
        "id": "QgAd2Sv58Ht5",
        "outputId": "17188b29-eb2b-4aa0-8052-2c35d0d0b0f9"
      },
      "execution_count": 40,
      "outputs": [
        {
          "output_type": "stream",
          "name": "stdout",
          "text": [
            "number 10\n",
            "a outside after function call 10\n"
          ]
        }
      ]
    },
    {
      "cell_type": "code",
      "source": [
        "a = 10 # global\n",
        "def calculator(number):# number is local\n",
        "    print('number', number)\n",
        "    print('a inside after function call', a)\n",
        "\n",
        "calculator(a)\n",
        "print('a outside after function call', a)"
      ],
      "metadata": {
        "colab": {
          "base_uri": "https://localhost:8080/"
        },
        "id": "wG84pqZ78Pvu",
        "outputId": "9c56cc51-52b6-4209-a244-d29973cb464f"
      },
      "execution_count": 41,
      "outputs": [
        {
          "output_type": "stream",
          "name": "stdout",
          "text": [
            "number 10\n",
            "a inside after function call 10\n",
            "a outside after function call 10\n"
          ]
        }
      ]
    },
    {
      "cell_type": "code",
      "source": [
        "a = 10 # global\n",
        "def calculator(number):# number is local\n",
        "    print('number', number)\n",
        "    a = 25\n",
        "    print('a inside after function call', a)\n",
        "\n",
        "\n",
        "\n",
        "calculator(a)\n",
        "print('a outside after function call', a)"
      ],
      "metadata": {
        "colab": {
          "base_uri": "https://localhost:8080/"
        },
        "id": "BFSXQbAC8r4S",
        "outputId": "4e7ca46f-5925-4271-e6d4-40f36c5fa1b6"
      },
      "execution_count": 44,
      "outputs": [
        {
          "output_type": "stream",
          "name": "stdout",
          "text": [
            "number 10\n",
            "a inside after function call 25\n",
            "a outside after function call 10\n"
          ]
        }
      ]
    },
    {
      "cell_type": "code",
      "source": [
        "a = 10 # global\n",
        "def calculator(number):# number is local\n",
        "    print('number', number)\n",
        "    newA = a+10\n",
        "    print(newA)\n",
        "\n",
        "\n",
        "\n",
        "calculator(a)\n",
        "print('a outside after function call', a)"
      ],
      "metadata": {
        "colab": {
          "base_uri": "https://localhost:8080/"
        },
        "id": "UU8iyQ8b8vCA",
        "outputId": "8a335983-1282-4b1c-f588-9ce1d3b65212"
      },
      "execution_count": 45,
      "outputs": [
        {
          "output_type": "stream",
          "name": "stdout",
          "text": [
            "number 10\n",
            "20\n",
            "a outside after function call 10\n"
          ]
        }
      ]
    },
    {
      "cell_type": "code",
      "source": [
        "a = 10 # global\n",
        "def calculator(number):# number is local\n",
        "    print('number', number)\n",
        "    a = 20\n",
        "    print('a inside function', a)\n",
        "\n",
        "calculator(a)\n",
        "print('a outside after function call', a)"
      ],
      "metadata": {
        "colab": {
          "base_uri": "https://localhost:8080/"
        },
        "id": "SSFF0GH89Dmm",
        "outputId": "aa0704c1-4c70-4553-aa54-cbe8f3e64510"
      },
      "execution_count": 46,
      "outputs": [
        {
          "output_type": "stream",
          "name": "stdout",
          "text": [
            "number 10\n",
            "a inside function 20\n",
            "a outside after function call 10\n"
          ]
        }
      ]
    },
    {
      "cell_type": "code",
      "source": [
        "a = 10 # global\n",
        "def calculator(number):# number is local\n",
        "    print('number', number)\n",
        "    global a\n",
        "    a = 20\n",
        "    print('a inside function', a)\n",
        "\n",
        "calculator(a)\n",
        "print('a outside after function call', a)"
      ],
      "metadata": {
        "colab": {
          "base_uri": "https://localhost:8080/"
        },
        "id": "UsUUk_Su9kNX",
        "outputId": "d90c29b0-cea5-43c2-fd5c-b16ac0412302"
      },
      "execution_count": 47,
      "outputs": [
        {
          "output_type": "stream",
          "name": "stdout",
          "text": [
            "number 10\n",
            "a inside function 20\n",
            "a outside after function call 20\n"
          ]
        }
      ]
    },
    {
      "cell_type": "code",
      "source": [
        "\n",
        "# Sachin Kaushalya\n",
        "# To: Everyone\n",
        "a= 10\n",
        "def calculation(number):\n",
        "    number = global a\n",
        "    print(a)\n",
        "calculation(a)"
      ],
      "metadata": {
        "colab": {
          "base_uri": "https://localhost:8080/",
          "height": 142
        },
        "id": "42Yi7L8J-MGy",
        "outputId": "b737abad-8740-4660-d3fc-719981f34b3f"
      },
      "execution_count": 49,
      "outputs": [
        {
          "output_type": "error",
          "ename": "SyntaxError",
          "evalue": "ignored",
          "traceback": [
            "\u001b[0;36m  File \u001b[0;32m\"<ipython-input-49-642a50244b20>\"\u001b[0;36m, line \u001b[0;32m5\u001b[0m\n\u001b[0;31m    number = global a\u001b[0m\n\u001b[0m             ^\u001b[0m\n\u001b[0;31mSyntaxError\u001b[0m\u001b[0;31m:\u001b[0m invalid syntax\n"
          ]
        }
      ]
    },
    {
      "cell_type": "code",
      "source": [
        "\n",
        "# Sachin Kaushalya\n",
        "# To: Everyone\n",
        "a= 10\n",
        "def calculation(number):\n",
        "    number =  a\n",
        "    print(a,number)\n",
        "calculation(a)"
      ],
      "metadata": {
        "colab": {
          "base_uri": "https://localhost:8080/"
        },
        "id": "BXeRVhMt-Swb",
        "outputId": "10e80777-f419-40ed-8158-f389535fa632"
      },
      "execution_count": 51,
      "outputs": [
        {
          "output_type": "stream",
          "name": "stdout",
          "text": [
            "10 10\n"
          ]
        }
      ]
    },
    {
      "cell_type": "code",
      "source": [
        "x = 10\n",
        "def function():\n",
        "    x = 5\n",
        "    print(x)\n",
        "function()\n",
        "print(x)"
      ],
      "metadata": {
        "colab": {
          "base_uri": "https://localhost:8080/"
        },
        "id": "k_EdNy77-Tl-",
        "outputId": "e8519d93-7133-4f26-f072-7cd65cbf110c"
      },
      "execution_count": 52,
      "outputs": [
        {
          "output_type": "stream",
          "name": "stdout",
          "text": [
            "5\n",
            "10\n"
          ]
        }
      ]
    },
    {
      "cell_type": "code",
      "source": [
        "x = 10\n",
        "def function():\n",
        "    global x\n",
        "    x = 5\n",
        "    print(x)\n",
        "function()\n",
        "print(x)"
      ],
      "metadata": {
        "colab": {
          "base_uri": "https://localhost:8080/"
        },
        "id": "nW0MwP5N_CbR",
        "outputId": "96837ff6-37e8-4763-9592-b804dbd9d808"
      },
      "execution_count": 53,
      "outputs": [
        {
          "output_type": "stream",
          "name": "stdout",
          "text": [
            "5\n",
            "5\n"
          ]
        }
      ]
    },
    {
      "cell_type": "code",
      "source": [
        "age = 25\n",
        "if age>=18:\n",
        "    print('vote')\n",
        "else:\n",
        "    print('you cannot vote')"
      ],
      "metadata": {
        "colab": {
          "base_uri": "https://localhost:8080/"
        },
        "id": "mJglgXTg_X9x",
        "outputId": "b244879a-25f0-40f0-a974-00bd157cef22"
      },
      "execution_count": 54,
      "outputs": [
        {
          "output_type": "stream",
          "name": "stdout",
          "text": [
            "vote\n"
          ]
        }
      ]
    },
    {
      "cell_type": "code",
      "source": [
        "age = 25\n",
        "    #  output if condition is True if <condition> else output if condition is False\n",
        "print(\"vote\" if age>=18 else 'you cannot vote')"
      ],
      "metadata": {
        "colab": {
          "base_uri": "https://localhost:8080/"
        },
        "id": "3KkkLOmT_pDr",
        "outputId": "c265d49c-456e-402e-811f-58b3db40c437"
      },
      "execution_count": 56,
      "outputs": [
        {
          "output_type": "stream",
          "name": "stdout",
          "text": [
            "vote\n"
          ]
        }
      ]
    },
    {
      "cell_type": "code",
      "source": [
        "age = 25\n",
        "    #  output if condition is True if <condition> else output if condition is False\n",
        "print(     \"vote\"                   if age>=18     else      'you cannot vote')"
      ],
      "metadata": {
        "colab": {
          "base_uri": "https://localhost:8080/"
        },
        "id": "_G2Y2gVC_tls",
        "outputId": "f9480392-d508-4166-f118-c93ba81fc9fd"
      },
      "execution_count": 57,
      "outputs": [
        {
          "output_type": "stream",
          "name": "stdout",
          "text": [
            "vote\n"
          ]
        }
      ]
    },
    {
      "cell_type": "code",
      "source": [
        "# check if num (a +ive int) is even or odd\n",
        "num = 250\n",
        "print('even' if num%2==0 else \"odd\")"
      ],
      "metadata": {
        "colab": {
          "base_uri": "https://localhost:8080/"
        },
        "id": "NmPQVnVeAE6d",
        "outputId": "21530a16-ae90-46e6-d42d-396e11860e6d"
      },
      "execution_count": 59,
      "outputs": [
        {
          "output_type": "stream",
          "name": "stdout",
          "text": [
            "even\n"
          ]
        }
      ]
    },
    {
      "cell_type": "code",
      "source": [
        "num = 10\n",
        "if num>0:\n",
        "    print('+ive')\n",
        "elif num<0:\n",
        "    print('-ive')\n",
        "else:\n",
        "    print('zero')"
      ],
      "metadata": {
        "colab": {
          "base_uri": "https://localhost:8080/"
        },
        "id": "gjLjkqkJAm07",
        "outputId": "29af5696-880a-4650-efbc-2674095bf298"
      },
      "execution_count": 60,
      "outputs": [
        {
          "output_type": "stream",
          "name": "stdout",
          "text": [
            "+ive\n"
          ]
        }
      ]
    },
    {
      "cell_type": "code",
      "source": [
        "num = 10\n",
        "if num>0:\n",
        "    print('+ive')\n",
        "else:\n",
        "    if num<0:\n",
        "        print('-ive')\n",
        "    else:\n",
        "        print('zero')\n",
        "\n",
        "# HW\n",
        "#  *output if <condition> is True* if <condition> else *output if <condition> is False*\n",
        "#  *output if <condition1> is True* if <condition1> else (*output if <condition> is True* if <condition> else *output if <condition> is False*)"
      ],
      "metadata": {
        "colab": {
          "base_uri": "https://localhost:8080/"
        },
        "id": "zQHDxut-A3A7",
        "outputId": "5b0473ed-e33e-46bd-947a-0528d21e9e5d"
      },
      "execution_count": 61,
      "outputs": [
        {
          "output_type": "stream",
          "name": "stdout",
          "text": [
            "+ive\n"
          ]
        }
      ]
    },
    {
      "cell_type": "code",
      "source": [
        "# lambda functions\n",
        "def squarer (num):\n",
        "    return num**2\n",
        "print(type(squarer))\n",
        "print(squarer(5))"
      ],
      "metadata": {
        "colab": {
          "base_uri": "https://localhost:8080/"
        },
        "id": "jF7_ItNBBQpI",
        "outputId": "acf3ff86-2451-41fc-809c-25effcd2e88f"
      },
      "execution_count": 63,
      "outputs": [
        {
          "output_type": "stream",
          "name": "stdout",
          "text": [
            "<class 'function'>\n",
            "25\n"
          ]
        }
      ]
    },
    {
      "cell_type": "code",
      "source": [
        "######### lambda input:output\n",
        "squarer = lambda num:num**2\n",
        "print(type(squarer))\n",
        "print(squarer(5))"
      ],
      "metadata": {
        "colab": {
          "base_uri": "https://localhost:8080/"
        },
        "id": "cfmcOZ8gBdpD",
        "outputId": "9ef1d8a7-8c2f-4c44-920d-761220758a3c"
      },
      "execution_count": 64,
      "outputs": [
        {
          "output_type": "stream",
          "name": "stdout",
          "text": [
            "<class 'function'>\n",
            "25\n"
          ]
        }
      ]
    },
    {
      "cell_type": "code",
      "source": [
        "def adder (a,b):\n",
        "    return a+b\n",
        "print(type(adder))\n",
        "print(adder(5,2))"
      ],
      "metadata": {
        "colab": {
          "base_uri": "https://localhost:8080/"
        },
        "id": "Wg2yo0ngB7R0",
        "outputId": "a19a38f6-8475-4dc7-d9e5-65d3724a2c23"
      },
      "execution_count": 65,
      "outputs": [
        {
          "output_type": "stream",
          "name": "stdout",
          "text": [
            "<class 'function'>\n",
            "7\n"
          ]
        }
      ]
    },
    {
      "cell_type": "code",
      "source": [
        "######### lambda input:output\n",
        "adder = lambda a,b:a+b\n",
        "print(type(adder))\n",
        "print(adder(5,2))"
      ],
      "metadata": {
        "colab": {
          "base_uri": "https://localhost:8080/"
        },
        "id": "8dLwCzcDCAfS",
        "outputId": "a1c4f77a-b6cc-4ebe-c1fd-00641628d0f2"
      },
      "execution_count": 66,
      "outputs": [
        {
          "output_type": "stream",
          "name": "stdout",
          "text": [
            "<class 'function'>\n",
            "7\n"
          ]
        }
      ]
    },
    {
      "cell_type": "code",
      "source": [
        "def pi ():\n",
        "    return 3.14159265359\n",
        "print(type(pi))\n",
        "print(pi())"
      ],
      "metadata": {
        "colab": {
          "base_uri": "https://localhost:8080/"
        },
        "id": "a0qLE2gYCI82",
        "outputId": "8d14053b-95cc-4cae-da4c-591edb86a46e"
      },
      "execution_count": 68,
      "outputs": [
        {
          "output_type": "stream",
          "name": "stdout",
          "text": [
            "<class 'function'>\n",
            "3.14159265359\n"
          ]
        }
      ]
    },
    {
      "cell_type": "code",
      "source": [
        "######### lambda input:output\n",
        "pi = lambda :3.14159265359\n",
        "print(type(pi))\n",
        "print(pi())\n",
        "print(pi())\n",
        "print(pi())\n",
        "print(pi())\n",
        "print(pi())"
      ],
      "metadata": {
        "colab": {
          "base_uri": "https://localhost:8080/"
        },
        "id": "sY6eZw59CTDF",
        "outputId": "9a41c1dd-4539-47de-d452-3a0bd061f57e"
      },
      "execution_count": 71,
      "outputs": [
        {
          "output_type": "stream",
          "name": "stdout",
          "text": [
            "<class 'function'>\n",
            "3.14159265359\n",
            "3.14159265359\n",
            "3.14159265359\n",
            "3.14159265359\n",
            "3.14159265359\n"
          ]
        }
      ]
    },
    {
      "cell_type": "code",
      "source": [
        "######### lambda input:output\n",
        "squarer = lambda num:num**2\n",
        "print(type(squarer))\n",
        "print(squarer(5))"
      ],
      "metadata": {
        "colab": {
          "base_uri": "https://localhost:8080/"
        },
        "id": "E4CHkCCeC5jh",
        "outputId": "c61f5345-20a3-4edd-a6f4-55b4656718c8"
      },
      "execution_count": 72,
      "outputs": [
        {
          "output_type": "stream",
          "name": "stdout",
          "text": [
            "<class 'function'>\n",
            "25\n"
          ]
        }
      ]
    },
    {
      "cell_type": "code",
      "source": [
        "# anonymous functions\n",
        "(lambda num:num**2)(5)"
      ],
      "metadata": {
        "colab": {
          "base_uri": "https://localhost:8080/"
        },
        "id": "C9vMQSOQC7UW",
        "outputId": "c8fd04bd-526c-48a2-b5b5-c6c3b3edd307"
      },
      "execution_count": 73,
      "outputs": [
        {
          "output_type": "execute_result",
          "data": {
            "text/plain": [
              "25"
            ]
          },
          "metadata": {},
          "execution_count": 73
        }
      ]
    },
    {
      "cell_type": "code",
      "source": [
        "def function(var):\n",
        "    print(var)\n",
        "\n",
        "function(3)\n",
        "\n",
        "var = 5\n",
        "function(var)"
      ],
      "metadata": {
        "colab": {
          "base_uri": "https://localhost:8080/"
        },
        "id": "AGGJvKNfDcye",
        "outputId": "05e210de-6e83-4453-9275-e99520734f62"
      },
      "execution_count": 74,
      "outputs": [
        {
          "output_type": "stream",
          "name": "stdout",
          "text": [
            "3\n",
            "5\n"
          ]
        }
      ]
    },
    {
      "cell_type": "code",
      "source": [
        "def function(var=5):\n",
        "    var = var + 1\n",
        "    print(var)\n",
        "\n",
        "function()\n",
        "function(10)"
      ],
      "metadata": {
        "colab": {
          "base_uri": "https://localhost:8080/"
        },
        "id": "louOivEPD1Lw",
        "outputId": "1be396cb-d5ee-487e-8611-79f50b314a41"
      },
      "execution_count": 75,
      "outputs": [
        {
          "output_type": "stream",
          "name": "stdout",
          "text": [
            "6\n",
            "11\n"
          ]
        }
      ]
    }
  ]
}