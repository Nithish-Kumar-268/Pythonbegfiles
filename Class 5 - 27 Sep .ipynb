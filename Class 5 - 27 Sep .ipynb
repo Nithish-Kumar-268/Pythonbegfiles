{
  "nbformat": 4,
  "nbformat_minor": 0,
  "metadata": {
    "colab": {
      "provenance": [],
      "authorship_tag": "ABX9TyMV6OiMJSqJgjzmRlut+yKt",
      "include_colab_link": true
    },
    "kernelspec": {
      "name": "python3",
      "display_name": "Python 3"
    },
    "language_info": {
      "name": "python"
    }
  },
  "cells": [
    {
      "cell_type": "markdown",
      "metadata": {
        "id": "view-in-github",
        "colab_type": "text"
      },
      "source": [
        "<a href=\"https://colab.research.google.com/gist/singhsidhukuldeep/1e66698257deaee7f934ef88f24aea98/beginner-problem-solving-1-27-september-2023.ipynb\" target=\"_parent\"><img src=\"https://colab.research.google.com/assets/colab-badge.svg\" alt=\"Open In Colab\"/></a>"
      ]
    },
    {
      "cell_type": "markdown",
      "source": [
        "<center>\n",
        "\n",
        "# Beginner : Problem Solving 1 - 27 September 2023\n",
        "\n",
        "![](https://i.giphy.com/media/QfHVl7Zd1ZgDosoIjc/giphy.webp)"
      ],
      "metadata": {
        "id": "mD9yflpxDWJ_"
      }
    },
    {
      "cell_type": "code",
      "execution_count": 1,
      "metadata": {
        "id": "UFDpqnsKDVt5"
      },
      "outputs": [],
      "source": [
        "# recap\n",
        "\n",
        "# 5 data types\n",
        "## str, int, float, bool, None"
      ]
    },
    {
      "cell_type": "code",
      "source": [
        "print(\"anything inside quotes is a str\")\n",
        "print('this str is on a single line')\n",
        "print('this str \\n is on \\n multiple lines') # \\n>> new line"
      ],
      "metadata": {
        "colab": {
          "base_uri": "https://localhost:8080/"
        },
        "id": "-TMb9mC8SWA6",
        "outputId": "bf9c9fd7-59a2-42e4-ff69-b88c210b14f4"
      },
      "execution_count": 2,
      "outputs": [
        {
          "output_type": "stream",
          "name": "stdout",
          "text": [
            "anything inside quotes is a str\n",
            "this str is on a single line\n",
            "this str \n",
            " is on \n",
            " multiple lines\n"
          ]
        }
      ]
    },
    {
      "cell_type": "code",
      "source": [
        "print('''this str\n",
        " is on\n",
        "  multiple lines''')"
      ],
      "metadata": {
        "colab": {
          "base_uri": "https://localhost:8080/"
        },
        "id": "mBMSj9BJSjY-",
        "outputId": "91c75f89-84d4-4193-d397-e05eeeb698bd"
      },
      "execution_count": 3,
      "outputs": [
        {
          "output_type": "stream",
          "name": "stdout",
          "text": [
            "this str \n",
            " is on \n",
            "  multiple lines\n"
          ]
        }
      ]
    },
    {
      "cell_type": "code",
      "source": [
        "print(int(5/2))\n",
        "print(int(-5/2))\n",
        "print(int(\"2\"))\n",
        "print(int(2.5))\n",
        "print(int('2.5'))"
      ],
      "metadata": {
        "colab": {
          "base_uri": "https://localhost:8080/",
          "height": 281
        },
        "id": "Ghl_w6FwSqPf",
        "outputId": "72a85a07-6edc-4266-bee1-f66bc9e6afaf"
      },
      "execution_count": 4,
      "outputs": [
        {
          "output_type": "stream",
          "name": "stdout",
          "text": [
            "2\n",
            "-2\n",
            "2\n",
            "2\n"
          ]
        },
        {
          "output_type": "error",
          "ename": "ValueError",
          "evalue": "ignored",
          "traceback": [
            "\u001b[0;31m---------------------------------------------------------------------------\u001b[0m",
            "\u001b[0;31mValueError\u001b[0m                                Traceback (most recent call last)",
            "\u001b[0;32m<ipython-input-4-e00733e10922>\u001b[0m in \u001b[0;36m<cell line: 5>\u001b[0;34m()\u001b[0m\n\u001b[1;32m      3\u001b[0m \u001b[0mprint\u001b[0m\u001b[0;34m(\u001b[0m\u001b[0mint\u001b[0m\u001b[0;34m(\u001b[0m\u001b[0;34m\"2\"\u001b[0m\u001b[0;34m)\u001b[0m\u001b[0;34m)\u001b[0m\u001b[0;34m\u001b[0m\u001b[0;34m\u001b[0m\u001b[0m\n\u001b[1;32m      4\u001b[0m \u001b[0mprint\u001b[0m\u001b[0;34m(\u001b[0m\u001b[0mint\u001b[0m\u001b[0;34m(\u001b[0m\u001b[0;36m2.5\u001b[0m\u001b[0;34m)\u001b[0m\u001b[0;34m)\u001b[0m\u001b[0;34m\u001b[0m\u001b[0;34m\u001b[0m\u001b[0m\n\u001b[0;32m----> 5\u001b[0;31m \u001b[0mprint\u001b[0m\u001b[0;34m(\u001b[0m\u001b[0mint\u001b[0m\u001b[0;34m(\u001b[0m\u001b[0;34m'2.5'\u001b[0m\u001b[0;34m)\u001b[0m\u001b[0;34m)\u001b[0m\u001b[0;34m\u001b[0m\u001b[0;34m\u001b[0m\u001b[0m\n\u001b[0m",
            "\u001b[0;31mValueError\u001b[0m: invalid literal for int() with base 10: '2.5'"
          ]
        }
      ]
    },
    {
      "cell_type": "code",
      "source": [
        "print('''❓Print the correct python code that will print the following pattern.\n",
        "\n",
        "```\n",
        "**\n",
        "*****\n",
        "******\n",
        "```''')"
      ],
      "metadata": {
        "colab": {
          "base_uri": "https://localhost:8080/"
        },
        "id": "bIaxrhNzTZVH",
        "outputId": "e6fc2b73-e190-4108-df0e-5d9f5c4084cb"
      },
      "execution_count": 6,
      "outputs": [
        {
          "output_type": "stream",
          "name": "stdout",
          "text": [
            "❓Print the correct python code that will print the following pattern.\n",
            "\n",
            "```\n",
            "**\n",
            "*****\n",
            "******\n",
            "```\n"
          ]
        }
      ]
    },
    {
      "cell_type": "code",
      "source": [
        "print('''**\n",
        "*****\n",
        "******''')"
      ],
      "metadata": {
        "colab": {
          "base_uri": "https://localhost:8080/"
        },
        "id": "IUogY0gnTdl-",
        "outputId": "eb7ac06f-cec9-40d8-ab06-fb39187337ee"
      },
      "execution_count": 7,
      "outputs": [
        {
          "output_type": "stream",
          "name": "stdout",
          "text": [
            "**\n",
            "*****\n",
            "******\n"
          ]
        }
      ]
    },
    {
      "cell_type": "code",
      "source": [
        "print('**\\n*****\\n******')"
      ],
      "metadata": {
        "colab": {
          "base_uri": "https://localhost:8080/"
        },
        "id": "ACzVrPorUF8e",
        "outputId": "f9f98795-5fa5-4602-d09f-37e112a6260f"
      },
      "execution_count": 8,
      "outputs": [
        {
          "output_type": "stream",
          "name": "stdout",
          "text": [
            "**\n",
            "*****\n",
            "******\n"
          ]
        }
      ]
    },
    {
      "cell_type": "code",
      "source": [
        "# `*****` >> to write * s in chat"
      ],
      "metadata": {
        "id": "pRROlJkgUhYZ"
      },
      "execution_count": null,
      "outputs": []
    },
    {
      "cell_type": "code",
      "source": [
        "print('*'*2)\n",
        "print('*'*5)\n",
        "print('*'*6)"
      ],
      "metadata": {
        "colab": {
          "base_uri": "https://localhost:8080/"
        },
        "id": "hkbzS-5nUUyd",
        "outputId": "5d3e5b01-ded3-46c1-c172-49fa38a4f1b7"
      },
      "execution_count": 10,
      "outputs": [
        {
          "output_type": "stream",
          "name": "stdout",
          "text": [
            "**\n",
            "*****\n",
            "******\n"
          ]
        }
      ]
    },
    {
      "cell_type": "code",
      "source": [
        "print('*'*2, '*'*5, '*'*6)\n"
      ],
      "metadata": {
        "colab": {
          "base_uri": "https://localhost:8080/"
        },
        "id": "jfj5iGRuUy2F",
        "outputId": "eef4ece6-415d-4a7d-d710-4d51e3937a6b"
      },
      "execution_count": 11,
      "outputs": [
        {
          "output_type": "stream",
          "name": "stdout",
          "text": [
            "** ***** ******\n"
          ]
        }
      ]
    },
    {
      "cell_type": "code",
      "source": [
        "print('*'*2, '*'*5, '*'*6, sep='\\n')"
      ],
      "metadata": {
        "colab": {
          "base_uri": "https://localhost:8080/"
        },
        "id": "Z8xdpMQqU_JS",
        "outputId": "a7b78cc9-13e8-4ad2-f715-5ba6903697c3"
      },
      "execution_count": 12,
      "outputs": [
        {
          "output_type": "stream",
          "name": "stdout",
          "text": [
            "**\n",
            "*****\n",
            "******\n"
          ]
        }
      ]
    },
    {
      "cell_type": "code",
      "source": [
        "print('''\n",
        "❓Given two strings and you have to concatenate both of them with a $ symbol in between\n",
        "\n",
        "Input Format\n",
        "```\n",
        "Two strings namely, str1 and str2\n",
        "```\n",
        "Output Format\n",
        "```\n",
        "str1 and str2 joined together\n",
        "```\n",
        "Sample Input\n",
        "```\n",
        "str1 = Hello\n",
        "str2 = World\n",
        "```\n",
        "Sample Output\n",
        "```\n",
        "Hello$World\n",
        "```''')"
      ],
      "metadata": {
        "colab": {
          "base_uri": "https://localhost:8080/"
        },
        "id": "nmtYhgeWVBo8",
        "outputId": "ba459e77-cfc3-4f51-9854-75de123c3146"
      },
      "execution_count": 13,
      "outputs": [
        {
          "output_type": "stream",
          "name": "stdout",
          "text": [
            "\n",
            "❓Given two strings and you have to concatenate both of them with a $ symbol in between\n",
            "\n",
            "Input Format\n",
            "```\n",
            "Two strings namely, str1 and str2\n",
            "```\n",
            "Output Format\n",
            "```\n",
            "str1 and str2 joined together\n",
            "```\n",
            "Sample Input\n",
            "```\n",
            "str1 = Hello\n",
            "str2 = World\n",
            "```\n",
            "Sample Output\n",
            "```\n",
            "Hello$World\n",
            "```\n"
          ]
        }
      ]
    },
    {
      "cell_type": "code",
      "source": [
        "str1 = input()\n",
        "str2 = input()\n",
        "\n",
        "print(str1+'$'+str2)"
      ],
      "metadata": {
        "colab": {
          "base_uri": "https://localhost:8080/"
        },
        "id": "4ynmn9d_VNH0",
        "outputId": "310dd7c3-85b6-4ce7-d9a9-553c976cbf1d"
      },
      "execution_count": 14,
      "outputs": [
        {
          "output_type": "stream",
          "name": "stdout",
          "text": [
            "Hello\n",
            "World\n",
            "Hello$World\n"
          ]
        }
      ]
    },
    {
      "cell_type": "code",
      "source": [
        "print(str1,'$',str2, sep='')"
      ],
      "metadata": {
        "colab": {
          "base_uri": "https://localhost:8080/"
        },
        "id": "oDOwnYh0WGRj",
        "outputId": "e229c298-4742-4674-c94a-b2a2069b2545"
      },
      "execution_count": 16,
      "outputs": [
        {
          "output_type": "stream",
          "name": "stdout",
          "text": [
            "Hello$World\n"
          ]
        }
      ]
    },
    {
      "cell_type": "code",
      "source": [
        "print(str1,str2, sep='$')"
      ],
      "metadata": {
        "colab": {
          "base_uri": "https://localhost:8080/"
        },
        "id": "Sotd4NReWgAq",
        "outputId": "b10c4558-28a0-4991-d8dc-a8b63cad400f"
      },
      "execution_count": 17,
      "outputs": [
        {
          "output_type": "stream",
          "name": "stdout",
          "text": [
            "Hello$World\n"
          ]
        }
      ]
    },
    {
      "cell_type": "code",
      "source": [
        "print('''\n",
        "❓ What is the output\n",
        "```\n",
        "print(type(int(float(input()))))\n",
        "```\n",
        "assume user enters `2.2`\n",
        "''')"
      ],
      "metadata": {
        "colab": {
          "base_uri": "https://localhost:8080/"
        },
        "id": "bJ1QSbSnWkFj",
        "outputId": "0f7149b1-adf8-4b81-edf7-86de065b270b"
      },
      "execution_count": 18,
      "outputs": [
        {
          "output_type": "stream",
          "name": "stdout",
          "text": [
            "\n",
            "❓ What is the output\n",
            "```\n",
            "print(type(int(float(input()))))\n",
            "```\n",
            "assume user enters `2.2`\n",
            "\n"
          ]
        }
      ]
    },
    {
      "cell_type": "code",
      "source": [
        "print(type(int(float(input()))))"
      ],
      "metadata": {
        "colab": {
          "base_uri": "https://localhost:8080/"
        },
        "id": "HTaqQWTTXVR1",
        "outputId": "a23cd3e3-824e-4e79-be7c-69c5958d7bf7"
      },
      "execution_count": 23,
      "outputs": [
        {
          "output_type": "stream",
          "name": "stdout",
          "text": [
            "2.2\n",
            "<class 'int'>\n"
          ]
        }
      ]
    },
    {
      "cell_type": "code",
      "source": [
        "type(int(float(input())))"
      ],
      "metadata": {
        "colab": {
          "base_uri": "https://localhost:8080/"
        },
        "id": "rD3JTLM1W9_l",
        "outputId": "29e50e94-8261-4b3c-8ca7-c682f7c7a453"
      },
      "execution_count": 22,
      "outputs": [
        {
          "name": "stdout",
          "output_type": "stream",
          "text": [
            "2.2\n"
          ]
        },
        {
          "output_type": "execute_result",
          "data": {
            "text/plain": [
              "int"
            ]
          },
          "metadata": {},
          "execution_count": 22
        }
      ]
    },
    {
      "cell_type": "code",
      "source": [
        "print('''\n",
        "❓ What is the output\n",
        "```\n",
        "print(type(str(float(input()))))\n",
        "\n",
        "print(str(float(input())))\n",
        "```\n",
        "assume user enters 2''')"
      ],
      "metadata": {
        "colab": {
          "base_uri": "https://localhost:8080/"
        },
        "id": "lTbLOg4PXgyS",
        "outputId": "6fd6aa97-eaf7-4e84-e2ee-4a99fc8fe498"
      },
      "execution_count": 24,
      "outputs": [
        {
          "output_type": "stream",
          "name": "stdout",
          "text": [
            "\n",
            "❓ What is the output\n",
            "```\n",
            "print(type(str(float(input()))))\n",
            "\n",
            "print(str(float(input())))\n",
            "```\n",
            "assume user enters 2\n"
          ]
        }
      ]
    },
    {
      "cell_type": "code",
      "source": [
        "print(type(str(float(input()))))"
      ],
      "metadata": {
        "colab": {
          "base_uri": "https://localhost:8080/"
        },
        "id": "PfGYS82_X8O6",
        "outputId": "77906ed3-8671-4416-e5ca-79c02675e0f2"
      },
      "execution_count": 30,
      "outputs": [
        {
          "output_type": "stream",
          "name": "stdout",
          "text": [
            "2\n",
            "<class 'str'>\n"
          ]
        }
      ]
    },
    {
      "cell_type": "code",
      "source": [
        "type(str(float(input())))"
      ],
      "metadata": {
        "colab": {
          "base_uri": "https://localhost:8080/"
        },
        "id": "NoeKhkw5YbTA",
        "outputId": "2e9c226a-16a6-4850-8936-b71d3ec12598"
      },
      "execution_count": 29,
      "outputs": [
        {
          "name": "stdout",
          "output_type": "stream",
          "text": [
            "2\n"
          ]
        },
        {
          "output_type": "execute_result",
          "data": {
            "text/plain": [
              "str"
            ]
          },
          "metadata": {},
          "execution_count": 29
        }
      ]
    },
    {
      "cell_type": "code",
      "source": [
        "print(str(float(input())))\n"
      ],
      "metadata": {
        "colab": {
          "base_uri": "https://localhost:8080/"
        },
        "id": "tk1qZndmYev6",
        "outputId": "1b73d6f7-d0e0-4693-bee1-78ffc80fc7c6"
      },
      "execution_count": 28,
      "outputs": [
        {
          "output_type": "stream",
          "name": "stdout",
          "text": [
            "2\n",
            "2.0\n"
          ]
        }
      ]
    },
    {
      "cell_type": "code",
      "source": [
        "# >>2>>input()>>\"2\">>float>>2.0>>str>>\"2.0\""
      ],
      "metadata": {
        "id": "6I-_f4SiYnIS"
      },
      "execution_count": null,
      "outputs": []
    },
    {
      "cell_type": "code",
      "source": [
        "print('''\n",
        "❓ What will be the output of the following python code\n",
        "```python\n",
        "print(bool(False - 1))\n",
        "print(bool(True - 3))\n",
        "print(True + 3)\n",
        "```\n",
        "\n",
        "```\n",
        "A)\n",
        "True\n",
        "True\n",
        "4\n",
        "```\n",
        "```\n",
        "B)\n",
        "True\n",
        "False\n",
        "3\n",
        "```\n",
        "```\n",
        "C)\n",
        "False\n",
        "False\n",
        "None\n",
        "```\n",
        "```\n",
        "D) Error\n",
        "```\n",
        "''')"
      ],
      "metadata": {
        "colab": {
          "base_uri": "https://localhost:8080/"
        },
        "id": "9VzgaL_TY4Vm",
        "outputId": "813599e9-9be1-49e5-dc37-78e58f578fd9"
      },
      "execution_count": 31,
      "outputs": [
        {
          "output_type": "stream",
          "name": "stdout",
          "text": [
            "\n",
            "❓ What will be the output of the following python code\n",
            "```python\n",
            "print(bool(False - 1))\n",
            "print(bool(True - 3))\n",
            "print(True + 3)\n",
            "```\n",
            "\n",
            "```\n",
            "A)\n",
            "True\n",
            "True\n",
            "4\n",
            "```\n",
            "```\n",
            "B)\n",
            "True\n",
            "False\n",
            "3\n",
            "```\n",
            "```\n",
            "C)\n",
            "False\n",
            "False\n",
            "None\n",
            "```\n",
            "```\n",
            "D) Error\n",
            "```\n",
            "\n"
          ]
        }
      ]
    },
    {
      "cell_type": "code",
      "source": [
        "print('HINT', int(True), int(False))\n",
        "print('HINT', float(True), float(False))\n",
        "print('HINT', str(True), str(False))"
      ],
      "metadata": {
        "colab": {
          "base_uri": "https://localhost:8080/"
        },
        "id": "7O9-pOfWY6bZ",
        "outputId": "9b39cdd2-04e2-4c3f-be11-afbd381ae0a5"
      },
      "execution_count": 33,
      "outputs": [
        {
          "output_type": "stream",
          "name": "stdout",
          "text": [
            "HINT 1 0\n",
            "HINT 1.0 0.0\n",
            "HINT True False\n"
          ]
        }
      ]
    },
    {
      "cell_type": "code",
      "source": [
        "print(bool(False - 1)) # 0-1 = -1 >>True\n",
        "print(bool(True - 3)) # 1-3=-2 >>True\n",
        "print(True + 3)# 1+3=4"
      ],
      "metadata": {
        "colab": {
          "base_uri": "https://localhost:8080/"
        },
        "id": "GhBWSMTrZL4J",
        "outputId": "fb4b882f-ec9d-409c-be37-f77b83b5e369"
      },
      "execution_count": 34,
      "outputs": [
        {
          "output_type": "stream",
          "name": "stdout",
          "text": [
            "True\n",
            "True\n",
            "4\n"
          ]
        }
      ]
    },
    {
      "cell_type": "code",
      "source": [
        "print('''\n",
        "❓ What will be the output of the following python expression\n",
        "```python\n",
        "print(-50 % 7)\n",
        "```\n",
        "\n",
        "```\n",
        "a. 7\n",
        "b. 1\n",
        "c. 6\n",
        "d. 13\n",
        "```\n",
        "''')"
      ],
      "metadata": {
        "colab": {
          "base_uri": "https://localhost:8080/"
        },
        "id": "w7_wgFc3aA2C",
        "outputId": "5639713d-6eb1-4180-8526-d80a7b3cb341"
      },
      "execution_count": 35,
      "outputs": [
        {
          "output_type": "stream",
          "name": "stdout",
          "text": [
            "\n",
            "❓ What will be the output of the following python expression\n",
            "```python\n",
            "print(-50 % 7)\n",
            "```\n",
            "\n",
            "```\n",
            "a. 7\n",
            "b. 1\n",
            "c. 6\n",
            "d. 13\n",
            "```\n",
            "\n"
          ]
        }
      ]
    },
    {
      "cell_type": "code",
      "source": [
        "# HINT: By definition, remainder cannot be negative."
      ],
      "metadata": {
        "id": "rWjKvl9haHqx"
      },
      "execution_count": null,
      "outputs": []
    },
    {
      "cell_type": "code",
      "source": [
        "print(-50 % 7)\n",
        "# -50 = 7*(-7) +(-1) ❌\n",
        "# -5 = 7*(-8) + (6) ✅"
      ],
      "metadata": {
        "colab": {
          "base_uri": "https://localhost:8080/"
        },
        "id": "oCbWFHfya8n0",
        "outputId": "8f95fc6a-7c38-4e08-fa7c-0d05ab3a539d"
      },
      "execution_count": 37,
      "outputs": [
        {
          "output_type": "stream",
          "name": "stdout",
          "text": [
            "6\n"
          ]
        }
      ]
    },
    {
      "cell_type": "code",
      "source": [
        "print(50%7)\n",
        "# 50 = 7*(7) +(1)"
      ],
      "metadata": {
        "colab": {
          "base_uri": "https://localhost:8080/"
        },
        "id": "8XjiwgB2bKdZ",
        "outputId": "149d0446-8660-40d5-c3a7-b191a207fde8"
      },
      "execution_count": 38,
      "outputs": [
        {
          "output_type": "stream",
          "name": "stdout",
          "text": [
            "1\n"
          ]
        }
      ]
    },
    {
      "cell_type": "code",
      "source": [
        "print(\"\"\"\n",
        "❓Pac-man\n",
        "\n",
        "**Problem Description**\n",
        "\n",
        "In this exercise, you need to implement some rules from [Pac-Man](https://en.wikipedia.org/wiki/Pac-Man), the classic 1980s-era arcade-game.\n",
        "\n",
        "You have to answer whether the Pac-Man loses or not.\n",
        "\n",
        "Your are given the following integer inputs (0 / 1) one in each line:\n",
        "\n",
        "1\\. Does the Pac-Man have a power pellect active?\n",
        "\n",
        "2\\. Is the Pac-Man touching a ghost?\n",
        "\n",
        "The Pac-Man loses if it is touching a ghost and **does not **have a power pellet active.\\\n",
        "**Input Format**\n",
        "\n",
        "There are 2 lines in the input.\n",
        "\n",
        "The first line indicates if the Pac-Man has a power pellet active (1 for yes, 0 for no)\n",
        "\n",
        "The second line indicates if the Pac-Man is touching a ghost (1 for yes, 0 for no)\n",
        "\n",
        "**Output Format**\n",
        "\n",
        "Print 1 if the Pac-Man loses else 0.\n",
        "\n",
        "**Example Input**\n",
        "\n",
        "Input 1:-\n",
        "\n",
        "0\\\n",
        "1\n",
        "\n",
        "Input 2:-\n",
        "\n",
        "0\\\n",
        "0\n",
        "\n",
        "**Example Output**\n",
        "\n",
        "Output 1:-\n",
        "\n",
        "1\n",
        "\n",
        "Output 2:-\n",
        "\n",
        "0\n",
        "\n",
        "**Example Explanation**\n",
        "\n",
        "Sample 1:-\n",
        "\n",
        "The power pellet is not active as it is 0 and the Pac-Man touches the ghost as well. So Pac-Man loses and hence the answer is 1.\n",
        "\n",
        "Output 2:-\n",
        "\n",
        "The power pellet is not active as it is 0 and the Pac-Man do not touch the ghost as well. So Pac-Man wins and hence the answer is 0.\n",
        "\"\"\")"
      ],
      "metadata": {
        "colab": {
          "base_uri": "https://localhost:8080/"
        },
        "id": "aEj61ajjbgTE",
        "outputId": "a19794bd-fa7b-4ad0-ea8e-4e39b456b244"
      },
      "execution_count": 39,
      "outputs": [
        {
          "output_type": "stream",
          "name": "stdout",
          "text": [
            "\n",
            "❓Pac-man\n",
            "\n",
            "**Problem Description**\n",
            "\n",
            "In this exercise, you need to implement some rules from [Pac-Man](https://en.wikipedia.org/wiki/Pac-Man), the classic 1980s-era arcade-game.\n",
            "\n",
            "You have to answer whether the Pac-Man loses or not.\n",
            "\n",
            "Your are given the following integer inputs (0 / 1) one in each line:\n",
            "\n",
            "1\\. Does the Pac-Man have a power pellect active?\n",
            "\n",
            "2\\. Is the Pac-Man touching a ghost?\n",
            "\n",
            "The Pac-Man loses if it is touching a ghost and **does not **have a power pellet active.**Input Format**\n",
            "\n",
            "There are 2 lines in the input.\n",
            "\n",
            "The first line indicates if the Pac-Man has a power pellet active (1 for yes, 0 for no)\n",
            "\n",
            "The second line indicates if the Pac-Man is touching a ghost (1 for yes, 0 for no)\n",
            "\n",
            "**Output Format**\n",
            "\n",
            "Print 1 if the Pac-Man loses else 0.\n",
            "\n",
            "**Example Input**\n",
            "\n",
            "Input 1:-\n",
            "\n",
            "01\n",
            "\n",
            "Input 2:-\n",
            "\n",
            "00\n",
            "\n",
            "**Example Output**\n",
            "\n",
            "Output 1:-\n",
            "\n",
            "1\n",
            "\n",
            "Output 2:-\n",
            "\n",
            "0\n",
            "\n",
            "**Example Explanation**\n",
            "\n",
            "Sample 1:-\n",
            "\n",
            "The power pellet is not active as it is 0 and the Pac-Man touches the ghost as well. So Pac-Man loses and hence the answer is 1.\n",
            "\n",
            "Output 2:-\n",
            "\n",
            "The power pellet is not active as it is 0 and the Pac-Man do not touch the ghost as well. So Pac-Man wins and hence the answer is 0.\n",
            "\n"
          ]
        }
      ]
    },
    {
      "cell_type": "code",
      "source": [
        "power_pellect_active = int(input()) # 1 is active , 0 it is not\n",
        "touching_a_ghost = int(input())\n",
        "if touching_a_ghost and not power_pellect_active:\n",
        "    print(1)# loose\n",
        "else:\n",
        "    print(0)#win"
      ],
      "metadata": {
        "colab": {
          "base_uri": "https://localhost:8080/"
        },
        "id": "bPlWZa2Eb6gv",
        "outputId": "b3d0e626-8117-4040-90fa-be2fa9563f66"
      },
      "execution_count": 41,
      "outputs": [
        {
          "output_type": "stream",
          "name": "stdout",
          "text": [
            "0\n",
            "1\n",
            "1\n"
          ]
        }
      ]
    },
    {
      "cell_type": "code",
      "source": [
        "power_pellect_active = int(input()) # 1 is active , 0 it is not\n",
        "touching_a_ghost = int(input())\n",
        "\n",
        "# check if INPUT is valid\n",
        "if power_pellect_active!=0 and power_pellect_active!=1:\n",
        "    print('power_pellect_active input is INVALID')\n",
        "if touching_a_ghost!=0 and touching_a_ghost!=1:\n",
        "    print('touching_a_ghost input is INVALID')\n",
        "\n",
        "# Print 1 if the Pac-Man loses else 0.\n",
        "if touching_a_ghost and not power_pellect_active:\n",
        "    print(1)# loose\n",
        "else:\n",
        "    print(0)#win"
      ],
      "metadata": {
        "colab": {
          "base_uri": "https://localhost:8080/"
        },
        "id": "fis-e4n-evF6",
        "outputId": "663f3b4c-1083-4725-dd8a-79570104882b"
      },
      "execution_count": 42,
      "outputs": [
        {
          "output_type": "stream",
          "name": "stdout",
          "text": [
            "5\n",
            "10\n",
            "power_pellect_active input is INVALID\n",
            "touching_a_ghost input is INVALID\n",
            "0\n"
          ]
        }
      ]
    },
    {
      "cell_type": "code",
      "source": [
        "# touching_a_ghost and (not power_pellect_active)\n",
        "# dying and at risk\n",
        "# T and T"
      ],
      "metadata": {
        "id": "cJqOeCZWd_a3"
      },
      "execution_count": null,
      "outputs": []
    },
    {
      "cell_type": "code",
      "source": [
        "print('''\n",
        "❓Take an amount as input from the user\n",
        "    You only have 200 and 500 Rs Notes in the ATM. For one transaction,\n",
        "    you can only dispatch notes of a single type.\n",
        "    Given the amount -\n",
        "        - \"Dispatching Cash!\" if it can be dispatched.\n",
        "        - \"Denomination not available!\" if it can not be''')"
      ],
      "metadata": {
        "colab": {
          "base_uri": "https://localhost:8080/"
        },
        "id": "jyM9qIknh2UN",
        "outputId": "58a80bda-3dc7-4f10-ec31-2592632b46a2"
      },
      "execution_count": 43,
      "outputs": [
        {
          "output_type": "stream",
          "name": "stdout",
          "text": [
            "\n",
            "❓Take an amount as input from the user\n",
            "    You only have 200 and 500 Rs Notes in the ATM. For one transaction,\n",
            "    you can only dispatch notes of a single type.\n",
            "    Given the amount -\n",
            "        - \"Dispatching Cash!\" if it can be dispatched.\n",
            "        - \"Denomination not available!\" if it can not be\n"
          ]
        }
      ]
    },
    {
      "cell_type": "code",
      "source": [
        "amount = int(input())\n",
        "if amount%200==0 or amount%500==0:\n",
        "    print(\"Dispatching Cash!\")\n",
        "else:\n",
        "    print(\"Denomination not available!\")"
      ],
      "metadata": {
        "colab": {
          "base_uri": "https://localhost:8080/"
        },
        "id": "VBh5fCE4h4wz",
        "outputId": "b691bc98-183e-48e4-f525-790a3838cafb"
      },
      "execution_count": 47,
      "outputs": [
        {
          "output_type": "stream",
          "name": "stdout",
          "text": [
            "300\n",
            "Denomination not available!\n"
          ]
        }
      ]
    },
    {
      "cell_type": "code",
      "source": [
        "# ❓ ask the user for an integer greater than 9, get the last 2 digits\n",
        "# 124578 >> 78\n",
        "\n",
        "num = int(input())\n",
        "print(\"last digit is\", num%10)\n",
        "print(\"last 2 digits is\", num%100)"
      ],
      "metadata": {
        "colab": {
          "base_uri": "https://localhost:8080/"
        },
        "id": "yAlRJZETi8Ei",
        "outputId": "b758ef14-2690-40fe-ed02-4b1abf1be953"
      },
      "execution_count": 50,
      "outputs": [
        {
          "output_type": "stream",
          "name": "stdout",
          "text": [
            "124578\n",
            "last digit is 8\n",
            "last 2 digits is 78\n"
          ]
        }
      ]
    },
    {
      "cell_type": "code",
      "source": [
        "num = 123456789 # >>5\n",
        "# 123456789 >>56789>>5\n",
        "# remove left, remove right\n",
        "# %,             // or int()\n",
        "print(num%100000)\n",
        "print((num%100000)//10000)\n",
        "\n",
        "# 123456789 >>12345>>5\n",
        "# remove right, remove left\n",
        "# // or int(),  %\n",
        "print(num//10000)\n",
        "print((num//10000)%10)"
      ],
      "metadata": {
        "colab": {
          "base_uri": "https://localhost:8080/"
        },
        "id": "h1vm9v7clas5",
        "outputId": "cb7a41ab-daa8-4d3b-acbc-1871d96ba970"
      },
      "execution_count": 58,
      "outputs": [
        {
          "output_type": "stream",
          "name": "stdout",
          "text": [
            "56789\n",
            "5\n",
            "12345\n",
            "5\n"
          ]
        }
      ]
    },
    {
      "cell_type": "code",
      "source": [
        "# ❓ ask the user for an integer greater than 9, get the 2nd last digit\n",
        "# 124578 >> 7\n",
        "\n",
        "num = int(input())\n",
        "print(\"last 2 digits\", num%100)\n",
        "print(\"2nd last digit\", (num%100)//10)"
      ],
      "metadata": {
        "colab": {
          "base_uri": "https://localhost:8080/"
        },
        "id": "ilPukDcCkIIx",
        "outputId": "65b1d0bc-24f6-402d-d0a9-f56c444845da"
      },
      "execution_count": 60,
      "outputs": [
        {
          "output_type": "stream",
          "name": "stdout",
          "text": [
            "124578\n",
            "last 2 digits 78\n",
            "2nd last digit 7\n"
          ]
        }
      ]
    },
    {
      "cell_type": "code",
      "source": [
        "print('''\n",
        "❓ Build a meter system for an auto. Take into two inputs.\n",
        "Kilometers Travelled and Stall Time (in minutes). Rate List -\n",
        "- First 10 kms - Rs 10 per Km\n",
        "- Next 40 kms - Rs 9 per Km\n",
        "- Next 100 kms - Rs 8 per Km\n",
        "- Any leftover km count - Rs. 6 per Km\n",
        "\n",
        "- Rs 5 extra for every minute of Stall Time.\n",
        "''')"
      ],
      "metadata": {
        "colab": {
          "base_uri": "https://localhost:8080/"
        },
        "id": "PAeua4eNmp1e",
        "outputId": "913b5a7f-0361-44b3-b2b5-721782f8ce52"
      },
      "execution_count": 61,
      "outputs": [
        {
          "output_type": "stream",
          "name": "stdout",
          "text": [
            "\n",
            "❓ Build a meter system for an auto. Take into two inputs.\n",
            "Kilometers Travelled and Stall Time (in minutes). Rate List -\n",
            "- First 10 kms - Rs 10 per Km\n",
            "- Next 40 kms - Rs 9 per Km\n",
            "- Next 100 kms - Rs 8 per Km\n",
            "- Any leftover km count - Rs. 6 per Km\n",
            "\n",
            "- Rs 5 extra for every minute of Stall Time.\n",
            "\n"
          ]
        }
      ]
    },
    {
      "cell_type": "code",
      "source": [
        "kms = int(input())\n",
        "stallTime = int(input())\n",
        "\n",
        "# fare because of dist\n",
        "dist_fare = 0\n",
        "\n",
        "if kms<=10:\n",
        "    dist_fare= kms*10 # first 10 kms have the same rate of 10\n",
        "elif kms<=10+40:\n",
        "    dist_fare= 10*10 # first 10 kms have the same rate of 10\n",
        "    remaining_kms = kms-10\n",
        "    dist_fare=dist_fare+remaining_kms*9 # 11th km to 50th km fare is Rs 9 per Km\n",
        "elif kms<=10+40+100:\n",
        "    dist_fare= 10*10 # first 10 kms have the same rate of 10\n",
        "    remaining_kms = kms-10\n",
        "    dist_fare=dist_fare+40*9 # 11th km to 50th km fare is Rs 9 per Km\n",
        "    remaining_kms = remaining_kms-40\n",
        "    dist_fare=dist_fare+remaining_kms*8 # 50th km to 150th km fare is Rs 8 per Km\n",
        "else:\n",
        "    dist_fare= 10*10 # first 10 kms have the same rate of 10\n",
        "    remaining_kms = kms-10\n",
        "    dist_fare=dist_fare+40*9 # 11th km to 50th km fare is Rs 9 per Km\n",
        "    remaining_kms = remaining_kms-40\n",
        "    dist_fare=dist_fare+100*8 # 50th km to 150th km fare is Rs 8 per Km\n",
        "    remaining_kms = remaining_kms-100\n",
        "    dist_fare=dist_fare+remaining_kms*6 ## Any leftover km count - Rs. 6 per Km\n",
        "\n",
        "# fare because of stall\n",
        "stall_fare = 0\n",
        "stall_fare = stallTime*5\n",
        "\n",
        "# final fare\n",
        "print('dist_fare:', dist_fare)\n",
        "print('stall_fare:', stall_fare)\n",
        "print('Total fare:', dist_fare+stall_fare)"
      ],
      "metadata": {
        "colab": {
          "base_uri": "https://localhost:8080/"
        },
        "id": "rERK9npDosa7",
        "outputId": "d68654c6-df55-4e73-f336-6a9367ca2542"
      },
      "execution_count": 68,
      "outputs": [
        {
          "output_type": "stream",
          "name": "stdout",
          "text": [
            "200\n",
            "20\n",
            "dist_fare: 1560\n",
            "stall_fare: 100\n",
            "Total fare: 1660\n"
          ]
        }
      ]
    },
    {
      "cell_type": "code",
      "source": [
        "10*10+15*9"
      ],
      "metadata": {
        "colab": {
          "base_uri": "https://localhost:8080/"
        },
        "id": "CXXi8JLmqu3r",
        "outputId": "4ecdd221-8da2-4ff2-beb7-fe458c795005"
      },
      "execution_count": 65,
      "outputs": [
        {
          "output_type": "execute_result",
          "data": {
            "text/plain": [
              "235"
            ]
          },
          "metadata": {},
          "execution_count": 65
        }
      ]
    },
    {
      "cell_type": "code",
      "source": [
        "10*10+40*9+25*8"
      ],
      "metadata": {
        "colab": {
          "base_uri": "https://localhost:8080/"
        },
        "id": "fnMm-l-Pq0vC",
        "outputId": "06cf0934-55f6-47cc-a8bf-0c9b66b23785"
      },
      "execution_count": 67,
      "outputs": [
        {
          "output_type": "execute_result",
          "data": {
            "text/plain": [
              "660"
            ]
          },
          "metadata": {},
          "execution_count": 67
        }
      ]
    },
    {
      "cell_type": "code",
      "source": [
        "10*10+40*9+100*8+50*6"
      ],
      "metadata": {
        "colab": {
          "base_uri": "https://localhost:8080/"
        },
        "id": "14X724f0q-Mj",
        "outputId": "f7991dda-4a5e-4bd9-f333-7e4d90d9afc9"
      },
      "execution_count": 69,
      "outputs": [
        {
          "output_type": "execute_result",
          "data": {
            "text/plain": [
              "1560"
            ]
          },
          "metadata": {},
          "execution_count": 69
        }
      ]
    },
    {
      "cell_type": "code",
      "source": [],
      "metadata": {
        "id": "pYVI5NzfrJDr"
      },
      "execution_count": null,
      "outputs": []
    }
  ]
}