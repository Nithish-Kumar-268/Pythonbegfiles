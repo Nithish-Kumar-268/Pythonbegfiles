{
  "nbformat": 4,
  "nbformat_minor": 0,
  "metadata": {
    "colab": {
      "provenance": [],
      "authorship_tag": "ABX9TyPhTdDzIAOdlTPMgfJMZY/Q",
      "include_colab_link": true
    },
    "kernelspec": {
      "name": "python3",
      "display_name": "Python 3"
    },
    "language_info": {
      "name": "python"
    }
  },
  "cells": [
    {
      "cell_type": "markdown",
      "metadata": {
        "id": "view-in-github",
        "colab_type": "text"
      },
      "source": [
        "<a href=\"https://colab.research.google.com/gist/singhsidhukuldeep/f5ae55b4a014004bce8ea559aa7f1570/beginner-problem-solving-2-9th-october-2023.ipynb\" target=\"_parent\"><img src=\"https://colab.research.google.com/assets/colab-badge.svg\" alt=\"Open In Colab\"/></a>"
      ]
    },
    {
      "cell_type": "markdown",
      "source": [
        "<center>\n",
        "\n",
        "# Beginner : Problem Solving 2 - 9th October 2023\n",
        "\n",
        "<img src =\"https://i.giphy.com/media/gG9fVWJdN41NeiHhzk/giphy.webp\" >"
      ],
      "metadata": {
        "id": "C8swa541FIZp"
      }
    },
    {
      "cell_type": "code",
      "execution_count": null,
      "metadata": {
        "id": "0krwauQPySFN"
      },
      "outputs": [],
      "source": [
        "# QUESTION 1\n",
        "# ask the user to enter an integer (non-zero +ive)\n",
        "# find how many digits it has (do not use len function or consider int as a str)\n",
        "\n",
        "# 741\n",
        "# 3\n"
      ]
    },
    {
      "cell_type": "code",
      "source": [
        "# 1234\n",
        "# * / + - // % >> 10\n",
        "# LD= 1234%10 = 4\n",
        "# left after removing last digit = int(1234/10) = 123\n",
        "                                # = 1234//10 (only works for +ive numbers)"
      ],
      "metadata": {
        "id": "n_O7cZMXGNfj"
      },
      "execution_count": 2,
      "outputs": []
    },
    {
      "cell_type": "code",
      "source": [
        "# 1234 >> //10 until 0 is reached\n",
        "# //10 >>123\n",
        "# //10 >>12\n",
        "# //10 >>1\n",
        "# //10 >>0"
      ],
      "metadata": {
        "id": "QpZnkx1cIOAF"
      },
      "execution_count": 3,
      "outputs": []
    },
    {
      "cell_type": "code",
      "source": [
        "n = int(input())\n",
        "count = 0\n",
        "\n",
        "while n>0:\n",
        "    n = n//10\n",
        "    count += 1\n",
        "print(\"# of digits is\", count)"
      ],
      "metadata": {
        "colab": {
          "base_uri": "https://localhost:8080/"
        },
        "id": "TOh2M6n6Ik1T",
        "outputId": "47540e8e-8152-4caa-fa31-395a9162f3b1"
      },
      "execution_count": 5,
      "outputs": [
        {
          "output_type": "stream",
          "name": "stdout",
          "text": [
            "741\n",
            "# of digits is 3\n"
          ]
        }
      ]
    },
    {
      "cell_type": "code",
      "source": [
        "# doubt\n",
        "# kunal vijay\n",
        "# To: Me\n",
        "# 7:24 AM\n",
        "# how to count digits after decimal?"
      ],
      "metadata": {
        "id": "Uz_4ojIVK41e"
      },
      "execution_count": null,
      "outputs": []
    },
    {
      "cell_type": "code",
      "source": [
        "# 0.1234 >> num*10"
      ],
      "metadata": {
        "id": "HNMJH7ESI_nm"
      },
      "execution_count": null,
      "outputs": []
    },
    {
      "cell_type": "code",
      "source": [
        "num = 0.1234\n",
        "print(num*10000)\n",
        "print(num*10000-int(num*10000))"
      ],
      "metadata": {
        "colab": {
          "base_uri": "https://localhost:8080/"
        },
        "id": "y330_YF0JzbL",
        "outputId": "3960c1a9-5888-443f-9f1d-171d196b2cce"
      },
      "execution_count": 9,
      "outputs": [
        {
          "output_type": "stream",
          "name": "stdout",
          "text": [
            "0.0\n"
          ]
        }
      ]
    },
    {
      "cell_type": "code",
      "source": [
        "num = 0.12304\n",
        "count = 0\n",
        "while True:\n",
        "    if num*(10**count)-int(num*(10**count))==0:\n",
        "        break\n",
        "    count+=1\n",
        "print(count)"
      ],
      "metadata": {
        "colab": {
          "base_uri": "https://localhost:8080/"
        },
        "id": "AynIEH1ZJ1qY",
        "outputId": "7b85117b-5d78-4dac-9329-036c73db66e0"
      },
      "execution_count": 11,
      "outputs": [
        {
          "output_type": "stream",
          "name": "stdout",
          "text": [
            "5\n"
          ]
        }
      ]
    },
    {
      "cell_type": "code",
      "source": [
        "# QUESTION 2\n",
        "print(\"\"\"\n",
        "Ask the user to enter an int N and get this pattern\n",
        "\n",
        "INPUT = 3\n",
        "1\n",
        "1 2\n",
        "1 2 3\n",
        "\n",
        "INPUT = 5\n",
        "1\n",
        "1 2\n",
        "1 2 3\n",
        "1 2 3 4\n",
        "1 2 3 4 5\n",
        "\n",
        "\"\"\")"
      ],
      "metadata": {
        "colab": {
          "base_uri": "https://localhost:8080/"
        },
        "id": "VVVyluCRKlyN",
        "outputId": "3d06f002-a26c-4508-8f18-880b1699cc8a"
      },
      "execution_count": 12,
      "outputs": [
        {
          "output_type": "stream",
          "name": "stdout",
          "text": [
            "\n",
            "Ask the user to enter an int N and get this pattern\n",
            "\n",
            "INPUT = 3\n",
            "1\n",
            "1 2\n",
            "1 2 3\n",
            "\n",
            "INPUT = 5\n",
            "1\n",
            "1 2\n",
            "1 2 3\n",
            "1 2 3 4\n",
            "1 2 3 4 5\n",
            "\n",
            "\n"
          ]
        }
      ]
    },
    {
      "cell_type": "code",
      "source": [
        "0>> 1 >> (1,2)\n",
        "1>> 1 2 >> (1,3)\n",
        "2>> 1 2 3\n",
        "3>> 1 2 3 4 >> start = 1, end = i+2\n",
        "4>> 1 2 3 4 5"
      ],
      "metadata": {
        "id": "R4C153AcLg3s"
      },
      "execution_count": null,
      "outputs": []
    },
    {
      "cell_type": "code",
      "source": [
        "for i in range(5): # 0 1 2 3 4\n",
        "    for j in range(1,i+2):\n",
        "        print(j, end=\" \")\n",
        "    print()"
      ],
      "metadata": {
        "colab": {
          "base_uri": "https://localhost:8080/"
        },
        "id": "U9Qhrl3pMowQ",
        "outputId": "8b8873ac-91b0-4ec1-ed3a-8123ec6a4a08"
      },
      "execution_count": 13,
      "outputs": [
        {
          "output_type": "stream",
          "name": "stdout",
          "text": [
            "1 \n",
            "1 2 \n",
            "1 2 3 \n",
            "1 2 3 4 \n",
            "1 2 3 4 5 \n"
          ]
        }
      ]
    },
    {
      "cell_type": "code",
      "source": [
        "# QUESTION 3\n",
        "print(\"\"\"\n",
        "Ask the user to enter an int N and get this pattern\n",
        "\n",
        "INPUT = 3\n",
        "0 0 1\n",
        "0 2\n",
        "3\n",
        "\n",
        "INPUT = 5\n",
        "0 0 0 0 1\n",
        "0 0 0 2\n",
        "0 0 3\n",
        "0 4\n",
        "5\n",
        "\n",
        "\"\"\")"
      ],
      "metadata": {
        "colab": {
          "base_uri": "https://localhost:8080/"
        },
        "id": "D6Kc8TW2N0Zk",
        "outputId": "eb774439-3e6a-4c18-d67a-cae4029db26d"
      },
      "execution_count": 14,
      "outputs": [
        {
          "output_type": "stream",
          "name": "stdout",
          "text": [
            "\n",
            "Ask the user to enter an int N and get this pattern\n",
            "\n",
            "INPUT = 3\n",
            "0 0 1\n",
            "0 2\n",
            "3\n",
            "\n",
            "INPUT = 5\n",
            "0 0 0 0 1\n",
            "0 0 0 2\n",
            "0 0 3\n",
            "0 4\n",
            "5\n",
            "\n",
            "\n"
          ]
        }
      ]
    },
    {
      "cell_type": "code",
      "source": [
        "# 1>>0 0 0 0 0 >>5-1+1\n",
        "# 2>>0 0 0 0\n",
        "# 3>>0 0 0 # 5-3+1=3\n",
        "# 4>>0 0\n",
        "# 5>>0\n",
        "\n",
        "# is increase, 0's decrease\n",
        "# N-i❌\n",
        "# N-i+1 ✅\n",
        "# N-i-1\n",
        "N = 5\n",
        "for i in range(1,N+1): # 1 2 3 4 5\n",
        "    for j in range(N-i+1):\n",
        "        print(0, end=\" \")\n",
        "    print()"
      ],
      "metadata": {
        "colab": {
          "base_uri": "https://localhost:8080/"
        },
        "id": "y6GAKTiKQLul",
        "outputId": "d3aa2401-ff77-44e9-e3c2-117dab7a7e68"
      },
      "execution_count": 15,
      "outputs": [
        {
          "output_type": "stream",
          "name": "stdout",
          "text": [
            "0 0 0 0 0 \n",
            "0 0 0 0 \n",
            "0 0 0 \n",
            "0 0 \n",
            "0 \n"
          ]
        }
      ]
    },
    {
      "cell_type": "code",
      "source": [
        "# for j in range(a): >> 0,1,2,3,4.....a-1"
      ],
      "metadata": {
        "id": "jQJShNpKSKK2"
      },
      "execution_count": null,
      "outputs": []
    },
    {
      "cell_type": "code",
      "source": [
        "# for j in range(N-i+1): >>N-i+1-1 = N-i"
      ],
      "metadata": {
        "id": "v8UHs0jrSE-y"
      },
      "execution_count": null,
      "outputs": []
    },
    {
      "cell_type": "code",
      "source": [
        "# 1>>0 0 0 0 0 >>5-1+1\n",
        "# 2>>0 0 0 0\n",
        "# 3>>0 0 0 # 5-3+1=3\n",
        "# 4>>0 0\n",
        "# 5>>0\n",
        "\n",
        "# is increase, 0's decrease\n",
        "# N-i❌\n",
        "# N-i+1 ✅\n",
        "# N-i-1\n",
        "\n",
        "# 1>> 0 0 0 0 1\n",
        "# 2>> 0 0 0 2\n",
        "# 3>> 0 0 3\n",
        "# 4>> 0 4\n",
        "# 5>> 5\n",
        "\n",
        "\n",
        "N = 5\n",
        "for i in range(1,N+1): # 1 2 3 4 5\n",
        "    for j in range(N-i+1):\n",
        "        if j==N-i:\n",
        "            print(i, end=\" \")\n",
        "        else:\n",
        "            print(0, end=\" \")\n",
        "    print()"
      ],
      "metadata": {
        "colab": {
          "base_uri": "https://localhost:8080/"
        },
        "id": "i6B41uX9Rod2",
        "outputId": "cd3d468f-fe39-4b40-c905-232fc80fa451"
      },
      "execution_count": 18,
      "outputs": [
        {
          "output_type": "stream",
          "name": "stdout",
          "text": [
            "0 0 0 0 1 \n",
            "0 0 0 2 \n",
            "0 0 3 \n",
            "0 4 \n",
            "5 \n"
          ]
        }
      ]
    },
    {
      "cell_type": "code",
      "source": [
        "# 0 0 0 0 0\n",
        "# 0 0 0 0\n",
        "# 0 0 0\n",
        "# 0 0\n",
        "# 0\n",
        "\n",
        "# 0 0 0 0 1\n",
        "# 0 0 0 2\n",
        "# 0 0 3\n",
        "# 0 4\n",
        "# 5"
      ],
      "metadata": {
        "id": "55k_iFr8OO4C"
      },
      "execution_count": null,
      "outputs": []
    },
    {
      "cell_type": "code",
      "source": [
        "\n",
        "N = int(input())\n",
        "for i in range(1,N+1): # 1 2 3 4 5\n",
        "    for j in range(N-i+1):\n",
        "        if j==N-i:\n",
        "            print(i, end=\" \")\n",
        "        else:\n",
        "            print(0, end=\" \")\n",
        "    print()"
      ],
      "metadata": {
        "colab": {
          "base_uri": "https://localhost:8080/"
        },
        "id": "Hk1UFRC2Stzh",
        "outputId": "545c40be-b150-4527-a7b6-03ae3975507d"
      },
      "execution_count": 19,
      "outputs": [
        {
          "output_type": "stream",
          "name": "stdout",
          "text": [
            "7\n",
            "0 0 0 0 0 0 1 \n",
            "0 0 0 0 0 2 \n",
            "0 0 0 0 3 \n",
            "0 0 0 4 \n",
            "0 0 5 \n",
            "0 6 \n",
            "7 \n"
          ]
        }
      ]
    },
    {
      "cell_type": "code",
      "source": [
        "N = int(input())\n",
        "for i in range(1,N+1): # 1 2 3 4 5\n",
        "    for j in range(N-i+1):\n",
        "        if i==3 and j==2:\n",
        "            print('😎', end=\" \")\n",
        "            continue\n",
        "        if j==N-i:\n",
        "            print(i, end=\" \")\n",
        "        else:\n",
        "            print(0, end=\" \")\n",
        "    print()"
      ],
      "metadata": {
        "colab": {
          "base_uri": "https://localhost:8080/"
        },
        "id": "drRfjyaYSvQf",
        "outputId": "fe74712c-2338-4ee1-f7d7-ae8cf207963a"
      },
      "execution_count": 20,
      "outputs": [
        {
          "output_type": "stream",
          "name": "stdout",
          "text": [
            "7\n",
            "0 0 0 0 0 0 1 \n",
            "0 0 0 0 0 2 \n",
            "0 0 😎 0 3 \n",
            "0 0 0 4 \n",
            "0 0 5 \n",
            "0 6 \n",
            "7 \n"
          ]
        }
      ]
    },
    {
      "cell_type": "code",
      "source": [
        "# QUESTION 4\n",
        "# ask the user to enter an integer (non-zero +ive)\n",
        "# find how many even digits it has\n",
        "#  (do not use len function or consider int as a str)\n",
        "\n",
        "# 741\n",
        "# 1"
      ],
      "metadata": {
        "id": "NkBy9_yfTS2_"
      },
      "execution_count": null,
      "outputs": []
    },
    {
      "cell_type": "code",
      "source": [
        "n = int(input())\n",
        "count = 0\n",
        "\n",
        "while n>0:\n",
        "    ld = n%10 # get the last digit\n",
        "    n = n//10\n",
        "    if ld%2==0:\n",
        "        count += 1\n",
        "print(\"# of even digits is\", count)"
      ],
      "metadata": {
        "colab": {
          "base_uri": "https://localhost:8080/"
        },
        "id": "Mb2HBpPRWZfE",
        "outputId": "ad04acdf-c00c-4232-cc17-55c1ce663966"
      },
      "execution_count": 21,
      "outputs": [
        {
          "output_type": "stream",
          "name": "stdout",
          "text": [
            "123456\n",
            "# of even digits is 3\n"
          ]
        }
      ]
    },
    {
      "cell_type": "code",
      "source": [
        "# QUESTION 5"
      ],
      "metadata": {
        "id": "qDa8n8Zqb_pB"
      },
      "execution_count": null,
      "outputs": []
    },
    {
      "cell_type": "markdown",
      "source": [
        "Problem Description\n",
        "You are given an integer A as input and you need to determine whether it is a palindrome or not.\n",
        "\n",
        "A palindrome integer is one whose digits, when reversed, result in the same number.\n",
        "\n",
        "For example, `121` is a palindrome because its reverse is also `121`, but `123` is not a palindrome because its reverse is `321`.\n",
        "\n",
        "Note: The given integer will not have any leading zeros.\n"
      ],
      "metadata": {
        "id": "Or7iunT2XKO2"
      }
    },
    {
      "cell_type": "code",
      "source": [
        "# 123>>3\n",
        "\n",
        "\n",
        "# 3>2>1\n",
        "# 0\n",
        "# 0*10+3>> new_num*10+ld\n",
        "# 3*10+2\n",
        "# 32*10+1"
      ],
      "metadata": {
        "id": "Zbt1ICGoX_dB"
      },
      "execution_count": null,
      "outputs": []
    },
    {
      "cell_type": "code",
      "source": [
        "n = 1234\n",
        "n = int(input())\n",
        "n_old = n\n",
        "n_new = 0\n",
        "while n>0:\n",
        "    ld = n%10 # get the last digit\n",
        "    n_new = n_new*10+ld\n",
        "    n = n//10\n",
        "    print(ld, n_new)\n",
        "if n_old==n_new:\n",
        "    print('palindrome')\n",
        "else:\n",
        "    print('NOT palindrome')"
      ],
      "metadata": {
        "colab": {
          "base_uri": "https://localhost:8080/"
        },
        "id": "Yb3tDM4yZf3b",
        "outputId": "120ecf81-867a-4a79-95de-2d838d78e899"
      },
      "execution_count": 26,
      "outputs": [
        {
          "output_type": "stream",
          "name": "stdout",
          "text": [
            "12321\n",
            "1 1\n",
            "2 12\n",
            "3 123\n",
            "2 1232\n",
            "1 12321\n",
            "palindrome\n"
          ]
        }
      ]
    },
    {
      "cell_type": "code",
      "source": [
        "43>>43*10=430>>430+2432"
      ],
      "metadata": {
        "id": "CQ4-sj7FaMHh"
      },
      "execution_count": null,
      "outputs": []
    },
    {
      "cell_type": "code",
      "source": [
        "# QUESTION 6\n",
        "print(\"\"\"\n",
        "Ask the user to enter an int N and get this pattern\n",
        "\n",
        "INPUT=3\n",
        "__*\n",
        "_**\n",
        "***\n",
        "\n",
        "INPUT=5\n",
        "____*\n",
        "___**\n",
        "__***\n",
        "_****\n",
        "*****\n",
        "\n",
        "\"\"\")"
      ],
      "metadata": {
        "colab": {
          "base_uri": "https://localhost:8080/"
        },
        "id": "W8pbRh_ebLtM",
        "outputId": "2831ab3f-5f6f-4d6f-9ab9-6dd9ef9542a9"
      },
      "execution_count": 28,
      "outputs": [
        {
          "output_type": "stream",
          "name": "stdout",
          "text": [
            "\n",
            "Ask the user to enter an int N and get this pattern\n",
            "\n",
            "INPUT=3\n",
            "__*\n",
            "_**\n",
            "***\n",
            "\n",
            "INPUT=5\n",
            "____*\n",
            "___**\n",
            "__***\n",
            "_****\n",
            "*****\n",
            "\n",
            "\n"
          ]
        }
      ]
    },
    {
      "cell_type": "code",
      "source": [
        "# INPUT=5\n",
        "# ____*\n",
        "# ___**\n",
        "# __***\n",
        "# _****\n",
        "# *****\n",
        "\n",
        "#  0>> ____*\n",
        "#  1>> ___**\n",
        "#  2>> __***\n",
        "#  3>> _****\n",
        "#  4>> *****\n",
        "\n",
        "#  0>> ____ >>5-0-1=4\n",
        "#  1>> ___\n",
        "#  2>> __\n",
        "#  3>> _\n",
        "#  4>>\n",
        "\n",
        "#N-i, [[N-i-1]], ...\n",
        "\n",
        "N = 5\n",
        "for i in range(N): # 0 1 2 3 4\n",
        "    for j in range(N-i-1):\n",
        "        print('_', end=\"\")\n",
        "    print()"
      ],
      "metadata": {
        "colab": {
          "base_uri": "https://localhost:8080/"
        },
        "id": "3x2kbMo1byQn",
        "outputId": "952e5ddd-d94b-47fa-dc34-8337af132bd7"
      },
      "execution_count": 29,
      "outputs": [
        {
          "output_type": "stream",
          "name": "stdout",
          "text": [
            "____\n",
            "___\n",
            "__\n",
            "_\n",
            "\n"
          ]
        }
      ]
    },
    {
      "cell_type": "code",
      "source": [
        "# INPUT=5\n",
        "# ____*\n",
        "# ___**\n",
        "# __***\n",
        "# _****\n",
        "# *****\n",
        "\n",
        "#  0>> ____*\n",
        "#  1>> ___**\n",
        "#  2>> __***\n",
        "#  3>> _****\n",
        "#  4>> *****\n",
        "\n",
        "#  0>> ____ >>5-0-1=4\n",
        "#  1>> ___\n",
        "#  2>> __\n",
        "#  3>> _\n",
        "#  4>>\n",
        "\n",
        "#N-i, [[N-i-1]], ...\n",
        "\n",
        "\n",
        "#  0>> *\n",
        "#  1>> **\n",
        "#  2>> ***\n",
        "#  3>> ****\n",
        "#  4>> *****\n",
        "\n",
        "N = 5\n",
        "for i in range(N): # 0 1 2 3 4\n",
        "    for j in range(N-i-1):\n",
        "        print('_', end=\"\")\n",
        "    for j in range(i+1):\n",
        "        print('*', end=\"\")\n",
        "    print()"
      ],
      "metadata": {
        "colab": {
          "base_uri": "https://localhost:8080/"
        },
        "id": "NnX3OJ9SeTYm",
        "outputId": "5435e05d-73f1-4248-f451-fae51c4300d7"
      },
      "execution_count": 30,
      "outputs": [
        {
          "output_type": "stream",
          "name": "stdout",
          "text": [
            "____*\n",
            "___**\n",
            "__***\n",
            "_****\n",
            "*****\n"
          ]
        }
      ]
    },
    {
      "cell_type": "code",
      "source": [
        "# for j in range(N-i-1): # printing \"_\" N-i-1 times>> print(\"_\"*(N-i-1))\n",
        "#     print('_', end=\"\")"
      ],
      "metadata": {
        "id": "ImFbmv8Zek6m"
      },
      "execution_count": null,
      "outputs": []
    },
    {
      "cell_type": "code",
      "source": [
        "print('a'*5)"
      ],
      "metadata": {
        "colab": {
          "base_uri": "https://localhost:8080/"
        },
        "id": "UdYvz1aVfC1f",
        "outputId": "1d8ea76a-0884-4f79-c6be-011656cf4bdf"
      },
      "execution_count": 31,
      "outputs": [
        {
          "output_type": "stream",
          "name": "stdout",
          "text": [
            "aaaaa\n"
          ]
        }
      ]
    },
    {
      "cell_type": "code",
      "source": [
        "N = 5\n",
        "for i in range(N): # 0 1 2 3 4\n",
        "    # for j in range(N-i-1):\n",
        "    #     print('_', end=\"\")\n",
        "    print('_'*(N-i-1), end=\"\")\n",
        "    # for j in range(i+1):\n",
        "    #     print('*', end=\"\")\n",
        "    print('*'*(i+1), end=\"\")\n",
        "    print()"
      ],
      "metadata": {
        "colab": {
          "base_uri": "https://localhost:8080/"
        },
        "id": "4JLF4OJ7fEFF",
        "outputId": "1fd1b5a1-0a6d-43f6-e3e4-b3d740cea5f8"
      },
      "execution_count": 32,
      "outputs": [
        {
          "output_type": "stream",
          "name": "stdout",
          "text": [
            "____*\n",
            "___**\n",
            "__***\n",
            "_****\n",
            "*****\n"
          ]
        }
      ]
    },
    {
      "cell_type": "code",
      "source": [
        "N = 5\n",
        "for i in range(N): # 0 1 2 3 4\n",
        "    print('_'*(N-i-1), end=\"\")\n",
        "    print('*'*(i+1), end=\"\")\n",
        "    print()"
      ],
      "metadata": {
        "colab": {
          "base_uri": "https://localhost:8080/"
        },
        "id": "7VqTS82bfRBQ",
        "outputId": "82df864b-1355-40ac-f50b-32fae5b90b36"
      },
      "execution_count": 33,
      "outputs": [
        {
          "output_type": "stream",
          "name": "stdout",
          "text": [
            "____*\n",
            "___**\n",
            "__***\n",
            "_****\n",
            "*****\n"
          ]
        }
      ]
    },
    {
      "cell_type": "markdown",
      "source": [
        "![](https://media.tenor.com/R6YKXLuuJ8EAAAAd/thanos-dancing.gif)"
      ],
      "metadata": {
        "id": "E6MhLGhPfi8E"
      }
    },
    {
      "cell_type": "code",
      "source": [],
      "metadata": {
        "id": "zzUEboBUfS5l"
      },
      "execution_count": null,
      "outputs": []
    }
  ]
}