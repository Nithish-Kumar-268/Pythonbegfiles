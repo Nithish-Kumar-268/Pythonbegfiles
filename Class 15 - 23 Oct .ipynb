{
  "nbformat": 4,
  "nbformat_minor": 0,
  "metadata": {
    "colab": {
      "provenance": [],
      "authorship_tag": "ABX9TyPcOAh9ZaIwsuJj3s9c78Yo",
      "include_colab_link": true
    },
    "kernelspec": {
      "name": "python3",
      "display_name": "Python 3"
    },
    "language_info": {
      "name": "python"
    }
  },
  "cells": [
    {
      "cell_type": "markdown",
      "metadata": {
        "id": "view-in-github",
        "colab_type": "text"
      },
      "source": [
        "<a href=\"https://colab.research.google.com/gist/singhsidhukuldeep/489b3b7891f4941e6a79024a2b8a3fd3/beginner-problem-solving-3-23october2023.ipynb\" target=\"_parent\"><img src=\"https://colab.research.google.com/assets/colab-badge.svg\" alt=\"Open In Colab\"/></a>"
      ]
    },
    {
      "cell_type": "markdown",
      "source": [
        "<center>\n",
        "\n",
        "# Beginner : Problem Solving 3 - 23October2023\n",
        "\n",
        "![](https://miro.medium.com/v2/resize:fit:960/0*1gBIEA9gWWSrlfB3.gif)"
      ],
      "metadata": {
        "id": "lcWTJnDSTH66"
      }
    },
    {
      "cell_type": "markdown",
      "source": [
        "Complete the code snippet given below to remove all the elements in the list that are even and print the new list in which there are no even elements.\n",
        "\n",
        "**Input**: `elements=[24,32,13,15,19,44,52,7,9,2,51]`\n",
        "```python\n",
        "def not_even(lst):\n",
        "  res = []\n",
        "  for ele in lst:\n",
        "    ________________\n",
        "  return res\n",
        "\n",
        "not_even(elements)\n",
        "```\n",
        "**Required output**:`[13, 15, 19, 7, 9, 51]`\n",
        "\n",
        "\n",
        "\n",
        "You will get full points if and only if you give CORRECT ANSWER in first attempt. All later attempts will get you ZERO score.\n",
        "\n",
        "-   if (ele% 2 != 0): res.pop(ele)\n",
        "\n",
        "-   if (ele % 2 != 0): res.append(ele)\n",
        "\n",
        "-   if (ele% 2 == 1): lst.pop(ele)\n",
        "\n",
        "-   if (ele% 2 == 1): lst.remove(ele)"
      ],
      "metadata": {
        "id": "JEWcOpcALPUw"
      }
    },
    {
      "cell_type": "code",
      "execution_count": 1,
      "metadata": {
        "id": "yHvkwtGATHXj",
        "colab": {
          "base_uri": "https://localhost:8080/"
        },
        "outputId": "13fde997-c77f-488a-e372-17dd7eab36e2"
      },
      "outputs": [
        {
          "output_type": "execute_result",
          "data": {
            "text/plain": [
              "[13, 15, 19, 7, 9, 51]"
            ]
          },
          "metadata": {},
          "execution_count": 1
        }
      ],
      "source": [
        "def not_even(lst):\n",
        "    res = []\n",
        "    for ele in lst:\n",
        "        if (ele % 2 != 0):\n",
        "            res.append(ele)\n",
        "    return res\n",
        "elements=[24,32,13,15,19,44,52,7,9,2,51]\n",
        "not_even(elements)"
      ]
    },
    {
      "cell_type": "markdown",
      "source": [
        "## Ceil and Floor\n",
        "\n",
        "**Problem Description**\n",
        "\n",
        "You are given a sorted array of **A** and an integer **B**.Return an array of size 2, where the first element is the ceil of **B** and the second element is the floor of **B.\n",
        "\n",
        "****Ceil** is the largest number greater than or equal to **B** and is present in the array **A**.\\\n",
        "---\n",
        "**Floor **is the largest number smaller than or equal to **B** and is present in the array **A**.\n",
        "\n",
        "**Problem Constraints**\n",
        "\n",
        "1 <= |A| <= 105\\\n",
        "-109 <= A[i] <= 109\\\n",
        "-109 <= B <= 109\n",
        "\n",
        "**Input Format**\n",
        "\n",
        "The input contains two lines.\\\n",
        "The first line contains space separated integers. The first value in this line is the number of elements N in the array after which N integers denoting elements of the array follow.\\\n",
        "The second line contains a single integer.\n",
        "\n",
        "**Output Format**\n",
        "\n",
        "An integer array **C** of size 2.\n",
        "\n",
        "**Example Input**\n",
        "```\n",
        "Input 1:\n",
        "\n",
        "-2 4 4 8 9\n",
        "0\n",
        "\n",
        "Input 2:\n",
        "\n",
        "1 3 9 21\n",
        "9\n",
        "```\n",
        "**Example Output**\n",
        "```\n",
        "Output 1:\n",
        "\n",
        "4 -2\n",
        "\n",
        "Output 2:\n",
        "\n",
        "9 9\n",
        "```"
      ],
      "metadata": {
        "id": "uTl2qxObMgy8"
      }
    },
    {
      "cell_type": "code",
      "source": [
        "# floor: largest int, smaller or equal to the value\n",
        "# ceil:  smallest int, larger or equal to the value"
      ],
      "metadata": {
        "id": "IVvVQ5jFOb6x"
      },
      "execution_count": null,
      "outputs": []
    },
    {
      "cell_type": "code",
      "source": [
        "# floor>> largest int less or equal to the value>> start from the right side...keep on checking the condition\n",
        "# curr<=B>> floor\n",
        "\n",
        "# ceil>> smallest number greater OR equal to the value>> start from the left side...keep on checking the condition\n",
        "# curr>=B>> ceil"
      ],
      "metadata": {
        "id": "8ce8rLhkMU8d"
      },
      "execution_count": null,
      "outputs": []
    },
    {
      "cell_type": "code",
      "source": [
        "def ceilAndFloor(A,B):\n",
        "    # floor\n",
        "    for i in A[::-1]:\n",
        "        if i<=B:\n",
        "            floor=i\n",
        "            break\n",
        "    #ceil\n",
        "    for i in A:\n",
        "        if i>=B:\n",
        "            ceil = i\n",
        "            break\n",
        "    return [ceil, floor]\n",
        "print(ceilAndFloor(A=[-2, 4, 4, 8, 9],B=0))\n",
        "print(ceilAndFloor(A=[1, 3, 9, 21],B=9))"
      ],
      "metadata": {
        "colab": {
          "base_uri": "https://localhost:8080/"
        },
        "id": "L3uf3gVYPST7",
        "outputId": "992540bd-8456-4185-9faf-b637ac7c2c7e"
      },
      "execution_count": 3,
      "outputs": [
        {
          "output_type": "stream",
          "name": "stdout",
          "text": [
            "[4, -2]\n",
            "[9, 9]\n"
          ]
        }
      ]
    },
    {
      "cell_type": "code",
      "source": [
        "# taking input of list from the user\n",
        "# ask the usrt for space seperated int\n",
        "user_input = input()\n",
        "print(\"user_input\", user_input)\n",
        "\n",
        "# break the user input, split on space\n",
        "user_input_split = user_input.split()\n",
        "print(\"user_input_split\", user_input_split)\n",
        "\n",
        "for i in range(len(user_input_split)):\n",
        "    user_input_split[i] = int(user_input_split[i])\n",
        "print(user_input_split)"
      ],
      "metadata": {
        "colab": {
          "base_uri": "https://localhost:8080/"
        },
        "id": "nwu-uNBwQT4w",
        "outputId": "602e099d-27a6-46c5-ab51-6eda44705142"
      },
      "execution_count": 7,
      "outputs": [
        {
          "output_type": "stream",
          "name": "stdout",
          "text": [
            "1 -22 100\n",
            "user_input 1 -22 100\n",
            "user_input_split ['1', '-22', '100']\n",
            "[1, -22, 100]\n"
          ]
        }
      ]
    },
    {
      "cell_type": "markdown",
      "source": [
        "## all the primes\n",
        "given an integer, find all the prime numbers equal or less than the integer\n",
        "\n",
        "`8`:`[2,3,5,7]`"
      ],
      "metadata": {
        "id": "5Ep68a0nRrJl"
      }
    },
    {
      "cell_type": "code",
      "source": [
        "def isPrime(a):\n",
        "    for i in range(2, a):\n",
        "        if a%i==0:\n",
        "            return False\n",
        "    return True\n",
        "\n",
        "def get_all_primes(n):\n",
        "    all_primes = []\n",
        "    for i in range(2,n+1):\n",
        "        if isPrime(i):\n",
        "            all_primes.append(i)\n",
        "    return all_primes"
      ],
      "metadata": {
        "id": "61dZd91tRrn6"
      },
      "execution_count": 8,
      "outputs": []
    },
    {
      "cell_type": "code",
      "source": [
        "get_all_primes(10)"
      ],
      "metadata": {
        "colab": {
          "base_uri": "https://localhost:8080/"
        },
        "id": "r6_7Nlv6T1Jl",
        "outputId": "948de3f4-37d2-4242-83d5-04e706c07fd8"
      },
      "execution_count": 9,
      "outputs": [
        {
          "output_type": "execute_result",
          "data": {
            "text/plain": [
              "[2, 3, 5, 7]"
            ]
          },
          "metadata": {},
          "execution_count": 9
        }
      ]
    },
    {
      "cell_type": "code",
      "source": [
        "get_all_primes(50)"
      ],
      "metadata": {
        "colab": {
          "base_uri": "https://localhost:8080/"
        },
        "id": "tr2G3H-3T2m7",
        "outputId": "51d9ac3e-b22d-4146-d9db-269b3aa30052"
      },
      "execution_count": 10,
      "outputs": [
        {
          "output_type": "execute_result",
          "data": {
            "text/plain": [
              "[2, 3, 5, 7, 11, 13, 17, 19, 23, 29, 31, 37, 41, 43, 47]"
            ]
          },
          "metadata": {},
          "execution_count": 10
        }
      ]
    },
    {
      "cell_type": "code",
      "source": [
        "# https://en.wikipedia.org/wiki/Sieve_of_Eratosthenes"
      ],
      "metadata": {
        "id": "ySoMTrkiT4QU"
      },
      "execution_count": null,
      "outputs": []
    },
    {
      "cell_type": "markdown",
      "source": [
        "![](https://upload.wikimedia.org/wikipedia/commons/9/94/Animation_Sieve_of_Eratosth.gif)"
      ],
      "metadata": {
        "id": "q4NHdnALUOsv"
      }
    },
    {
      "cell_type": "code",
      "source": [
        "n = 8 >> [] of isPrime\n",
        "# 0      1      2       3     4      5       6     7      8\n",
        "[True,  True,  True,  True,  True,  True,  True,  True,  True]\n",
        "[False, False, True,  True,  True,  True,  True,  True,  True]# 0 and 1 are not Prime\n",
        "[False, False, TRUE,  True,  False, True,  False, True,  False]# at 2\n",
        "[False, False, True,  TRUE,  False, True,  False, True,  False]# at 3"
      ],
      "metadata": {
        "id": "WtXX-RmWUMc6"
      },
      "execution_count": null,
      "outputs": []
    },
    {
      "cell_type": "code",
      "source": [
        "def Sieve_of_Eratosthenes(n):\n",
        "\n",
        "    #  O(n log log n),\n",
        "    isPrime = []\n",
        "    for i in range(n+1):\n",
        "        isPrime.append(True)\n",
        "    isPrime[0] = False\n",
        "    isPrime[1] = False\n",
        "    pointer = 0\n",
        "    while pointer<len(isPrime):\n",
        "        if isPrime[pointer]==False:\n",
        "            pointer+=1\n",
        "        else:\n",
        "            for multiples in range(pointer*2, n+1, pointer):\n",
        "                isPrime[multiples]=False\n",
        "            pointer+=1\n",
        "    for i in range(len(isPrime)):\n",
        "        if isPrime[i]:\n",
        "            print(i)\n",
        "Sieve_of_Eratosthenes(n=20)"
      ],
      "metadata": {
        "colab": {
          "base_uri": "https://localhost:8080/"
        },
        "id": "g9m6iIXAWWiy",
        "outputId": "25d95d38-5072-493d-a85a-a5a4152f97f3"
      },
      "execution_count": 12,
      "outputs": [
        {
          "output_type": "stream",
          "name": "stdout",
          "text": [
            "2\n",
            "3\n",
            "5\n",
            "7\n",
            "11\n",
            "13\n",
            "17\n",
            "19\n"
          ]
        }
      ]
    },
    {
      "cell_type": "code",
      "source": [
        "# O(n)> n=10, n=100\n",
        "# O(n^2)> n=10, n=100 >> input increased by 10, time increased by 100"
      ],
      "metadata": {
        "id": "62NkpCpkXp9Y"
      },
      "execution_count": null,
      "outputs": []
    },
    {
      "cell_type": "code",
      "source": [
        "# Operations in python list"
      ],
      "metadata": {
        "id": "JWuMaJMjZNIc"
      },
      "execution_count": 13,
      "outputs": []
    },
    {
      "cell_type": "code",
      "source": [
        "coins = [1,2,5,2,5,10,5,20,5,75]\n",
        "\n",
        "#1: find the count of 5 in coins list\n",
        "def counterOfEle(lst, val):\n",
        "    count = 0\n",
        "    for i in lst:\n",
        "        if i==val:\n",
        "            count+=1\n",
        "    return count\n",
        "print(counterOfEle(lst=[1,2,5,2,5,10,5,20,5,75], val=5), coins.count(5))"
      ],
      "metadata": {
        "colab": {
          "base_uri": "https://localhost:8080/"
        },
        "id": "8z7I5QOgbX8O",
        "outputId": "a15d3753-2357-45f9-b803-d814c0103814"
      },
      "execution_count": 16,
      "outputs": [
        {
          "output_type": "stream",
          "name": "stdout",
          "text": [
            "4 4\n"
          ]
        }
      ]
    },
    {
      "cell_type": "code",
      "source": [
        "coins = [1,2,5,2,5,10,5,20,5,75]\n",
        "\n",
        "#2: remove all the 5 coins from the coins list without creating a new list\n",
        "for i in range(coins.count(5)):\n",
        "    coins.remove(5)\n",
        "coins"
      ],
      "metadata": {
        "colab": {
          "base_uri": "https://localhost:8080/"
        },
        "id": "cT8OaNc9cUjV",
        "outputId": "30226c85-a411-48b3-8cf0-2994450038ea"
      },
      "execution_count": 21,
      "outputs": [
        {
          "output_type": "execute_result",
          "data": {
            "text/plain": [
              "[1, 2, 2, 10, 20, 75]"
            ]
          },
          "metadata": {},
          "execution_count": 21
        }
      ]
    },
    {
      "cell_type": "code",
      "source": [
        "a = [1,2,3]\n",
        "print(a)\n",
        "a.remove(1)\n",
        "print(a)\n",
        "a.remove(1)\n",
        "print(a)"
      ],
      "metadata": {
        "colab": {
          "base_uri": "https://localhost:8080/",
          "height": 271
        },
        "id": "PmS6pMr8dNDM",
        "outputId": "47272175-cfc9-40d4-88de-c5af62af602b"
      },
      "execution_count": 20,
      "outputs": [
        {
          "output_type": "stream",
          "name": "stdout",
          "text": [
            "[1, 2, 3]\n",
            "[2, 3]\n"
          ]
        },
        {
          "output_type": "error",
          "ename": "ValueError",
          "evalue": "ignored",
          "traceback": [
            "\u001b[0;31m---------------------------------------------------------------------------\u001b[0m",
            "\u001b[0;31mValueError\u001b[0m                                Traceback (most recent call last)",
            "\u001b[0;32m<ipython-input-20-5882960d865a>\u001b[0m in \u001b[0;36m<cell line: 5>\u001b[0;34m()\u001b[0m\n\u001b[1;32m      3\u001b[0m \u001b[0ma\u001b[0m\u001b[0;34m.\u001b[0m\u001b[0mremove\u001b[0m\u001b[0;34m(\u001b[0m\u001b[0;36m1\u001b[0m\u001b[0;34m)\u001b[0m\u001b[0;34m\u001b[0m\u001b[0;34m\u001b[0m\u001b[0m\n\u001b[1;32m      4\u001b[0m \u001b[0mprint\u001b[0m\u001b[0;34m(\u001b[0m\u001b[0ma\u001b[0m\u001b[0;34m)\u001b[0m\u001b[0;34m\u001b[0m\u001b[0;34m\u001b[0m\u001b[0m\n\u001b[0;32m----> 5\u001b[0;31m \u001b[0ma\u001b[0m\u001b[0;34m.\u001b[0m\u001b[0mremove\u001b[0m\u001b[0;34m(\u001b[0m\u001b[0;36m1\u001b[0m\u001b[0;34m)\u001b[0m\u001b[0;34m\u001b[0m\u001b[0;34m\u001b[0m\u001b[0m\n\u001b[0m\u001b[1;32m      6\u001b[0m \u001b[0mprint\u001b[0m\u001b[0;34m(\u001b[0m\u001b[0ma\u001b[0m\u001b[0;34m)\u001b[0m\u001b[0;34m\u001b[0m\u001b[0;34m\u001b[0m\u001b[0m\n",
            "\u001b[0;31mValueError\u001b[0m: list.remove(x): x not in list"
          ]
        }
      ]
    },
    {
      "cell_type": "markdown",
      "source": [
        "Which of the following options(s) are correct about lists\n",
        "```python\n",
        "a = [1,2,3,4]\n",
        "b = a\n",
        "b.append(5)\n",
        "```\n",
        "```\n",
        "A. 5 is also get append to list a\n",
        "B. a and b point to different memory location but have same values\n",
        "C. python garbage collector automatically deleted the list a as it get assigned to b\n",
        "D. a and b point to same memory location.\n",
        "```"
      ],
      "metadata": {
        "id": "70oUUHMMdxWj"
      }
    },
    {
      "cell_type": "code",
      "source": [
        "a = [1,2,3,4]\n",
        "b = a\n",
        "b.append(5)\n",
        "print(a,b)\n",
        "# A. 5 is also get append to list a\n",
        "# D. a and b point to same memory location."
      ],
      "metadata": {
        "colab": {
          "base_uri": "https://localhost:8080/"
        },
        "id": "8DpA3yBNdx3h",
        "outputId": "a5c62e8c-cf14-4b7a-b34f-55efbe0e9fb4"
      },
      "execution_count": 22,
      "outputs": [
        {
          "output_type": "stream",
          "name": "stdout",
          "text": [
            "[1, 2, 3, 4, 5] [1, 2, 3, 4, 5]\n"
          ]
        }
      ]
    },
    {
      "cell_type": "code",
      "source": [
        "a = [1,2,3,4]\n",
        "b = a\n",
        "b.append(5)\n",
        "print(a,b)\n",
        "a[0]*=-100\n",
        "b[1]*=-100\n",
        "print(a,b)"
      ],
      "metadata": {
        "colab": {
          "base_uri": "https://localhost:8080/"
        },
        "id": "7biSx14oepKD",
        "outputId": "2d2fbbac-d673-43a7-94fb-208f6ecddaaa"
      },
      "execution_count": 23,
      "outputs": [
        {
          "output_type": "stream",
          "name": "stdout",
          "text": [
            "[1, 2, 3, 4, 5] [1, 2, 3, 4, 5]\n",
            "[-100, -200, 3, 4, 5] [-100, -200, 3, 4, 5]\n"
          ]
        }
      ]
    },
    {
      "cell_type": "code",
      "source": [
        "a = [1,2,3,4]\n",
        "b = a[:]\n",
        "b.append(5)\n",
        "print(a,b)\n",
        "a[0]*=-100\n",
        "b[1]*=-100\n",
        "print(a,b)"
      ],
      "metadata": {
        "colab": {
          "base_uri": "https://localhost:8080/"
        },
        "id": "2gJe24-ffU_k",
        "outputId": "f82048eb-d608-48a2-8f0c-2e2217ed6714"
      },
      "execution_count": 24,
      "outputs": [
        {
          "output_type": "stream",
          "name": "stdout",
          "text": [
            "[1, 2, 3, 4] [1, 2, 3, 4, 5]\n",
            "[-100, 2, 3, 4] [1, -200, 3, 4, 5]\n"
          ]
        }
      ]
    },
    {
      "cell_type": "code",
      "source": [
        "###          0        1       2\n",
        "players =['Jadeja','Rahul','Rohit']\n",
        "players[1] = \"Kohli\"\n",
        "print(players)"
      ],
      "metadata": {
        "colab": {
          "base_uri": "https://localhost:8080/"
        },
        "id": "IGMYJ6AxfW9a",
        "outputId": "903733cd-7e7e-42b4-8aac-1b7028bff35e"
      },
      "execution_count": 25,
      "outputs": [
        {
          "output_type": "stream",
          "name": "stdout",
          "text": [
            "['Jadeja', 'Kohli', 'Rohit']\n"
          ]
        }
      ]
    },
    {
      "cell_type": "code",
      "source": [
        "###          0        1       2\n",
        "players =['Jadeja','Rahul','Rohit']\n",
        "players[1] = [\"Kohli\", \"Dhoni\"]\n",
        "print(players)"
      ],
      "metadata": {
        "colab": {
          "base_uri": "https://localhost:8080/"
        },
        "id": "52DFaAvgfu5V",
        "outputId": "9c8f0c2f-7f82-4799-e423-0a15ed3a3c3d"
      },
      "execution_count": 26,
      "outputs": [
        {
          "output_type": "stream",
          "name": "stdout",
          "text": [
            "['Jadeja', ['Kohli', 'Dhoni'], 'Rohit']\n"
          ]
        }
      ]
    },
    {
      "cell_type": "code",
      "source": [
        "###          0        1       2\n",
        "players =['Jadeja','Rahul','Rohit']\n",
        "print(\"the slice\", players[1:2])\n",
        "players[1:2] = [\"Kohli\", \"Dhoni\"]\n",
        "print(players)"
      ],
      "metadata": {
        "colab": {
          "base_uri": "https://localhost:8080/"
        },
        "id": "MD4AtuGTf8eV",
        "outputId": "271d1ac5-714d-4252-9b6d-638e8a1c5433"
      },
      "execution_count": 28,
      "outputs": [
        {
          "output_type": "stream",
          "name": "stdout",
          "text": [
            "the slice ['Rahul']\n",
            "['Jadeja', 'Kohli', 'Dhoni', 'Rohit']\n"
          ]
        }
      ]
    },
    {
      "cell_type": "markdown",
      "source": [
        "## Is Perfect Square ?\n",
        "\n",
        "**Problem Description**\n",
        "\n",
        "You are given a function that takes an integer argument **A**. Return **1** if **A** is a perfect square otherwise return **0**.\\\n",
        "**Problem Constraints**\n",
        "\n",
        "1 <= A <= 108\n",
        "\n",
        "**Input Format**\n",
        "\n",
        "First argument is an integer **A**.\n",
        "\n",
        "**Output Format**\n",
        "\n",
        "Return an integer (**0** or **1**) based upon the question.\n",
        "\n",
        "**Example Input**\n",
        "\n",
        "Input 1:\n",
        "\n",
        "A = 4\n",
        "\n",
        "Input 2:\n",
        "\n",
        "A = 1001\n",
        "\n",
        "**Example Output**\n",
        "\n",
        "Output 1:\n",
        "\n",
        "1\n",
        "\n",
        "Output 2:\n",
        "\n",
        "0\n",
        "\n",
        "**Example Explanation**\n",
        "\n",
        "Explanation 1:\n",
        "\n",
        "sqrt(4) = 2\n",
        "\n",
        "Explanation 2:\n",
        "\n",
        "1001 is not a perfect square."
      ],
      "metadata": {
        "id": "RgbuOW8GhBVR"
      }
    },
    {
      "cell_type": "code",
      "source": [
        "# square of 3\n",
        "print(3**2)"
      ],
      "metadata": {
        "colab": {
          "base_uri": "https://localhost:8080/"
        },
        "id": "u1rI8asciA2r",
        "outputId": "5910ebe1-cfba-462c-dd4b-4dd9ebdf8a43"
      },
      "execution_count": 29,
      "outputs": [
        {
          "output_type": "stream",
          "name": "stdout",
          "text": [
            "9\n"
          ]
        }
      ]
    },
    {
      "cell_type": "code",
      "source": [
        "# square of 3\n",
        "print(3**0.5)"
      ],
      "metadata": {
        "colab": {
          "base_uri": "https://localhost:8080/"
        },
        "id": "SvX91-ZfiHE_",
        "outputId": "8e5bbadd-0d85-4bbe-dc9d-3e400ddb9b22"
      },
      "execution_count": 30,
      "outputs": [
        {
          "output_type": "stream",
          "name": "stdout",
          "text": [
            "1.7320508075688772\n"
          ]
        }
      ]
    },
    {
      "cell_type": "code",
      "source": [
        "def perfect_square(num):\n",
        "    sqrt = num**0.5\n",
        "    if sqrt==int(sqrt):\n",
        "        return True\n",
        "    else:\n",
        "        return False\n",
        "\n",
        "for i in range(10):\n",
        "    print(i, perfect_square(i))"
      ],
      "metadata": {
        "colab": {
          "base_uri": "https://localhost:8080/"
        },
        "id": "uhTWTbK-gZEJ",
        "outputId": "5d19133b-cedd-4a70-c8e4-71d6c3a39c07"
      },
      "execution_count": 31,
      "outputs": [
        {
          "output_type": "stream",
          "name": "stdout",
          "text": [
            "0 True\n",
            "1 True\n",
            "2 False\n",
            "3 False\n",
            "4 True\n",
            "5 False\n",
            "6 False\n",
            "7 False\n",
            "8 False\n",
            "9 True\n"
          ]
        }
      ]
    }
  ]
}