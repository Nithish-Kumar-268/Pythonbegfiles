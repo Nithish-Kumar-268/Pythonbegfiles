{
  "nbformat": 4,
  "nbformat_minor": 0,
  "metadata": {
    "colab": {
      "provenance": [],
      "authorship_tag": "ABX9TyOOaA6PptWo2ehP/m1vLVh1",
      "include_colab_link": true
    },
    "kernelspec": {
      "name": "python3",
      "display_name": "Python 3"
    },
    "language_info": {
      "name": "python"
    }
  },
  "cells": [
    {
      "cell_type": "markdown",
      "metadata": {
        "id": "view-in-github",
        "colab_type": "text"
      },
      "source": [
        "<a href=\"https://colab.research.google.com/gist/singhsidhukuldeep/9df23417397bb2f85441fe34ee0db810/beginner-control-statements-25th-september-2023.ipynb\" target=\"_parent\"><img src=\"https://colab.research.google.com/assets/colab-badge.svg\" alt=\"Open In Colab\"/></a>"
      ]
    },
    {
      "cell_type": "markdown",
      "source": [
        "<center>\n",
        "\n",
        "# Beginner : Control Statements - 25th September 2023\n",
        "\n",
        "![](https://j.gifs.com/nZly3D.gif)"
      ],
      "metadata": {
        "id": "zSQuRp3PsyDk"
      }
    },
    {
      "cell_type": "code",
      "execution_count": 1,
      "metadata": {
        "id": "j01-6CInsga_",
        "colab": {
          "base_uri": "https://localhost:8080/"
        },
        "outputId": "8297728d-b47f-4c04-99d3-43875fd9f6bc"
      },
      "outputs": [
        {
          "output_type": "stream",
          "name": "stdout",
          "text": [
            "Today we are going to lear control statements 🙌\n"
          ]
        }
      ],
      "source": [
        "print(\"Today we are going to lear control statements 🙌\")"
      ]
    },
    {
      "cell_type": "code",
      "source": [
        "age = 26\n",
        "print(age>=18)"
      ],
      "metadata": {
        "colab": {
          "base_uri": "https://localhost:8080/"
        },
        "id": "Jpo-i5nW_EYl",
        "outputId": "de82516b-f84e-4b80-b324-97da13867fbf"
      },
      "execution_count": 2,
      "outputs": [
        {
          "output_type": "stream",
          "name": "stdout",
          "text": [
            "True\n"
          ]
        }
      ]
    },
    {
      "cell_type": "code",
      "source": [
        "# indentation>> :\n",
        "age = 26\n",
        "\n",
        "if age>=18:\n",
        "    print(\"You should vote\")\n",
        "    print(\"Democarcy works because of your votes\")\n",
        "    print(\"Your age next year will be\", age+1)"
      ],
      "metadata": {
        "colab": {
          "base_uri": "https://localhost:8080/"
        },
        "id": "IkFCRKZH_Lfx",
        "outputId": "60a6af5a-7bcc-4b00-8941-0ebea0e84532"
      },
      "execution_count": 3,
      "outputs": [
        {
          "output_type": "stream",
          "name": "stdout",
          "text": [
            "You should vote\n",
            "Democarcy works because of your votes\n",
            "Your age next year will be 27\n"
          ]
        }
      ]
    },
    {
      "cell_type": "code",
      "source": [
        "# indentation>> :\n",
        "age = 2\n",
        "\n",
        "if age>=18:\n",
        "    print(\"You should vote\")\n",
        "    print(\"Democarcy works because of your votes\")\n",
        "    print(\"Your age next year will be\", age+1)"
      ],
      "metadata": {
        "id": "xdREKG2VAIv_"
      },
      "execution_count": 4,
      "outputs": []
    },
    {
      "cell_type": "code",
      "source": [
        "# this code runs will always run\n",
        "if <condition>:\n",
        "    # this code runs if the <condition> is True\n",
        "    # this code runs if the <condition> is True\n",
        "    # this code runs if the <condition> is True\n",
        "    # this code runs if the <condition> is True\n",
        "    # this code runs if the <condition> is True\n",
        "# this code runs will always run"
      ],
      "metadata": {
        "id": "XF6LgQhKALTn"
      },
      "execution_count": null,
      "outputs": []
    },
    {
      "cell_type": "code",
      "source": [
        "age = 2\n",
        "\n",
        "if age<18:\n",
        "    print(\"You should NOT vote\")\n",
        "    print(\"Democarcy works because of your some else's votes\")\n",
        "    print(\"Your age next year will be\", age+1)"
      ],
      "metadata": {
        "colab": {
          "base_uri": "https://localhost:8080/"
        },
        "id": "myYlcx1dBVdT",
        "outputId": "6d37f86f-cabd-4348-c857-7991c752257d"
      },
      "execution_count": 6,
      "outputs": [
        {
          "output_type": "stream",
          "name": "stdout",
          "text": [
            "You should NOT vote\n",
            "Democarcy works because of your some else's votes\n",
            "Your age next year will be 3\n"
          ]
        }
      ]
    },
    {
      "cell_type": "code",
      "source": [
        "age = 26\n",
        "\n",
        "if age<18:\n",
        "    print(\"You should NOT vote\")\n",
        "    print(\"Democarcy works because of your some else's votes\")\n",
        "    print(\"Your age next year will be\", age+1)"
      ],
      "metadata": {
        "id": "ZzjAVwuNBcQ-"
      },
      "execution_count": 7,
      "outputs": []
    },
    {
      "cell_type": "code",
      "source": [
        "# indentation>> :\n",
        "age = 26\n",
        "\n",
        "if age>=18:\n",
        "    print(\"You should vote\")\n",
        "    print(\"Democarcy works because of your votes\")\n",
        "    print(\"Your age next year will be\", age+1)\n",
        "\n",
        "if not age>=18:\n",
        "    print(\"You should NOT vote\")\n",
        "    print(\"Try next year\")"
      ],
      "metadata": {
        "colab": {
          "base_uri": "https://localhost:8080/"
        },
        "id": "rPH1ONVUBnUx",
        "outputId": "201d9e1f-49db-49df-9852-94b21a088e77"
      },
      "execution_count": 10,
      "outputs": [
        {
          "output_type": "stream",
          "name": "stdout",
          "text": [
            "You should vote\n",
            "Democarcy works because of your votes\n",
            "Your age next year will be 27\n"
          ]
        }
      ]
    },
    {
      "cell_type": "code",
      "source": [
        "# indentation>> :\n",
        "age = 2\n",
        "\n",
        "if age>=18:\n",
        "    print(\"You should vote\")\n",
        "    print(\"Democarcy works because of your votes\")\n",
        "    print(\"Your age next year will be\", age+1)\n",
        "\n",
        "if not age>=18:\n",
        "    print(\"You should NOT vote\")\n",
        "    print(\"Try next year\")"
      ],
      "metadata": {
        "colab": {
          "base_uri": "https://localhost:8080/"
        },
        "id": "ltx4J7zZBqte",
        "outputId": "58561d3d-86a3-448a-dfec-bc2290f89454"
      },
      "execution_count": 11,
      "outputs": [
        {
          "output_type": "stream",
          "name": "stdout",
          "text": [
            "You should NOT vote\n",
            "Try next year\n"
          ]
        }
      ]
    },
    {
      "cell_type": "code",
      "source": [
        "# if  - else\n",
        "\n",
        "\n",
        "age = 2\n",
        "\n",
        "if age>=18:\n",
        "    print(\"You should vote\")\n",
        "    print(\"Democarcy works because of your votes\")\n",
        "    print(\"Your age next year will be\", age+1)\n",
        "else:\n",
        "    print(\"You should NOT vote\")\n",
        "    print(\"Try next year\")"
      ],
      "metadata": {
        "colab": {
          "base_uri": "https://localhost:8080/"
        },
        "id": "pUFXX3HfCP2n",
        "outputId": "de009dcf-1ccc-45fa-ff5d-bd9ddcb499d9"
      },
      "execution_count": 12,
      "outputs": [
        {
          "output_type": "stream",
          "name": "stdout",
          "text": [
            "You should NOT vote\n",
            "Try next year\n"
          ]
        }
      ]
    },
    {
      "cell_type": "code",
      "source": [
        "# if  - else\n",
        "\n",
        "\n",
        "age = 26\n",
        "\n",
        "if age>=18:\n",
        "    print(\"You should vote\")\n",
        "    print(\"Democarcy works because of your votes\")\n",
        "    print(\"Your age next year will be\", age+1)\n",
        "else:\n",
        "    print(\"You should NOT vote\")\n",
        "    print(\"Try next year\")"
      ],
      "metadata": {
        "colab": {
          "base_uri": "https://localhost:8080/"
        },
        "id": "shtRa-20DHuf",
        "outputId": "8424b849-4d7f-45cc-f09d-cde2d90a467e"
      },
      "execution_count": 13,
      "outputs": [
        {
          "output_type": "stream",
          "name": "stdout",
          "text": [
            "You should vote\n",
            "Democarcy works because of your votes\n",
            "Your age next year will be 27\n"
          ]
        }
      ]
    },
    {
      "cell_type": "code",
      "source": [
        "# this code runs will always run\n",
        "if <condition>:\n",
        "    # this code runs if the <condition> is True\n",
        "    # this code runs if the <condition> is True\n",
        "    # this code runs if the <condition> is True\n",
        "    # this code runs if the <condition> is True\n",
        "    # this code runs if the <condition> is True\n",
        "else:\n",
        "    # this code runs if the <condition> is False\n",
        "    # this code runs if the <condition> is False\n",
        "    # this code runs if the <condition> is False\n",
        "# this code runs will always run"
      ],
      "metadata": {
        "id": "BQCTGzP_C-Rw"
      },
      "execution_count": null,
      "outputs": []
    },
    {
      "cell_type": "code",
      "source": [
        "# IndentationError: unexpected indent >> Indentation sapces are not same everywhere"
      ],
      "metadata": {
        "id": "98UrYL6SHFG0"
      },
      "execution_count": null,
      "outputs": []
    },
    {
      "cell_type": "code",
      "source": [
        "chefMood = \"Happy\"\n",
        "if chefMood == \"Happy\":\n",
        "    qualityOfFood = \"Great\"\n",
        "else:\n",
        "    qualityOfFood = \"NOT Great\"\n",
        "print(\"The food quality will be\", qualityOfFood)"
      ],
      "metadata": {
        "colab": {
          "base_uri": "https://localhost:8080/"
        },
        "id": "xYPVFd4DDbFO",
        "outputId": "29be2949-6520-4bf5-cbe1-17ece32e73ea"
      },
      "execution_count": 14,
      "outputs": [
        {
          "output_type": "stream",
          "name": "stdout",
          "text": [
            "The food quality will be Great\n"
          ]
        }
      ]
    },
    {
      "cell_type": "code",
      "source": [
        "chefMood = \"Sad\"\n",
        "if chefMood == \"Happy\":\n",
        "    qualityOfFood = \"Great\"\n",
        "else:\n",
        "    qualityOfFood = \"NOT Great\"\n",
        "print(\"The food quality will be\", qualityOfFood)"
      ],
      "metadata": {
        "colab": {
          "base_uri": "https://localhost:8080/"
        },
        "id": "N6lVmzEVDs8n",
        "outputId": "8a2ff7e4-77d6-4b2b-a5db-b6d88cb95afd"
      },
      "execution_count": 15,
      "outputs": [
        {
          "output_type": "stream",
          "name": "stdout",
          "text": [
            "The food quality will be NOT Great\n"
          ]
        }
      ]
    },
    {
      "cell_type": "code",
      "source": [
        "chefMood = \"Happy\"\n",
        "if chefMood == \"Happy\":\n",
        "    qualityOfFood = \"Great\"\n",
        "else:\n",
        "    qualityOfFood = \"NOT Great\"\n",
        "print(\"The food quality will be\", qualityOfFood)\n",
        "\n",
        "\n",
        "if qualityOfFood == \"Great\":\n",
        "    print(\"cutomer throws 🌹\")\n",
        "else:\n",
        "    print(\"cutomer throws 🍅\")"
      ],
      "metadata": {
        "colab": {
          "base_uri": "https://localhost:8080/"
        },
        "id": "aQrVGI8BDvSM",
        "outputId": "01e24712-2ec8-4676-cd9b-8659ba165049"
      },
      "execution_count": 16,
      "outputs": [
        {
          "output_type": "stream",
          "name": "stdout",
          "text": [
            "The food quality will be Great\n",
            "cutomer throws 🌹\n"
          ]
        }
      ]
    },
    {
      "cell_type": "code",
      "source": [
        "chefMood = \"Sad\"\n",
        "if chefMood == \"Happy\":\n",
        "    qualityOfFood = \"Great\"\n",
        "else:\n",
        "    qualityOfFood = \"NOT Great\"\n",
        "print(\"The food quality will be\", qualityOfFood)\n",
        "\n",
        "\n",
        "if qualityOfFood == \"Great\":\n",
        "    print(\"cutomer throws 🌹\")\n",
        "else:\n",
        "    print(\"cutomer throws 🍅\")"
      ],
      "metadata": {
        "colab": {
          "base_uri": "https://localhost:8080/"
        },
        "id": "mKzHHa0jFIdL",
        "outputId": "6f19b51d-4eca-4cca-a30b-75011186566e"
      },
      "execution_count": 17,
      "outputs": [
        {
          "output_type": "stream",
          "name": "stdout",
          "text": [
            "The food quality will be NOT Great\n",
            "cutomer throws 🍅\n"
          ]
        }
      ]
    },
    {
      "cell_type": "code",
      "source": [
        "# Bharat Banavalikar\n",
        "# To: Everyone\n",
        "# 7:43 AM\n",
        "condition = False\n",
        "if condition:\n",
        "    abc = 5\n",
        "print(abc)"
      ],
      "metadata": {
        "colab": {
          "base_uri": "https://localhost:8080/",
          "height": 211
        },
        "id": "3Tp6Br6YFJJT",
        "outputId": "9612df2c-3b34-4975-aa32-a1c3d1b21cdd"
      },
      "execution_count": 20,
      "outputs": [
        {
          "output_type": "error",
          "ename": "NameError",
          "evalue": "ignored",
          "traceback": [
            "\u001b[0;31m---------------------------------------------------------------------------\u001b[0m",
            "\u001b[0;31mNameError\u001b[0m                                 Traceback (most recent call last)",
            "\u001b[0;32m<ipython-input-20-6ee852df8633>\u001b[0m in \u001b[0;36m<cell line: 7>\u001b[0;34m()\u001b[0m\n\u001b[1;32m      5\u001b[0m \u001b[0;32mif\u001b[0m \u001b[0mcondition\u001b[0m\u001b[0;34m:\u001b[0m\u001b[0;34m\u001b[0m\u001b[0;34m\u001b[0m\u001b[0m\n\u001b[1;32m      6\u001b[0m     \u001b[0mabc\u001b[0m \u001b[0;34m=\u001b[0m \u001b[0;36m5\u001b[0m\u001b[0;34m\u001b[0m\u001b[0;34m\u001b[0m\u001b[0m\n\u001b[0;32m----> 7\u001b[0;31m \u001b[0mprint\u001b[0m\u001b[0;34m(\u001b[0m\u001b[0mabc\u001b[0m\u001b[0;34m)\u001b[0m\u001b[0;34m\u001b[0m\u001b[0;34m\u001b[0m\u001b[0m\n\u001b[0m",
            "\u001b[0;31mNameError\u001b[0m: name 'abc' is not defined"
          ]
        }
      ]
    },
    {
      "cell_type": "code",
      "source": [
        "# Bharat Banavalikar\n",
        "# To: Everyone\n",
        "# 7:43 AM\n",
        "condition = False\n",
        "if condition:\n",
        "    abc = 5\n",
        "    print(abc)"
      ],
      "metadata": {
        "id": "jZHYH-9qIeEJ"
      },
      "execution_count": 21,
      "outputs": []
    },
    {
      "cell_type": "code",
      "source": [
        "print(\"\"\"\n",
        "Question 1:\n",
        "1. ask the user to give some integer input\n",
        "2. calculate cube of the input integer\n",
        "3. if cube >50:\n",
        "    if yes: say \"that is huge\"\n",
        "    if no: say \"that is tiny\"\n",
        "4. say \"execution COMPLETE\"\n",
        "\"\"\")"
      ],
      "metadata": {
        "colab": {
          "base_uri": "https://localhost:8080/"
        },
        "id": "o54QZZonJSYq",
        "outputId": "676cf8ae-86dc-4ace-8ab5-62e9dc390f5f"
      },
      "execution_count": 22,
      "outputs": [
        {
          "output_type": "stream",
          "name": "stdout",
          "text": [
            "\n",
            "Question 1:\n",
            "1. ask the user to give some integer input\n",
            "2. calculate cube of the input integer\n",
            "3. if cube >50:\n",
            "    if yes: say \"that is huge\"\n",
            "    if no: say \"that is tiny\"\n",
            "4. say \"execution COMPLETE\"\n",
            "\n"
          ]
        }
      ]
    },
    {
      "cell_type": "code",
      "source": [
        "n = int(input())\n",
        "cube = n**3\n",
        "if cube >50:\n",
        "    print(\"that is huge\")\n",
        "else:\n",
        "    print(\"that is tiny\")\n",
        "print(\"execution COMPLETE\")"
      ],
      "metadata": {
        "colab": {
          "base_uri": "https://localhost:8080/"
        },
        "id": "OuKozXnGKef2",
        "outputId": "7384c88d-b18e-4005-802e-5e9881e72538"
      },
      "execution_count": 24,
      "outputs": [
        {
          "output_type": "stream",
          "name": "stdout",
          "text": [
            "8\n",
            "that is huge\n",
            "execution COMPLETE\n"
          ]
        }
      ]
    },
    {
      "cell_type": "code",
      "source": [
        "# Greeting clock\n",
        "# Good morning, Good afternoon, Good evening, Good night"
      ],
      "metadata": {
        "id": "8rusn6LiK8T9"
      },
      "execution_count": null,
      "outputs": []
    },
    {
      "cell_type": "code",
      "source": [
        "time = 22\n",
        "\n",
        "if time>=9 and time<12:\n",
        "    print(\"Good morning\")\n",
        "else:\n",
        "    if time>=12 and time<17:\n",
        "        print(\"Good afternoon\")\n",
        "    else:\n",
        "        if time>=17 and time<20:\n",
        "            print(\"Good evening\")\n",
        "        else:\n",
        "            print(\"Good night\")"
      ],
      "metadata": {
        "colab": {
          "base_uri": "https://localhost:8080/"
        },
        "id": "Gmucp0q3K-C7",
        "outputId": "9f0f6a8e-a2a9-444f-b66c-68fb4d05f32c"
      },
      "execution_count": 28,
      "outputs": [
        {
          "output_type": "stream",
          "name": "stdout",
          "text": [
            "Good night\n"
          ]
        }
      ]
    },
    {
      "cell_type": "code",
      "source": [
        "# else if >> elif\n",
        "\n",
        "time = 22\n",
        "\n",
        "if time>=9 and time<12:\n",
        "    print(\"Good morning\")\n",
        "elif time>=12 and time<17:\n",
        "    print(\"Good afternoon\")\n",
        "elif time>=17 and time<20:\n",
        "    print(\"Good evening\")\n",
        "else:\n",
        "    print(\"Good night\")"
      ],
      "metadata": {
        "id": "OopFhXf4L6Xt"
      },
      "execution_count": null,
      "outputs": []
    },
    {
      "cell_type": "code",
      "source": [
        "print(\"\"\"\n",
        "Question 2:\n",
        "1. ask the user to enter an integer\n",
        "2. check if it is positive(>0) OR it is not positive\n",
        "\n",
        "eg:\n",
        "5>> positive\n",
        "0>> not positive\n",
        "-10>> not positive\n",
        "\"\"\")"
      ],
      "metadata": {
        "colab": {
          "base_uri": "https://localhost:8080/"
        },
        "id": "6ov6N5VKM4aR",
        "outputId": "02f41552-3808-47cc-892e-6298cee6f85c"
      },
      "execution_count": 29,
      "outputs": [
        {
          "output_type": "stream",
          "name": "stdout",
          "text": [
            "\n",
            "Question 2:\n",
            "1. ask the user to eneter an integer\n",
            "2. check if it is positive(>0) OR it is not positive\n",
            "\n",
            "eg:\n",
            "5>> positive\n",
            "0>> not positive\n",
            "-10>> not positive\n",
            "\n"
          ]
        }
      ]
    },
    {
      "cell_type": "code",
      "source": [
        "n = int(input())\n",
        "\n",
        "if n>0:\n",
        "    print(\"positive\")\n",
        "else:\n",
        "    print(\"not positive\")"
      ],
      "metadata": {
        "colab": {
          "base_uri": "https://localhost:8080/"
        },
        "id": "2gOm_MC0M48l",
        "outputId": "28b7116d-4819-420a-b015-cc22cac80533"
      },
      "execution_count": 31,
      "outputs": [
        {
          "output_type": "stream",
          "name": "stdout",
          "text": [
            "-10\n",
            "not positive\n"
          ]
        }
      ]
    },
    {
      "cell_type": "code",
      "source": [
        "print(\"\"\"\n",
        "Question 2: Part II\n",
        "1. ask the user to enter an integer\n",
        "2. check if it is positive OR negative OR zero\n",
        "\n",
        "eg:\n",
        "5>> positive\n",
        "0>> zero\n",
        "-10>> negative\n",
        "\"\"\")"
      ],
      "metadata": {
        "colab": {
          "base_uri": "https://localhost:8080/"
        },
        "id": "mzahr90WNrT0",
        "outputId": "a29454ec-75fd-476f-c529-4edadc81623c"
      },
      "execution_count": 32,
      "outputs": [
        {
          "output_type": "stream",
          "name": "stdout",
          "text": [
            "\n",
            "Question 2: Part II\n",
            "1. ask the user to eneter an integer\n",
            "2. check if it is positive OR negative OR zero\n",
            "\n",
            "eg:\n",
            "5>> positive\n",
            "0>> zero\n",
            "-10>> negative\n",
            "\n"
          ]
        }
      ]
    },
    {
      "cell_type": "code",
      "source": [
        "n = int(input())\n",
        "\n",
        "if n>0:\n",
        "    print(\"positive\")\n",
        "elif n<0:\n",
        "    print(\"negative\")\n",
        "else:\n",
        "    print(\"zero\")"
      ],
      "metadata": {
        "colab": {
          "base_uri": "https://localhost:8080/"
        },
        "id": "ymdsurtdOUF0",
        "outputId": "c93f6fb0-7bc9-4a65-c38e-663f014e13de"
      },
      "execution_count": 35,
      "outputs": [
        {
          "output_type": "stream",
          "name": "stdout",
          "text": [
            "0\n",
            "zero\n"
          ]
        }
      ]
    },
    {
      "cell_type": "code",
      "source": [
        "n = int(input())\n",
        "\n",
        "if n>0:\n",
        "    print(\"positive\")\n",
        "elif n<0:\n",
        "    print(\"negative\")\n",
        "elif n==0:\n",
        "    print(\"zero\")"
      ],
      "metadata": {
        "colab": {
          "base_uri": "https://localhost:8080/"
        },
        "id": "irwjWrBRPahx",
        "outputId": "c172f9a3-e791-42a9-ce87-e7fb19cf3027"
      },
      "execution_count": 36,
      "outputs": [
        {
          "output_type": "stream",
          "name": "stdout",
          "text": [
            "0\n",
            "zero\n"
          ]
        }
      ]
    },
    {
      "cell_type": "code",
      "source": [
        "# go for the most stringent condition first"
      ],
      "metadata": {
        "id": "znoB3BvqSYXo"
      },
      "execution_count": null,
      "outputs": []
    },
    {
      "cell_type": "code",
      "source": [
        "print(\"\"\"\n",
        "Question 3 -\n",
        "Take a non-negative single digit positive number as input.\n",
        "If num**5%50+20-6 is > 15\n",
        "then print(\"BLACK\") else print(\"BLUE\").\n",
        "\n",
        "Note - Reject by saying \"INVALID INPUT\" any inputs which\n",
        "are not single digit or positive\n",
        "\"\"\")"
      ],
      "metadata": {
        "colab": {
          "base_uri": "https://localhost:8080/"
        },
        "id": "cnS5uU3BSo8s",
        "outputId": "6a22821a-d1f0-4d59-cc02-d0de8851fc2c"
      },
      "execution_count": 37,
      "outputs": [
        {
          "output_type": "stream",
          "name": "stdout",
          "text": [
            "\n",
            "Question 3 -\n",
            "Take a non-negative single digit positive number as input.\n",
            "If num**5%50+20-6 is > 15\n",
            "then print(\"BLACK\") else print(\"BLUE\").\n",
            "\n",
            "Note - Reject by saying \"INVALID INPUT\" any inputs which\n",
            "are not single digit or positive\n",
            "\n"
          ]
        }
      ]
    },
    {
      "cell_type": "code",
      "source": [
        "num = int(input())\n",
        "\n",
        "if num>0 and num<=9:\n",
        "    res_exp = num**5%50+20-6\n",
        "    if res_exp>15:\n",
        "        print(\"BLACK\")\n",
        "    else:\n",
        "        print(\"BLUE\")\n",
        "else:\n",
        "    print(\"INVALID INPUT\")"
      ],
      "metadata": {
        "colab": {
          "base_uri": "https://localhost:8080/"
        },
        "id": "sjbTLGQUSrA5",
        "outputId": "4abc6484-502b-4aaf-ebf0-f1e172420e5b"
      },
      "execution_count": 40,
      "outputs": [
        {
          "output_type": "stream",
          "name": "stdout",
          "text": [
            "1\n",
            "BLUE\n"
          ]
        }
      ]
    },
    {
      "cell_type": "code",
      "source": [
        "num = 1\n",
        "num**5%50+20-6"
      ],
      "metadata": {
        "colab": {
          "base_uri": "https://localhost:8080/"
        },
        "id": "bsPmtGqYVTue",
        "outputId": "af51253a-5352-49d9-f9dc-4fcb19da6e4c"
      },
      "execution_count": 43,
      "outputs": [
        {
          "output_type": "execute_result",
          "data": {
            "text/plain": [
              "15"
            ]
          },
          "metadata": {},
          "execution_count": 43
        }
      ]
    },
    {
      "cell_type": "code",
      "source": [
        "num = 2\n",
        "num**5%50+20-6"
      ],
      "metadata": {
        "colab": {
          "base_uri": "https://localhost:8080/"
        },
        "id": "0m1RgJBHVYLL",
        "outputId": "a336478d-a077-476c-c806-373317e625b7"
      },
      "execution_count": 44,
      "outputs": [
        {
          "output_type": "execute_result",
          "data": {
            "text/plain": [
              "46"
            ]
          },
          "metadata": {},
          "execution_count": 44
        }
      ]
    },
    {
      "cell_type": "code",
      "source": [
        "num = int(input())\n",
        "\n",
        "if not (num>0 and num<=9):\n",
        "    print(\"INVALID INPUT\")\n",
        "else:\n",
        "    res_exp = num**5%50+20-6\n",
        "    if res_exp>15:\n",
        "        print(\"BLACK\")\n",
        "    else:\n",
        "        print(\"BLUE\")"
      ],
      "metadata": {
        "colab": {
          "base_uri": "https://localhost:8080/"
        },
        "id": "ppeE2ck1UatI",
        "outputId": "5dae9cbd-b686-407c-8df9-a631e7100ce7"
      },
      "execution_count": 41,
      "outputs": [
        {
          "output_type": "stream",
          "name": "stdout",
          "text": [
            "1\n",
            "BLUE\n"
          ]
        }
      ]
    },
    {
      "cell_type": "code",
      "source": [
        "num = int(input())\n",
        "\n",
        "if not (num>0 and num<=9):\n",
        "    print(\"INVALID INPUT\")\n",
        "elif num**5%50+20-6>15:\n",
        "    print(\"BLACK\")\n",
        "else:\n",
        "    print(\"BLUE\")"
      ],
      "metadata": {
        "colab": {
          "base_uri": "https://localhost:8080/"
        },
        "id": "vGpDVmoAUrY_",
        "outputId": "d7e6df61-df5f-45c5-ab54-bf46fc1cdc65"
      },
      "execution_count": 42,
      "outputs": [
        {
          "output_type": "stream",
          "name": "stdout",
          "text": [
            "1\n",
            "BLUE\n"
          ]
        }
      ]
    },
    {
      "cell_type": "code",
      "source": [
        "print(\"\"\"\n",
        "Question 4:\n",
        "Ask the user, what language they like\n",
        "If they are saying \"python\", say good choice else say you need to think again\n",
        "\"\"\")"
      ],
      "metadata": {
        "colab": {
          "base_uri": "https://localhost:8080/"
        },
        "id": "X-vqySaDUzTP",
        "outputId": "788615b3-8a49-49a2-e7b8-21d91bb2a19e"
      },
      "execution_count": 45,
      "outputs": [
        {
          "output_type": "stream",
          "name": "stdout",
          "text": [
            "\n",
            "Question 4:\n",
            "Ask the user, what language they like\n",
            "If they are saying \"python\", say good choice else say you need to think again\n",
            "\n"
          ]
        }
      ]
    },
    {
      "cell_type": "code",
      "source": [
        "lang = input()\n",
        "\n",
        "if lang ==\"python\":\n",
        "    print(\"good choice\")\n",
        "else:\n",
        "    print('you need to think again')"
      ],
      "metadata": {
        "colab": {
          "base_uri": "https://localhost:8080/"
        },
        "id": "boxYp7peVojH",
        "outputId": "de78aa23-00fc-4702-f62f-3b66508717fa"
      },
      "execution_count": 48,
      "outputs": [
        {
          "output_type": "stream",
          "name": "stdout",
          "text": [
            "Python\n",
            "you need to think again\n"
          ]
        }
      ]
    },
    {
      "cell_type": "code",
      "source": [
        "\"tHiS iS my STR\".lower()"
      ],
      "metadata": {
        "colab": {
          "base_uri": "https://localhost:8080/",
          "height": 35
        },
        "id": "xS6uvDjaWfZe",
        "outputId": "4812019d-efa3-4fec-aad2-7a63bc146e57"
      },
      "execution_count": 49,
      "outputs": [
        {
          "output_type": "execute_result",
          "data": {
            "text/plain": [
              "'this is my str'"
            ],
            "application/vnd.google.colaboratory.intrinsic+json": {
              "type": "string"
            }
          },
          "metadata": {},
          "execution_count": 49
        }
      ]
    },
    {
      "cell_type": "code",
      "source": [
        "\"tHiS iS my STR\".upper()"
      ],
      "metadata": {
        "colab": {
          "base_uri": "https://localhost:8080/",
          "height": 35
        },
        "id": "s9x9yMXpW2gK",
        "outputId": "5dcf8eb0-9523-4ef6-df13-bf9a8da4602c"
      },
      "execution_count": 50,
      "outputs": [
        {
          "output_type": "execute_result",
          "data": {
            "text/plain": [
              "'THIS IS MY STR'"
            ],
            "application/vnd.google.colaboratory.intrinsic+json": {
              "type": "string"
            }
          },
          "metadata": {},
          "execution_count": 50
        }
      ]
    },
    {
      "cell_type": "code",
      "source": [
        "lang = input()\n",
        "\n",
        "if lang.lower() ==\"python\":\n",
        "    print(\"good choice\")\n",
        "else:\n",
        "    print('you need to think again')"
      ],
      "metadata": {
        "colab": {
          "base_uri": "https://localhost:8080/"
        },
        "id": "06T6FW4QW3NM",
        "outputId": "02077c04-32c1-49d4-bc1e-900f6a2fd803"
      },
      "execution_count": 51,
      "outputs": [
        {
          "output_type": "stream",
          "name": "stdout",
          "text": [
            "Python\n",
            "good choice\n"
          ]
        }
      ]
    },
    {
      "cell_type": "code",
      "source": [
        "lang = input()\n",
        "\n",
        "if lang.upper() ==\"PYTHON\":\n",
        "    print(\"good choice\")\n",
        "else:\n",
        "    print('you need to think again')"
      ],
      "metadata": {
        "colab": {
          "base_uri": "https://localhost:8080/"
        },
        "id": "eVK-s7aaW52F",
        "outputId": "88db7188-2b25-43ff-ac20-3d3efbbd626d"
      },
      "execution_count": 52,
      "outputs": [
        {
          "output_type": "stream",
          "name": "stdout",
          "text": [
            "pYtHoN\n",
            "good choice\n"
          ]
        }
      ]
    },
    {
      "cell_type": "code",
      "source": [
        "print(\"\"\"\n",
        "Question 5:\n",
        "FIZZBUZZ\n",
        "1. ask the user for an integer\n",
        "2. if it is divisible by 3--> say FIZZ\n",
        "3. if it is divisible by 5--> say BUZZ\n",
        "3. if it is divisible by 3 as well as 5--> say FIZZBUZZ\n",
        "If not divisible by any of the above, do nothing\n",
        "\"\"\")"
      ],
      "metadata": {
        "colab": {
          "base_uri": "https://localhost:8080/"
        },
        "id": "YlXqs7L1W_8E",
        "outputId": "9019a24e-a0a7-4ce9-9267-22fe779cc74d"
      },
      "execution_count": 53,
      "outputs": [
        {
          "output_type": "stream",
          "name": "stdout",
          "text": [
            "\n",
            "Question 5:\n",
            "FIZZBUZZ\n",
            "1. ask the user for an integer\n",
            "2. if it is divisible by 3--> say FIZZ\n",
            "3. if it is divisible by 5--> say BUZZ\n",
            "3. if it is divisible by 3 as well as 5--> say FIZZBUZZ\n",
            "If not divisible by any of the above, do nothing\n",
            "\n"
          ]
        }
      ]
    },
    {
      "cell_type": "code",
      "source": [
        "n = int(input())\n",
        "\n",
        "if n%3==0:\n",
        "    print('FIZZ')\n",
        "elif n%5==0:\n",
        "    print('BUZZ')\n",
        "elif n%15==0:\n",
        "    print('FIZZBUZZ')"
      ],
      "metadata": {
        "colab": {
          "base_uri": "https://localhost:8080/"
        },
        "id": "HvVUIUOXXHde",
        "outputId": "f0cc8979-dd82-49b1-f0ea-f22e13ef98e4"
      },
      "execution_count": 56,
      "outputs": [
        {
          "output_type": "stream",
          "name": "stdout",
          "text": [
            "30\n",
            "FIZZ\n"
          ]
        }
      ]
    },
    {
      "cell_type": "code",
      "source": [
        "# the most stringent condition goes first"
      ],
      "metadata": {
        "id": "EabCNqnBYWj-"
      },
      "execution_count": null,
      "outputs": []
    },
    {
      "cell_type": "code",
      "source": [
        "n = int(input())\n",
        "\n",
        "if n%15==0:\n",
        "    print('FIZZBUZZ')\n",
        "elif n%5==0:\n",
        "    print('BUZZ')\n",
        "elif n%3==0:\n",
        "    print('FIZZ')"
      ],
      "metadata": {
        "colab": {
          "base_uri": "https://localhost:8080/"
        },
        "id": "oaReH_RZYjWX",
        "outputId": "3430abb1-2b4e-4283-e602-3a21fb058ef8"
      },
      "execution_count": 60,
      "outputs": [
        {
          "output_type": "stream",
          "name": "stdout",
          "text": [
            "30\n",
            "FIZZBUZZ\n"
          ]
        }
      ]
    },
    {
      "cell_type": "code",
      "source": [
        "n = int(input())\n",
        "\n",
        "if n%3==0 and n%5==0:\n",
        "    print('FIZZBUZZ')\n",
        "elif n%5==0:\n",
        "    print('BUZZ')\n",
        "elif n%3==0:\n",
        "    print('FIZZ')"
      ],
      "metadata": {
        "colab": {
          "base_uri": "https://localhost:8080/"
        },
        "id": "P9vRhYqJY1fX",
        "outputId": "b52d99c3-b22b-4270-b561-697da6a7a803"
      },
      "execution_count": 61,
      "outputs": [
        {
          "output_type": "stream",
          "name": "stdout",
          "text": [
            "30\n",
            "FIZZBUZZ\n"
          ]
        }
      ]
    },
    {
      "cell_type": "code",
      "source": [
        "print('''\n",
        "Question 6 -\n",
        "What will be the output of the following?\n",
        "\n",
        "a = 50\n",
        "if a > 40:\n",
        "    print(\"A\")\n",
        "if a > 30:\n",
        "    print(\"B\")\n",
        "if a > 20:\n",
        "    print(\"C\")\n",
        "''')"
      ],
      "metadata": {
        "colab": {
          "base_uri": "https://localhost:8080/"
        },
        "id": "vMr8mGMYZDRT",
        "outputId": "ebcf3667-d86d-469e-a22a-2659f685ba62"
      },
      "execution_count": 62,
      "outputs": [
        {
          "output_type": "stream",
          "name": "stdout",
          "text": [
            "\n",
            "Question 6 -\n",
            "What will be the output of the following?\n",
            "\n",
            "a = 50\n",
            "if a > 40:\n",
            "    print(\"A\")\n",
            "if a > 30:\n",
            "    print(\"B\")\n",
            "if a > 20:\n",
            "    print(\"C\")\n",
            "\n"
          ]
        }
      ]
    },
    {
      "cell_type": "code",
      "source": [
        "a = 50\n",
        "\n",
        "if a > 40:\n",
        "    print(\"A\")\n",
        "\n",
        "if a > 30:\n",
        "    print(\"B\")\n",
        "\n",
        "if a > 20:\n",
        "    print(\"C\")"
      ],
      "metadata": {
        "colab": {
          "base_uri": "https://localhost:8080/"
        },
        "id": "X1p86_BCZEBM",
        "outputId": "dc9a047e-69c8-4a17-d6ab-7f41a6c8b909"
      },
      "execution_count": 63,
      "outputs": [
        {
          "output_type": "stream",
          "name": "stdout",
          "text": [
            "A\n",
            "B\n",
            "C\n"
          ]
        }
      ]
    },
    {
      "cell_type": "code",
      "source": [
        "print(\n",
        "    '''\n",
        "BONUS QUESTIONS -\n",
        "1. Build a meter system for an auto. Take into two inputs.\n",
        "Kilometers Travelled and Stall Time (in minutes). Rate List -\n",
        "- First 10 kms - Rs 10 per Km\n",
        "- Next 40 kms - Rs 9 per Km\n",
        "- Next 100 kms - Rs 8 per Km\n",
        "- Any leftover km count - Rs. 6 per Km\n",
        "\n",
        "- Rs 5 extra for every minute of Stall Time.\n",
        "\n",
        "------------------------------------------\n",
        "\n",
        "2. Generate electricity bill using the following rate card.\n",
        "Take units consumed as input -\n",
        "- If < 100 units -> Free\n",
        "- If >= 100 units and < 200 units -> Rs 2 per unit\n",
        "- If >= 200 units -> Rs 5 per unit\n",
        "\n",
        "------------------------------------------\n",
        "\n",
        "3. Take in three inputs from a user which are marksin english, maths and science.\n",
        "Assign streams according to the following criteria.\n",
        "- if science > 90 or marks in all are greater than 75 -> Science\n",
        "- if marks in all are greater than 60 and less than 75 -> Commerce\n",
        "- if marks in any are less than 60 -> Humanities\n",
        "\n",
        "------------------------------------------\n",
        "\n",
        "4. Feedback System - Take string feedback from a user.\n",
        "Now,\n",
        "    if any the feedback is provided,\n",
        "        print(\"Thank you for providing the feedback\").\n",
        "    If feedback is \"Super\", \"Great\", \"Fantastic\", \"Awesome\",\n",
        "        print(\"Thank you so much!\")\n",
        "\n",
        "------------------------------------------\n",
        "\n",
        "5. Take an amount as input from the user\n",
        "    You only have 200 and 500 Rs Notes in the ATM. For one transaction,\n",
        "    you can only dispatch notes of a single type.\n",
        "    Given the amount -\n",
        "        - \"Dispatching Cash!\" if it can be dispatched.\n",
        "        - \"Denomination not available!\" if it can not be\n",
        "\n",
        "'''\n",
        ")"
      ],
      "metadata": {
        "colab": {
          "base_uri": "https://localhost:8080/"
        },
        "id": "6WDapIwHbBO4",
        "outputId": "945ea2bf-1044-443a-cce8-aaf61d8db234"
      },
      "execution_count": 64,
      "outputs": [
        {
          "output_type": "stream",
          "name": "stdout",
          "text": [
            "\n",
            "BONUS QUESTIONS -\n",
            "1. Build a meter system for an auto. Take into two inputs.\n",
            "Kilometers Travelled and Stall Time (in minutes). Rate List -\n",
            "- First 10 kms - Rs 10 per Km\n",
            "- Next 40 kms - Rs 9 per Km\n",
            "- Next 100 kms - Rs 8 per Km\n",
            "- Any leftover km count - Rs. 6 per Km\n",
            "\n",
            "- Rs 5 extra for every minute of Stall Time.\n",
            "\n",
            "------------------------------------------\n",
            "\n",
            "2. Generate electricity bill using the following rate card.\n",
            "Take units consumed as input -\n",
            "- If < 100 units -> Free\n",
            "- If >= 100 units and < 200 units -> Rs 2 per unit\n",
            "- If >= 200 units -> Rs 5 per unit\n",
            "\n",
            "------------------------------------------\n",
            "\n",
            "3. Take in three inputs from a user which are marksin english, maths and science.\n",
            "Assign streams according to the following criteria.\n",
            "- if science > 90 or marks in all are greater than 75 -> Science\n",
            "- if marks in all are greater than 60 and less than 75 -> Commerce\n",
            "- if marks in any are less than 60 -> Humanities\n",
            "\n",
            "------------------------------------------\n",
            "\n",
            "4. Feedback System - Take string feedback from a user.\n",
            "Now,\n",
            "    if any the feedback is provided,\n",
            "        print(\"Thank you for providing the feedback\").\n",
            "    If feedback is \"Super\", \"Great\", \"Fantastic\", \"Awesome\",\n",
            "        print(\"Thank you so much!\")\n",
            "\n",
            "------------------------------------------\n",
            "\n",
            "5. Take an amount as input from the user\n",
            "    You only have 200 and 500 Rs Notes in the ATM. For one transaction,\n",
            "    you can only dispatch notes of a single type.\n",
            "    Given the amount -\n",
            "        - \"Dispatching Cash!\" if it can be dispatched.\n",
            "        - \"Denomination not available!\" if it can not be\n",
            "\n",
            "\n"
          ]
        }
      ]
    },
    {
      "cell_type": "code",
      "source": [],
      "metadata": {
        "id": "oHGW4g8_bBmh"
      },
      "execution_count": null,
      "outputs": []
    }
  ]
}